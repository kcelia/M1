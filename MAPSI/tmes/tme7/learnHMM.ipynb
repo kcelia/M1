{
 "cells": [
  {
   "cell_type": "code",
   "execution_count": 1,
   "metadata": {
    "collapsed": true
   },
   "outputs": [],
   "source": [
    "#version 2\n",
    "def learnHMM(x, s, N, K, initTo0=True):\n",
    "    \n",
    "    if np.shape(s) != np.shape(x):\n",
    "        raise Exception(\"Invalid Data\")\n",
    "        \n",
    "    if initTo0:\n",
    "        A  = np.zeros((N,N))\n",
    "        B  = np.zeros((N,K))\n",
    "        Pi = np.zeros(N)\n",
    "    else:\n",
    "        eps = 1e-8\n",
    "        A  = np.ones((N,N))*eps\n",
    "        B  = np.ones((N,K))*eps\n",
    "        Pi = np.ones(N)*eps\n",
    "\n",
    "    for i in range(len(s)):\n",
    "\n",
    "        Pi[int(s[i] [0])] += 1\n",
    "        \n",
    "    for i in range(len(s)):\n",
    "        for j in range(1,len(s[i])):\n",
    "            A[int(s[i][j-1])][int(s[i][j])] += 1\n",
    "            \n",
    "    for ss,xx in zip(s,x):\n",
    "        for i,j in zip(ss,xx):\n",
    "            B[int(i)][int(j)] +=1\n",
    "            \n",
    "    A /= np.maximum(A.sum(1).reshape(N,1),1)\n",
    "    #B /= np.maximum(B.sum(1).reshape(N,1),1)\n",
    "    Pi/= Pi.sum()\n",
    "\n",
    "    return ( Pi, A, B )"
   ]
  },
  {
   "cell_type": "code",
   "execution_count": null,
   "metadata": {
    "collapsed": true
   },
   "outputs": [],
   "source": []
  }
 ],
 "metadata": {
  "kernelspec": {
   "display_name": "Python 3",
   "language": "python",
   "name": "python3"
  },
  "language_info": {
   "codemirror_mode": {
    "name": "ipython",
    "version": 3
   },
   "file_extension": ".py",
   "mimetype": "text/x-python",
   "name": "python",
   "nbconvert_exporter": "python",
   "pygments_lexer": "ipython3",
   "version": "3.6.2"
  }
 },
 "nbformat": 4,
 "nbformat_minor": 2
}
