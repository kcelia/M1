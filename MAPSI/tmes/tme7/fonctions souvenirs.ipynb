{
 "cells": [
  {
   "cell_type": "code",
   "execution_count": 1,
   "metadata": {
    "collapsed": true
   },
   "outputs": [],
   "source": [
    "def viterbi(x,Pi,A,B):\n",
    "    #rappel : la fonction argmax returne l'indice de l'element max dans un tableau depuis l'axis \n",
    "    \n",
    "    # initialisation\n",
    "    #formule du cours \n",
    "    # δ0(i) = πi . bi(x0) on passe au log:   long(πi) +log(bi(x0))\n",
    "    # Ψ0(i) = −1 Note: -1 car non utilisé normalement\n",
    "    \n",
    "    #B[:,int(x[0])] renvoit la colonne correspondante a la valeur de x[0]\n",
    "    # x[0] pour la sequence x vaut 1 donc la colonne selectionnée est la colonne 1 \n",
    "    \n",
    "    delta_i =  np.log(Pi) + np.log(B)[:,int(x[0])] # pour tous les i tel (Pi=P(Si=s0))*P(X0=1/Si=si) = P(Si=si,X0=1)\n",
    "    psi = [[-1 for _ in range(len(B))]]\n",
    "    #print(\"init : \\n\",\"delta_i = \",delta_i,\"psi = \",psi)\n",
    "    \n",
    "    \n",
    "    #recursion\n",
    "    \n",
    "    #δt(j) = [maxiδt−1(i)+log aij ]+log bj(xt)\n",
    "    #Ψt(j) = arg max i∈[1, N] δt−1(i)+log aij\n",
    "    \n",
    "    for t in range(1,len(x)):\n",
    "        delta_j = np.max(delta_i.reshape((len(delta_i),1)) + np.log(A),0) +\\\n",
    "        np.log(B)[:,int(x[t])]  \n",
    "        psi.append(np.argmax(delta_i.reshape((len(delta_i),1)) + np.log(A),0))\n",
    "        delta_i = delta_j\n",
    "        \n",
    "    \n",
    "    \n",
    "    #terminaison \n",
    "    #S⋆=maxiδT−1(i)\n",
    "    \n",
    "    p= np.max(delta_i)\n",
    "     \n",
    "    #construction du chemin\n",
    "    \n",
    "    #s⋆T−1 = arg max i δT−1(i)\n",
    "    #s⋆t   = Ψt+1 (s⋆t+1)\n",
    "    \n",
    "    S= np.zeros(len(x))\n",
    "    S[-1] =np.argmax(delta_i)\n",
    "    \n",
    "    \n",
    "    \n",
    "    T = len(x)\n",
    "    \n",
    "    for t in range(T - 2, 1, - 1):\n",
    "        S[t] = psi[ t + 1][int(S[t + 1])]\n",
    "        \n",
    "    return p,S\n",
    "\n",
    "\n"
   ]
  },
  {
   "cell_type": "code",
   "execution_count": 2,
   "metadata": {
    "collapsed": true
   },
   "outputs": [],
   "source": [
    "#version  1 \n",
    "\n",
    "def learnHMM(allx, allq, N, K, initTo0=True):\n",
    "    #allx : sequence des X discritisés, correspond a la variable Observé \n",
    "    #allq : sequence des etats caché \n",
    "    \n",
    "    if np.shape(allx) != np.shape(allq):\n",
    "        raise Exception(\"Invalid Data\")\n",
    "        \n",
    "    if initTo0:\n",
    "        A  = np.zeros((N,N))\n",
    "        B  = np.zeros((N,K))\n",
    "        Pi = np.zeros(N)\n",
    "    else:\n",
    "        eps = 1e-8\n",
    "        A  = np.ones((N,N))*eps\n",
    "        B  = np.ones((N,K))*eps\n",
    "        Pi = np.ones(N)*eps\n",
    "\n",
    "    for i in range(len(allq)):\n",
    "        Pi[int(allq[i][0])] += 1\n",
    "    \n",
    "    for i in range(len(allq)):\n",
    "        for j in range(len(allq[i])-1):\n",
    "            A[int(allq[i][j])][int(allq[i][j+1])] += 1\n",
    "            \n",
    "    for i in range(len(allq)):\n",
    "        for j in range(len(allq[i])-1):\n",
    "            B[int(allq[i][j])][int(allx[i][j])] += 1\n",
    "        B[int(allq[i][j+1])][int(allx[i][j+1])] +=1\n",
    "        \n",
    "    A /= np.maximum(A.sum(1).reshape(N,1),1)\n",
    "    B /= np.maximum(B.sum(1).reshape(N,1),1)\n",
    "    Pi/= Pi.sum()\n",
    "\n",
    "    return ( Pi, A, B )"
   ]
  },
  {
   "cell_type": "code",
   "execution_count": null,
   "metadata": {
    "collapsed": true
   },
   "outputs": [],
   "source": []
  },
  {
   "cell_type": "code",
   "execution_count": null,
   "metadata": {
    "collapsed": true
   },
   "outputs": [],
   "source": []
  }
 ],
 "metadata": {
  "kernelspec": {
   "display_name": "Python 3",
   "language": "python",
   "name": "python3"
  },
  "language_info": {
   "codemirror_mode": {
    "name": "ipython",
    "version": 3
   },
   "file_extension": ".py",
   "mimetype": "text/x-python",
   "name": "python",
   "nbconvert_exporter": "python",
   "pygments_lexer": "ipython3",
   "version": "3.6.2"
  }
 },
 "nbformat": 4,
 "nbformat_minor": 2
}
