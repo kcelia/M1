{
 "cells": [
  {
   "cell_type": "code",
   "execution_count": 1,
   "metadata": {
    "collapsed": true
   },
   "outputs": [],
   "source": [
    "import numpy as np\n",
    "import pickle as pkl\n",
    "import matplotlib.pyplot as plt\n"
   ]
  },
  {
   "cell_type": "code",
   "execution_count": 2,
   "metadata": {
    "collapsed": true
   },
   "outputs": [],
   "source": [
    "with open('lettres1.pkl', 'rb') as f:\n",
    "    data = pkl.load(f, encoding='latin1') \n",
    "X = np.array(data.get('letters')) # récupération des données sur les lettres\n",
    "Y = np.array(data.get('labels')) # récupération des étiquettes associées "
   ]
  },
  {
   "cell_type": "code",
   "execution_count": 3,
   "metadata": {
    "collapsed": true
   },
   "outputs": [],
   "source": [
    "# affichage d'une lettre\n",
    "def tracerLettre(let):\n",
    "    a= -let*np.pi/180; # conversion en rad\n",
    "    coord = np.array([[0, 0]]); # point initial\n",
    "    for i in range(len(a)):\n",
    "        x = np.array([[1, 0]]);\n",
    "        rot = np.array([[np.cos(a[i]), -np.sin(a[i])],[ np.sin(a[i]),np.cos(a[i])]])\n",
    "        xr = x.dot(rot) # application de la rotation\n",
    "        coord = np.vstack((coord,xr+coord[-1,:]))\n",
    "    plt.figure()\n",
    "    plt.plot(coord[:,0],coord[:,1])\n",
    "    plt.savefig(\"exlettre.png\")\n",
    "    #plt.show()\n",
    "    return"
   ]
  },
  {
   "cell_type": "code",
   "execution_count": 4,
   "metadata": {
    "collapsed": true,
    "scrolled": false
   },
   "outputs": [],
   "source": [
    "#teste\n",
    "tracerLettre(X[20])"
   ]
  },
  {
   "cell_type": "markdown",
   "metadata": {},
   "source": [
    "# Apprentissage d'un modèle CM (max de vraisemblance)"
   ]
  },
  {
   "cell_type": "markdown",
   "metadata": {},
   "source": [
    "# 1. Discrétisation"
   ]
  },
  {
   "cell_type": "raw",
   "metadata": {},
   "source": [
    "Donner le code de la méthode discretise(X,d) qui prend la base des signaux et retourne une base de signaux discrétisés. "
   ]
  },
  {
   "cell_type": "raw",
   "metadata": {},
   "source": [
    "La fonction descretise transforme une série d'angles en série de `etats` discret ( entier ), finis et distincts."
   ]
  },
  {
   "cell_type": "code",
   "execution_count": 5,
   "metadata": {
    "collapsed": true
   },
   "outputs": [],
   "source": [
    "def discretise(X,d):\n",
    "    \n",
    "    l = np.ndarray(len(X), dtype=np.object)\n",
    "    intervalle = 360./d\n",
    "    for k,x in enumerate(X): \n",
    "        l[k]=np.floor(x/intervalle)\n",
    "        \n",
    "    return l # return l, ne marche pas "
   ]
  },
  {
   "cell_type": "code",
   "execution_count": 6,
   "metadata": {
    "scrolled": true
   },
   "outputs": [
    {
     "name": "stdout",
     "output_type": "stream",
     "text": [
      "[ 0.  2.  2.  2.  2.  2.  2.  2.  1.  1.  1.  1.  1.  1.  2.  2.  2.  2.\n",
      "  0.  0.  0.  0.  0.]\n"
     ]
    },
    {
     "data": {
      "text/plain": [
       "numpy.ndarray"
      ]
     },
     "execution_count": 6,
     "metadata": {},
     "output_type": "execute_result"
    }
   ],
   "source": [
    "#teste\n",
    "xd= discretise(X,3)\n",
    "print(xd[0])\n",
    "type(xd)"
   ]
  },
  {
   "cell_type": "code",
   "execution_count": null,
   "metadata": {
    "collapsed": true
   },
   "outputs": [],
   "source": []
  },
  {
   "cell_type": "code",
   "execution_count": null,
   "metadata": {
    "collapsed": true
   },
   "outputs": [],
   "source": []
  },
  {
   "cell_type": "code",
   "execution_count": 7,
   "metadata": {},
   "outputs": [
    {
     "name": "stdout",
     "output_type": "stream",
     "text": [
      "[ 0.  2.  2.  2.  2.  2.  2.  2.  1.  1.  1.  1.  1.  1.  2.  2.  2.  2.\n",
      "  0.  0.  0.  0.  0.]\n"
     ]
    }
   ],
   "source": [
    "#teste\n",
    "xd= discretise(X,3)\n",
    "print(xd[0])"
   ]
  },
  {
   "cell_type": "markdown",
   "metadata": {},
   "source": [
    "# 2. Regrouper les indices des signaux par classe (pour faciliter l'apprentissage)"
   ]
  },
  {
   "cell_type": "code",
   "execution_count": 8,
   "metadata": {
    "collapsed": true
   },
   "outputs": [],
   "source": [
    "def groupByLabel(y):\n",
    "    index = []\n",
    "    for i in np.unique(y): # pour toutes les classes\n",
    "        ind, = np.where(y==i)\n",
    "        index.append(ind)\n",
    "    return index"
   ]
  },
  {
   "cell_type": "code",
   "execution_count": 9,
   "metadata": {
    "collapsed": true
   },
   "outputs": [],
   "source": [
    "#teste\n",
    "index=groupByLabel(Y) #Chaque ligne regroupe les indices de signaux correspondant à une classe "
   ]
  },
  {
   "cell_type": "markdown",
   "metadata": {},
   "source": [
    "# 3. Apprendre les modèles CM"
   ]
  },
  {
   "cell_type": "raw",
   "metadata": {},
   "source": [
    "Soit XC la base de signaux discrétisés correspondant à une classe C et d le nombre d'états. \n",
    "Donner le code de la méthode def learnMarkovModel(Xc, d) qui retourne un tuple contenant Pi et A. "
   ]
  },
  {
   "cell_type": "code",
   "execution_count": 10,
   "metadata": {
    "collapsed": true
   },
   "outputs": [],
   "source": [
    "def learnMarkovModel(xc, d):\n",
    "    \"\"\"    X : base de signaux discretises correspondant a la classe C\n",
    "            d : nombre d'etats\n",
    "            retourne un tuple contenant Pi et A\"\"\"\n",
    "        \n",
    "    #initialisation:\n",
    "    A = np.zeros((d,d))\n",
    "    pi = np.zeros(d)\n",
    "    \n",
    "    # Pi0 correspond au nombre d'occurence de chaque etat dans le premier element de chaque sequence \n",
    "    for i in range(len(xc)):\n",
    "        pi[int(xc[i][0])] =   pi[int(xc[i][0])] +1 \n",
    "      \n",
    "    # occurence de chaque transaction, il se peut qu'on est des transactions impossible donc = 0\n",
    "    for i in range(len(xc)):\n",
    "        for j in range(1,len(xc[i])):\n",
    "            A[int(xc[i][j-1])][int(xc[i][j])] =     A[int(xc[i][j-1])][int(xc[i][j])]  + 1\n",
    "\n",
    "    \n",
    "    # normalisation\n",
    "    #pour normaliser la matrice de transition on divise chaque ligne i par la somme des elements dans la ligne i idem pour Pi0\n",
    "    A = A/np.maximum(A.sum(1).reshape(d,1),1) \n",
    "    pi = pi/(pi.sum())\n",
    "    return A,pi   "
   ]
  },
  {
   "cell_type": "code",
   "execution_count": 11,
   "metadata": {},
   "outputs": [
    {
     "data": {
      "text/plain": [
       "(array([[ 0.84444444,  0.06666667,  0.08888889],\n",
       "        [ 0.        ,  0.83333333,  0.16666667],\n",
       "        [ 0.11382114,  0.06504065,  0.82113821]]),\n",
       " array([ 0.36363636,  0.        ,  0.63636364]))"
      ]
     },
     "execution_count": 11,
     "metadata": {},
     "output_type": "execute_result"
    }
   ],
   "source": [
    "learnMarkovModel( xd[index[0]]  , 3 )"
   ]
  },
  {
   "cell_type": "code",
   "execution_count": 12,
   "metadata": {
    "collapsed": true
   },
   "outputs": [],
   "source": [
    "def learnMarkovModel_bis(xc, d):\n",
    "    \"\"\"    X : base de signaux discretises correspondant a la classe C\n",
    "            d : nombre d'etats\n",
    "            retourne un tuple contenant Pi et A\"\"\"\n",
    "        \n",
    "    #initialisation avec des 1 pour palier au probleme des 0\n",
    "    A = np.ones((d,d))\n",
    "    pi = np.ones(d)\n",
    "    \n",
    "    for i in range(len(xc)):\n",
    "        pi[int(xc[i][0])] =   pi[int(xc[i][0])] +1 \n",
    "      \n",
    "    for i in range(len(xc)):\n",
    "        for j in range(1,len(xc[i])):\n",
    "            A[int(xc[i][j-1])][int(xc[i][j])] =     A[int(xc[i][j-1])][int(xc[i][j])]  + 1\n",
    "            \n",
    "    \n",
    "\n",
    "    # normalisation\n",
    "    A = A/np.maximum(A.sum(1).reshape(d,1),1) \n",
    "    pi = pi/(pi.sum())\n",
    "    return A,pi   "
   ]
  },
  {
   "cell_type": "code",
   "execution_count": 13,
   "metadata": {},
   "outputs": [
    {
     "data": {
      "text/plain": [
       "(array([[ 0.8125    ,  0.08333333,  0.10416667],\n",
       "        [ 0.01449275,  0.8115942 ,  0.17391304],\n",
       "        [ 0.11904762,  0.07142857,  0.80952381]]),\n",
       " array([ 0.35714286,  0.07142857,  0.57142857]))"
      ]
     },
     "execution_count": 13,
     "metadata": {},
     "output_type": "execute_result"
    }
   ],
   "source": [
    "learnMarkovModel_bis( xd[index[0]]  , 3 )"
   ]
  },
  {
   "cell_type": "markdown",
   "metadata": {},
   "source": [
    "# 4. Constuire les models "
   ]
  },
  {
   "cell_type": "code",
   "execution_count": 14,
   "metadata": {
    "collapsed": true
   },
   "outputs": [],
   "source": [
    "def buildModel( X, Y, d ):\n",
    "    \"\"\"\n",
    "        Construit un modele pour l'apprentissage des CM\n",
    "        X : donnees sur les lettres\n",
    "        Y : etiquettes associees\n",
    "        d : nombre d'etats\n",
    "    \"\"\"\n",
    "    Xd = discretise(X,d)  # application de la discrétisation\n",
    "    index = groupByLabel(Y)  # groupement des signaux par classe\n",
    "    models = []\n",
    "    for cl in range(len(np.unique(Y))): # parcours de toutes les classes et optimisation des modèles\n",
    "        models.append(learnMarkovModel(Xd[index[cl]], d))\n",
    "    \n",
    "    return Xd, models"
   ]
  },
  {
   "cell_type": "code",
   "execution_count": 15,
   "metadata": {
    "collapsed": true
   },
   "outputs": [],
   "source": [
    "d=3\n",
    "Xd, models = buildModel(X, Y, d)\n",
    "#models"
   ]
  },
  {
   "cell_type": "code",
   "execution_count": 16,
   "metadata": {
    "collapsed": true
   },
   "outputs": [],
   "source": [
    "def buildModel_bis( X, Y, d ):\n",
    "    \"\"\"\n",
    "        Construit un modele pour l'apprentissage des CM\n",
    "        X : donnees sur les lettres\n",
    "        Y : etiquettes associees\n",
    "        d : nombre d'etats\n",
    "    \"\"\"\n",
    "    Xd = discretise(X,d)  # application de la discrétisation\n",
    "    index = groupByLabel(Y)  # groupement des signaux par classe\n",
    "    models = []\n",
    "    for cl in range(len(np.unique(Y))): # parcours de toutes les classes et optimisation des modèles\n",
    "        models.append(learnMarkovModel_bis(Xd[index[cl]], d))\n",
    "    \n",
    "    return Xd, models"
   ]
  },
  {
   "cell_type": "code",
   "execution_count": 17,
   "metadata": {},
   "outputs": [
    {
     "data": {
      "text/plain": [
       "[(array([[ 0.8125    ,  0.08333333,  0.10416667],\n",
       "         [ 0.01449275,  0.8115942 ,  0.17391304],\n",
       "         [ 0.11904762,  0.07142857,  0.80952381]]),\n",
       "  array([ 0.35714286,  0.07142857,  0.57142857])),\n",
       " (array([[ 0.79032258,  0.01612903,  0.19354839],\n",
       "         [ 0.02439024,  0.95121951,  0.02439024],\n",
       "         [ 0.08391608,  0.08391608,  0.83216783]]),\n",
       "  array([ 0.07142857,  0.07142857,  0.85714286])),\n",
       " (array([[ 0.91666667,  0.06666667,  0.01666667],\n",
       "         [ 0.01785714,  0.73214286,  0.25      ],\n",
       "         [ 0.14117647,  0.03529412,  0.82352941]]),\n",
       "  array([ 0.28571429,  0.64285714,  0.07142857])),\n",
       " (array([[ 0.73529412,  0.23529412,  0.02941176],\n",
       "         [ 0.01886792,  0.75471698,  0.22641509],\n",
       "         [ 0.15833333,  0.04166667,  0.8       ]]),\n",
       "  array([ 0.07142857,  0.07142857,  0.85714286])),\n",
       " (array([[ 0.87962963,  0.11111111,  0.00925926],\n",
       "         [ 0.015625  ,  0.796875  ,  0.1875    ],\n",
       "         [ 0.13541667,  0.01041667,  0.85416667]]),\n",
       "  array([ 0.78571429,  0.07142857,  0.14285714])),\n",
       " (array([[ 0.16666667,  0.66666667,  0.16666667],\n",
       "         [ 0.03125   ,  0.6875    ,  0.28125   ],\n",
       "         [ 0.07692308,  0.07692308,  0.84615385]]),\n",
       "  array([ 0.28571429,  0.64285714,  0.07142857])),\n",
       " (array([[ 0.33333333,  0.33333333,  0.33333333],\n",
       "         [ 0.05      ,  0.75      ,  0.2       ],\n",
       "         [ 0.25      ,  0.25      ,  0.5       ]]),\n",
       "  array([ 0.07142857,  0.85714286,  0.07142857])),\n",
       " (array([[ 0.78333333,  0.01666667,  0.2       ],\n",
       "         [ 0.33333333,  0.33333333,  0.33333333],\n",
       "         [ 0.08275862,  0.00689655,  0.91034483]]),\n",
       "  array([ 0.07142857,  0.07142857,  0.85714286])),\n",
       " (array([[ 0.33333333,  0.33333333,  0.33333333],\n",
       "         [ 0.33333333,  0.33333333,  0.33333333],\n",
       "         [ 0.01075269,  0.01075269,  0.97849462]]),\n",
       "  array([ 0.07692308,  0.07692308,  0.84615385])),\n",
       " (array([[ 0.33333333,  0.33333333,  0.33333333],\n",
       "         [ 0.02777778,  0.94444444,  0.02777778],\n",
       "         [ 0.01204819,  0.13253012,  0.85542169]]),\n",
       "  array([ 0.07692308,  0.07692308,  0.84615385])),\n",
       " (array([[ 0.33333333,  0.33333333,  0.33333333],\n",
       "         [ 0.05555556,  0.83333333,  0.11111111],\n",
       "         [ 0.0106383 ,  0.09574468,  0.89361702]]),\n",
       "  array([ 0.07692308,  0.07692308,  0.84615385])),\n",
       " (array([[ 0.33333333,  0.33333333,  0.33333333],\n",
       "         [ 0.33333333,  0.33333333,  0.33333333],\n",
       "         [ 0.01176471,  0.01176471,  0.97647059]]),\n",
       "  array([ 0.07692308,  0.07692308,  0.84615385])),\n",
       " (array([[ 0.87209302,  0.00581395,  0.12209302],\n",
       "         [ 0.33333333,  0.33333333,  0.33333333],\n",
       "         [ 0.08641975,  0.00411523,  0.90946502]]),\n",
       "  array([ 0.07692308,  0.07692308,  0.84615385])),\n",
       " (array([[ 0.87234043,  0.0106383 ,  0.11702128],\n",
       "         [ 0.33333333,  0.33333333,  0.33333333],\n",
       "         [ 0.06586826,  0.00598802,  0.92814371]]),\n",
       "  array([ 0.07692308,  0.07692308,  0.84615385])),\n",
       " (array([[ 0.87962963,  0.11111111,  0.00925926],\n",
       "         [ 0.03508772,  0.78947368,  0.1754386 ],\n",
       "         [ 0.1375    ,  0.0125    ,  0.85      ]]),\n",
       "  array([ 0.23076923,  0.61538462,  0.15384615])),\n",
       " (array([[ 0.88349515,  0.00970874,  0.10679612],\n",
       "         [ 0.04347826,  0.91304348,  0.04347826],\n",
       "         [ 0.09401709,  0.09401709,  0.81196581]]),\n",
       "  array([ 0.07692308,  0.07692308,  0.84615385])),\n",
       " (array([[ 0.58823529,  0.14705882,  0.26470588],\n",
       "         [ 0.02702703,  0.62162162,  0.35135135],\n",
       "         [ 0.11111111,  0.01010101,  0.87878788]]),\n",
       "  array([ 0.23076923,  0.69230769,  0.07692308])),\n",
       " (array([[ 0.96212121,  0.01515152,  0.02272727],\n",
       "         [ 0.42857143,  0.42857143,  0.14285714],\n",
       "         [ 0.12790698,  0.02325581,  0.84883721]]),\n",
       "  array([ 0.07692308,  0.07692308,  0.84615385])),\n",
       " (array([[ 0.44444444,  0.11111111,  0.44444444],\n",
       "         [ 0.01408451,  0.83098592,  0.15492958],\n",
       "         [ 0.04545455,  0.13636364,  0.81818182]]),\n",
       "  array([ 0.07692308,  0.76923077,  0.15384615])),\n",
       " (array([[ 0.33333333,  0.33333333,  0.33333333],\n",
       "         [ 0.33333333,  0.33333333,  0.33333333],\n",
       "         [ 0.01886792,  0.01886792,  0.96226415]]),\n",
       "  array([ 0.07692308,  0.07692308,  0.84615385])),\n",
       " (array([[ 0.97894737,  0.01052632,  0.01052632],\n",
       "         [ 0.33333333,  0.33333333,  0.33333333],\n",
       "         [ 0.10891089,  0.00990099,  0.88118812]]),\n",
       "  array([ 0.07692308,  0.07692308,  0.84615385])),\n",
       " (array([[ 0.97916667,  0.01041667,  0.01041667],\n",
       "         [ 0.33333333,  0.33333333,  0.33333333],\n",
       "         [ 0.13924051,  0.01265823,  0.84810127]]),\n",
       "  array([ 0.07692308,  0.07692308,  0.84615385])),\n",
       " (array([[ 0.93023256,  0.00581395,  0.06395349],\n",
       "         [ 0.33333333,  0.33333333,  0.33333333],\n",
       "         [ 0.12280702,  0.00584795,  0.87134503]]),\n",
       "  array([ 0.07692308,  0.07692308,  0.84615385])),\n",
       " (array([[ 0.33333333,  0.33333333,  0.33333333],\n",
       "         [ 0.33333333,  0.33333333,  0.33333333],\n",
       "         [ 0.01265823,  0.01265823,  0.97468354]]),\n",
       "  array([ 0.07692308,  0.07692308,  0.84615385])),\n",
       " (array([[ 0.63636364,  0.06060606,  0.3030303 ],\n",
       "         [ 0.25      ,  0.25      ,  0.5       ],\n",
       "         [ 0.09649123,  0.00877193,  0.89473684]]),\n",
       "  array([ 0.07692308,  0.07692308,  0.84615385])),\n",
       " (array([[ 0.87179487,  0.00854701,  0.11965812],\n",
       "         [ 0.01724138,  0.74137931,  0.24137931],\n",
       "         [ 0.15294118,  0.16470588,  0.68235294]]),\n",
       "  array([ 0.84615385,  0.07692308,  0.07692308]))]"
      ]
     },
     "execution_count": 17,
     "metadata": {},
     "output_type": "execute_result"
    }
   ],
   "source": [
    "d=3\n",
    "Xd, models = buildModel_bis(X, Y, d)\n",
    "models"
   ]
  },
  {
   "cell_type": "markdown",
   "metadata": {},
   "source": [
    "# Test (affectation dans les classes sur critère MV)"
   ]
  },
  {
   "cell_type": "markdown",
   "metadata": {},
   "source": [
    "### 1. (log)Probabilité d'une séquence dans un modèle"
   ]
  },
  {
   "cell_type": "code",
   "execution_count": 18,
   "metadata": {
    "collapsed": true
   },
   "outputs": [],
   "source": [
    "def probaSequence(s,Pi,A):\n",
    "    #Pi la proba intiale\n",
    "    #A la matrice de transission\n",
    "    #s c'est une sequence quelconque \n",
    "    # on utilise la formule P(s1s2s3)= P(s1)*P(s2/s1)*P(s3/s2) \n",
    "    #                                = Pi(s1)*A[s1,s2]*A[s2,s3]\n",
    "    \n",
    "    x=0\n",
    "    \n",
    "    x = np.log(Pi[int(s[0])])\n",
    "    for i in range(1,len(s)):\n",
    "        x += np.log(A[int(s[i-1])][int(s[i])])\n",
    "        \n",
    "    return x    "
   ]
  },
  {
   "cell_type": "code",
   "execution_count": 19,
   "metadata": {},
   "outputs": [
    {
     "name": "stdout",
     "output_type": "stream",
     "text": [
      "log-probabilite du premier signal avec d = 3 etats :\n",
      "[-13.491086           -inf         -inf         -inf         -inf\n",
      "         -inf         -inf         -inf         -inf         -inf\n",
      "         -inf         -inf         -inf         -inf         -inf\n",
      "         -inf         -inf         -inf         -inf         -inf\n",
      "         -inf         -inf         -inf         -inf         -inf\n",
      " -12.48285678]\n"
     ]
    },
    {
     "name": "stderr",
     "output_type": "stream",
     "text": [
      "C:\\Users\\kherf\\Anaconda3\\lib\\site-packages\\ipykernel_launcher.py:10: RuntimeWarning: divide by zero encountered in log\n",
      "  # Remove the CWD from sys.path while we load stuff.\n",
      "C:\\Users\\kherf\\Anaconda3\\lib\\site-packages\\ipykernel_launcher.py:12: RuntimeWarning: divide by zero encountered in log\n",
      "  if sys.path[0] == '':\n"
     ]
    }
   ],
   "source": [
    "# 2.1. Log-probabilite d'une sequence dans un modele\n",
    "d=3\n",
    "xd, models = buildModel(X, Y, d)\n",
    "\n",
    "test = np.zeros( len(models) )\n",
    "\n",
    "for i, ( A, Pi) in enumerate( models ):\n",
    "    test[i] = probaSequence(xd[0], Pi, A)\n",
    "print(\"log-probabilite du premier signal avec d = 3 etats :\")\n",
    "print(test)"
   ]
  },
  {
   "cell_type": "raw",
   "metadata": {},
   "source": [
    "1.    Ce signal est-il bien classé? \n",
    "2.    D'où viennent tous les -inf? \n",
    "1 ) Non, le signal a une probabilité plus élevée d'être un z qu'un a alors qu'il est de classe a.\n",
    "2 ) Nous obtenons des infs car il y'a des transactions impossibles,\n",
    "si A[i][j] = 0 alors log (A[i][j]) = log(0) = -inf "
   ]
  },
  {
   "cell_type": "markdown",
   "metadata": {
    "collapsed": true
   },
   "source": [
    "# 2. Application de la méthode précédente pour tous les signaux et tous les modèles de lettres"
   ]
  },
  {
   "cell_type": "code",
   "execution_count": null,
   "metadata": {
    "collapsed": true
   },
   "outputs": [],
   "source": []
  },
  {
   "cell_type": "code",
   "execution_count": 20,
   "metadata": {
    "collapsed": true
   },
   "outputs": [],
   "source": [
    "\n",
    "def classification( Xd, Y, models ):\n",
    "    #models A Pi\n",
    "    #sequence  s,Pi,A\n",
    "    proba = np.array([[probaSequence(Xd[i], models[cl][1], models[cl][0]) for i in range(len(Xd))]for cl in range(len(np.unique(Y)))])\n",
    "    # Calcul d'une version numerique des Y\n",
    "    Ynum = np.zeros(Y.shape)\n",
    "    for num,char in enumerate(np.unique(Y)):\n",
    "        Ynum[Y==char] = num\n",
    "    \n",
    "    # Calcul de la classe la plus probable\n",
    "    pred = proba.argmax(0) # max colonne par colonne\n",
    "\n",
    "    # Calcul d'un pourcentage de bonne classification\n",
    "    perf = np.where(pred != Ynum, 0.,1.).mean()\n",
    "    \n",
    "    return perf\n"
   ]
  },
  {
   "cell_type": "code",
   "execution_count": 21,
   "metadata": {
    "collapsed": true
   },
   "outputs": [],
   "source": [
    "#INDICE DE PERFORMANCE : 91% de bonne classification avec 20 états, 69% avec 3 états"
   ]
  },
  {
   "cell_type": "code",
   "execution_count": 22,
   "metadata": {},
   "outputs": [
    {
     "name": "stderr",
     "output_type": "stream",
     "text": [
      "C:\\Users\\kherf\\Anaconda3\\lib\\site-packages\\ipykernel_launcher.py:10: RuntimeWarning: divide by zero encountered in log\n",
      "  # Remove the CWD from sys.path while we load stuff.\n",
      "C:\\Users\\kherf\\Anaconda3\\lib\\site-packages\\ipykernel_launcher.py:12: RuntimeWarning: divide by zero encountered in log\n",
      "  if sys.path[0] == '':\n"
     ]
    },
    {
     "name": "stdout",
     "output_type": "stream",
     "text": [
      "Performance avec 3 etats : 0.690298507463\n"
     ]
    }
   ],
   "source": [
    "Xd3, models3 = buildModel(X, Y, 3)\n",
    "perf3 = classification(Xd3, Y, models3)\n",
    "print(\"Performance avec 3 etats : \" + str(perf3))"
   ]
  },
  {
   "cell_type": "code",
   "execution_count": 23,
   "metadata": {},
   "outputs": [
    {
     "name": "stderr",
     "output_type": "stream",
     "text": [
      "C:\\Users\\kherf\\Anaconda3\\lib\\site-packages\\ipykernel_launcher.py:10: RuntimeWarning: divide by zero encountered in log\n",
      "  # Remove the CWD from sys.path while we load stuff.\n",
      "C:\\Users\\kherf\\Anaconda3\\lib\\site-packages\\ipykernel_launcher.py:12: RuntimeWarning: divide by zero encountered in log\n",
      "  if sys.path[0] == '':\n"
     ]
    },
    {
     "name": "stdout",
     "output_type": "stream",
     "text": [
      "Performance avec 20 etats : 0.914179104478\n",
      "\n"
     ]
    }
   ],
   "source": [
    "Xd20, models20 = buildModel(X, Y, 20)\n",
    "perf20 = classification(Xd20, Y, models20)\n",
    "print(\"Performance avec 20 etats : \" + str(perf20))\n",
    "print()"
   ]
  },
  {
   "cell_type": "code",
   "execution_count": 24,
   "metadata": {
    "collapsed": true
   },
   "outputs": [],
   "source": [
    "# separation app/test, pc=ratio de points en apprentissage\n",
    "def separeTrainTest(y, pc):\n",
    "    indTrain = []\n",
    "    indTest = []\n",
    "    for i in np.unique(y): # pour toutes les classes\n",
    "        ind, = np.where(y==i)\n",
    "        n = len(ind)\n",
    "        indTrain.append(ind[np.random.permutation(n)][:int(np.floor(pc*n))])\n",
    "        indTest.append(np.setdiff1d(ind, indTrain[-1]))\n",
    "    return indTrain, indTest\n"
   ]
  },
  {
   "cell_type": "code",
   "execution_count": 27,
   "metadata": {},
   "outputs": [
    {
     "name": "stderr",
     "output_type": "stream",
     "text": [
      "C:\\Users\\kherf\\Anaconda3\\lib\\site-packages\\ipykernel_launcher.py:10: RuntimeWarning: divide by zero encountered in log\n",
      "  # Remove the CWD from sys.path while we load stuff.\n",
      "C:\\Users\\kherf\\Anaconda3\\lib\\site-packages\\ipykernel_launcher.py:12: RuntimeWarning: divide by zero encountered in log\n",
      "  if sys.path[0] == '':\n"
     ]
    },
    {
     "data": {
      "image/png": "[encoded data removed]",
      "text/plain": [
       "<matplotlib.figure.Figure at 0x1f9febe3470>"
      ]
     },
     "metadata": {},
     "output_type": "display_data"
    }
   ],
   "source": [
    "# Biais d'evaluation, notion de sur-apprentissage\n",
    "itrain,itest = separeTrainTest(Y,0.8)\n",
    "\n",
    "# re-fusionner tous les indices d'apprentissage et de test\n",
    "ia = []\n",
    "for i in itrain:\n",
    "    ia += i.tolist()    \n",
    "it = []\n",
    "for i in itest:\n",
    "    it += i.tolist()\n",
    "\n",
    "etats = range( 2,30 )   # nombre d'etats pour lesquels on va evaluer les modeles\n",
    "train = []  # liste pour l'apprentissage sans biais\n",
    "test = []   # liste pour l'apprentissage avec biais\n",
    "\n",
    "# pour chaque methode d'apprentissage, on calcule ses performances \n",
    "# selon le nombre d'etats (discretisation)\n",
    "for di in etats:\n",
    "    Xd_train, models = buildModel(X[ia], Y[ia], di) # construire un modele pour l'evaluer sans biais\n",
    "    Xd_test = discretise(X[it], di)\n",
    "    train.append(classification(Xd_train, Y[ia], models))\n",
    "    test.append(classification(Xd_test, Y[it], models))\n",
    "    \n",
    "# Afficher les courbes de performances\n",
    "plt.plot(etats, train, 'b-', label='sans biais')\n",
    "plt.plot(etats, test, 'r-', label='avec biais')\n",
    "plt.legend(loc='lower left')\n",
    "plt.title(\"Pourcentage de bonne classifcation en fonction du nombre d'etats - np.zeros\")\n",
    "plt.show()\n",
    "\n"
   ]
  },
  {
   "cell_type": "code",
   "execution_count": 26,
   "metadata": {},
   "outputs": [
    {
     "data": {
      "image/png": "[encoded data removed]",
      "text/plain": [
       "<matplotlib.figure.Figure at 0x1f9fe4b3d30>"
      ]
     },
     "metadata": {},
     "output_type": "display_data"
    }
   ],
   "source": [
    "# performances avec initialisation avec np.ones\n",
    "train_bis = []\n",
    "test_bis = []\n",
    "for di_bis in etats:\n",
    "    Xd_train_bis, models_bis = buildModel_bis(X[ia], Y[ia], di_bis) # construire un modele pour l'evaluer sans biais\n",
    "    Xd_test_bis = discretise(X[it], di_bis)\n",
    "    train_bis.append(classification(Xd_train_bis, Y[ia], models_bis))\n",
    "    test_bis.append(classification(Xd_test_bis, Y[it], models_bis))\n",
    "plt.plot(etats, train_bis, 'b-', label='sans biais')\n",
    "plt.plot(etats, test_bis, 'r-', label='avec biais')\n",
    "plt.legend(loc='lower left')\n",
    "plt.title(\"Pourcentage de bonne classifcation en fonction du nombre d'etats - np.ones\")\n",
    "plt.show()"
   ]
  },
  {
   "cell_type": "code",
   "execution_count": null,
   "metadata": {
    "collapsed": true
   },
   "outputs": [],
   "source": []
  },
  {
   "cell_type": "code",
   "execution_count": null,
   "metadata": {
    "collapsed": true
   },
   "outputs": [],
   "source": []
  },
  {
   "cell_type": "code",
   "execution_count": null,
   "metadata": {
    "collapsed": true
   },
   "outputs": [],
   "source": []
  },
  {
   "cell_type": "code",
   "execution_count": null,
   "metadata": {
    "collapsed": true
   },
   "outputs": [],
   "source": []
  }
 ],
 "metadata": {
  "kernelspec": {
   "display_name": "Python 3",
   "language": "python",
   "name": "python3"
  },
  "language_info": {
   "codemirror_mode": {
    "name": "ipython",
    "version": 3
   },
   "file_extension": ".py",
   "mimetype": "text/x-python",
   "name": "python",
   "nbconvert_exporter": "python",
   "pygments_lexer": "ipython3",
   "version": "3.6.2"
  }
 },
 "nbformat": 4,
 "nbformat_minor": 2
}
