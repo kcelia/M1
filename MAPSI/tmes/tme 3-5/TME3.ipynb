{
 "cells": [
  {
   "cell_type": "code",
   "execution_count": 2,
   "metadata": {
    "collapsed": true
   },
   "outputs": [],
   "source": [
    "import numpy as np\n",
    "import matplotlib as plt\n",
    "import math"
   ]
  },
  {
   "cell_type": "markdown",
   "metadata": {},
   "source": [
    "l'objectif est d'apprendre grâce à l'estimateur de maximum de vraisemblance les paramètres de lois normales à partir d'un ensemble de données"
   ]
  },
  {
   "cell_type": "markdown",
   "metadata": {},
   "source": [
    "1. Préparation / visualisation"
   ]
  },
  {
   "cell_type": "code",
   "execution_count": 16,
   "metadata": {},
   "outputs": [
    {
     "data": {
      "image/png": "[encoded data removed]",
      "text/plain": [
       "<matplotlib.figure.Figure at 0xcff8748>"
      ]
     },
     "metadata": {},
     "output_type": "display_data"
    },
    {
     "data": {
      "image/png": "[encoded data removed]",
      "text/plain": [
       "<matplotlib.figure.Figure at 0xb79d160>"
      ]
     },
     "metadata": {},
     "output_type": "display_data"
    },
    {
     "data": {
      "image/png": "[encoded data removed]",
      "text/plain": [
       "<matplotlib.figure.Figure at 0xbae6748>"
      ]
     },
     "metadata": {},
     "output_type": "display_data"
    }
   ],
   "source": [
    "# -*- coding: utf-8 -*- \n",
    "\n",
    "import numpy as np\n",
    "import matplotlib.pyplot as plt\n",
    "\n",
    "def read_file ( filename ):\n",
    "    \"\"\"\n",
    "    Lit un fichier USPS et renvoie un tableau de tableaux d'images.\n",
    "    Chaque image est un tableau de nombres réels.\n",
    "    Chaque tableau d'images contient des images de la même classe.\n",
    "    Ainsi, T = read_file ( \"fichier\" ) est tel que T[0] est le tableau\n",
    "    des images de la classe 0, T[1] contient celui des images de la classe 1,\n",
    "    et ainsi de suite.\n",
    "    \"\"\"\n",
    "    # lecture de l'en-tête\n",
    "    infile = open ( filename, \"r\" )    \n",
    "    nb_classes, nb_features = [ int( x ) for x in infile.readline().split() ]\n",
    "\n",
    "    # creation de la structure de données pour sauver les images :\n",
    "    # c'est un tableau de listes (1 par classe)\n",
    "    data = np.empty ( 10, dtype=object )   \n",
    "    filler = np.frompyfunc(lambda x: list(), 1, 1)\n",
    "    filler( data, data )\n",
    "\n",
    "    # lecture des images du fichier et tri, classe par classe\n",
    "    for ligne in infile:\n",
    "        champs = ligne.split ()\n",
    "        if len ( champs ) == nb_features + 1:\n",
    "            classe = int ( champs.pop ( 0 ) )\n",
    "            data[classe].append ( list ( map ( lambda x: float(x), champs ) ) )\n",
    "    infile.close ()\n",
    "\n",
    "    # transformation des list en array\n",
    "    output  = np.empty ( 10, dtype=object )\n",
    "    filler2 = np.frompyfunc(lambda x: np.asarray (x), 1, 1)\n",
    "    filler2 ( data, output )\n",
    "\n",
    "    return output\n",
    "\n",
    "def display_image ( X ):\n",
    "    \"\"\"\n",
    "    Etant donné un tableau X de 256 flotants représentant une image de 16x16\n",
    "    pixels, la fonction affiche cette image dans une fenêtre.\n",
    "    \"\"\"\n",
    "    # on teste que le tableau contient bien 256 valeurs\n",
    "    if X.size != 256:\n",
    "        raise ValueError ( \"Les images doivent être de 16x16 pixels\" )\n",
    "\n",
    "    # on crée une image pour imshow: chaque pixel est un tableau à 3 valeurs\n",
    "    # (1 pour chaque canal R,G,B). Ces valeurs sont entre 0 et 1\n",
    "    Y = X / X.max ()\n",
    "    img = np.zeros ( ( Y.size, 3 ) )\n",
    "    for i in range ( 3 ):\n",
    "        img[:,i] = X\n",
    "\n",
    "    # on indique que toutes les images sont de 16x16 pixels\n",
    "    img.shape = (16,16,3)\n",
    "\n",
    "    # affichage de l'image\n",
    "    plt.imshow( img )\n",
    "    plt.show ()\n",
    "    \n",
    "#test\n",
    "output = read_file (\"Data.txt\")\n",
    "display_image(output[0][0])\n",
    "display_image(output[1][1])\n",
    "display_image(output[3][3])"
   ]
  },
  {
   "cell_type": "markdown",
   "metadata": {},
   "source": [
    "les chiffres sont appelés classes"
   ]
  },
  {
   "cell_type": "markdown",
   "metadata": {},
   "source": [
    "2. Maximum de vraisemblance pour une classe\n",
    "Dans ce TME, nous allons étudier la distribution de probabilité des teintes de gris des images (en fait, nous allons étudier sa fonction de densité car on travaille sur des variables aléatoires continues) . Nous allons faire l'hypothèse (certes un peu forte mais tellement pratique) que, dans chaque classe, les teintes des pixels sont mutuellement indépendantes. Autrement dit, si Xi, i=0,...,255, représente la variable aléatoire \"intensité de gris du ième pixel\", alors p(X0,…,X255) représente la fonction de densité des teintes de gris des images de la classe et:\n",
    "p(X0,…,X255)=∏i=0255p(Xi).\n",
    "Ainsi, en choisissant au hasard une image dans l'ensemble de toutes les images possibles de la classe, si celle-ci correspond au tableau np.array([x_0,...,x_255]), où les x_i sont des nombres réels compris entre 0 et 2, alors la valeur de la fonction de densité de l'image est égale à p(x_0,...,x_255) = ∏255i=0p(x_i).\n",
    "Nous allons de plus supposer que chaque Xi suit une distribution normale de paramètres (μi,σ2i) (autrement dit, p(X_i) = N(μi,σ2i)). Par maximum de vraisemblance, estimez, pour une classe donnée, l'ensemble des paramètres (μ0,…,μ255) et (σ20,…,σ2255). Pour cela, écrivez une fonction learnML_class_parameters : float np.array np.array -> float np.array x float np.array qui, étant donné le tableau d'images d'une classe tel que retourné par la fonction read_file (autrement dit un tableau de tableaux de 256 nombres réels), renvoie un couple de tableaux, le premier élément du couple correspondant à l'ensemble des μi et le 2ème à l'ensemble des σ2i, i=0,...,255. C'est-à-dire que learnML_class_parameters ( classe ) renverra un objet similaire à :\n",
    "( array ( [μ0,…,μ255] ), array ( [σ20,…,σ2255] ) )\n",
    "Grâce à votre fonction learnML_class_parameters, vous pouvez verifier que:"
   ]
  },
  {
   "cell_type": "markdown",
   "metadata": {},
   "source": [
    "étudier la distribution de probabilité des teintes de gris des images, étudier sa fonction de densité car on travaille sur des variables aléatoires continues "
   ]
  },
  {
   "cell_type": "code",
   "execution_count": 50,
   "metadata": {
    "collapsed": true
   },
   "outputs": [],
   "source": [
    "def learnML_class_parameters ( training_data ):\n",
    "\n",
    "    return  np.mean(training_data ,axis=0), np.var(training_data ,axis=0) #  var = mean(abs(x - x.mean())**2)\n",
    "\n",
    "#teste \n",
    "i = 1\n",
    "u,var = learnML_class_parameters ( output[i] )"
   ]
  },
  {
   "cell_type": "code",
   "execution_count": 5,
   "metadata": {},
   "outputs": [
    {
     "data": {
      "text/plain": [
       "array([[[2, 2, 2],\n",
       "        [1, 1, 1]],\n",
       "\n",
       "       [[5, 5, 5],\n",
       "        [8, 8, 8]]])"
      ]
     },
     "execution_count": 5,
     "metadata": {},
     "output_type": "execute_result"
    }
   ],
   "source": [
    "t = np.array([2]*3)\n",
    "tt = np.array([1]*3)\n",
    "h = np.vstack((t,tt))\n",
    "\n",
    "t = np.array([5]*3)\n",
    "tt = np.array([8]*3)\n",
    "hh = np.vstack((t,tt))\n",
    "\n",
    "np.array((h,hh))"
   ]
  },
  {
   "cell_type": "markdown",
   "metadata": {},
   "source": [
    "3. Maximum de vraisemblance pour toutes les classes\n",
    "\n",
    "\n",
    "En utilisant la fonction de la question précédente, écrivez une fonction learnML_all_parameters : float np.array np.array np.array -> (float np.array x float np.array) list qui, étant donné le tableau training_data retourné par la fonction read_file (donc contenant toutes les images de toutes les classes), renvoie une liste de couples ( array ( [μ0,…,μ255] ), array ( [σ20,…,σ2255] ) ). Vous exécuterez cette fonction sur vos données d'apprentissage et sauvegarderez le résultat dans une variable parameters."
   ]
  },
  {
   "cell_type": "code",
   "execution_count": 89,
   "metadata": {
    "collapsed": true
   },
   "outputs": [],
   "source": [
    "def learnML_all_parameters (training_data ):\n",
    "    \n",
    "    mu,var =  learnML_class_parameters ( training_data[0] ) \n",
    "        \n",
    "    for i in range(1,len(training_data)):\n",
    "        mu_tmp ,var_tmp =  learnML_class_parameters ( training_data[i] ) \n",
    "        mu = np.vstack((mu,mu_tmp))\n",
    "        var = np.vstack((var,var_tmp))\n",
    "        \n",
    "    return np.array((mu, var))\n",
    "        \n",
    "#test\n",
    "p = learnML_all_parameters(output)\n"
   ]
  },
  {
   "cell_type": "markdown",
   "metadata": {},
   "source": [
    "4. Log-vraisemblance d'une image\n",
    "\n",
    "Nous allons maintenant tester si, étant donné de nouvelles images, on peut classer celles-ci correctement, c'est-à-dire si on peut retrouver les chiffres auxquelles elles correspondent. Pour cela, nous allons utiliser de nouvelles images se trouvant dans le fichier 2015_tme3_usps_test.txt. Ce fichier a exactement le même format que celui d'apprentissage et peut donc être lu grâce à la fonction read_file. En particulier, pour chaque image, nous avons le chiffre auquel elle correspond, ce qui nous permettra de vérifier que notre classifieur fonctionne correctement. Téléchargez le fichier et lisez-le en utilisant read_file.\n",
    "Ecrivez une fonction log_likelihood : float np.array x (float np.array,np.array) -> float qui, étant donné une image (donc un tableau de 256 nombres réels) et un couple ( array ( [μ0,…,μ255] ), array ( [σ20,…,σ2255] ) ), renvoie la log-vraisemblance qu'aurait l'image selon cet ensemble de μi et σi. Rappelez-vous que:\n",
    "\n",
    "\n",
    "\n",
    "\n",
    "logp(x0,…,x255)=∑i=0255logp(xi)=∑i=0255[−12log(2πσ2i)−12(xi−μi)2σ2i]\n",
    "\n",
    "\n",
    "\n",
    "\n",
    "\n",
    "Notez que le module math contient une constante math.pi. Attention: dans la liste parameters calculée dans la question précédente, pour certains pixels de certaines classes, la valeur de σ2 est égale à 0 (toutes les images de la base d'apprentissage avaient exactement la même valeur sur ce pixel). Dans ce cas, la vraisemblance de toute image sur ce pixel doit être de 1 (et donc sa log-vraisemblance doit être égale à 0).\n",
    "Vous pourrez vérifier que vous obtenez les mêmes résultats que ci-dessous:"
   ]
  },
  {
   "cell_type": "code",
   "execution_count": 120,
   "metadata": {},
   "outputs": [
    {
     "data": {
      "text/plain": [
       "-36631213.400524415"
      ]
     },
     "execution_count": 120,
     "metadata": {},
     "output_type": "execute_result"
    }
   ],
   "source": [
    "def log_likelihood ( output, mu ,var ) :\n",
    "    s = 0\n",
    "    \n",
    "    for i in range(len(output ) ):\n",
    "        if(var[i] == 0):\n",
    "            s += 0\n",
    "        else:\n",
    "            s +=(-1/2)*np.log(2 * math.pi * var[i]) - 1/2 *  ((output[i] - mu[i]) **2  / var[i])\n",
    "    return s\n",
    "    \n",
    "#teste\n",
    " \n",
    "test_data = read_file (\"d.txt\")\n",
    "log_likelihood ( test_data[2][3]  , p[0][1]  , p[1][1] )\n"
   ]
  },
  {
   "cell_type": "code",
   "execution_count": 122,
   "metadata": {},
   "outputs": [
    {
     "data": {
      "text/plain": [
       "[-80.594309481001218,\n",
       " -2030714328.0707991,\n",
       " -339.70961551873495,\n",
       " -373.97785273732529,\n",
       " -678.16479308314922,\n",
       " -364.62227994586954,\n",
       " -715.4508284953547,\n",
       " -344286.66839952325,\n",
       " -499.88159107145611,\n",
       " -35419.208662902507]"
      ]
     },
     "execution_count": 122,
     "metadata": {},
     "output_type": "execute_result"
    }
   ],
   "source": [
    "def log_likelihood_total(test_data,p):\n",
    "    l = [ log_likelihood ( test_data, p[0][i],p[1][i] ) for i in range ( 10 ) ]\n",
    "    return l\n",
    "#test\n",
    "log_likelihood_total(test_data [0][0],p)"
   ]
  },
  {
   "cell_type": "markdown",
   "metadata": {},
   "source": [
    "# 5. Log-vraisemblance d'une image (bis)"
   ]
  },
  {
   "cell_type": "code",
   "execution_count": 124,
   "metadata": {},
   "outputs": [
    {
     "data": {
      "text/plain": [
       "[-889.22508386992899,\n",
       " 184.03163175636334,\n",
       " -185.29589128666683,\n",
       " -265.13424326432369,\n",
       " -149.54804687799918,\n",
       " -215.85994204347998,\n",
       " -94.869657118899056,\n",
       " -255.6077157467451,\n",
       " -118.95170104216609,\n",
       " -71.597002802343141]"
      ]
     },
     "execution_count": 124,
     "metadata": {},
     "output_type": "execute_result"
    }
   ],
   "source": [
    "log_likelihood_total(test_data [1][5],p)"
   ]
  },
  {
   "cell_type": "markdown",
   "metadata": {},
   "source": [
    "# 6. Classification d'une image"
   ]
  },
  {
   "cell_type": "markdown",
   "metadata": {},
   "source": [
    "Ecrivez une fonction classify_image : float np.array x (float np.array,np.array) list -> int qui, étant donné une image et l'ensemble de paramètres déterminés dans la question 3, renvoie la classe la plus probable de l'image, c'est-à-dire celle dont la log-vraisemblance est la plus grande.\n",
    "Vous pourrez vérifier que vous obtenez les mêmes résultats que ci-dessous:"
   ]
  },
  {
   "cell_type": "code",
   "execution_count": 146,
   "metadata": {},
   "outputs": [
    {
     "data": {
      "text/plain": [
       "(1, 184.03163175636334)"
      ]
     },
     "execution_count": 146,
     "metadata": {},
     "output_type": "execute_result"
    }
   ],
   "source": [
    "\n",
    "def classify_image( test_data, p ):\n",
    "    l=log_likelihood_total(test_data,p)\n",
    "    maxi =  max(l)\n",
    "\n",
    "    for i in range(len(l)):\n",
    "            if l[i]==maxi:\n",
    "                indice= i\n",
    "      \n",
    "    return indice,maxi  \n",
    "#test\n",
    "classify_image( test_data[1][5], p)"
   ]
  },
  {
   "cell_type": "code",
   "execution_count": 147,
   "metadata": {},
   "outputs": [
    {
     "data": {
      "text/plain": [
       "(9, -116.7239547174069)"
      ]
     },
     "execution_count": 147,
     "metadata": {},
     "output_type": "execute_result"
    }
   ],
   "source": [
    "classify_image( test_data[4][1], p)"
   ]
  },
  {
   "cell_type": "code",
   "execution_count": null,
   "metadata": {
    "collapsed": true
   },
   "outputs": [],
   "source": []
  }
 ],
 "metadata": {
  "kernelspec": {
   "display_name": "Python 3",
   "language": "python",
   "name": "python3"
  },
  "language_info": {
   "codemirror_mode": {
    "name": "ipython",
    "version": 3
   },
   "file_extension": ".py",
   "mimetype": "text/x-python",
   "name": "python",
   "nbconvert_exporter": "python",
   "pygments_lexer": "ipython3",
   "version": "3.6.2"
  }
 },
 "nbformat": 4,
 "nbformat_minor": 2
}
