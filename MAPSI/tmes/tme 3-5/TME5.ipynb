{
 "cells": [
  {
   "cell_type": "code",
   "execution_count": 130,
   "metadata": {},
   "outputs": [],
   "source": [
    "# -*- coding: utf-8 -*-\n",
    "\n",
    "import numpy as np\n"
   ]
  },
  {
   "cell_type": "raw",
   "metadata": {},
   "source": [
    "Apprendre un réseau bayésien ==> apprendre sa structure graphique + les param de ses distributions de proba conditionnelles\n",
    "\n",
    "etape : apprendre les param :\n",
    "        estimer les param de chaque distribution conditionnelle par max de vraiscblce\n",
    "teste d indepence => reduire la densité \n"
   ]
  },
  {
   "cell_type": "markdown",
   "metadata": {},
   "source": [
    "# 1. Lecture des données "
   ]
  },
  {
   "cell_type": "code",
   "execution_count": 99,
   "metadata": {
    "collapsed": true
   },
   "outputs": [],
   "source": [
    "# fonction pour transformer les données brutes en nombres de 0 à n-1\n",
    "def translate_data ( data ):\n",
    "# création des structures de données à retourner\n",
    "    nb_variables = data.shape[0]\n",
    "    nb_observations = data.shape[1] - 1 # - nom variable\n",
    "    res_data = np.zeros ( (nb_variables, nb_observations ), int )\n",
    "    res_dico = np.empty ( nb_variables, dtype=object )\n",
    "    \n",
    "    # pour chaque variable, faire la traduction\n",
    "    for i in range ( nb_variables ):\n",
    "        res_dico[i] = {}\n",
    "        index = 0\n",
    "        for j in range ( 1, nb_observations + 1 ):\n",
    "            # si l'observation n'existe pas dans le dictionnaire, la rajouter\n",
    "            if data[i,j] not in res_dico[i]:\n",
    "                res_dico[i].update ( { data[i,j] : index } )\n",
    "                index += 1\n",
    "            # rajouter la traduction dans le tableau de données à retourner\n",
    "            res_data[i,j-1] = res_dico[i][data[i,j]]\n",
    "    return ( res_data, res_dico )"
   ]
  },
  {
   "cell_type": "code",
   "execution_count": 11,
   "metadata": {
    "collapsed": true
   },
   "outputs": [],
   "source": [
    "# fonction pour lire les données de la base d'apprentissage\n",
    "def read_csv ( filename ):\n",
    "    data = np.loadtxt ( filename, delimiter=',', dtype=np.str ).T\n",
    "    names = data[:,0].copy ()\n",
    "    data, dico = translate_data ( data )\n",
    "    return names, data, dico\n",
    "\n",
    "# names : tableau contenant les noms des variables aléatoires\n",
    "# data  : tableau 2D contenant les instanciations des variables aléatoires\n",
    "# dico  : tableau de dictionnaires contenant la correspondance (valeur de variable -> nombre)\n",
    "names, data, dico = read_csv ( \"2015_tme5_asia.csv\" )"
   ]
  },
  {
   "cell_type": "code",
   "execution_count": 32,
   "metadata": {},
   "outputs": [],
   "source": [
    "# etant donné une BD data et son dictionnaire, cette fonction crée le\n",
    "# tableau de contingence de (x,y) | z\n",
    "def create_contingency_table ( data, dico, x, y, z ):\n",
    "# détermination de la taille de z\n",
    "    size_z = 1\n",
    "    offset_z = np.zeros ( len ( z ) )\n",
    "    j = 0\n",
    "    for i in z:\n",
    "        offset_z[j] = size_z\n",
    "        size_z *= len ( dico[i] )\n",
    "        j += 1\n",
    "    # création du tableau de contingence\n",
    "    res = np.zeros ( size_z, dtype = object )\n",
    "    # remplissage du tableau de contingence\n",
    "    if size_z != 1:\n",
    "        z_values = np.apply_along_axis ( lambda val_z : val_z.dot ( offset_z ),1, data[z,:].T )\n",
    "        i = 0\n",
    "        while i < size_z:\n",
    "            indices, = np.where ( z_values == i )\n",
    "            a,b,c = np.histogram2d ( data[x,indices], data[y,indices],bins = [ len ( dico[x] ), len (dico[y] ) ] )\n",
    "            res[i] = ( indices.size, a )\n",
    "            i += 1\n",
    "    else:\n",
    "        a,b,c = np.histogram2d ( data[x,:], data[y,:],bins = [ len ( dico[x] ), len (dico[y] ) ] )\n",
    "        res[0] = ( data.shape[1], a )\n",
    "    return res"
   ]
  },
  {
   "cell_type": "code",
   "execution_count": 100,
   "metadata": {
    "collapsed": true
   },
   "outputs": [],
   "source": [
    "def sufficient_statistics ( data, dico, x, y, z ):\n",
    "    res = create_contingency_table ( data, dico, x, y, z )\n",
    "    s=0\n",
    "    \n",
    "    for z in range(len(res)):\n",
    "        Nz = res[z][0]\n",
    "        if Nz != 0:\n",
    "            #la variable X est representé sur les lignes\n",
    "            #pour virer y de Nxz on somme sur les colonnes \n",
    "            Nyz = np.sum(res[z][1],axis=0)  #somme colonne\n",
    "            #la variable y est representé sur les colonnes\n",
    "            #pour virer x de Nyz on somme sur les lignes\n",
    "            Nxz =  np.sum(res[z][1],axis=1) #somme ligne \n",
    "            \n",
    "            for i in range(len(res[z][1])):\n",
    "                for j in range(len(res[z][1])):\n",
    "                    tmp = (Nxz[i]*Nyz[j]) / Nz # Nxz[i]*Nyz[j] produit terme a terme et non matricielle \n",
    "                    if tmp != 0:\n",
    "                        s = s + ((res[z][1][i][j]-tmp)**2)/tmp\n",
    "                      \n",
    "    return s"
   ]
  },
  {
   "cell_type": "code",
   "execution_count": 106,
   "metadata": {
    "collapsed": true
   },
   "outputs": [],
   "source": [
    "res = create_contingency_table ( data, dico,1,2,[3])"
   ]
  },
  {
   "cell_type": "code",
   "execution_count": 107,
   "metadata": {},
   "outputs": [
    {
     "data": {
      "text/plain": [
       "array([(103, array([[  0.,  96.],\n",
       "       [  0.,   7.]])),\n",
       "       (1897, array([[ 887.,   18.],\n",
       "       [ 983.,    9.]]))], dtype=object)"
      ]
     },
     "execution_count": 107,
     "metadata": {},
     "output_type": "execute_result"
    }
   ],
   "source": [
    "res"
   ]
  },
  {
   "cell_type": "code",
   "execution_count": null,
   "metadata": {
    "collapsed": true
   },
   "outputs": [],
   "source": []
  },
  {
   "cell_type": "code",
   "execution_count": null,
   "metadata": {
    "collapsed": true
   },
   "outputs": [],
   "source": []
  },
  {
   "cell_type": "code",
   "execution_count": 101,
   "metadata": {},
   "outputs": [
    {
     "name": "stdout",
     "output_type": "stream",
     "text": [
      "3.94665911867\n",
      "16.3552074624\n",
      "81.8074493481\n",
      "1897.0\n",
      "3.22232377609\n",
      "130.0\n"
     ]
    }
   ],
   "source": [
    "#teste\n",
    "res = sufficient_statistics ( data, dico, 1,2,[3])\n",
    "print(res)\n",
    "res = sufficient_statistics ( data, dico, 0,1,[2,3])\n",
    "print(res)\n",
    "res = sufficient_statistics ( data, dico, 1,3,[2])\n",
    "print(res)\n",
    "res = sufficient_statistics ( data, dico, 5,2,[1,3,6])\n",
    "print(res)\n",
    "res = sufficient_statistics ( data, dico, 0,7,[4,5])\n",
    "print(res)\n",
    "res = sufficient_statistics ( data, dico, 2,3,[5])\n",
    "print(res)"
   ]
  },
  {
   "cell_type": "markdown",
   "metadata": {},
   "source": [
    "# 3. Statistique du χ2 et degré de liberté "
   ]
  },
  {
   "cell_type": "code",
   "execution_count": 102,
   "metadata": {},
   "outputs": [
    {
     "data": {
      "text/plain": [
       "array([{'true': 0, 'false': 1}, {'false': 0, 'true': 1},\n",
       "       {'true': 0, 'false': 1}, {'false': 0, 'true': 1},\n",
       "       {'false': 0, 'true': 1}, {'false': 0, 'true': 1},\n",
       "       {'false': 0, 'true': 1}, {'false': 0, 'true': 1}], dtype=object)"
      ]
     },
     "execution_count": 102,
     "metadata": {},
     "output_type": "execute_result"
    }
   ],
   "source": [
    " dico"
   ]
  },
  {
   "cell_type": "code",
   "execution_count": 126,
   "metadata": {
    "collapsed": true
   },
   "outputs": [],
   "source": [
    "def sufficient_statistics2( data, dico, x, y, z ):\n",
    "    res = create_contingency_table ( data, dico, x, y, z )\n",
    "    s=0\n",
    "    Z=0\n",
    "    for z in range(len(res)):\n",
    "        Nz = res[z][0]\n",
    "        if Nz != 0:\n",
    "            Z = Z + 1 # valeurs possibles non nulle que peut prendre la variable z\n",
    "                      \n",
    "            #la variable X est representé sur les lignes\n",
    "            #pour virer y de Nxz on somme sur les colonnes \n",
    "            Nyz = np.sum(res[z][1],axis=0)  #somme colonne\n",
    "            #la variable y est representé sur les colonnes\n",
    "            #pour virer x de Nyz on somme sur les lignes\n",
    "            Nxz =  np.sum(res[z][1],axis=1) #somme ligne \n",
    "            \n",
    "            for i in range(len(res[z][1])):\n",
    "                for j in range(len(res[z][1])):\n",
    "                    tmp = (Nxz[i]*Nyz[j]) / Nz # Nxz[i]*Nyz[j] produit terme a terme et non matricielle \n",
    "                    if tmp != 0:\n",
    "                        s = s + ((res[z][1][i][j]-tmp)**2)/tmp\n",
    "\n",
    "    X=len(dico[x]) # valeurs possibles que peut prendre la variable x\n",
    "    Y=len(dico[y]) # valeurs possibles que peut prendre la variable y\n",
    "    DL = (X-1)*(Y-1)*Z\n",
    "    return s,DL"
   ]
  },
  {
   "cell_type": "code",
   "execution_count": 128,
   "metadata": {},
   "outputs": [
    {
     "name": "stdout",
     "output_type": "stream",
     "text": [
      "3.94665911867 2\n",
      "16.3552074624 3\n",
      "81.8074493481 2\n",
      "1897.0 8\n",
      "3.22232377609 4\n",
      "130.0 2\n"
     ]
    }
   ],
   "source": [
    "#teste\n",
    "res,dl = sufficient_statistics2 ( data, dico, 1,2,[3])\n",
    "print(res,dl)\n",
    "res,dl = sufficient_statistics2( data, dico, 0,1,[2,3])\n",
    "print(res,dl)\n",
    "res,dl = sufficient_statistics2 ( data, dico, 1,3,[2])\n",
    "print(res,dl)\n",
    "res,dl = sufficient_statistics2 ( data, dico, 5,2,[1,3,6])\n",
    "print(res,dl)\n",
    "res,dl = sufficient_statistics2 ( data, dico, 0,7,[4,5])\n",
    "print(res,dl)\n",
    "res,dl = sufficient_statistics2 ( data, dico, 2,3,[5])\n",
    "print(res,dl)"
   ]
  },
  {
   "cell_type": "markdown",
   "metadata": {},
   "source": [
    "# 4. Test d'indépendance "
   ]
  },
  {
   "cell_type": "code",
   "execution_count": 139,
   "metadata": {
    "collapsed": true
   },
   "outputs": [],
   "source": [
    "def indep_score(data, dico, x, y, z ):\n",
    "    x,dl =sufficient_statistics2( data, dico, x, y, z )\n",
    "    d_min = 5*dl \n",
    "    if d_min > len(data[0]): #prérequis obligatoire 5*|X|*|Y|*|Z| < Nbr ligne de notre base \n",
    "        return -1,1\n",
    "    return (stats.chi2.sf(x,dl)) \n",
    "# Regle : \n",
    "# si chi2_observé > seuil de risque (alpha) alors x et y sont indep conditionnellement a z\n",
    "# sinon x et y sont depedants\n"
   ]
  },
  {
   "cell_type": "code",
   "execution_count": 142,
   "metadata": {},
   "outputs": [
    {
     "name": "stdout",
     "output_type": "stream",
     "text": [
      "2.38520176938e-19\n",
      "1.12562784979e-10\n",
      "0.000958828236575\n",
      "0.475266197894\n"
     ]
    }
   ],
   "source": [
    "#teste\n",
    "indep = indep_score ( data, dico, 1,3,[])\n",
    "print(indep)\n",
    "indep = indep = indep_score ( data, dico, 1, 7, [])\n",
    "print(indep)\n",
    "indep = indep_score ( data, dico, 0, 1,[2, 3])\n",
    "print(indep)\n",
    "indep = indep_score ( data, dico, 1, 2,[3, 4])\n",
    "print(indep)"
   ]
  },
  {
   "cell_type": "code",
   "execution_count": null,
   "metadata": {
    "collapsed": true
   },
   "outputs": [],
   "source": []
  },
  {
   "cell_type": "code",
   "execution_count": null,
   "metadata": {
    "collapsed": true
   },
   "outputs": [],
   "source": []
  }
 ],
 "metadata": {
  "kernelspec": {
   "display_name": "Python 3",
   "language": "python",
   "name": "python3"
  },
  "language_info": {
   "codemirror_mode": {
    "name": "ipython",
    "version": 3
   },
   "file_extension": ".py",
   "mimetype": "text/x-python",
   "name": "python",
   "nbconvert_exporter": "python",
   "pygments_lexer": "ipython3",
   "version": "3.6.2"
  }
 },
 "nbformat": 4,
 "nbformat_minor": 2
}
