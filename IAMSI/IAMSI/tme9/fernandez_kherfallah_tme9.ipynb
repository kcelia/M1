{
 "cells": [
  {
   "cell_type": "markdown",
   "metadata": {},
   "source": [
    "IAMSI -- 2017-2018\n",
    "--------\n",
    "*&copy;Equipe pédagogique IAMSI'2018*\n",
    "\n",
    "\n",
    "# TME 09 : Règles d'association"
   ]
  },
  {
   "cell_type": "markdown",
   "metadata": {},
   "source": [
    "<font size=\"+1\">**[Q]**</font> **Indiquer dans la boîte ci-dessous vos noms et prénoms :**"
   ]
  },
  {
   "cell_type": "markdown",
   "metadata": {},
   "source": [
    "Kherfallah Celia, Fernandez Stieban"
   ]
  },
  {
   "cell_type": "markdown",
   "metadata": {},
   "source": [
    "## Présentation"
   ]
  },
  {
   "cell_type": "markdown",
   "metadata": {},
   "source": [
    "### But de ce TME\n",
    "\n",
    "Ce TME a pour but de réaliser une implémentation *intuitive* de l'algorithme **apriori** afin de la comparer à une version efficace de cet algorithme, puis à une implémentation de l'algorithme **fp-growth**.\n"
   ]
  },
  {
   "cell_type": "markdown",
   "metadata": {},
   "source": [
    "#### Compte-rendu de la séance\n",
    "\n",
    "Le compte-rendu de ce TME se compose de ce fichier ipython complété par les réponses aux questions posées.\n",
    "\n",
    "Ce compte-rendu est à poster : \n",
    "- à l'issue de la séance, un premier envoi doit être **obligatoirement** fait avec ce que vous avez réalisé\n",
    "- si nécessaire, un second envoi peut être fait **au plus tard avant le début de la prochaine séance**.\n"
   ]
  },
  {
   "cell_type": "markdown",
   "metadata": {},
   "source": [
    "<font color=\"RED\">IMPORTANT: soumission de votre fichier final</font>\n",
    "\n",
    "**Nom à donner au fichier à poster** : *Nom1_Nom2.ipynb* \n",
    "- *Nom1* et *Nom2* : noms des membres du binôme\n",
    "- ne pas compresser ou faire une archive: envoyez le fichier ipython tel quel, éventuellement, si vous avez d'autres fichiers à envoyer, les  joindre au message."
   ]
  },
  {
   "cell_type": "markdown",
   "metadata": {},
   "source": [
    "#### A télécharger\n",
    "\n",
    "Avant de commencer, télécharger l'archive **tme-09.tgz** à l'adresse indiquée.\n",
    "\n",
    "Une fois détarée, cette archive crée un répertoire contenant :\n",
    "- deux fichiers exécutables (Linux): *apriori32* et *fpgrowth32* (ces 2 programmes ont été développés par Christian Borgelt, chercheur au ``European Center of Soft Computing\" , plus d'infos sur sa page web  http://www.borgelt.net/software.html). Ces programmes seront utilisés en fin de séance.\n",
    "- un répertoire *datasets* contenant des bases d'exemples pour tester les algorithmes\n",
    "- ce fichier ipython notebook que vous lisez en ce moment et que vous allez compléter.\n",
    "\n"
   ]
  },
  {
   "cell_type": "markdown",
   "metadata": {},
   "source": [
    "## Traitement d'une base d'apprentissage\n",
    "\n",
    "### Chargement de la base\n",
    "\n",
    "On commence par travailler sur la base exemple du fichier \"*exemple-1.txt*\" (fourni dans le répertoire datasets). \n",
    "\n",
    "Ce fichier contient une transaction par ligne. Chaque transaction est composée d'un groupe d'items séparés par un espace.\n",
    "\n",
    "On peut charger en Python ce fichier par la commande suivante (le répertoire datasets doit se trouver dans le répertoire courant) :"
   ]
  },
  {
   "cell_type": "code",
   "execution_count": 12,
   "metadata": {},
   "outputs": [
    {
     "name": "stdout",
     "output_type": "stream",
     "text": [
      "ligne 1 : ['a', 'b', 'c']\n",
      "ligne 2 : ['a', 'd', 'e']\n",
      "ligne 3 : ['b', 'c', 'd']\n",
      "ligne 4 : ['a', 'b', 'c', 'd']\n",
      "ligne 5 : ['b', 'c']\n",
      "ligne 6 : ['a', 'b', 'd']\n",
      "ligne 7 : ['d', 'e']\n",
      "ligne 8 : ['a', 'b', 'c', 'd']\n",
      "ligne 9 : ['c', 'd', 'e']\n",
      "ligne 10 : ['a', 'b', 'c']\n"
     ]
    }
   ],
   "source": [
    "import csv\n",
    "with open('datasets/exemple-1.txt', 'r') as fichier:\n",
    "    lecteur = csv.reader(fichier, delimiter=' ')\n",
    "    i = 0\n",
    "    for ligne in lecteur:\n",
    "        i += 1\n",
    "        print('ligne',i,':',ligne)"
   ]
  },
  {
   "cell_type": "markdown",
   "metadata": {},
   "source": [
    "<font size=\"+1\">**[Q]**</font> Ecrire la fonction <code>chargeBase</code> qui prend en argument un nom de fichier, respectant le format énoncé plus haut, le lit et rend un dictionnaire dont les clés sont les numéros de ligne (une transaction) et les valeurs associées les itemsets correspondants représentés sous forme d'ensembles Python (des <code>set()</code> donc).\n",
    "\n",
    "Ici, il est plus intéressant de représenter un itemset comme un ensemble d'items plutôt que comme une liste. Il sera ainsi plus facile de réaliser des comparaisons d'ensembles ou des ajouts d'éléments.\n",
    "\n",
    "Dans le reste de ce document, on appelle **BASE** un dictionnaire de ce type."
   ]
  },
  {
   "cell_type": "code",
   "execution_count": 13,
   "metadata": {},
   "outputs": [],
   "source": [
    "def chargeBase(filename, sep=' '):\n",
    "    \"\"\" str -> BASE\n",
    "        Retourne un dictionnaire représentant une BASE à partir d'un fichier\n",
    "    \"\"\"\n",
    "    with open(filename, 'r') as fichier:\n",
    "        lecteur = csv.reader(fichier, delimiter=sep)\n",
    "        BASE = {}\n",
    "        for i, ligne in enumerate(lecteur):\n",
    "            BASE[i+1] = set(ligne)\n",
    "    return BASE"
   ]
  },
  {
   "cell_type": "code",
   "execution_count": 14,
   "metadata": {},
   "outputs": [
    {
     "name": "stdout",
     "output_type": "stream",
     "text": [
      "Résultat du chargement de 'exemple-1.txt', on obtient : \n"
     ]
    },
    {
     "data": {
      "text/plain": [
       "{1: {'a', 'b', 'c'},\n",
       " 2: {'a', 'd', 'e'},\n",
       " 3: {'b', 'c', 'd'},\n",
       " 4: {'a', 'b', 'c', 'd'},\n",
       " 5: {'b', 'c'},\n",
       " 6: {'a', 'b', 'd'},\n",
       " 7: {'d', 'e'},\n",
       " 8: {'a', 'b', 'c', 'd'},\n",
       " 9: {'c', 'd', 'e'},\n",
       " 10: {'a', 'b', 'c'}}"
      ]
     },
     "execution_count": 14,
     "metadata": {},
     "output_type": "execute_result"
    }
   ],
   "source": [
    "print(\"Résultat du chargement de 'exemple-1.txt', on obtient : \")\n",
    "Base1 = chargeBase('datasets/exemple-1.txt')\n",
    "Base1"
   ]
  },
  {
   "cell_type": "markdown",
   "metadata": {},
   "source": [
    "On utilise la variable **Base1** dans la suite pour faire référence à cette base."
   ]
  },
  {
   "cell_type": "markdown",
   "metadata": {},
   "source": [
    "## Itemsets et support"
   ]
  },
  {
   "cell_type": "markdown",
   "metadata": {},
   "source": [
    "<font size=\"+1\">**[Q]**</font> Ecrire la fonction <code>noms_items</code> qui prend en argument une BASE et rend l'ensemble des items qui composent cette base."
   ]
  },
  {
   "cell_type": "code",
   "execution_count": 15,
   "metadata": {},
   "outputs": [],
   "source": [
    "def noms_items(BASE):\n",
    "    \"\"\" BASE -> set(str) \n",
    "        Retourne l'ensemble des items qui correspondent à BASE \n",
    "    \"\"\"\n",
    "    return set.union(*BASE.values())"
   ]
  },
  {
   "cell_type": "code",
   "execution_count": 16,
   "metadata": {},
   "outputs": [
    {
     "name": "stdout",
     "output_type": "stream",
     "text": [
      "Pour la BASE précédente :\n"
     ]
    },
    {
     "data": {
      "text/plain": [
       "{'a', 'b', 'c', 'd', 'e'}"
      ]
     },
     "execution_count": 16,
     "metadata": {},
     "output_type": "execute_result"
    }
   ],
   "source": [
    "print(\"Pour la BASE précédente :\")\n",
    "noms_items(Base1)"
   ]
  },
  {
   "cell_type": "markdown",
   "metadata": {},
   "source": [
    "<font size=\"+1\">**[Q]**</font> Ecrire la fonction <code>singletons</code> qui prend en argument une BASE et rend la liste des itemsets de taille 1 obtenus à partir de cette base.\n",
    "\n",
    "Remarque: attention, ici on utilise une **liste** pour stocker les itemsets (un itemset est un ensemble Python) car il n'est pas possible en Python de créer des ensembles d'ensembles.\n"
   ]
  },
  {
   "cell_type": "code",
   "execution_count": 21,
   "metadata": {},
   "outputs": [],
   "source": [
    "def singletons(BASE):\n",
    "    \"\"\" BASE -> list(set)\n",
    "        Retourne une liste d'itemsets de taille 1\n",
    "    \"\"\"\n",
    "    return list(map(lambda x: {x}, noms_items(BASE)))"
   ]
  },
  {
   "cell_type": "code",
   "execution_count": 42,
   "metadata": {},
   "outputs": [
    {
     "name": "stdout",
     "output_type": "stream",
     "text": [
      "Exemple: singletons(Base1) rend :\n"
     ]
    },
    {
     "data": {
      "text/plain": [
       "[{'b'}, {'d'}, {'e'}, {'a'}, {'c'}]"
      ]
     },
     "execution_count": 42,
     "metadata": {},
     "output_type": "execute_result"
    }
   ],
   "source": [
    "print(\"Exemple: singletons(Base1) rend :\")\n",
    "singletons(Base1)"
   ]
  },
  {
   "cell_type": "markdown",
   "metadata": {},
   "source": [
    "<font size=\"+1\">**[Q]**</font> Ecrire la fonction <code>comptage</code> qui, pour une BASE et un itemset donnés, rend le nombre de transactions de BASE qui contiennent cet itemset."
   ]
  },
  {
   "cell_type": "code",
   "execution_count": 45,
   "metadata": {},
   "outputs": [],
   "source": [
    "def comptage(BASE, itemset):\n",
    "    \"\"\" BASE * itemset -> int \n",
    "        Rend le nombre de transactions de BASE qui contiennent itemset\n",
    "    \"\"\"\n",
    "    return len(list(filter(lambda x: itemset.issubset(x), BASE.values())))"
   ]
  },
  {
   "cell_type": "code",
   "execution_count": 46,
   "metadata": {},
   "outputs": [
    {
     "name": "stdout",
     "output_type": "stream",
     "text": [
      "Comptage de l'itemset {'a','b','c'} dans la base précédente : \n",
      "comptage(Base1,{'a','b','c'}) rend la valeur 4\n"
     ]
    }
   ],
   "source": [
    "print(\"Comptage de l'itemset {'a','b','c'} dans la base précédente : \")\n",
    "print(\"comptage(Base1,{'a','b','c'}) rend la valeur \"+str(comptage(Base1,{'a','b','c'})))"
   ]
  },
  {
   "cell_type": "markdown",
   "metadata": {},
   "source": [
    "<font size=\"+1\">**[Q]**</font> Ecrire la fonction <code>support</code> qui, pour une BASE et un itemset donnés, rend le support de cet itemset dans la BASE."
   ]
  },
  {
   "cell_type": "code",
   "execution_count": 47,
   "metadata": {},
   "outputs": [],
   "source": [
    "def support(BASE, itemset):\n",
    "    \"\"\" BASE * itemset -> float \n",
    "        Retourne le support de itemset dans BASE\n",
    "    \"\"\"\n",
    "    return comptage(BASE, itemset)*1./len(BASE)"
   ]
  },
  {
   "cell_type": "code",
   "execution_count": 48,
   "metadata": {},
   "outputs": [
    {
     "name": "stdout",
     "output_type": "stream",
     "text": [
      "Support de l'itemset {'a','b','c'} dans la base précédente : 0.4\n"
     ]
    }
   ],
   "source": [
    "print(\"Support de l'itemset {'a','b','c'} dans la base précédente : \"+str(support(Base1,{'a','b','c'})))"
   ]
  },
  {
   "cell_type": "markdown",
   "metadata": {},
   "source": [
    "## Implémentation de l'algorithme a-priori\n",
    "\n",
    "Dans cette partie, une implémentation de la partie de construction des itemsets fréquents de l'algorithme a-priori est réalisée. On ne s'intéresse pas dans cette question à la génération des règles d'association (mais cela peut être fait en complément).\n",
    "\n",
    "Votre programme doit pouvoir s'appliquer aux bases fournies dans le répertoire *datasets* (éventuellement, sur au moins les 10 premiers exemples de la base mushrooms)."
   ]
  },
  {
   "cell_type": "markdown",
   "metadata": {},
   "source": [
    "<font size=\"+1\">**[Q]**</font> Ecrire la fonction <code>apriori_gen</code> qui prend en argument une liste d'itemsets de même longueur $k$, applique l'algorithme apriori-gen pour rendre la liste des itemsets candidats de longueurs $k+1$.\n"
   ]
  },
  {
   "cell_type": "code",
   "execution_count": 51,
   "metadata": {},
   "outputs": [],
   "source": [
    "import itertools as it\n",
    "\n",
    "def filtreCandidat(candidat, itemsets):\n",
    "    \"\"\" set * list(itemset) -> bool\n",
    "        Retourne True si tous les subsets de candidat de taille k se retrouvent dans itemsets\n",
    "        sinon False\n",
    "    \"\"\"\n",
    "    tmp = it.combinations(candidat, len(itemsets[0]))\n",
    "    for dc in tmp:\n",
    "        if set(dc) not in itemsets:\n",
    "            return False\n",
    "    return True\n",
    "\n",
    "def apriori_gen(itemsets):\n",
    "    \"\"\" list(itemset) -> list(itemset)\n",
    "        Retourne la liste des itemsets candidats de longueur k+1 a partir de itemsets\n",
    "    \"\"\"\n",
    "    if not itemsets:\n",
    "        return []\n",
    "    k = len(itemsets[0])\n",
    "    C = it.combinations(itemsets, k+1)\n",
    "    C = map(lambda x: set.union(*x), C)\n",
    "    C = list(filter(lambda x: (len(x) == k+1) and filtreCandidat(x, itemsets), C))\n",
    "    return C\n",
    "    "
   ]
  },
  {
   "cell_type": "code",
   "execution_count": 52,
   "metadata": {},
   "outputs": [
    {
     "name": "stdout",
     "output_type": "stream",
     "text": [
      "Exemple: apriori_gen([{'a'}, {'b'}, {'c'}, {'d'}]) rend \n",
      "[{'b', 'a'}, {'c', 'a'}, {'d', 'a'}, {'b', 'c'}, {'b', 'd'}, {'d', 'c'}]\n",
      "\n",
      "Exemple: apriori_gen([{'a', 'b'}, {'a', 'd'}, {'b', 'd'}, {'b', 'c'}, {'c', 'd'}]) rend \n",
      "[{'b', 'd', 'a'}, {'b', 'd', 'c'}]\n"
     ]
    }
   ],
   "source": [
    "########## TEST ##########\n",
    "print(\"Exemple: apriori_gen([{'a'}, {'b'}, {'c'}, {'d'}]) rend \")\n",
    "print(apriori_gen([{'a'}, {'b'}, {'c'}, {'d'}]))\n",
    "\n",
    "print(\"\\nExemple: apriori_gen([{'a', 'b'}, {'a', 'd'}, {'b', 'd'}, {'b', 'c'}, {'c', 'd'}]) rend \")\n",
    "print(apriori_gen([{'a', 'b'}, {'a', 'd'}, {'b', 'd'}, {'b', 'c'}, {'c', 'd'}]))"
   ]
  },
  {
   "cell_type": "code",
   "execution_count": 53,
   "metadata": {},
   "outputs": [
    {
     "name": "stdout",
     "output_type": "stream",
     "text": [
      "Exemple: apriori_gen([{'a'}, {'b'}, {'c'}, {'d'}]) rend \n",
      "[{'b', 'a'}, {'c', 'a'}, {'d', 'a'}, {'b', 'c'}, {'b', 'd'}, {'d', 'c'}]\n",
      "\n",
      "Exemple: apriori_gen([{'a', 'b'}, {'a', 'd'}, {'b', 'd'}, {'b', 'c'}, {'c', 'd'}]) rend \n",
      "[{'b', 'd', 'a'}, {'b', 'd', 'c'}]\n"
     ]
    }
   ],
   "source": [
    "print(\"Exemple: apriori_gen([{'a'}, {'b'}, {'c'}, {'d'}]) rend \")\n",
    "print(apriori_gen([{'a'}, {'b'}, {'c'}, {'d'}]))\n",
    "\n",
    "print(\"\\nExemple: apriori_gen([{'a', 'b'}, {'a', 'd'}, {'b', 'd'}, {'b', 'c'}, {'c', 'd'}]) rend \")\n",
    "print(apriori_gen([{'a', 'b'}, {'a', 'd'}, {'b', 'd'}, {'b', 'c'}, {'c', 'd'}]))"
   ]
  },
  {
   "cell_type": "markdown",
   "metadata": {},
   "source": [
    "<font size=\"+1\">**[Q]**</font> Ecrire la fonction <code>apriori</code> qui prend en argument une BASE et une valeur réelle comprise entre 0 et 1, et qui rend une liste de tuples dont le premier élément est un itemset trouvé et le deuxième élément est la valeur de support correspondante."
   ]
  },
  {
   "cell_type": "code",
   "execution_count": 54,
   "metadata": {},
   "outputs": [],
   "source": [
    "def apriori(BASE, minsup):\n",
    "    \"\"\" BASE * float -> list(tuple)\n",
    "        Retourne une liste de tuples dont le premier element est un itemset trouve\n",
    "        et le deuxieme element est la valeur de support correspondante\n",
    "    \"\"\"\n",
    "    res = []\n",
    "    C = singletons(BASE)\n",
    "    while C:\n",
    "        F = []\n",
    "        for c in C:\n",
    "            s = support(BASE, c)\n",
    "            if s >= minsup:\n",
    "                F.append(c)\n",
    "                res.append((c, s))\n",
    "        C = apriori_gen(F)\n",
    "    return res"
   ]
  },
  {
   "cell_type": "code",
   "execution_count": 55,
   "metadata": {},
   "outputs": [
    {
     "name": "stdout",
     "output_type": "stream",
     "text": [
      "Exemple: apriori(Base1, 0.3]) rend \n",
      "[({'b'}, 0.7), ({'d'}, 0.7), ({'c'}, 0.7)]\n"
     ]
    }
   ],
   "source": [
    "########## TEST ##########\n",
    "print(\"Exemple: apriori(Base1, 0.3]) rend \")\n",
    "print(apriori(Base1,0.7))"
   ]
  },
  {
   "cell_type": "code",
   "execution_count": 58,
   "metadata": {},
   "outputs": [
    {
     "name": "stdout",
     "output_type": "stream",
     "text": [
      "Exemple: apriori(Base1, 0.3]) rend \n",
      "[({'b'}, 0.7), ({'d'}, 0.7), ({'e'}, 0.3), ({'a'}, 0.6), ({'c'}, 0.7), ({'b', 'd'}, 0.4), ({'b', 'a'}, 0.5), ({'b', 'c'}, 0.6), ({'d', 'e'}, 0.3), ({'d', 'a'}, 0.4), ({'d', 'c'}, 0.4), ({'c', 'a'}, 0.4), ({'b', 'd', 'a'}, 0.3), ({'b', 'd', 'c'}, 0.3), ({'b', 'a', 'c'}, 0.4)]\n"
     ]
    }
   ],
   "source": [
    "print(\"Exemple: apriori(Base1, 0.3]) rend \")\n",
    "print(apriori(Base1,0.3))"
   ]
  },
  {
   "cell_type": "markdown",
   "metadata": {},
   "source": [
    "## Expérimentations"
   ]
  },
  {
   "cell_type": "markdown",
   "metadata": {},
   "source": [
    "### Vérification avec la base du TD\n",
    "\n",
    "Utilisez votre fonction <code>apriori</code> avec la base de transactions du TD afin de vérifier que vous obtenez les bons itemsets fréquents."
   ]
  },
  {
   "cell_type": "code",
   "execution_count": 69,
   "metadata": {},
   "outputs": [
    {
     "name": "stdout",
     "output_type": "stream",
     "text": [
      "Exemple: apriori(BaseTD, 0.7) rend \n",
      "[({'b'}, 0.7), ({'d'}, 0.9)]\n"
     ]
    }
   ],
   "source": [
    "from pprint import pprint\n",
    "########## TEST ##########\n",
    "BaseTD = chargeBase(\"datasets/TD.txt\")\n",
    "print(\"Exemple: apriori(BaseTD, 0.7) rend \")\n",
    "pprint(apriori(BaseTD,0.7))"
   ]
  },
  {
   "cell_type": "code",
   "execution_count": 71,
   "metadata": {},
   "outputs": [
    {
     "name": "stdout",
     "output_type": "stream",
     "text": [
      "Exemple: apriori(BaseTD, 0.3) rend \n",
      "[({'b'}, 0.7),\n",
      " ({'d'}, 0.9),\n",
      " ({'c'}, 0.5),\n",
      " ({'a'}, 0.5),\n",
      " ({'e'}, 0.6),\n",
      " ({'b', 'd'}, 0.6),\n",
      " ({'b', 'c'}, 0.3),\n",
      " ({'b', 'a'}, 0.3),\n",
      " ({'b', 'e'}, 0.4),\n",
      " ({'d', 'c'}, 0.4),\n",
      " ({'d', 'a'}, 0.4),\n",
      " ({'d', 'e'}, 0.6),\n",
      " ({'e', 'a'}, 0.4),\n",
      " ({'b', 'd', 'e'}, 0.4),\n",
      " ({'d', 'a', 'e'}, 0.4)]\n"
     ]
    }
   ],
   "source": [
    "print(\"Exemple: apriori(BaseTD, 0.3) rend \")\n",
    "pprint(apriori(BaseTD,0.3))"
   ]
  },
  {
   "cell_type": "markdown",
   "metadata": {},
   "source": [
    "### Comparaisons avec les implémentations apriori32 et fpgrowth"
   ]
  },
  {
   "cell_type": "markdown",
   "metadata": {},
   "source": [
    "<font size=\"+1\">**[Q]**</font> Tester votre programme sur les 3 bases données dans datasets et confronter vos résultats avec le programme *apriori32*."
   ]
  },
  {
   "cell_type": "code",
   "execution_count": 70,
   "metadata": {},
   "outputs": [],
   "source": [
    "import os\n",
    "BaseM = chargeBase(\"datasets/mushrooms.txt\", sep=',')\n",
    "BaseT = chargeBase(\"datasets/titanic-red.csv\", sep=',')"
   ]
  },
  {
   "cell_type": "markdown",
   "metadata": {},
   "source": [
    "- Base exemple-1"
   ]
  },
  {
   "cell_type": "code",
   "execution_count": 72,
   "metadata": {},
   "outputs": [
    {
     "name": "stdout",
     "output_type": "stream",
     "text": [
      "Exemple: apriori(Base exemple-1, 0.5) rend \n",
      "[({'b'}, 0.7),\n",
      " ({'d'}, 0.7),\n",
      " ({'a'}, 0.6),\n",
      " ({'c'}, 0.7),\n",
      " ({'b', 'a'}, 0.5),\n",
      " ({'b', 'c'}, 0.6)]\n"
     ]
    }
   ],
   "source": [
    "print(\"Exemple: apriori(Base exemple-1, 0.5) rend \")\n",
    "pprint(apriori(Base1,0.5))"
   ]
  },
  {
   "cell_type": "code",
   "execution_count": 82,
   "metadata": {},
   "outputs": [
    {
     "name": "stdout",
     "output_type": "stream",
     "text": [
      "a (60)\n",
      "a b (50)\n",
      "b (70)\n",
      "b c (60)\n",
      "c (70)\n",
      "d (70)\n",
      "\n"
     ]
    }
   ],
   "source": [
    "os.system(\"./apriori32 -s50 datasets/exemple-1.txt res.txt\")\n",
    "print(open(\"res.txt\", \"r\").read())"
   ]
  },
  {
   "cell_type": "markdown",
   "metadata": {},
   "source": [
    "Les résultats sont identiques, notre programme semble fonctionner. Il ne semble pas vraiment y avoir de différence entre les temps d'exécution pour le moment."
   ]
  },
  {
   "cell_type": "markdown",
   "metadata": {},
   "source": [
    "- Base TD"
   ]
  },
  {
   "cell_type": "code",
   "execution_count": 73,
   "metadata": {},
   "outputs": [
    {
     "name": "stdout",
     "output_type": "stream",
     "text": [
      "Exemple: apriori(Base TD, 0.6) rend \n",
      "[({'b'}, 0.7), ({'d'}, 0.9), ({'e'}, 0.6), ({'b', 'd'}, 0.6), ({'d', 'e'}, 0.6)]\n"
     ]
    }
   ],
   "source": [
    "print(\"Exemple: apriori(Base TD, 0.6) rend \")\n",
    "pprint(apriori(BaseTD,0.6))"
   ]
  },
  {
   "cell_type": "code",
   "execution_count": 89,
   "metadata": {},
   "outputs": [
    {
     "name": "stdout",
     "output_type": "stream",
     "text": [
      "e d (60)\n",
      "e (60)\n",
      "b (70)\n",
      "b d (60)\n",
      "d (90)\n",
      "\n"
     ]
    }
   ],
   "source": [
    "os.system(\"./apriori32 -s60 datasets/TD.txt res.txt\")\n",
    "print(open(\"res.txt\", \"r\").read())"
   ]
  },
  {
   "cell_type": "markdown",
   "metadata": {},
   "source": [
    "Encore une fois, résultats similaires mais pas de différence au niveau du temps d'exécution."
   ]
  },
  {
   "cell_type": "markdown",
   "metadata": {},
   "source": [
    "- Base Mushrooms"
   ]
  },
  {
   "cell_type": "code",
   "execution_count": 75,
   "metadata": {
    "scrolled": true
   },
   "outputs": [
    {
     "name": "stdout",
     "output_type": "stream",
     "text": [
      "Exemple: apriori(Base Mushrooms, 0.5) rend \n",
      "[({'TAPERING'}, 0.5779467680608364),\n",
      " ({'FREE'}, 0.9743346007604563),\n",
      " ({'PARTIAL'}, 1.0),\n",
      " ({'BROWN'}, 0.5881653992395437),\n",
      " ({'SMOOTH'}, 0.7873098859315589),\n",
      " ({'NO'}, 0.5988593155893536),\n",
      " ({'CLOSE'}, 0.8108365019011406),\n",
      " ({'EDIBLE'}, 0.5332699619771863),\n",
      " ({'ONE'}, 0.9230038022813688),\n",
      " ({'WHITE'}, 0.9771863117870723),\n",
      " ({'BROAD'}, 0.6986692015209125),\n",
      " ({'FREE', 'TAPERING'}, 0.5779467680608364),\n",
      " ({'PARTIAL', 'TAPERING'}, 0.5779467680608364),\n",
      " ({'SMOOTH', 'TAPERING'}, 0.5370722433460076),\n",
      " ({'ONE', 'TAPERING'}, 0.5779467680608364),\n",
      " ({'WHITE', 'TAPERING'}, 0.5779467680608364),\n",
      " ({'PARTIAL', 'FREE'}, 0.9743346007604563),\n",
      " ({'FREE', 'BROWN'}, 0.563925855513308),\n",
      " ({'SMOOTH', 'FREE'}, 0.7644961977186312),\n",
      " ({'NO', 'FREE'}, 0.5731939163498099),\n",
      " ({'FREE', 'CLOSE'}, 0.785171102661597),\n",
      " ({'EDIBLE', 'FREE'}, 0.5104562737642585),\n",
      " ({'FREE', 'ONE'}, 0.9001901140684411),\n",
      " ({'FREE', 'WHITE'}, 0.9743346007604563),\n",
      " ({'FREE', 'BROAD'}, 0.6730038022813688),\n",
      " ({'PARTIAL', 'BROWN'}, 0.5881653992395437),\n",
      " ({'PARTIAL', 'SMOOTH'}, 0.7873098859315589),\n",
      " ({'PARTIAL', 'NO'}, 0.5988593155893536),\n",
      " ({'PARTIAL', 'CLOSE'}, 0.8108365019011406),\n",
      " ({'PARTIAL', 'EDIBLE'}, 0.5332699619771863),\n",
      " ({'PARTIAL', 'ONE'}, 0.9230038022813688),\n",
      " ({'PARTIAL', 'WHITE'}, 0.9771863117870723),\n",
      " ({'PARTIAL', 'BROAD'}, 0.6986692015209125),\n",
      " ({'ONE', 'BROWN'}, 0.5767585551330798),\n",
      " ({'WHITE', 'BROWN'}, 0.565351711026616),\n",
      " ({'SMOOTH', 'CLOSE'}, 0.620722433460076),\n",
      " ({'SMOOTH', 'EDIBLE'}, 0.5106939163498099),\n",
      " ({'SMOOTH', 'ONE'}, 0.721245247148289),\n",
      " ({'SMOOTH', 'WHITE'}, 0.7644961977186312),\n",
      " ({'SMOOTH', 'BROAD'}, 0.5185361216730038),\n",
      " ({'NO', 'ONE'}, 0.5570342205323194),\n",
      " ({'NO', 'WHITE'}, 0.5760456273764258),\n",
      " ({'ONE', 'CLOSE'}, 0.7680608365019012),\n",
      " ({'WHITE', 'CLOSE'}, 0.7880228136882129),\n",
      " ({'BROAD', 'CLOSE'}, 0.5427756653992395),\n",
      " ({'EDIBLE', 'WHITE'}, 0.5104562737642585),\n",
      " ({'WHITE', 'ONE'}, 0.9001901140684411),\n",
      " ({'BROAD', 'ONE'}, 0.6216730038022814),\n",
      " ({'BROAD', 'WHITE'}, 0.6758555133079848),\n",
      " ({'PARTIAL', 'FREE', 'TAPERING'}, 0.5779467680608364),\n",
      " ({'SMOOTH', 'FREE', 'TAPERING'}, 0.5370722433460076),\n",
      " ({'ONE', 'FREE', 'TAPERING'}, 0.5779467680608364),\n",
      " ({'FREE', 'WHITE', 'TAPERING'}, 0.5779467680608364),\n",
      " ({'PARTIAL', 'SMOOTH', 'TAPERING'}, 0.5370722433460076),\n",
      " ({'PARTIAL', 'ONE', 'TAPERING'}, 0.5779467680608364),\n",
      " ({'PARTIAL', 'WHITE', 'TAPERING'}, 0.5779467680608364),\n",
      " ({'ONE', 'SMOOTH', 'TAPERING'}, 0.5370722433460076),\n",
      " ({'SMOOTH', 'WHITE', 'TAPERING'}, 0.5370722433460076),\n",
      " ({'ONE', 'WHITE', 'TAPERING'}, 0.5779467680608364),\n",
      " ({'PARTIAL', 'FREE', 'BROWN'}, 0.563925855513308),\n",
      " ({'PARTIAL', 'SMOOTH', 'FREE'}, 0.7644961977186312),\n",
      " ({'PARTIAL', 'NO', 'FREE'}, 0.5731939163498099),\n",
      " ({'PARTIAL', 'CLOSE', 'FREE'}, 0.785171102661597),\n",
      " ({'PARTIAL', 'EDIBLE', 'FREE'}, 0.5104562737642585),\n",
      " ({'PARTIAL', 'ONE', 'FREE'}, 0.9001901140684411),\n",
      " ({'PARTIAL', 'FREE', 'WHITE'}, 0.9743346007604563),\n",
      " ({'PARTIAL', 'BROAD', 'FREE'}, 0.6730038022813688),\n",
      " ({'ONE', 'FREE', 'BROWN'}, 0.5539448669201521),\n",
      " ({'FREE', 'WHITE', 'BROWN'}, 0.563925855513308),\n",
      " ({'CLOSE', 'SMOOTH', 'FREE'}, 0.5979087452471483),\n",
      " ({'ONE', 'SMOOTH', 'FREE'}, 0.6984315589353612),\n",
      " ({'SMOOTH', 'FREE', 'WHITE'}, 0.7644961977186312),\n",
      " ({'ONE', 'NO', 'FREE'}, 0.5342205323193916),\n",
      " ({'NO', 'FREE', 'WHITE'}, 0.5731939163498099),\n",
      " ({'ONE', 'CLOSE', 'FREE'}, 0.7452471482889734),\n",
      " ({'CLOSE', 'FREE', 'WHITE'}, 0.785171102661597),\n",
      " ({'BROAD', 'CLOSE', 'FREE'}, 0.5171102661596958),\n",
      " ({'EDIBLE', 'FREE', 'WHITE'}, 0.5104562737642585),\n",
      " ({'ONE', 'FREE', 'WHITE'}, 0.9001901140684411),\n",
      " ({'BROAD', 'ONE', 'FREE'}, 0.5988593155893536),\n",
      " ({'BROAD', 'FREE', 'WHITE'}, 0.6730038022813688),\n",
      " ({'PARTIAL', 'ONE', 'BROWN'}, 0.5767585551330798),\n",
      " ({'PARTIAL', 'WHITE', 'BROWN'}, 0.565351711026616),\n",
      " ({'PARTIAL', 'CLOSE', 'SMOOTH'}, 0.620722433460076),\n",
      " ({'PARTIAL', 'EDIBLE', 'SMOOTH'}, 0.5106939163498099),\n",
      " ({'PARTIAL', 'ONE', 'SMOOTH'}, 0.721245247148289),\n",
      " ({'PARTIAL', 'SMOOTH', 'WHITE'}, 0.7644961977186312),\n",
      " ({'PARTIAL', 'BROAD', 'SMOOTH'}, 0.5185361216730038),\n",
      " ({'PARTIAL', 'ONE', 'NO'}, 0.5570342205323194),\n",
      " ({'PARTIAL', 'NO', 'WHITE'}, 0.5760456273764258),\n",
      " ({'PARTIAL', 'ONE', 'CLOSE'}, 0.7680608365019012),\n",
      " ({'PARTIAL', 'CLOSE', 'WHITE'}, 0.7880228136882129),\n",
      " ({'PARTIAL', 'BROAD', 'CLOSE'}, 0.5427756653992395),\n",
      " ({'PARTIAL', 'EDIBLE', 'WHITE'}, 0.5104562737642585),\n",
      " ({'PARTIAL', 'ONE', 'WHITE'}, 0.9001901140684411),\n",
      " ({'PARTIAL', 'BROAD', 'ONE'}, 0.6216730038022814),\n",
      " ({'PARTIAL', 'BROAD', 'WHITE'}, 0.6758555133079848),\n",
      " ({'ONE', 'WHITE', 'BROWN'}, 0.5539448669201521),\n",
      " ({'ONE', 'CLOSE', 'SMOOTH'}, 0.5846007604562737),\n",
      " ({'CLOSE', 'SMOOTH', 'WHITE'}, 0.5979087452471483),\n",
      " ({'ONE', 'SMOOTH', 'WHITE'}, 0.6984315589353612),\n",
      " ({'ONE', 'NO', 'WHITE'}, 0.5342205323193916),\n",
      " ({'ONE', 'CLOSE', 'WHITE'}, 0.7452471482889734),\n",
      " ({'BROAD', 'ONE', 'CLOSE'}, 0.5),\n",
      " ({'BROAD', 'CLOSE', 'WHITE'}, 0.5199619771863118),\n",
      " ({'BROAD', 'ONE', 'WHITE'}, 0.5988593155893536),\n",
      " ({'PARTIAL', 'SMOOTH', 'FREE', 'TAPERING'}, 0.5370722433460076),\n",
      " ({'PARTIAL', 'ONE', 'FREE', 'TAPERING'}, 0.5779467680608364),\n",
      " ({'PARTIAL', 'FREE', 'WHITE', 'TAPERING'}, 0.5779467680608364),\n",
      " ({'ONE', 'SMOOTH', 'FREE', 'TAPERING'}, 0.5370722433460076),\n",
      " ({'SMOOTH', 'FREE', 'WHITE', 'TAPERING'}, 0.5370722433460076),\n",
      " ({'ONE', 'FREE', 'WHITE', 'TAPERING'}, 0.5779467680608364),\n",
      " ({'PARTIAL', 'ONE', 'SMOOTH', 'TAPERING'}, 0.5370722433460076),\n",
      " ({'PARTIAL', 'SMOOTH', 'WHITE', 'TAPERING'}, 0.5370722433460076),\n",
      " ({'PARTIAL', 'ONE', 'WHITE', 'TAPERING'}, 0.5779467680608364),\n",
      " ({'ONE', 'SMOOTH', 'WHITE', 'TAPERING'}, 0.5370722433460076),\n",
      " ({'PARTIAL', 'ONE', 'FREE', 'BROWN'}, 0.5539448669201521),\n",
      " ({'PARTIAL', 'FREE', 'WHITE', 'BROWN'}, 0.563925855513308),\n",
      " ({'PARTIAL', 'CLOSE', 'SMOOTH', 'FREE'}, 0.5979087452471483),\n",
      " ({'PARTIAL', 'ONE', 'SMOOTH', 'FREE'}, 0.6984315589353612),\n",
      " ({'PARTIAL', 'SMOOTH', 'FREE', 'WHITE'}, 0.7644961977186312),\n",
      " ({'PARTIAL', 'ONE', 'NO', 'FREE'}, 0.5342205323193916),\n",
      " ({'PARTIAL', 'NO', 'FREE', 'WHITE'}, 0.5731939163498099),\n",
      " ({'PARTIAL', 'CLOSE', 'ONE', 'FREE'}, 0.7452471482889734),\n",
      " ({'PARTIAL', 'CLOSE', 'FREE', 'WHITE'}, 0.785171102661597),\n",
      " ({'PARTIAL', 'BROAD', 'CLOSE', 'FREE'}, 0.5171102661596958),\n",
      " ({'PARTIAL', 'EDIBLE', 'FREE', 'WHITE'}, 0.5104562737642585),\n",
      " ({'PARTIAL', 'ONE', 'FREE', 'WHITE'}, 0.9001901140684411),\n",
      " ({'PARTIAL', 'BROAD', 'ONE', 'FREE'}, 0.5988593155893536),\n",
      " ({'PARTIAL', 'BROAD', 'FREE', 'WHITE'}, 0.6730038022813688),\n",
      " ({'ONE', 'FREE', 'WHITE', 'BROWN'}, 0.5539448669201521),\n",
      " ({'CLOSE', 'ONE', 'SMOOTH', 'FREE'}, 0.561787072243346),\n",
      " ({'CLOSE', 'SMOOTH', 'FREE', 'WHITE'}, 0.5979087452471483),\n",
      " ({'ONE', 'SMOOTH', 'FREE', 'WHITE'}, 0.6984315589353612),\n",
      " ({'ONE', 'NO', 'FREE', 'WHITE'}, 0.5342205323193916),\n",
      " ({'CLOSE', 'ONE', 'FREE', 'WHITE'}, 0.7452471482889734),\n",
      " ({'BROAD', 'CLOSE', 'FREE', 'WHITE'}, 0.5171102661596958),\n",
      " ({'BROAD', 'ONE', 'FREE', 'WHITE'}, 0.5988593155893536),\n",
      " ({'PARTIAL', 'ONE', 'WHITE', 'BROWN'}, 0.5539448669201521),\n",
      " ({'PARTIAL', 'CLOSE', 'ONE', 'SMOOTH'}, 0.5846007604562737),\n",
      " ({'PARTIAL', 'CLOSE', 'SMOOTH', 'WHITE'}, 0.5979087452471483),\n",
      " ({'PARTIAL', 'ONE', 'SMOOTH', 'WHITE'}, 0.6984315589353612),\n",
      " ({'PARTIAL', 'ONE', 'NO', 'WHITE'}, 0.5342205323193916),\n",
      " ({'PARTIAL', 'CLOSE', 'ONE', 'WHITE'}, 0.7452471482889734),\n",
      " ({'PARTIAL', 'BROAD', 'CLOSE', 'ONE'}, 0.5),\n",
      " ({'PARTIAL', 'BROAD', 'CLOSE', 'WHITE'}, 0.5199619771863118),\n",
      " ({'PARTIAL', 'BROAD', 'ONE', 'WHITE'}, 0.5988593155893536),\n",
      " ({'CLOSE', 'ONE', 'SMOOTH', 'WHITE'}, 0.561787072243346),\n",
      " ({'SMOOTH', 'FREE', 'PARTIAL', 'ONE', 'TAPERING'}, 0.5370722433460076),\n",
      " ({'SMOOTH', 'FREE', 'WHITE', 'PARTIAL', 'TAPERING'}, 0.5370722433460076),\n",
      " ({'FREE', 'WHITE', 'PARTIAL', 'ONE', 'TAPERING'}, 0.5779467680608364),\n",
      " ({'SMOOTH', 'FREE', 'WHITE', 'ONE', 'TAPERING'}, 0.5370722433460076),\n",
      " ({'SMOOTH', 'WHITE', 'PARTIAL', 'ONE', 'TAPERING'}, 0.5370722433460076),\n",
      " ({'FREE', 'WHITE', 'PARTIAL', 'ONE', 'BROWN'}, 0.5539448669201521),\n",
      " ({'CLOSE', 'SMOOTH', 'FREE', 'PARTIAL', 'ONE'}, 0.561787072243346),\n",
      " ({'CLOSE', 'SMOOTH', 'FREE', 'WHITE', 'PARTIAL'}, 0.5979087452471483),\n",
      " ({'SMOOTH', 'FREE', 'WHITE', 'PARTIAL', 'ONE'}, 0.6984315589353612),\n",
      " ({'FREE', 'WHITE', 'PARTIAL', 'ONE', 'NO'}, 0.5342205323193916),\n",
      " ({'CLOSE', 'FREE', 'WHITE', 'PARTIAL', 'ONE'}, 0.7452471482889734),\n",
      " ({'CLOSE', 'FREE', 'WHITE', 'PARTIAL', 'BROAD'}, 0.5171102661596958),\n",
      " ({'FREE', 'WHITE', 'PARTIAL', 'BROAD', 'ONE'}, 0.5988593155893536),\n",
      " ({'CLOSE', 'SMOOTH', 'FREE', 'WHITE', 'ONE'}, 0.561787072243346),\n",
      " ({'CLOSE', 'SMOOTH', 'WHITE', 'PARTIAL', 'ONE'}, 0.561787072243346),\n",
      " ({'SMOOTH', 'FREE', 'WHITE', 'PARTIAL', 'ONE', 'TAPERING'},\n",
      "  0.5370722433460076),\n",
      " ({'CLOSE', 'SMOOTH', 'FREE', 'WHITE', 'PARTIAL', 'ONE'}, 0.561787072243346)]\n"
     ]
    }
   ],
   "source": [
    "print(\"Exemple: apriori(Base Mushrooms, 0.5) rend \")\n",
    "pprint(apriori(BaseM,0.5))"
   ]
  },
  {
   "cell_type": "code",
   "execution_count": 91,
   "metadata": {
    "scrolled": true
   },
   "outputs": [
    {
     "name": "stdout",
     "output_type": "stream",
     "text": [
      "EDIBLE PARTIAL (53.327)\n",
      "EDIBLE (53.327)\n",
      "EDIBLE SMOOTH PARTIAL (51.0694)\n",
      "EDIBLE SMOOTH (51.0694)\n",
      "EDIBLE FREE PARTIAL WHITE (51.0456)\n",
      "EDIBLE FREE PARTIAL (51.0456)\n",
      "EDIBLE FREE WHITE (51.0456)\n",
      "EDIBLE FREE (51.0456)\n",
      "EDIBLE WHITE PARTIAL (51.0456)\n",
      "EDIBLE WHITE (51.0456)\n",
      "TAPERING PARTIAL ONE FREE WHITE (57.7947)\n",
      "TAPERING PARTIAL ONE FREE (57.7947)\n",
      "TAPERING PARTIAL ONE WHITE (57.7947)\n",
      "TAPERING PARTIAL ONE (57.7947)\n",
      "TAPERING PARTIAL FREE WHITE (57.7947)\n",
      "TAPERING PARTIAL FREE (57.7947)\n",
      "TAPERING PARTIAL WHITE (57.7947)\n",
      "TAPERING PARTIAL (57.7947)\n",
      "TAPERING ONE FREE WHITE (57.7947)\n",
      "TAPERING ONE FREE (57.7947)\n",
      "TAPERING ONE WHITE (57.7947)\n",
      "TAPERING ONE (57.7947)\n",
      "TAPERING FREE WHITE (57.7947)\n",
      "TAPERING FREE (57.7947)\n",
      "TAPERING WHITE (57.7947)\n",
      "TAPERING (57.7947)\n",
      "TAPERING SMOOTH PARTIAL ONE FREE WHITE (53.7072)\n",
      "TAPERING SMOOTH PARTIAL ONE FREE (53.7072)\n",
      "TAPERING SMOOTH PARTIAL ONE WHITE (53.7072)\n",
      "TAPERING SMOOTH PARTIAL ONE (53.7072)\n",
      "TAPERING SMOOTH PARTIAL FREE WHITE (53.7072)\n",
      "TAPERING SMOOTH PARTIAL FREE (53.7072)\n",
      "TAPERING SMOOTH PARTIAL WHITE (53.7072)\n",
      "TAPERING SMOOTH PARTIAL (53.7072)\n",
      "TAPERING SMOOTH ONE FREE WHITE (53.7072)\n",
      "TAPERING SMOOTH ONE FREE (53.7072)\n",
      "TAPERING SMOOTH ONE WHITE (53.7072)\n",
      "TAPERING SMOOTH ONE (53.7072)\n",
      "TAPERING SMOOTH FREE WHITE (53.7072)\n",
      "TAPERING SMOOTH FREE (53.7072)\n",
      "TAPERING SMOOTH WHITE (53.7072)\n",
      "TAPERING SMOOTH (53.7072)\n",
      "BROWN PARTIAL (58.8165)\n",
      "BROWN (58.8165)\n",
      "BROWN ONE PARTIAL (57.6759)\n",
      "BROWN ONE (57.6759)\n",
      "BROWN ONE FREE PARTIAL WHITE (55.3945)\n",
      "BROWN ONE FREE PARTIAL (55.3945)\n",
      "BROWN ONE FREE WHITE (55.3945)\n",
      "BROWN ONE FREE (55.3945)\n",
      "BROWN ONE WHITE PARTIAL (55.3945)\n",
      "BROWN ONE WHITE (55.3945)\n",
      "BROWN FREE PARTIAL WHITE (56.3926)\n",
      "BROWN FREE PARTIAL (56.3926)\n",
      "BROWN FREE WHITE (56.3926)\n",
      "BROWN FREE (56.3926)\n",
      "BROWN WHITE PARTIAL (56.5352)\n",
      "BROWN WHITE (56.5352)\n",
      "NO PARTIAL (59.8859)\n",
      "NO (59.8859)\n",
      "NO ONE PARTIAL (55.7034)\n",
      "NO ONE (55.7034)\n",
      "NO ONE FREE PARTIAL WHITE (53.4221)\n",
      "NO ONE FREE PARTIAL (53.4221)\n",
      "NO ONE FREE WHITE (53.4221)\n",
      "NO ONE FREE (53.4221)\n",
      "NO ONE WHITE PARTIAL (53.4221)\n",
      "NO ONE WHITE (53.4221)\n",
      "NO FREE PARTIAL WHITE (57.3194)\n",
      "NO FREE PARTIAL (57.3194)\n",
      "NO FREE WHITE (57.3194)\n",
      "NO FREE (57.3194)\n",
      "NO WHITE PARTIAL (57.6046)\n",
      "NO WHITE (57.6046)\n",
      "BROAD PARTIAL (69.8669)\n",
      "BROAD (69.8669)\n",
      "BROAD SMOOTH PARTIAL (51.8536)\n",
      "BROAD SMOOTH (51.8536)\n",
      "BROAD CLOSE PARTIAL (54.2776)\n",
      "BROAD CLOSE (54.2776)\n",
      "BROAD CLOSE ONE PARTIAL (50)\n",
      "BROAD CLOSE ONE (50)\n",
      "BROAD CLOSE FREE PARTIAL WHITE (51.711)\n",
      "BROAD CLOSE FREE PARTIAL (51.711)\n",
      "BROAD CLOSE FREE WHITE (51.711)\n",
      "BROAD CLOSE FREE (51.711)\n",
      "BROAD CLOSE WHITE PARTIAL (51.9962)\n",
      "BROAD CLOSE WHITE (51.9962)\n",
      "BROAD ONE PARTIAL (62.1673)\n",
      "BROAD ONE (62.1673)\n",
      "BROAD ONE FREE PARTIAL WHITE (59.8859)\n",
      "BROAD ONE FREE PARTIAL (59.8859)\n",
      "BROAD ONE FREE WHITE (59.8859)\n",
      "BROAD ONE FREE (59.8859)\n",
      "BROAD ONE WHITE PARTIAL (59.8859)\n",
      "BROAD ONE WHITE (59.8859)\n",
      "BROAD FREE PARTIAL WHITE (67.3004)\n",
      "BROAD FREE PARTIAL (67.3004)\n",
      "BROAD FREE WHITE (67.3004)\n",
      "BROAD FREE (67.3004)\n",
      "BROAD WHITE PARTIAL (67.5856)\n",
      "BROAD WHITE (67.5856)\n",
      "SMOOTH PARTIAL (78.731)\n",
      "SMOOTH (78.731)\n",
      "SMOOTH CLOSE PARTIAL (62.0722)\n",
      "SMOOTH CLOSE (62.0722)\n",
      "SMOOTH CLOSE ONE PARTIAL (58.4601)\n",
      "SMOOTH CLOSE ONE (58.4601)\n",
      "SMOOTH CLOSE ONE FREE PARTIAL WHITE (56.1787)\n",
      "SMOOTH CLOSE ONE FREE PARTIAL (56.1787)\n",
      "SMOOTH CLOSE ONE FREE WHITE (56.1787)\n",
      "SMOOTH CLOSE ONE FREE (56.1787)\n",
      "SMOOTH CLOSE ONE WHITE PARTIAL (56.1787)\n",
      "SMOOTH CLOSE ONE WHITE (56.1787)\n",
      "SMOOTH CLOSE FREE PARTIAL WHITE (59.7909)\n",
      "SMOOTH CLOSE FREE PARTIAL (59.7909)\n",
      "SMOOTH CLOSE FREE WHITE (59.7909)\n",
      "SMOOTH CLOSE FREE (59.7909)\n",
      "SMOOTH CLOSE WHITE PARTIAL (59.7909)\n",
      "SMOOTH CLOSE WHITE (59.7909)\n",
      "SMOOTH ONE PARTIAL (72.1245)\n",
      "SMOOTH ONE (72.1245)\n",
      "SMOOTH ONE FREE PARTIAL WHITE (69.8432)\n",
      "SMOOTH ONE FREE PARTIAL (69.8432)\n",
      "SMOOTH ONE FREE WHITE (69.8432)\n",
      "SMOOTH ONE FREE (69.8432)\n",
      "SMOOTH ONE WHITE PARTIAL (69.8432)\n",
      "SMOOTH ONE WHITE (69.8432)\n",
      "SMOOTH FREE PARTIAL WHITE (76.4496)\n",
      "SMOOTH FREE PARTIAL (76.4496)\n",
      "SMOOTH FREE WHITE (76.4496)\n",
      "SMOOTH FREE (76.4496)\n",
      "SMOOTH WHITE PARTIAL (76.4496)\n",
      "SMOOTH WHITE (76.4496)\n",
      "CLOSE PARTIAL (81.0837)\n",
      "CLOSE (81.0837)\n",
      "CLOSE ONE PARTIAL (76.8061)\n",
      "CLOSE ONE (76.8061)\n",
      "CLOSE ONE FREE PARTIAL WHITE (74.5247)\n",
      "CLOSE ONE FREE PARTIAL (74.5247)\n",
      "CLOSE ONE FREE WHITE (74.5247)\n",
      "CLOSE ONE FREE (74.5247)\n",
      "CLOSE ONE WHITE PARTIAL (74.5247)\n",
      "CLOSE ONE WHITE (74.5247)\n",
      "CLOSE FREE PARTIAL WHITE (78.5171)\n",
      "CLOSE FREE PARTIAL (78.5171)\n",
      "CLOSE FREE WHITE (78.5171)\n",
      "CLOSE FREE (78.5171)\n",
      "CLOSE WHITE PARTIAL (78.8023)\n",
      "CLOSE WHITE (78.8023)\n",
      "ONE PARTIAL (92.3004)\n",
      "ONE (92.3004)\n",
      "ONE FREE PARTIAL WHITE (90.019)\n",
      "ONE FREE PARTIAL (90.019)\n",
      "ONE FREE WHITE (90.019)\n",
      "ONE FREE (90.019)\n",
      "ONE WHITE PARTIAL (90.019)\n",
      "ONE WHITE (90.019)\n",
      "FREE PARTIAL WHITE (97.4335)\n",
      "FREE PARTIAL (97.4335)\n",
      "FREE WHITE (97.4335)\n",
      "FREE (97.4335)\n",
      "WHITE PARTIAL (97.7186)\n",
      "WHITE (97.7186)\n",
      "\n"
     ]
    }
   ],
   "source": [
    "os.system(\"./apriori32 -s50 datasets/mushrooms.txt res.txt\")\n",
    "print(open(\"res.txt\", \"r\").read())"
   ]
  },
  {
   "cell_type": "markdown",
   "metadata": {},
   "source": [
    "- Base titanic"
   ]
  },
  {
   "cell_type": "code",
   "execution_count": 76,
   "metadata": {},
   "outputs": [
    {
     "name": "stdout",
     "output_type": "stream",
     "text": [
      "Exemple: apriori(Base Titanic, 0.5) rend \n",
      "[({'Southampton'}, 0.7112010796221323),\n",
      " ({'dead'}, 0.5344129554655871),\n",
      " ({'male'}, 0.6099865047233468)]\n"
     ]
    }
   ],
   "source": [
    "print(\"Exemple: apriori(Base Titanic, 0.5) rend \")\n",
    "pprint(apriori(BaseT,0.5))"
   ]
  },
  {
   "cell_type": "code",
   "execution_count": 93,
   "metadata": {},
   "outputs": [
    {
     "name": "stdout",
     "output_type": "stream",
     "text": [
      "dead (53.4413)\n",
      "male (60.9987)\n",
      "Southampton (71.1201)\n",
      "\n"
     ]
    }
   ],
   "source": [
    "os.system(\"./apriori32 -s50 datasets/titanic-red.csv res.txt\")\n",
    "print(open(\"res.txt\", \"r\").read())"
   ]
  },
  {
   "cell_type": "markdown",
   "metadata": {},
   "source": [
    "<font size=\"+1\">**[Q]**</font> Utiliser le programme *apriori32* pour générer des règles d'association (voir les différentes options en annexe) sur les différentes bases de données fournies. Tester différents seuils (support et confiance). "
   ]
  },
  {
   "cell_type": "code",
   "execution_count": 94,
   "metadata": {},
   "outputs": [
    {
     "name": "stdout",
     "output_type": "stream",
     "text": [
      "male <- dead (53.4413, 87.8788)\n",
      "\n"
     ]
    }
   ],
   "source": [
    "os.system(\"./apriori32 -trs50m2n5 datasets/titanic-red.csv res.txt\")\n",
    "print(open(\"res.txt\", \"r\").read())"
   ]
  },
  {
   "cell_type": "code",
   "execution_count": 95,
   "metadata": {},
   "outputs": [
    {
     "name": "stdout",
     "output_type": "stream",
     "text": [
      "Southampton <- 2nd (34.8178, 87.9845)\n",
      "alive <- female (38.8664, 83.3333)\n",
      "male <- dead Southampton (41.2955, 89.2157)\n",
      "male <- dead (53.4413, 87.8788)\n",
      "\n"
     ]
    }
   ],
   "source": [
    "os.system(\"./apriori32 -trs30m2n5 datasets/titanic-red.csv res.txt\")\n",
    "print(open(\"res.txt\", \"r\").read())"
   ]
  },
  {
   "cell_type": "code",
   "execution_count": 96,
   "metadata": {
    "scrolled": true
   },
   "outputs": [
    {
     "name": "stdout",
     "output_type": "stream",
     "text": [
      "Cherbourg <- 1st (37.9217, 43.7722)\n",
      "Cherbourg <- female alive (32.3887, 32.0833)\n",
      "Cherbourg <- female (38.8664, 29.1667)\n",
      "Cherbourg <- alive (46.4238, 31.686)\n",
      "Cherbourg <- male (60.9987, 20.354)\n",
      "3rd <- female (38.8664, 22.5694)\n",
      "3rd <- dead male Southampton (36.8421, 33.3333)\n",
      "3rd <- dead male (46.9636, 33.046)\n",
      "3rd <- dead Southampton (41.2955, 35.2941)\n",
      "3rd <- dead (53.4413, 36.6162)\n",
      "3rd <- male Southampton (46.2888, 31.7784)\n",
      "3rd <- male (60.9987, 30.0885)\n",
      "3rd <- Southampton (71.1201, 27.5142)\n",
      "2nd <- female alive (32.3887, 38.3333)\n",
      "female <- 2nd Southampton (30.6343, 40.5286)\n",
      "female <- 2nd (34.8178, 40.6977)\n",
      "2nd <- female (38.8664, 36.4583)\n",
      "alive <- 2nd Southampton (30.6343, 43.6123)\n",
      "alive <- 2nd (34.8178, 45.3488)\n",
      "2nd <- alive (46.4238, 34.0116)\n",
      "2nd <- dead male Southampton (36.8421, 42.1245)\n",
      "2nd <- dead male (46.9636, 36.7816)\n",
      "dead <- 2nd Southampton (30.6343, 56.3877)\n",
      "2nd <- dead Southampton (41.2955, 41.8301)\n",
      "dead <- 2nd (34.8178, 54.6512)\n",
      "2nd <- dead (53.4413, 35.6061)\n",
      "male <- 2nd Southampton (30.6343, 59.4714)\n",
      "2nd <- male Southampton (46.2888, 39.3586)\n",
      "male <- 2nd (34.8178, 59.3023)\n",
      "2nd <- male (60.9987, 33.8496)\n",
      "Southampton <- 2nd (34.8178, 87.9845)\n",
      "2nd <- Southampton (71.1201, 43.074)\n",
      "1st <- female alive (32.3887, 47.0833)\n",
      "female <- 1st (37.9217, 41.9929)\n",
      "1st <- female (38.8664, 40.9722)\n",
      "alive <- 1st (37.9217, 60.8541)\n",
      "1st <- alive (46.4238, 49.7093)\n",
      "1st <- dead male Southampton (36.8421, 24.5421)\n",
      "1st <- dead male (46.9636, 30.1724)\n",
      "1st <- dead Southampton (41.2955, 22.8758)\n",
      "dead <- 1st (37.9217, 39.1459)\n",
      "1st <- dead (53.4413, 27.7778)\n",
      "1st <- male Southampton (46.2888, 28.863)\n",
      "male <- 1st (37.9217, 58.0071)\n",
      "1st <- male (60.9987, 36.0619)\n",
      "Southampton <- 1st (37.9217, 55.1601)\n",
      "1st <- Southampton (71.1201, 29.4118)\n",
      "Southampton <- female alive (32.3887, 62.9167)\n",
      "alive <- female (38.8664, 83.3333)\n",
      "female <- alive (46.4238, 69.7674)\n",
      "Southampton <- female (38.8664, 63.8889)\n",
      "female <- Southampton (71.1201, 34.9146)\n",
      "alive <- male Southampton (46.2888, 20.4082)\n",
      "male <- alive (46.4238, 30.2326)\n",
      "alive <- male (60.9987, 23.0088)\n",
      "Southampton <- alive (46.4238, 64.2442)\n",
      "alive <- Southampton (71.1201, 41.9355)\n",
      "Southampton <- dead male (46.9636, 78.4483)\n",
      "male <- dead Southampton (41.2955, 89.2157)\n",
      "dead <- male Southampton (46.2888, 79.5918)\n",
      "male <- dead (53.4413, 87.8788)\n",
      "dead <- male (60.9987, 76.9912)\n",
      "Southampton <- dead (53.4413, 77.2727)\n",
      "dead <- Southampton (71.1201, 58.0645)\n",
      "Southampton <- male (60.9987, 75.885)\n",
      "male <- Southampton (71.1201, 65.0854)\n",
      "\n"
     ]
    }
   ],
   "source": [
    "os.system(\"./apriori32 -trs30m2n5c20 datasets/titanic-red.csv res.txt\")\n",
    "print(open(\"res.txt\", \"r\").read())"
   ]
  },
  {
   "cell_type": "code",
   "execution_count": 147,
   "metadata": {},
   "outputs": [
    {
     "name": "stdout",
     "output_type": "stream",
     "text": [
      "male <- dead (53.4413, 87.8788)\n",
      "\n"
     ]
    }
   ],
   "source": [
    "os.system(\"apriori.exe -trs50m2n5c80 datasets/titanic-red.csv res.txt\")\n",
    "print(open(\"res.txt\", \"r\").read())"
   ]
  },
  {
   "cell_type": "markdown",
   "metadata": {},
   "source": [
    "<font size=\"+1\">**[Q]**</font>  Ajouter les deux mesures d'intérêt vues en TD (lift et RR) et afficher leurs valeurs pour chaque règle trouvée. Ajouter un argument au programme afin de pouvoir sélectionner une de ces mesures pour éliminer les règles inintéressantes.\n"
   ]
  },
  {
   "cell_type": "markdown",
   "metadata": {},
   "source": [
    "- Base exemple-1"
   ]
  },
  {
   "cell_type": "code",
   "execution_count": 245,
   "metadata": {},
   "outputs": [
    {
     "name": "stdout",
     "output_type": "stream",
     "text": [
      "d <- e a (sup: 10, conf: 100, lift-value: 142.857, RR: 100)\n",
      "d <- e c (sup: 10, conf: 100, lift-value: 142.857, RR: 100)\n",
      "d <- e (sup: 30, conf: 100, lift-value: 142.857, RR: 100)\n",
      "b <- a c d (sup: 20, conf: 100, lift-value: 142.857, RR: 100)\n",
      "c <- a b (sup: 40, conf: 80, lift-value: 114.286, RR: 33.3333)\n",
      "b <- a c (sup: 40, conf: 100, lift-value: 142.857, RR: 100)\n",
      "b <- a (sup: 50, conf: 83.3333, lift-value: 119.048, RR: 44.4444)\n",
      "c <- b (sup: 60, conf: 85.7143, lift-value: 122.449, RR: 52.381)\n",
      "b <- c (sup: 60, conf: 85.7143, lift-value: 122.449, RR: 52.381)\n",
      "\n"
     ]
    }
   ],
   "source": [
    "# changement du nom de l'exécutable -> passage à windows\n",
    "os.system('apriori.exe -trs10m2n5 -el -v \" (sup: %S, conf: %C, lift-value: %L, RR: %E)\" datasets/exemple-1.txt res.txt')\n",
    "print(open(\"res.txt\", \"r\").read())"
   ]
  },
  {
   "cell_type": "code",
   "execution_count": 244,
   "metadata": {},
   "outputs": [
    {
     "name": "stdout",
     "output_type": "stream",
     "text": [
      "d <- e a (sup: 10, conf: 100, lift-value: 142.857)\n",
      "d <- e c (sup: 10, conf: 100, lift-value: 142.857)\n",
      "d <- e (sup: 30, conf: 100, lift-value: 142.857)\n",
      "b <- a c d (sup: 20, conf: 100, lift-value: 142.857)\n",
      "c <- a b (sup: 40, conf: 80, lift-value: 114.286)\n",
      "b <- a c (sup: 40, conf: 100, lift-value: 142.857)\n",
      "b <- a (sup: 50, conf: 83.3333, lift-value: 119.048)\n",
      "c <- b (sup: 60, conf: 85.7143, lift-value: 122.449)\n",
      "b <- c (sup: 60, conf: 85.7143, lift-value: 122.449)\n",
      "\n"
     ]
    }
   ],
   "source": [
    "os.system('apriori.exe -trs10m2n5 -el -v \" (sup: %S, conf: %C, lift-value: %E)\" datasets/exemple-1.txt res.txt')\n",
    "print(open(\"res.txt\", \"r\").read())"
   ]
  },
  {
   "cell_type": "code",
   "execution_count": 243,
   "metadata": {},
   "outputs": [
    {
     "name": "stdout",
     "output_type": "stream",
     "text": [
      "d <- e a (sup: 10, conf: 100, RR: 100)\n",
      "d <- e c (sup: 10, conf: 100, RR: 100)\n",
      "d <- e (sup: 30, conf: 100, RR: 100)\n",
      "b <- a c d (sup: 20, conf: 100, RR: 100)\n",
      "c <- a b (sup: 40, conf: 80, RR: 33.3333)\n",
      "b <- a c (sup: 40, conf: 100, RR: 100)\n",
      "b <- a (sup: 50, conf: 83.3333, RR: 44.4444)\n",
      "c <- b (sup: 60, conf: 85.7143, RR: 52.381)\n",
      "b <- c (sup: 60, conf: 85.7143, RR: 52.381)\n",
      "\n"
     ]
    }
   ],
   "source": [
    "os.system('apriori.exe -trs10m2n5 -ez -v \" (sup: %S, conf: %C, RR: %E)\" datasets/exemple-1.txt res.txt')\n",
    "print(open(\"res.txt\", \"r\").read())"
   ]
  },
  {
   "cell_type": "markdown",
   "metadata": {},
   "source": [
    "- Base mushrooms"
   ]
  },
  {
   "cell_type": "code",
   "execution_count": 242,
   "metadata": {
    "scrolled": true
   },
   "outputs": [
    {
     "name": "stdout",
     "output_type": "stream",
     "text": [
      "PARTIAL <- ONE FREE WHITE (sup: 90.019, conf: 100, lift-value: 100, RR: nan)\n",
      "WHITE <- ONE FREE PARTIAL (sup: 90.019, conf: 100, lift-value: 102.335, RR: 100)\n",
      "FREE <- ONE WHITE PARTIAL (sup: 90.019, conf: 100, lift-value: 102.634, RR: 100)\n",
      "WHITE <- ONE FREE (sup: 90.019, conf: 100, lift-value: 102.335, RR: 100)\n",
      "FREE <- ONE WHITE (sup: 90.019, conf: 100, lift-value: 102.634, RR: 100)\n",
      "PARTIAL <- ONE FREE (sup: 90.019, conf: 100, lift-value: 100, RR: nan)\n",
      "PARTIAL <- ONE WHITE (sup: 90.019, conf: 100, lift-value: 100, RR: nan)\n",
      "PARTIAL <- ONE (sup: 92.3004, conf: 100, lift-value: 100, RR: nan)\n",
      "PARTIAL <- FREE WHITE (sup: 97.4335, conf: 100, lift-value: 100, RR: nan)\n",
      "WHITE <- FREE PARTIAL (sup: 97.4335, conf: 100, lift-value: 102.335, RR: 100)\n",
      "FREE <- WHITE PARTIAL (sup: 97.4335, conf: 99.7082, lift-value: 102.335, RR: 88.6295)\n",
      "WHITE <- FREE (sup: 97.4335, conf: 100, lift-value: 102.335, RR: 100)\n",
      "FREE <- WHITE (sup: 97.4335, conf: 99.7082, lift-value: 102.335, RR: 88.6295)\n",
      "PARTIAL <- FREE (sup: 97.4335, conf: 100, lift-value: 100, RR: nan)\n",
      "PARTIAL <- WHITE (sup: 97.7186, conf: 100, lift-value: 100, RR: nan)\n",
      "\n"
     ]
    }
   ],
   "source": [
    "os.system('apriori.exe -trs90m2n5c90 -el -ez -v \" (sup: %S, conf: %C, lift-value: %L, RR: %E)\" datasets/mushrooms.txt res.txt')\n",
    "print(open(\"res.txt\", \"r\").read())"
   ]
  },
  {
   "cell_type": "code",
   "execution_count": 241,
   "metadata": {
    "scrolled": true
   },
   "outputs": [
    {
     "name": "stdout",
     "output_type": "stream",
     "text": [
      "PARTIAL <- ONE FREE WHITE (sup: 90.019, conf: 100, lift-value: 100)\n",
      "WHITE <- ONE FREE PARTIAL (sup: 90.019, conf: 100, lift-value: 102.335)\n",
      "FREE <- ONE WHITE PARTIAL (sup: 90.019, conf: 100, lift-value: 102.634)\n",
      "ONE <- FREE WHITE PARTIAL (sup: 90.019, conf: 92.3902, lift-value: 100.097)\n",
      "WHITE <- ONE FREE (sup: 90.019, conf: 100, lift-value: 102.335)\n",
      "FREE <- ONE WHITE (sup: 90.019, conf: 100, lift-value: 102.634)\n",
      "ONE <- FREE WHITE (sup: 90.019, conf: 92.3902, lift-value: 100.097)\n",
      "PARTIAL <- ONE FREE (sup: 90.019, conf: 100, lift-value: 100)\n",
      "FREE <- ONE PARTIAL (sup: 90.019, conf: 97.5283, lift-value: 100.097)\n",
      "ONE <- FREE PARTIAL (sup: 90.019, conf: 92.3902, lift-value: 100.097)\n",
      "FREE <- ONE (sup: 90.019, conf: 97.5283, lift-value: 100.097)\n",
      "ONE <- FREE (sup: 90.019, conf: 92.3902, lift-value: 100.097)\n",
      "PARTIAL <- ONE WHITE (sup: 90.019, conf: 100, lift-value: 100)\n",
      "WHITE <- ONE PARTIAL (sup: 90.019, conf: 97.5283, lift-value: 99.8052)\n",
      "ONE <- WHITE PARTIAL (sup: 90.019, conf: 92.1206, lift-value: 99.8052)\n",
      "WHITE <- ONE (sup: 90.019, conf: 97.5283, lift-value: 99.8052)\n",
      "ONE <- WHITE (sup: 90.019, conf: 92.1206, lift-value: 99.8052)\n",
      "PARTIAL <- ONE (sup: 92.3004, conf: 100, lift-value: 100)\n",
      "ONE <- PARTIAL (sup: 92.3004, conf: 92.3004, lift-value: 100)\n",
      "PARTIAL <- FREE WHITE (sup: 97.4335, conf: 100, lift-value: 100)\n",
      "WHITE <- FREE PARTIAL (sup: 97.4335, conf: 100, lift-value: 102.335)\n",
      "FREE <- WHITE PARTIAL (sup: 97.4335, conf: 99.7082, lift-value: 102.335)\n",
      "WHITE <- FREE (sup: 97.4335, conf: 100, lift-value: 102.335)\n",
      "FREE <- WHITE (sup: 97.4335, conf: 99.7082, lift-value: 102.335)\n",
      "PARTIAL <- FREE (sup: 97.4335, conf: 100, lift-value: 100)\n",
      "FREE <- PARTIAL (sup: 97.4335, conf: 97.4335, lift-value: 100)\n",
      "PARTIAL <- WHITE (sup: 97.7186, conf: 100, lift-value: 100)\n",
      "WHITE <- PARTIAL (sup: 97.7186, conf: 97.7186, lift-value: 100)\n",
      "\n"
     ]
    }
   ],
   "source": [
    "os.system('apriori.exe -trs90m2n5c90 -el -v \" (sup: %S, conf: %C, lift-value: %L)\" datasets/mushrooms.txt res.txt')\n",
    "print(open(\"res.txt\", \"r\").read())"
   ]
  },
  {
   "cell_type": "code",
   "execution_count": 247,
   "metadata": {
    "scrolled": false
   },
   "outputs": [
    {
     "name": "stdout",
     "output_type": "stream",
     "text": [
      "PARTIAL <- ONE FREE WHITE (sup: 90.019, conf: 100, RR: nan)\n",
      "WHITE <- ONE FREE PARTIAL (sup: 90.019, conf: 100, RR: 100)\n",
      "FREE <- ONE WHITE PARTIAL (sup: 90.019, conf: 100, RR: 100)\n",
      "WHITE <- ONE FREE (sup: 90.019, conf: 100, RR: 100)\n",
      "FREE <- ONE WHITE (sup: 90.019, conf: 100, RR: 100)\n",
      "PARTIAL <- ONE FREE (sup: 90.019, conf: 100, RR: nan)\n",
      "PARTIAL <- ONE WHITE (sup: 90.019, conf: 100, RR: nan)\n",
      "PARTIAL <- ONE (sup: 92.3004, conf: 100, RR: nan)\n",
      "PARTIAL <- FREE WHITE (sup: 97.4335, conf: 100, RR: nan)\n",
      "WHITE <- FREE PARTIAL (sup: 97.4335, conf: 100, RR: 100)\n",
      "FREE <- WHITE PARTIAL (sup: 97.4335, conf: 99.7082, RR: 88.6295)\n",
      "WHITE <- FREE (sup: 97.4335, conf: 100, RR: 100)\n",
      "FREE <- WHITE (sup: 97.4335, conf: 99.7082, RR: 88.6295)\n",
      "PARTIAL <- FREE (sup: 97.4335, conf: 100, RR: nan)\n",
      "PARTIAL <- WHITE (sup: 97.7186, conf: 100, RR: nan)\n",
      "\n"
     ]
    }
   ],
   "source": [
    "os.system('apriori.exe -trs90m2n5c90 -ez -v \" (sup: %S, conf: %C, RR: %E)\" datasets/mushrooms.txt res.txt')\n",
    "print(open(\"res.txt\", \"r\").read())"
   ]
  },
  {
   "cell_type": "markdown",
   "metadata": {},
   "source": [
    "- Base titanic"
   ]
  },
  {
   "cell_type": "code",
   "execution_count": 248,
   "metadata": {},
   "outputs": [
    {
     "name": "stdout",
     "output_type": "stream",
     "text": [
      "female <- alive (sup: 32.3887, conf: 69.7674, lift-value: 179.506, RR: 0)\n",
      "Southampton <- alive (sup: 29.8246, conf: 64.2442, lift-value: 90.332, RR: 0)\n",
      "Southampton <- dead male (sup: 36.8421, conf: 78.4483, lift-value: 110.304, RR: 0)\n",
      "male <- dead Southampton (sup: 36.8421, conf: 89.2157, lift-value: 146.258, RR: 0)\n",
      "dead <- male Southampton (sup: 36.8421, conf: 79.5918, lift-value: 148.933, RR: 0)\n",
      "male <- dead (sup: 46.9636, conf: 87.8788, lift-value: 144.067, RR: 0)\n",
      "dead <- male (sup: 46.9636, conf: 76.9912, lift-value: 144.067, RR: 0)\n",
      "Southampton <- dead (sup: 41.2955, conf: 77.2727, lift-value: 108.651, RR: 0)\n",
      "dead <- Southampton (sup: 41.2955, conf: 58.0645, lift-value: 108.651, RR: 0)\n",
      "Southampton <- male (sup: 46.2888, conf: 75.885, lift-value: 106.7, RR: 0)\n",
      "male <- Southampton (sup: 46.2888, conf: 65.0854, lift-value: 106.7, RR: 0)\n",
      "\n"
     ]
    }
   ],
   "source": [
    "os.system('apriori.exe -trs40m2n5c50 -v \" (sup: %S, conf: %C, lift-value: %L, RR: %E)\" datasets/titanic-red.csv res.txt')\n",
    "print(open(\"res.txt\", \"r\").read())"
   ]
  },
  {
   "cell_type": "code",
   "execution_count": 249,
   "metadata": {},
   "outputs": [
    {
     "name": "stdout",
     "output_type": "stream",
     "text": [
      "female <- alive (sup: 32.3887, conf: 69.7674, lift-value: 179.506, RR: 0)\n",
      "Southampton <- alive (sup: 29.8246, conf: 64.2442, lift-value: 90.332, RR: 0)\n",
      "Southampton <- dead male (sup: 36.8421, conf: 78.4483, lift-value: 110.304, RR: 0)\n",
      "male <- dead Southampton (sup: 36.8421, conf: 89.2157, lift-value: 146.258, RR: 0)\n",
      "dead <- male Southampton (sup: 36.8421, conf: 79.5918, lift-value: 148.933, RR: 0)\n",
      "male <- dead (sup: 46.9636, conf: 87.8788, lift-value: 144.067, RR: 0)\n",
      "dead <- male (sup: 46.9636, conf: 76.9912, lift-value: 144.067, RR: 0)\n",
      "Southampton <- dead (sup: 41.2955, conf: 77.2727, lift-value: 108.651, RR: 0)\n",
      "dead <- Southampton (sup: 41.2955, conf: 58.0645, lift-value: 108.651, RR: 0)\n",
      "Southampton <- male (sup: 46.2888, conf: 75.885, lift-value: 106.7, RR: 0)\n",
      "male <- Southampton (sup: 46.2888, conf: 65.0854, lift-value: 106.7, RR: 0)\n",
      "\n"
     ]
    }
   ],
   "source": [
    "os.system('apriori.exe -trs40m2n5c50 %l -el -v \" (sup: %S, conf: %C, lift-value: %L)\" datasets/titanic-red.csv res.txt')\n",
    "print(open(\"res.txt\", \"r\").read())"
   ]
  },
  {
   "cell_type": "code",
   "execution_count": 250,
   "metadata": {},
   "outputs": [
    {
     "name": "stdout",
     "output_type": "stream",
     "text": [
      "female <- alive (sup: 32.3887, conf: 69.7674, lift-value: 179.506, RR: 0)\n",
      "Southampton <- alive (sup: 29.8246, conf: 64.2442, lift-value: 90.332, RR: 0)\n",
      "Southampton <- dead male (sup: 36.8421, conf: 78.4483, lift-value: 110.304, RR: 0)\n",
      "male <- dead Southampton (sup: 36.8421, conf: 89.2157, lift-value: 146.258, RR: 0)\n",
      "dead <- male Southampton (sup: 36.8421, conf: 79.5918, lift-value: 148.933, RR: 0)\n",
      "male <- dead (sup: 46.9636, conf: 87.8788, lift-value: 144.067, RR: 0)\n",
      "dead <- male (sup: 46.9636, conf: 76.9912, lift-value: 144.067, RR: 0)\n",
      "Southampton <- dead (sup: 41.2955, conf: 77.2727, lift-value: 108.651, RR: 0)\n",
      "dead <- Southampton (sup: 41.2955, conf: 58.0645, lift-value: 108.651, RR: 0)\n",
      "Southampton <- male (sup: 46.2888, conf: 75.885, lift-value: 106.7, RR: 0)\n",
      "male <- Southampton (sup: 46.2888, conf: 65.0854, lift-value: 106.7, RR: 0)\n",
      "\n"
     ]
    }
   ],
   "source": [
    "os.system('apriori.exe -trs40m2n5c50 -ez -v \" (sup: %S, conf: %C, RR: %E)\"datasets/titanic-red.csv res.txt')\n",
    "print(open(\"res.txt\", \"r\").read())"
   ]
  },
  {
   "cell_type": "markdown",
   "metadata": {},
   "source": [
    "<font size=\"+1\">**[Q]**</font>  Ajouter les deux mesures d'intérêt suivantes et afficher leurs valeurs\n",
    "  pour chaque règle trouvée. Ajouter un argument au programme afin de pouvoir sélectionner une de ces mesures pour éliminer les règles inintéressantes.\n",
    "  \n",
    "Par exemple:\n",
    "\n",
    "\\begin{align}\n",
    "  \\mbox{Interest}(X \\longrightarrow Y) & =  \\frac{P(X,Y)}{P(X)}P(Y) \\nonumber\\\\\n",
    " \\mbox{IS}(X \\longrightarrow Y) & =  \\frac{P(X,Y)}{\\sqrt{P(X)P(Y)}} \\nonumber\n",
    "\\end{align}"
   ]
  },
  {
   "cell_type": "code",
   "execution_count": 306,
   "metadata": {},
   "outputs": [],
   "source": [
    "import numpy as np\n",
    "\n",
    "def interest(BASE, X, Y):\n",
    "    return support(BASE, X.union(Y)) / support(BASE, X) * support(BASE, Y)\n",
    "\n",
    "def IS(BASE, X, Y):\n",
    "    return support(BASE, X.union(Y)) / np.sqrt(support(BASE, X) * support(BASE, Y))\n",
    "\n",
    "def showRules2(filename, minsupp, minconf=80, measure=\"x\", sep=\" \"):\n",
    "    BASE = chargeBase(filename, sep)\n",
    "    os.system('apriori.exe -trs{}m2n5c{} -e{} -v \" (%X %C\" {} res.txt'.format(minsupp, minconf, measure, filename))\n",
    "    rules = open(\"res.txt\", \"r\").read().split(\"\\n\")[:-1]\n",
    "    for rule in rules:\n",
    "        X = {rule.split(\"<-\")[0].strip()}\n",
    "        Y = rule.split(\"<-\")[1].split(\"(\")[0]\n",
    "        Y = set(Y.split(\" \")[1:-1])\n",
    "        supp, conf = rule.split(\"(\")[1].split(\" \")\n",
    "        print( \"{} <- {} (supp: {}, conf: {}, interest: {}, IS: {})\".format(X, Y, supp, conf, \n",
    "                                                                          interest(BASE, X, Y), \n",
    "                                                                          IS(BASE, X, Y)) )"
   ]
  },
  {
   "cell_type": "markdown",
   "metadata": {},
   "source": [
    "- Base exemple-1"
   ]
  },
  {
   "cell_type": "code",
   "execution_count": 307,
   "metadata": {
    "scrolled": true
   },
   "outputs": [
    {
     "name": "stdout",
     "output_type": "stream",
     "text": [
      "{'d'} <- {'a', 'e'} (supp: 10, conf: 100, interest: 0.014285714285714289, IS: 0.3779644730092273)\n",
      "{'d'} <- {'c', 'e'} (supp: 10, conf: 100, interest: 0.014285714285714289, IS: 0.3779644730092273)\n",
      "{'d'} <- {'e'} (supp: 30, conf: 100, interest: 0.1285714285714286, IS: 0.6546536707079771)\n",
      "{'b'} <- {'d', 'c', 'a'} (supp: 20, conf: 100, interest: 0.057142857142857155, IS: 0.5345224838248488)\n",
      "{'c'} <- {'b', 'a'} (supp: 50, conf: 80, interest: 0.28571428571428575, IS: 0.6761234037828133)\n",
      "{'b'} <- {'c', 'a'} (supp: 40, conf: 100, interest: 0.22857142857142862, IS: 0.7559289460184546)\n",
      "{'b'} <- {'a'} (supp: 60, conf: 83.3333, interest: 0.42857142857142855, IS: 0.7715167498104596)\n",
      "{'c'} <- {'b'} (supp: 70, conf: 85.7143, interest: 0.6, IS: 0.8571428571428572)\n",
      "{'b'} <- {'c'} (supp: 70, conf: 85.7143, interest: 0.6, IS: 0.8571428571428572)\n"
     ]
    }
   ],
   "source": [
    "showRules2(\"datasets/exemple-1.txt\", 10)"
   ]
  },
  {
   "cell_type": "code",
   "execution_count": 310,
   "metadata": {},
   "outputs": [
    {
     "name": "stdout",
     "output_type": "stream",
     "text": [
      "{'Southampton'} <- {'2nd'} (supp: 34.8178, conf: 87.9845, interest: 0.1499742642257373, IS: 0.6156171310119235)\n",
      "{'alive'} <- {'female'} (supp: 38.8664, conf: 83.3333, interest: 0.27116090763581585, IS: 0.7624928516630233)\n",
      "{'male'} <- {'dead', 'Southampton'} (supp: 41.2955, conf: 89.2157, interest: 0.24941779226828134, IS: 0.7340619556352773)\n",
      "{'male'} <- {'dead'} (supp: 53.4413, conf: 87.8788, interest: 0.41145068252660244, IS: 0.8225502403062295)\n"
     ]
    }
   ],
   "source": [
    "showRules2(\"datasets/titanic-red.csv\", 30, sep=\",\")"
   ]
  },
  {
   "cell_type": "markdown",
   "metadata": {},
   "source": [
    "- Base mushrooms"
   ]
  },
  {
   "cell_type": "code",
   "execution_count": null,
   "metadata": {},
   "outputs": [],
   "source": []
  },
  {
   "cell_type": "markdown",
   "metadata": {},
   "source": [
    "- Base titanic"
   ]
  },
  {
   "cell_type": "code",
   "execution_count": null,
   "metadata": {},
   "outputs": [],
   "source": []
  },
  {
   "cell_type": "markdown",
   "metadata": {},
   "source": [
    "### Utilisation de fp-growth"
   ]
  },
  {
   "cell_type": "markdown",
   "metadata": {},
   "source": [
    "<font size=\"+1\">**[Q]**</font>  Utiliser *fpgrowth32* pour générer des règles d'association sur les différentes\n",
    "  bases de données. Comparer avec les résultats obtenus dans la section précédente. En  particulier, comparer les temps d'éxecution."
   ]
  },
  {
   "cell_type": "code",
   "execution_count": 332,
   "metadata": {},
   "outputs": [
    {
     "name": "stdout",
     "output_type": "stream",
     "text": [
      "Base titanicc minsupp=10\n",
      "Temps apriori : 0.04353070259094238\n",
      "Temps fpgrowth : 0.03202247619628906\n"
     ]
    }
   ],
   "source": [
    "from time import time\n",
    "\n",
    "print(\"Base titanic minsupp=10\")\n",
    "start = time()\n",
    "os.system(\"./apriori.exe -trs10m2n5 datasets/titanic-red.csv\")\n",
    "end = time()\n",
    "print(\"Temps apriori :\", end-start)\n",
    "\n",
    "start = time()\n",
    "os.system(\"./fpgrowth.exe -trs10m2n5 datasets/titanic-red.csv\")\n",
    "end = time()\n",
    "print(\"Temps fpgrowth :\", end-start)"
   ]
  },
  {
   "cell_type": "code",
   "execution_count": 351,
   "metadata": {},
   "outputs": [
    {
     "name": "stdout",
     "output_type": "stream",
     "text": [
      "Base mushrooms minsupp=10\n",
      "Temps apriori : 0.13526129722595215\n",
      "Temps fpgrowth : 0.02979755401611328\n"
     ]
    }
   ],
   "source": [
    "from time import time\n",
    "\n",
    "print(\"Base mushrooms minsupp=10\")\n",
    "start = time()\n",
    "os.system(\"./apriori.exe -trs1m2n5 datasets/mushrooms.txt\")\n",
    "end = time()\n",
    "print(\"Temps apriori :\", end-start)\n",
    "\n",
    "start = time()\n",
    "os.system(\"./fpgrowth.exe -trs1m2n5 datasets/mushrooms.txt\")\n",
    "end = time()\n",
    "print(\"Temps fpgrowth :\", end-start)"
   ]
  },
  {
   "cell_type": "markdown",
   "metadata": {},
   "source": [
    "<font size=\"+1\">**[Q]**</font> En essayant différentes valeurs de seuil, tester la génération de règles d'association intéressantes sur les bases de données fournies."
   ]
  },
  {
   "cell_type": "code",
   "execution_count": null,
   "metadata": {
    "collapsed": true
   },
   "outputs": [],
   "source": []
  },
  {
   "cell_type": "markdown",
   "metadata": {},
   "source": [
    "## Annexes: utilisation des programmes *apriori32* et *fpgrowth32*\n",
    "\n",
    "La documentation complète de ces programmes est disponible aux URL suivantes:\n",
    "- pour *apriori*: http://www.borgelt.net/doc/apriori/apriori.html\n",
    "- pour *fp-growth*: http://www.borgelt.net/doc/fpgrowth/fpgrowth.html\n",
    "\n",
    "\n",
    "Leur format d'utilisation général est:\n",
    "\n",
    "        ./<programme> [options] infile [outfile]\n",
    "\n",
    "(où <<code>programme</code>> est soit *apriori32*, soit *fpgrowth32*).\n",
    "\n",
    "Les options de base de ces 2 programmes sont:\n",
    "- sans argument: génération des itemsets fréquents (argument {<code>-ts</code> activé par défaut)\n",
    "- *tr*: pour obtenir les règles d'associations\n",
    "- *s*: pour fournir une valeur minimale de support. Le support est ici donné en valeur absolue ($n_{AB}$) et non pas en valeur relative ($\\frac{n_{AB}}{n}$).\n",
    "- *m*: pour fournir un nombre minimum d'items dans un itemset\n",
    "- *n*: pour fournir un nombre maximum d'items dans un itemset\n",
    "\n",
    "\n",
    "Par exemple (commandes lancées dans le répertoire père du répertoire *datasets/*):\n",
    "\n",
    "        ./apriori32 -trs50m2n5 datasets/exemple-1.txt fichier-resultat.out  \n",
    "        ./fpgrowth32 -trs50m2n5 datasets/mushrooms.txt fichier-resultat.out  \n"
   ]
  }
 ],
 "metadata": {
  "kernelspec": {
   "display_name": "Python 3",
   "language": "python",
   "name": "python3"
  },
  "language_info": {
   "codemirror_mode": {
    "name": "ipython",
    "version": 3
   },
   "file_extension": ".py",
   "mimetype": "text/x-python",
   "name": "python",
   "nbconvert_exporter": "python",
   "pygments_lexer": "ipython3",
   "version": "3.6.3"
  }
 },
 "nbformat": 4,
 "nbformat_minor": 1
}
