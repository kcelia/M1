{
 "cells": [
  {
   "cell_type": "code",
   "execution_count": 1,
   "metadata": {},
   "outputs": [],
   "source": [
    "# -*- coding: utf-8 -*-\n",
    "\"\"\"\n",
    "\n",
    "Dictionnaires décrivants les transposés et symétries de relations, \n",
    "ainsi que les listes de relations obtenues avec les compositions de base\n",
    "dans le tableau donné en TD\n",
    "\n",
    "\"\"\"\n",
    "\n",
    "transpose = {\n",
    "    '<':'>',\n",
    "    '>':'<',\n",
    "    'e':'et',\n",
    "    's':'st',\n",
    "    'et':'e',\n",
    "    'st':'s',\n",
    "    'd':'dt',\n",
    "    'm':'mt',\n",
    "    'dt':'d',\n",
    "    'mt':'m',\n",
    "    'o':'ot',\n",
    "    'ot':'o',\n",
    "    '=':'='                 \n",
    "    }\n",
    " \n",
    "symetrie = {\n",
    "    '<':'>',\n",
    "    '>':'<',\n",
    "    'e':'s',\n",
    "    's':'e',\n",
    "    'et':'st',\n",
    "    'st':'et',\n",
    "    'd':'d',\n",
    "    'm':'mt',\n",
    "    'dt':'dt',\n",
    "    'mt':'m',\n",
    "    'o':'ot',\n",
    "    'ot':'o',\n",
    "    '=':'='\n",
    "    }            \n",
    "             \n",
    "compositionBase = {\n",
    "        \n",
    "        \n",
    "        ('<','<'):{'<'},\n",
    "        ('<','m'):{'<'},\n",
    "        ('<','o'):{'<'},\n",
    "        ('<','et'):{'<'},\n",
    "        ('<','s'):{'<'},\n",
    "        ('<','d'):{'<','m','o','s','d'},\n",
    "        ('<','dt'):{'<'},\n",
    "        ('<','e'):{'<','m','o','s','d'},\n",
    "        ('<','st'):{'<'},\n",
    "        ('<','ot'):{'<','m','o','s','d'},\n",
    "        ('<','mt'):{'<','m','o','s','d'},\n",
    "        ('<','>'):{'<','>','m','mt','o','ot','e','et','s','st','d','dt','='},\n",
    "        ('m','m'):{'<'},\n",
    "        ('m','o'):{'<'},\n",
    "        ('m','et'):{'<'},\n",
    "        ('m','s'):{'m'},\n",
    "        ('m','d'):{'o','s','d'},\n",
    "        ('m','dt'):{'<'},\n",
    "        ('m','e'):{'o','s','d'},\n",
    "        ('m','st'):{'m'},\n",
    "        ('m','ot'):{'o','s','d'},\n",
    "        ('m','mt'):{'e','et','='},\n",
    "        ('o','o'):{'<','m','o'},\n",
    "        ('o','et'):{'<','m','o'},\n",
    "        ('o','s'):{'o'},\n",
    "        ('o','d'):{'o','s','d'},\n",
    "        ('o','dt'):{'<','m','o','et','dt'},\n",
    "        ('o','e'):{'o','s','d'},\n",
    "        ('o','st'):{'o','et','dt'},\n",
    "        ('o','ot'):{'o','ot','e','et','d','dt','st','s','='},\n",
    "        ('s','et'):{'<','m','o'},\n",
    "        ('s','s'):{'s'},\n",
    "        ('s','d'):{'d'},\n",
    "        ('s','dt'):{'<','m','o','et','dt'},\n",
    "        ('s','e'):{'d'},\n",
    "        ('s','st'):{'s','st','='},\n",
    "        ('et','s'):{'o'},\n",
    "        ('et','d'):{'o','s','d'},\n",
    "        ('et','dt'):{'dt'},\n",
    "        ('et','e'):{'e','et','='},\n",
    "        ('d','d'):{'d'},\n",
    "        ('d','dt'):{'<','>','m','mt','o','ot','e','et','s','st','d','dt','='},\n",
    "        ('dt','d'):{'o','ot','e','et','d','dt','st','s','='}\n",
    "                           \n",
    "                   }"
   ]
  },
  {
   "cell_type": "code",
   "execution_count": 163,
   "metadata": {},
   "outputs": [],
   "source": [
    "def transposeSet(S):\n",
    "    return set([transpose[i] for i in S])\n",
    "\n",
    "def symetrieSet(S):\n",
    "    return set([symetrie[i] for i in S])\n",
    "        "
   ]
  },
  {
   "cell_type": "code",
   "execution_count": 164,
   "metadata": {},
   "outputs": [
    {
     "data": {
      "text/plain": [
       "{'<', '>', 'e', 'st'}"
      ]
     },
     "execution_count": 164,
     "metadata": {},
     "output_type": "execute_result"
    }
   ],
   "source": [
    "l= ['<','>','et','s']\n",
    "transposeSet(l)"
   ]
  },
  {
   "cell_type": "code",
   "execution_count": 167,
   "metadata": {},
   "outputs": [],
   "source": [
    "def compose(r1,r2):\n",
    "    if r1 == '=':\n",
    "        return {r2}\n",
    "    if r2 == '=':\n",
    "        return {r1}\n",
    "    if (r1,r2) in compositionBase.keys():\n",
    "        return compositionBase[(r1,r2)]\n",
    "    if (transpose[r2],transpose[r1]) in compositionBase.keys():\n",
    "        return transposeSet(compositionBase[(transpose[r2],transpose[r1])])\n",
    "    if (symetrie[r1],symetrie[r2]) in compositionBase.keys():\n",
    "        return symetrieSet(compositionBase[(symetrie[r1],symetrie[r2])])\n",
    "    return symetrieSet(transposeSet(compositionBase[(transpose[symetrie[r2]],transpose[symetrie[r1]])]))"
   ]
  },
  {
   "cell_type": "code",
   "execution_count": 168,
   "metadata": {},
   "outputs": [
    {
     "name": "stdout",
     "output_type": "stream",
     "text": [
      "set(['et', 'dt', 'o'])\n"
     ]
    }
   ],
   "source": [
    "print(compose('ot','m'))"
   ]
  },
  {
   "cell_type": "code",
   "execution_count": 169,
   "metadata": {},
   "outputs": [],
   "source": [
    "def compose_set(S1,S2):\n",
    "    return  set([e for r2 in S2 for r1 in S1 for e in compose(r1,r2) ])"
   ]
  },
  {
   "cell_type": "code",
   "execution_count": 170,
   "metadata": {},
   "outputs": [
    {
     "data": {
      "text/plain": [
       "{'<', 'm', 'o'}"
      ]
     },
     "execution_count": 170,
     "metadata": {},
     "output_type": "execute_result"
    }
   ],
   "source": [
    "compose_set({'<','='},{'o','m'})"
   ]
  },
  {
   "cell_type": "code",
   "execution_count": 211,
   "metadata": {},
   "outputs": [],
   "source": [
    "ALL_RELATIONS = set(['<', '>', 'e', 's', 'et', 'st', 'd', 'm', 'dt', 'mt', 'o',\n",
    "                    'ot','='])\n",
    "class Graphe:\n",
    "    def __init__(self):\n",
    "        self.noeuds = set()\n",
    "        self.relations = dict()\n",
    "    def get_noueds(self):\n",
    "        return self.noeuds\n",
    "    def getRelations(self, i, j):\n",
    "        \"\"\" Retourne l'ensemble des relations entre les noeuds `i` et `j`. \"\"\"\n",
    "        global ALL_RELATIONS\n",
    "\n",
    "        try:\n",
    "            return self.relations[i, j]\n",
    "        except KeyError:\n",
    "            return ALL_RELATIONS\n",
    "    def addNoeud(self,noeud):\n",
    "        self.noeuds.add(noeud)\n",
    "    def addRelation(self, relation, noeud1, noeud2):\n",
    "        # Ajout des noeuds non-présents dans le graphe\n",
    "        if noeud1 not in self.noeuds:\n",
    "            self.addNoeud(noeud1)\n",
    "        if noeud2 not in self.noeuds:\n",
    "            self.addNoeud(noeud2)\n",
    "\n",
    "        # Ajout de la relation\n",
    "        try:\n",
    "            self.relations[noeud1, noeud2] |= set(relation)\n",
    "        except KeyError:\n",
    "            self.relations[noeud1, noeud2] = set(relation)\n",
    "        # Ajout de la relation transposée\n",
    "        try:\n",
    "            self.relations[noeud2, noeud1] |= set(transpose[relation])\n",
    "        except KeyError:\n",
    "            self.relations[noeud2, noeud1] = set(transpose[relation])\n",
    "\n",
    "    def propagation(self, noeud1, noeud2):\n",
    "        \"\"\" Applique l'algorithme d'Allen pour propager la relation entre \n",
    "        `noeud1` et `noeud2` dans le reste du graphe.\n",
    "        \"\"\"\n",
    "        pass\n",
    "\n",
    "        "
   ]
  },
  {
   "cell_type": "code",
   "execution_count": 212,
   "metadata": {},
   "outputs": [],
   "source": [
    "from copy import deepcopy\n",
    "def propagation(g1, n1,n2,relation):\n",
    "    g = deepcopy(g1)\n",
    "    pile = []\n",
    "    pile.append((relation,n1,n2))\n",
    "    while pile :\n",
    "        rel,i,j = pile.pop()\n",
    "        for k in g.get_noueds():\n",
    "            if k != i and k != j :\n",
    "                nouv_1 = (g.getRelations(i,k)).intersection(compose_set(g.getRelations(i,j),g.getRelations(j,k)))\n",
    "                nouv_2 = (g.getRelations(k,j)).intersection(compose_set(g.getRelations(k,i),g.getRelations(i,j)))\n",
    "                if nouv_1 == set() or nouv_2 == set():\n",
    "                    print(\"KO\")\n",
    "                    return {} \n",
    "                if nouv_1 != g.getRelations(i,k):\n",
    "                    pile.append((g.getRelations(i,k),i,k)) \n",
    "                if nouv_2 != g.getRelations(k,n2):\n",
    "                    pile.append((g.getRelations(k,j),k,j)) \n",
    "        \n",
    "\n",
    "    "
   ]
  },
  {
   "cell_type": "code",
   "execution_count": 213,
   "metadata": {},
   "outputs": [
    {
     "data": {
      "text/plain": [
       "{'<'}"
      ]
     },
     "execution_count": 213,
     "metadata": {},
     "output_type": "execute_result"
    }
   ],
   "source": [
    "g = Graphe()\n",
    "g.addRelation('<','A','B')\n",
    "g.addRelation('>','A','C')\n",
    "\n",
    "#propagation(g,'B','C')\n",
    "g.getRelations('C','A')"
   ]
  },
  {
   "cell_type": "code",
   "execution_count": 214,
   "metadata": {},
   "outputs": [],
   "source": [
    "propagation(g, 'B','C',{'='})\n"
   ]
  },
  {
   "cell_type": "code",
   "execution_count": null,
   "metadata": {},
   "outputs": [],
   "source": []
  }
 ],
 "metadata": {
  "kernelspec": {
   "display_name": "Python 2",
   "language": "python",
   "name": "python2"
  },
  "language_info": {
   "codemirror_mode": {
    "name": "ipython",
    "version": 2
   },
   "file_extension": ".py",
   "mimetype": "text/x-python",
   "name": "python",
   "nbconvert_exporter": "python",
   "pygments_lexer": "ipython2",
   "version": "2.7.9"
  }
 },
 "nbformat": 4,
 "nbformat_minor": 2
}
