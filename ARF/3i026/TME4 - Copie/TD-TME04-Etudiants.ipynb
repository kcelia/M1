{
 "cells": [
  {
   "cell_type": "markdown",
   "metadata": {},
   "source": [
    "# TD-TME04: algorithme des K-moyennes\n",
    "\n",
    "L'objectif de ce TP est d'implémenter un nouvel algorithme d'apprentissage non-supervisé, l'algorithme des K-moyennes (cours 4)."
   ]
  },
  {
   "cell_type": "markdown",
   "metadata": {},
   "source": [
    "## Exercices (à faire sans machine)\n",
    "\n",
    "(partie à faire chez soi ou en fin de séance)"
   ]
  },
  {
   "cell_type": "markdown",
   "metadata": {},
   "source": [
    "### Exercices sur les distances\n",
    "\n",
    "#### Question 1\n",
    "Montrer que la distance de Manhattan est bien une mesure de distance. \n",
    "C'est-à-dire que c'est une mesure \n",
    "- symétrique : d(x,y) = d(y,x) pour tout x, y\n",
    "- telle que d(x,x) = 0 pour tout x\n",
    "- qui vérifie l'inégalité triangulaire: d(x,z) $\\leq$ d(x,y) + d(y,z) pour tout x, y, et z\n"
   ]
  },
  {
   "cell_type": "markdown",
   "metadata": {},
   "source": [
    "## Préparation\n",
    "\n",
    "Télécharger l'archive ici: http://webia.lip6.fr/~marsala/3i026/\n",
    "Décompresser cette archive, elle crée le répertoire \"TP04\" qui contient un fichier ipython à ouvrir (ce fichier-ci) et un sous-répertoire \"data\" contenant les bases d'apprentissage qui seront utilisées dans ce TP.\n",
    "\n",
    "Le but de ce TP est de compléter ce document ipython en rajoutant les fonctions demandées.\n",
    "\n",
    "Commencer par travailler sur les données \"base-2D\" afin de tester les fonctions à écrire. Une fois tout implémenté, la base de données réelles peut alors être utilisée.\n",
    "\n",
    "Avant de commencer, exécuter le bloc suivant afin de pouvoir initialiser des variables utiles:\n"
   ]
  },
  {
   "cell_type": "code",
   "execution_count": 1,
   "metadata": {
    "collapsed": true
   },
   "outputs": [],
   "source": [
    "import numpy as np\n",
    "import pandas as pd\n",
    "from datetime import datetime as dt\n",
    "import matplotlib.pyplot as plt\n",
    "%matplotlib inline  \n",
    "import math\n",
    "import random"
   ]
  },
  {
   "cell_type": "markdown",
   "metadata": {},
   "source": [
    "### Chargement du fichier \"base_2D.csv\""
   ]
  },
  {
   "cell_type": "markdown",
   "metadata": {},
   "source": [
    "La lecture d'un fichier CSV par pd.read() fournit un DataFrame que vous avez appris à manipuler dans le TP02."
   ]
  },
  {
   "cell_type": "code",
   "execution_count": 3,
   "metadata": {
    "scrolled": true
   },
   "outputs": [
    {
     "data": {
      "text/html": [
       "<div>\n",
       "<table border=\"1\" class=\"dataframe\">\n",
       "  <thead>\n",
       "    <tr style=\"text-align: right;\">\n",
       "      <th></th>\n",
       "      <th>X</th>\n",
       "      <th>Y</th>\n",
       "    </tr>\n",
       "  </thead>\n",
       "  <tbody>\n",
       "    <tr>\n",
       "      <th>0</th>\n",
       "      <td>0.0</td>\n",
       "      <td>4.0</td>\n",
       "    </tr>\n",
       "    <tr>\n",
       "      <th>1</th>\n",
       "      <td>1.0</td>\n",
       "      <td>3.5</td>\n",
       "    </tr>\n",
       "    <tr>\n",
       "      <th>2</th>\n",
       "      <td>1.0</td>\n",
       "      <td>1.0</td>\n",
       "    </tr>\n",
       "    <tr>\n",
       "      <th>3</th>\n",
       "      <td>2.0</td>\n",
       "      <td>1.0</td>\n",
       "    </tr>\n",
       "    <tr>\n",
       "      <th>4</th>\n",
       "      <td>2.0</td>\n",
       "      <td>2.0</td>\n",
       "    </tr>\n",
       "    <tr>\n",
       "      <th>5</th>\n",
       "      <td>4.0</td>\n",
       "      <td>4.0</td>\n",
       "    </tr>\n",
       "    <tr>\n",
       "      <th>6</th>\n",
       "      <td>4.0</td>\n",
       "      <td>5.0</td>\n",
       "    </tr>\n",
       "    <tr>\n",
       "      <th>7</th>\n",
       "      <td>4.0</td>\n",
       "      <td>6.0</td>\n",
       "    </tr>\n",
       "    <tr>\n",
       "      <th>8</th>\n",
       "      <td>4.5</td>\n",
       "      <td>1.0</td>\n",
       "    </tr>\n",
       "    <tr>\n",
       "      <th>9</th>\n",
       "      <td>4.5</td>\n",
       "      <td>6.0</td>\n",
       "    </tr>\n",
       "    <tr>\n",
       "      <th>10</th>\n",
       "      <td>5.0</td>\n",
       "      <td>1.0</td>\n",
       "    </tr>\n",
       "    <tr>\n",
       "      <th>11</th>\n",
       "      <td>5.0</td>\n",
       "      <td>5.0</td>\n",
       "    </tr>\n",
       "    <tr>\n",
       "      <th>12</th>\n",
       "      <td>6.0</td>\n",
       "      <td>2.0</td>\n",
       "    </tr>\n",
       "    <tr>\n",
       "      <th>13</th>\n",
       "      <td>7.0</td>\n",
       "      <td>4.0</td>\n",
       "    </tr>\n",
       "  </tbody>\n",
       "</table>\n",
       "</div>"
      ],
      "text/plain": [
       "      X    Y\n",
       "0   0.0  4.0\n",
       "1   1.0  3.5\n",
       "2   1.0  1.0\n",
       "3   2.0  1.0\n",
       "4   2.0  2.0\n",
       "5   4.0  4.0\n",
       "6   4.0  5.0\n",
       "7   4.0  6.0\n",
       "8   4.5  1.0\n",
       "9   4.5  6.0\n",
       "10  5.0  1.0\n",
       "11  5.0  5.0\n",
       "12  6.0  2.0\n",
       "13  7.0  4.0"
      ]
     },
     "execution_count": 3,
     "metadata": {},
     "output_type": "execute_result"
    }
   ],
   "source": [
    "data_2D = pd.read_csv(\"data/base-2D.csv\")\n",
    "data_2D  # ou bien: data_2D[0:len(data_2D)]"
   ]
  },
  {
   "cell_type": "markdown",
   "metadata": {},
   "source": [
    "Dans la suite de ce TP, il est conseillé de travailler sur des données de type DataFrame le plus souvent possible.\n",
    "\n",
    "**Important**: dans la suite de ce TP, on appelle:\n",
    "\n",
    "- \"base d'apprentissage\" le DataFrame contenant l'ensemble des exemples d'apprentissage chargés par la commande précédente\n",
    "- \"base d'exemples\" : un DataFrame contenant un ensemble d'exemples (remarque: la base d'apprentissage et le plus grand ensemble d'exemples possible)"
   ]
  },
  {
   "cell_type": "markdown",
   "metadata": {},
   "source": [
    "### Récupération des fonctions utiles"
   ]
  },
  {
   "cell_type": "markdown",
   "metadata": {},
   "source": [
    "Reprendre (ou réécrire) la fonction normalisation() du TD-TME03."
   ]
  },
  {
   "cell_type": "code",
   "execution_count": 4,
   "metadata": {
    "collapsed": true
   },
   "outputs": [],
   "source": [
    "def normalisation(dff) :\n",
    "    df = dff.copy()\n",
    "    for i in df.columns :\n",
    "        mi = min(df[i])\n",
    "        ma = max(df[i])\n",
    "        df[i] =  (df[i]- mi) / (ma - mi)\n",
    "    \n",
    "    return df"
   ]
  },
  {
   "cell_type": "code",
   "execution_count": 68,
   "metadata": {
    "scrolled": true
   },
   "outputs": [
    {
     "data": {
      "image/png": "[encoded data removed]",
      "text/plain": [
       "<matplotlib.figure.Figure at 0x7f3cd2fe7ed0>"
      ]
     },
     "metadata": {},
     "output_type": "display_data"
    }
   ],
   "source": [
    "DF_data2D = normalisation(data_2D)\n",
    "M_data2D = DF_data2D.as_matrix()\n",
    "\n",
    "colonne_X= M_data2D[0:,0]\n",
    "colonne_Y= M_data2D[0:,1]\n",
    "plt.scatter(colonne_X,colonne_Y)\n",
    "plt.show()"
   ]
  },
  {
   "cell_type": "markdown",
   "metadata": {},
   "source": [
    "Reprendre (ou réécrire) la fonction dist_vec() du TD-TME03. \n",
    "En particulier, vous allez avoir besoin de la fonction dist_vec(nom,v1,v2) qui, étant donné une chaîne de caractères (\"euclidienne\" ou \"manhattan\") et 2 vecteurs (représentés sous la forme de DataFrame) rend la distance entre ces 2 vecteurs."
   ]
  },
  {
   "cell_type": "code",
   "execution_count": 6,
   "metadata": {},
   "outputs": [],
   "source": [
    "def dist_euclidienne_vect(d1,d2) :\n",
    "    return math.sqrt(pow((d1.values-d2.values),2).sum())"
   ]
  },
  {
   "cell_type": "code",
   "execution_count": 7,
   "metadata": {
    "collapsed": true
   },
   "outputs": [],
   "source": [
    "def dist_manhattan_vect(d1,d2) :\n",
    "    return (abs(d1.values-d2.values)).sum()"
   ]
  },
  {
   "cell_type": "code",
   "execution_count": 8,
   "metadata": {},
   "outputs": [],
   "source": [
    "def dist_vect(fonc,l1,l2):\n",
    "    if(fonc == \"euclidienne\") :\n",
    "        return dist_euclidienne_vect(l1,l2)\n",
    "    else :\n",
    "        return dist_manhattan_vect(l1,l2)"
   ]
  },
  {
   "cell_type": "code",
   "execution_count": 69,
   "metadata": {},
   "outputs": [
    {
     "data": {
      "text/plain": [
       "0.6975174637562116"
      ]
     },
     "execution_count": 69,
     "metadata": {},
     "output_type": "execute_result"
    }
   ],
   "source": [
    "dist_euclidienne_vect(DF_data2D[0:1], DF_data2D[7:8])"
   ]
  },
  {
   "cell_type": "code",
   "execution_count": 70,
   "metadata": {},
   "outputs": [
    {
     "data": {
      "text/plain": [
       "0.95714285714285718"
      ]
     },
     "execution_count": 70,
     "metadata": {},
     "output_type": "execute_result"
    }
   ],
   "source": [
    "dist_manhattan_vect(DF_data2D[13:14], DF_data2D[1:2])"
   ]
  },
  {
   "cell_type": "markdown",
   "metadata": {},
   "source": [
    "### Calcul de centroides\n",
    "\n",
    "Ecrire la fonction centroide() qui, étant donné un DataFrame représentant plusieurs exemples rend le centroide (calculé en faisant la moyenne de chaque composante des vecteurs de la matrice). Cette fonction doit rendre un DataFrame."
   ]
  },
  {
   "cell_type": "code",
   "execution_count": 17,
   "metadata": {
    "collapsed": true
   },
   "outputs": [],
   "source": [
    "def centroide(df) : \n",
    "    return pd.DataFrame(df.mean()).T"
   ]
  },
  {
   "cell_type": "code",
   "execution_count": 71,
   "metadata": {},
   "outputs": [
    {
     "data": {
      "text/html": [
       "<div>\n",
       "<table border=\"1\" class=\"dataframe\">\n",
       "  <thead>\n",
       "    <tr style=\"text-align: right;\">\n",
       "      <th></th>\n",
       "      <th>X</th>\n",
       "      <th>Y</th>\n",
       "    </tr>\n",
       "  </thead>\n",
       "  <tbody>\n",
       "    <tr>\n",
       "      <th>0</th>\n",
       "      <td>0.238095</td>\n",
       "      <td>0.316667</td>\n",
       "    </tr>\n",
       "  </tbody>\n",
       "</table>\n",
       "</div>"
      ],
      "text/plain": [
       "          X         Y\n",
       "0  0.238095  0.316667"
      ]
     },
     "execution_count": 71,
     "metadata": {},
     "output_type": "execute_result"
    }
   ],
   "source": [
    "centroide(DF_data2D[0:6])"
   ]
  },
  {
   "cell_type": "markdown",
   "metadata": {},
   "source": [
    "## Travail à réaliser"
   ]
  },
  {
   "cell_type": "markdown",
   "metadata": {},
   "source": [
    "### Inertie d'un cluster\n",
    "Ecrire la fonction inertie_cluster qui, étant donné une chaîne de caractères donnant le nom de la distance à utiliser, et un DataFrame contenant un ensemble d'exemples, rend la valeur de l'inertie de cet ensemble."
   ]
  },
  {
   "cell_type": "code",
   "execution_count": 34,
   "metadata": {},
   "outputs": [],
   "source": [
    "def inertie_cluster(fonc , df) :\n",
    "    s=0\n",
    "    for i,ligne in df.iterrows() :\n",
    "        s=s+ (pow(dist_vect(fonc,pd.DataFrame(ligne).T,centroide(df)),2))\n",
    "    return s"
   ]
  },
  {
   "cell_type": "code",
   "execution_count": 72,
   "metadata": {},
   "outputs": [
    {
     "data": {
      "text/plain": [
       "101.30357142857144"
      ]
     },
     "execution_count": 72,
     "metadata": {},
     "output_type": "execute_result"
    }
   ],
   "source": [
    "inertie_cluster(\"euclidienne\",data_2D)"
   ]
  },
  {
   "cell_type": "code",
   "execution_count": 73,
   "metadata": {},
   "outputs": [
    {
     "data": {
      "text/plain": [
       "166.94642857142856"
      ]
     },
     "execution_count": 73,
     "metadata": {},
     "output_type": "execute_result"
    }
   ],
   "source": [
    "inertie_cluster(\"manhattan\",data_2D)"
   ]
  },
  {
   "cell_type": "markdown",
   "metadata": {},
   "source": [
    "Dans ce qui suit, on appelle \"ensemble de centroides\" un DataFrame contenant $K$ vecteurs de dimensions $p$.\n",
    "\n",
    "Ecrire la fonction choix_depart() qui étant donné un entier $K>1$ et une base d'apprentissage (sous la forme d'un DataFrame) de $n$ exemples rend ensemble de centroides contenant $K$ exemples tirés aléatoirement dans la base.\n",
    "On fait l'hypothèse que $K\\leq n$.\n",
    "\n",
    "*Remarque*: étudier les fonctions de la librairie random de Python...\n"
   ]
  },
  {
   "cell_type": "code",
   "execution_count": 62,
   "metadata": {},
   "outputs": [],
   "source": [
    "def choix_depart(k,df) :\n",
    "    v=range(0,len(df))\n",
    "    random.shuffle(v)\n",
    "    return pd.DataFrame(df.iloc [v[0:k]])     "
   ]
  },
  {
   "cell_type": "code",
   "execution_count": 86,
   "metadata": {},
   "outputs": [
    {
     "data": {
      "text/html": [
       "<div>\n",
       "<table border=\"1\" class=\"dataframe\">\n",
       "  <thead>\n",
       "    <tr style=\"text-align: right;\">\n",
       "      <th></th>\n",
       "      <th>X</th>\n",
       "      <th>Y</th>\n",
       "    </tr>\n",
       "  </thead>\n",
       "  <tbody>\n",
       "    <tr>\n",
       "      <th>7</th>\n",
       "      <td>0.571429</td>\n",
       "      <td>1.0</td>\n",
       "    </tr>\n",
       "    <tr>\n",
       "      <th>10</th>\n",
       "      <td>0.714286</td>\n",
       "      <td>0.0</td>\n",
       "    </tr>\n",
       "    <tr>\n",
       "      <th>4</th>\n",
       "      <td>0.285714</td>\n",
       "      <td>0.2</td>\n",
       "    </tr>\n",
       "  </tbody>\n",
       "</table>\n",
       "</div>"
      ],
      "text/plain": [
       "           X    Y\n",
       "7   0.571429  1.0\n",
       "10  0.714286  0.0\n",
       "4   0.285714  0.2"
      ]
     },
     "execution_count": 86,
     "metadata": {},
     "output_type": "execute_result"
    }
   ],
   "source": [
    "Centroides_test = choix_depart(3,DF_data2D)\n",
    "Centroides_test"
   ]
  },
  {
   "cell_type": "markdown",
   "metadata": {},
   "source": [
    "En utilisant l'option \"color='blue'\" ou \"color='red'\" de la fonction scatter(), réaliser l'affichage de la base d'apprentissage (en bleu) et de l'ensemble des centroides (en rouge)"
   ]
  },
  {
   "cell_type": "code",
   "execution_count": 87,
   "metadata": {},
   "outputs": [
    {
     "data": {
      "text/plain": [
       "<matplotlib.collections.PathCollection at 0x7f3cd2a98d10>"
      ]
     },
     "execution_count": 87,
     "metadata": {},
     "output_type": "execute_result"
    },
    {
     "data": {
      "image/png": "[encoded data removed]",
      "text/plain": [
       "<matplotlib.figure.Figure at 0x7f3cd2c095d0>"
      ]
     },
     "metadata": {},
     "output_type": "display_data"
    }
   ],
   "source": [
    "\n",
    "M_data2D = DF_data2D.as_matrix()\n",
    "\n",
    "colonne_X= M_data2D[0:,0]\n",
    "colonne_Y= M_data2D[0:,1]\n",
    "plt.scatter(colonne_X,colonne_Y,color='blue')\n",
    "\n",
    "M_data2D = Centroides_test.as_matrix()\n",
    "colonne_X= M_data2D[0:,0]\n",
    "colonne_Y= M_data2D[0:,1]\n",
    "plt.scatter(colonne_X,colonne_Y,color='red')\n"
   ]
  },
  {
   "cell_type": "markdown",
   "metadata": {},
   "source": [
    "Ecrire la fonction plus_proche() qui, étant donné une chaîne donnant un nom de distance à utiliser, un exemple et un ensemble de centroides, rend l'indice (dans l'ensemble) du centroide dont l'exemple est le plus proche.\n",
    "En cas d'égalité de distance, le centroide de plus petit indice est choisi."
   ]
  },
  {
   "cell_type": "code",
   "execution_count": 82,
   "metadata": {},
   "outputs": [],
   "source": [
    "def plus_proche(fonc,ex,cent):\n",
    "    mini=20\n",
    "    indiceMin=0\n",
    "    for i,ligne in cent.iterrows():\n",
    "        if (mini > dist_vect(fonc,ex,pd.DataFrame(ligne).T)):\n",
    "            mini=dist_vect(fonc,ex,pd.DataFrame(ligne).T)\n",
    "            indiceMin=i\n",
    "    return indiceMin"
   ]
  },
  {
   "cell_type": "code",
   "execution_count": 85,
   "metadata": {},
   "outputs": [
    {
     "data": {
      "text/html": [
       "<div>\n",
       "<table border=\"1\" class=\"dataframe\">\n",
       "  <thead>\n",
       "    <tr style=\"text-align: right;\">\n",
       "      <th></th>\n",
       "      <th>X</th>\n",
       "      <th>Y</th>\n",
       "    </tr>\n",
       "  </thead>\n",
       "  <tbody>\n",
       "    <tr>\n",
       "      <th>0</th>\n",
       "      <td>0.000000</td>\n",
       "      <td>0.6</td>\n",
       "    </tr>\n",
       "    <tr>\n",
       "      <th>1</th>\n",
       "      <td>0.142857</td>\n",
       "      <td>0.5</td>\n",
       "    </tr>\n",
       "    <tr>\n",
       "      <th>2</th>\n",
       "      <td>0.142857</td>\n",
       "      <td>0.0</td>\n",
       "    </tr>\n",
       "    <tr>\n",
       "      <th>3</th>\n",
       "      <td>0.285714</td>\n",
       "      <td>0.0</td>\n",
       "    </tr>\n",
       "    <tr>\n",
       "      <th>4</th>\n",
       "      <td>0.285714</td>\n",
       "      <td>0.2</td>\n",
       "    </tr>\n",
       "    <tr>\n",
       "      <th>5</th>\n",
       "      <td>0.571429</td>\n",
       "      <td>0.6</td>\n",
       "    </tr>\n",
       "    <tr>\n",
       "      <th>6</th>\n",
       "      <td>0.571429</td>\n",
       "      <td>0.8</td>\n",
       "    </tr>\n",
       "    <tr>\n",
       "      <th>7</th>\n",
       "      <td>0.571429</td>\n",
       "      <td>1.0</td>\n",
       "    </tr>\n",
       "    <tr>\n",
       "      <th>8</th>\n",
       "      <td>0.642857</td>\n",
       "      <td>0.0</td>\n",
       "    </tr>\n",
       "    <tr>\n",
       "      <th>9</th>\n",
       "      <td>0.642857</td>\n",
       "      <td>1.0</td>\n",
       "    </tr>\n",
       "    <tr>\n",
       "      <th>10</th>\n",
       "      <td>0.714286</td>\n",
       "      <td>0.0</td>\n",
       "    </tr>\n",
       "    <tr>\n",
       "      <th>11</th>\n",
       "      <td>0.714286</td>\n",
       "      <td>0.8</td>\n",
       "    </tr>\n",
       "    <tr>\n",
       "      <th>12</th>\n",
       "      <td>0.857143</td>\n",
       "      <td>0.2</td>\n",
       "    </tr>\n",
       "    <tr>\n",
       "      <th>13</th>\n",
       "      <td>1.000000</td>\n",
       "      <td>0.6</td>\n",
       "    </tr>\n",
       "  </tbody>\n",
       "</table>\n",
       "</div>"
      ],
      "text/plain": [
       "           X    Y\n",
       "0   0.000000  0.6\n",
       "1   0.142857  0.5\n",
       "2   0.142857  0.0\n",
       "3   0.285714  0.0\n",
       "4   0.285714  0.2\n",
       "5   0.571429  0.6\n",
       "6   0.571429  0.8\n",
       "7   0.571429  1.0\n",
       "8   0.642857  0.0\n",
       "9   0.642857  1.0\n",
       "10  0.714286  0.0\n",
       "11  0.714286  0.8\n",
       "12  0.857143  0.2\n",
       "13  1.000000  0.6"
      ]
     },
     "execution_count": 85,
     "metadata": {},
     "output_type": "execute_result"
    }
   ],
   "source": [
    "DF_data2D"
   ]
  },
  {
   "cell_type": "code",
   "execution_count": 92,
   "metadata": {},
   "outputs": [
    {
     "data": {
      "text/plain": [
       "7"
      ]
     },
     "execution_count": 92,
     "metadata": {},
     "output_type": "execute_result"
    }
   ],
   "source": [
    "plus_proche('euclidienne',DF_data2D[5:],Centroides_test)"
   ]
  },
  {
   "cell_type": "code",
   "execution_count": 89,
   "metadata": {},
   "outputs": [
    {
     "data": {
      "text/plain": [
       "7"
      ]
     },
     "execution_count": 89,
     "metadata": {},
     "output_type": "execute_result"
    }
   ],
   "source": [
    "plus_proche('manhattan',DF_data2D.loc[DF_data2D.index[5]],Centroides_test)"
   ]
  },
  {
   "cell_type": "markdown",
   "metadata": {},
   "source": [
    "### Matrice d'affectation\n",
    "\n",
    "Etant donné une base d'apprentissage, on peut représenter un partitionnement de cette base en K clusters à l'aide d'une matrice U contenant n lignes (une ligne par exemple) et K colonnes (une colonne par cluster) telle que \n",
    "- U[i,j] = 1 si l'exemple i appartient au cluster j\n",
    "- U[i,j] = 0 si l'exemple i n'appartient pas au cluster j\n",
    "- un exemple appartient à un et un seul cluster\n",
    "- un cluster contient au moins un exemple\n",
    "\n",
    "On appelle **matrice d'affectation** cette matrice U.\n"
   ]
  },
  {
   "cell_type": "markdown",
   "metadata": {},
   "source": [
    "#### Question 2\n",
    "Donner une expression mathématique des 2 dernières contraintes que vérifie une matrice d'affectation."
   ]
  },
  {
   "cell_type": "markdown",
   "metadata": {},
   "source": []
  },
  {
   "cell_type": "markdown",
   "metadata": {},
   "source": [
    "#### Implémentation en Python\n",
    "Dans ce TP, nous utilisons un dictionnaire pour représenter d'une matrice d'affectation: \n",
    "- les clés de ce dictionnaire correspondent aux K indices des clusters\n",
    "- les valeurs correspondent à des listes d'indices d'exemples (leur indice dans la base d'apprentissage)\n",
    "\n",
    "Dans tout ce qui suit, une \"matrice d'affectation\" sera un tel dictionnaire.\n"
   ]
  },
  {
   "cell_type": "markdown",
   "metadata": {},
   "source": [
    "Ecrire la fonction affecte_cluster() qui, étant donné un nom de distance, une base d'apprentissage et un ensemble de centroïdes, rend la matrice d'affectation des exemples de la base aux clusters représentés par chaque centroïde."
   ]
  },
  {
   "cell_type": "code",
   "execution_count": 93,
   "metadata": {},
   "outputs": [],
   "source": [
    "def affecte_cluster(fonc, base, cent):\n",
    "    d=dict()\n",
    "    for i , c in cent.iterrows():\n",
    "        d[i]=[]\n",
    "    for j,ex in base.iterrows():\n",
    "            centroideProche=(plus_proche(fonc,pd.DataFrame(ex).T,cent))\n",
    "            d[centroideProche].append(j)\n",
    "    return d"
   ]
  },
  {
   "cell_type": "code",
   "execution_count": 100,
   "metadata": {},
   "outputs": [
    {
     "data": {
      "text/plain": [
       "{4: [0, 1, 2, 3, 4], 7: [5, 6, 7, 9, 11, 13], 10: [8, 10, 12]}"
      ]
     },
     "execution_count": 100,
     "metadata": {},
     "output_type": "execute_result"
    }
   ],
   "source": [
    "DictAffect = affecte_cluster(\"euclidienne\",DF_data2D, Centroides_test)\n",
    "DictAffect"
   ]
  },
  {
   "cell_type": "markdown",
   "metadata": {},
   "source": [
    "### Ensemble des centroides\n",
    "Grâce à la matrice d'affectation, on peut maintenant trouver les nouveaux centroides. Ceux-ci sont déterminés en prenant les ensembles des exemples qui sont affectés au même cluster.\n",
    "\n",
    "Ecrire la fonction nouveaux_centroides() qui, étant donné un chaîne de caractères donnant le nom d'une distance, une base d'apprentissage et une matrice d'affectation, rend l'ensemble des centroides correspondant."
   ]
  },
  {
   "cell_type": "code",
   "execution_count": 101,
   "metadata": {},
   "outputs": [],
   "source": [
    "def nouveaux_centroides(fonc,base,dic):\n",
    "    centre=pd.DataFrame()\n",
    "    for i in range(len(dic)):\n",
    "        centre=centre.append(base.loc[dic[i]],ignore_index=True)\n",
    "    return centre"
   ]
  },
  {
   "cell_type": "code",
   "execution_count": 102,
   "metadata": {},
   "outputs": [
    {
     "ename": "KeyError",
     "evalue": "0",
     "output_type": "error",
     "traceback": [
      "\u001b[1;31m---------------------------------------------------------------------------\u001b[0m",
      "\u001b[1;31mKeyError\u001b[0m                                  Traceback (most recent call last)",
      "\u001b[1;32m<ipython-input-102-0ecf5fa032e6>\u001b[0m in \u001b[0;36m<module>\u001b[1;34m()\u001b[0m\n\u001b[1;32m----> 1\u001b[1;33m \u001b[0mnouveaux_centroides\u001b[0m\u001b[1;33m(\u001b[0m\u001b[1;34m\"euclidienne\"\u001b[0m\u001b[1;33m,\u001b[0m \u001b[0mDF_data2D\u001b[0m\u001b[1;33m,\u001b[0m \u001b[0mDictAffect\u001b[0m\u001b[1;33m)\u001b[0m\u001b[1;33m\u001b[0m\u001b[0m\n\u001b[0m",
      "\u001b[1;32m<ipython-input-101-59863d31d466>\u001b[0m in \u001b[0;36mnouveaux_centroides\u001b[1;34m(fonc, base, dic)\u001b[0m\n\u001b[0;32m      2\u001b[0m     \u001b[0mcentre\u001b[0m\u001b[1;33m=\u001b[0m\u001b[0mpd\u001b[0m\u001b[1;33m.\u001b[0m\u001b[0mDataFrame\u001b[0m\u001b[1;33m(\u001b[0m\u001b[1;33m)\u001b[0m\u001b[1;33m\u001b[0m\u001b[0m\n\u001b[0;32m      3\u001b[0m     \u001b[1;32mfor\u001b[0m \u001b[0mi\u001b[0m \u001b[1;32min\u001b[0m \u001b[0mrange\u001b[0m\u001b[1;33m(\u001b[0m\u001b[0mlen\u001b[0m\u001b[1;33m(\u001b[0m\u001b[0mdic\u001b[0m\u001b[1;33m)\u001b[0m\u001b[1;33m)\u001b[0m\u001b[1;33m:\u001b[0m\u001b[1;33m\u001b[0m\u001b[0m\n\u001b[1;32m----> 4\u001b[1;33m         \u001b[0mcentre\u001b[0m\u001b[1;33m=\u001b[0m\u001b[0mcentre\u001b[0m\u001b[1;33m.\u001b[0m\u001b[0mappend\u001b[0m\u001b[1;33m(\u001b[0m\u001b[0mbase\u001b[0m\u001b[1;33m.\u001b[0m\u001b[0mloc\u001b[0m\u001b[1;33m[\u001b[0m\u001b[0mdic\u001b[0m\u001b[1;33m[\u001b[0m\u001b[0mi\u001b[0m\u001b[1;33m]\u001b[0m\u001b[1;33m]\u001b[0m\u001b[1;33m,\u001b[0m\u001b[0mignore_index\u001b[0m\u001b[1;33m=\u001b[0m\u001b[0mTrue\u001b[0m\u001b[1;33m)\u001b[0m\u001b[1;33m\u001b[0m\u001b[0m\n\u001b[0m\u001b[0;32m      5\u001b[0m     \u001b[1;32mreturn\u001b[0m \u001b[0mcentre\u001b[0m\u001b[1;33m\u001b[0m\u001b[0m\n",
      "\u001b[1;31mKeyError\u001b[0m: 0"
     ]
    }
   ],
   "source": [
    "nouveaux_centroides(\"euclidienne\", DF_data2D, DictAffect)"
   ]
  },
  {
   "cell_type": "markdown",
   "metadata": {},
   "source": [
    "### Inertie globale d'une partition\n",
    "\n",
    "En utilisant la fonction inertie_cluster(), écrire la fonction inertie_globale() qui, étant donné un nom de distance, une base d'apprentissage et une matrice d'affectation, rend la valeur de l'inertie globale du partitionnement correspondant.\n"
   ]
  },
  {
   "cell_type": "code",
   "execution_count": 98,
   "metadata": {},
   "outputs": [],
   "source": [
    "def inertie_globale(fonc,base,mat):\n",
    "    som=0\n",
    "    for i in mat.keys():\n",
    "        som=som+inertie_cluster(fonc,pd.DataFrame(mat[i]))\n",
    "    return som"
   ]
  },
  {
   "cell_type": "code",
   "execution_count": 99,
   "metadata": {},
   "outputs": [
    {
     "data": {
      "text/plain": [
       "65.5"
      ]
     },
     "execution_count": 99,
     "metadata": {},
     "output_type": "execute_result"
    }
   ],
   "source": [
    "inertie_globale(\"euclidienne\",DF_data2D,DictAffect)"
   ]
  },
  {
   "cell_type": "markdown",
   "metadata": {},
   "source": [
    "### Algorithme des K-moyennes\n",
    "\n",
    "En utilisant les fonctions précédentes, implémenter l'algorithme des K-moyennes.\n",
    "Vous écrirez une fonction kmoyennes() qui prend en argument un entier $K>1$, une base d'apprentissage, un nom de distance, ainsi que deux nombres: un réel *epsilon*$>0$ et un entier *iter_max*$>1$, et qui rend un ensemble de centroides et une matrice d'affectation.\n",
    "\n",
    "Le réel *epsilon* servira de critère de convergence, et l'entier *iter_max* sera utilisé pour fixer un nombre d'itérations maximale servant à arrêter le calcul."
   ]
  },
  {
   "cell_type": "code",
   "execution_count": 305,
   "metadata": {},
   "outputs": [],
   "source": []
  },
  {
   "cell_type": "code",
   "execution_count": 103,
   "metadata": {},
   "outputs": [
    {
     "ename": "NameError",
     "evalue": "name 'kmoyennes' is not defined",
     "output_type": "error",
     "traceback": [
      "\u001b[1;31m---------------------------------------------------------------------------\u001b[0m",
      "\u001b[1;31mNameError\u001b[0m                                 Traceback (most recent call last)",
      "\u001b[1;32m<ipython-input-103-07e54ad13dd6>\u001b[0m in \u001b[0;36m<module>\u001b[1;34m()\u001b[0m\n\u001b[1;32m----> 1\u001b[1;33m \u001b[0mles_centres\u001b[0m\u001b[1;33m,\u001b[0m \u001b[0ml_affectation\u001b[0m \u001b[1;33m=\u001b[0m \u001b[0mkmoyennes\u001b[0m\u001b[1;33m(\u001b[0m\u001b[1;36m2\u001b[0m\u001b[1;33m,\u001b[0m \u001b[0mDF_data2D\u001b[0m\u001b[1;33m,\u001b[0m \u001b[1;34m\"euclidienne\"\u001b[0m\u001b[1;33m,\u001b[0m \u001b[1;36m0.15\u001b[0m\u001b[1;33m,\u001b[0m \u001b[1;36m100\u001b[0m\u001b[1;33m)\u001b[0m\u001b[1;33m\u001b[0m\u001b[0m\n\u001b[0m\u001b[0;32m      2\u001b[0m \u001b[1;33m\u001b[0m\u001b[0m\n\u001b[0;32m      3\u001b[0m \u001b[1;32mprint\u001b[0m\u001b[1;33m(\u001b[0m\u001b[0mles_centres\u001b[0m\u001b[1;33m)\u001b[0m\u001b[1;33m\u001b[0m\u001b[0m\n\u001b[0;32m      4\u001b[0m \u001b[1;32mprint\u001b[0m\u001b[1;33m(\u001b[0m\u001b[0ml_affectation\u001b[0m\u001b[1;33m)\u001b[0m\u001b[1;33m\u001b[0m\u001b[0m\n",
      "\u001b[1;31mNameError\u001b[0m: name 'kmoyennes' is not defined"
     ]
    }
   ],
   "source": [
    "les_centres, l_affectation = kmoyennes(2, DF_data2D, \"euclidienne\", 0.15, 100)\n",
    "\n",
    "print(les_centres)\n",
    "print(l_affectation)"
   ]
  },
  {
   "cell_type": "markdown",
   "metadata": {},
   "source": [
    "### Expérimentations\n",
    "\n",
    "Expérimenter l'algorithme des k-moyennes sur les données. Etudier l'impact du choix de $K$ sur l'inertie globale finale. Faire de même en relançant plusieurs fois l'algorithme avec la même valeur de $K$, en modifiant la valeur de epsilon ou de max_iter, etc."
   ]
  },
  {
   "cell_type": "markdown",
   "metadata": {},
   "source": [
    "### Améliorations\n",
    "\n",
    "Ecrire une fonction permettant d'afficher en K couleurs les exemples d'apprentissage et les centroides obtenus en résultats de la fonction précédente. Les exemples affectés à un même cluster seront affichés dans une couleur identique.\n",
    "\n",
    "*Remarque*: La librairie matplotlib permet de pouvoir manipuler aisément des couleurs:\n",
    "http://matplotlib.org/api/cm_api.html"
   ]
  },
  {
   "cell_type": "markdown",
   "metadata": {
    "collapsed": true
   },
   "source": [
    "## Application à des données réelles\n",
    "\n",
    "- Appliquer l'algorithme aux données concernant les déchets de la ville de Paris (qui sont fournies dans le répertoire data)\n",
    "- Trouver des bases d'apprentissage intéressantes sur http://opendata.paris.fr/\n",
    "\n",
    "\n",
    "Dans les 2 cas, étudier la base et les clusters qui peuvent être mis en évidence. En particulier, regarder la variation de l'inertie globale des clusters obtenus en fonction de la valeur de $K$ choisie.\n",
    "\n",
    "\n",
    "**Attention**: il faudra certainement préparer cette base afin de pouvoir appliquer l'algorithme de clustering: en particulier, certaines colonnes (Granularité, Total...) ne sont pas à utilisables dans le calcul des distances, il faudra donc les éliminer. Il faut aussi prévoir de conserver le nom de l'arrondissement afin de pouvoir à la fin analyser le résultat du clustering."
   ]
  },
  {
   "cell_type": "code",
   "execution_count": null,
   "metadata": {
    "collapsed": true
   },
   "outputs": [],
   "source": []
  }
 ],
 "metadata": {
  "kernelspec": {
   "display_name": "Python 3",
   "language": "python",
   "name": "python3"
  },
  "language_info": {
   "codemirror_mode": {
    "name": "ipython",
    "version": 3
   },
   "file_extension": ".py",
   "mimetype": "text/x-python",
   "name": "python",
   "nbconvert_exporter": "python",
   "pygments_lexer": "ipython3",
   "version": "3.6.2"
  }
 },
 "nbformat": 4,
 "nbformat_minor": 1
}
