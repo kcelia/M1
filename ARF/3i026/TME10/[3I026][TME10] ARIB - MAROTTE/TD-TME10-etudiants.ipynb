{
 "cells": [
  {
   "cell_type": "markdown",
   "metadata": {},
   "source": [
    "# TD-TME10: résolution de problèmes\n",
    "\n",
    "L'objectif de ce TP est d'implémenter des algorithmes de résolution de problèmes.\n",
    "\n",
    "Dans un premier temps, on va utiliser le jeu du taquin $3\\times 3$ présenté en cours comme problème à résoudre. Pensez-donc à regarder la description du jeu dans les transparents du cours 10."
   ]
  },
  {
   "cell_type": "markdown",
   "metadata": {},
   "source": [
    "## Etape 1: Modélisation d'un graphe d'états pour le jeu du Taquin"
   ]
  },
  {
   "cell_type": "markdown",
   "metadata": {},
   "source": [
    "Afin de pouvoir gérer des piles ou des files d'états, on utilise la librairie *collections* de Python et l'ensemble des fonctions de gestion des listes *deque*.\n",
    "\n",
    "Familiarisez-vous avec cette librairie en regardant la documentation en ligne de votre version de Python et en testant les instructions suivantes."
   ]
  },
  {
   "cell_type": "code",
   "execution_count": 5,
   "metadata": {
    "collapsed": false
   },
   "outputs": [
    {
     "name": "stdout",
     "output_type": "stream",
     "text": [
      "('Contenu de fileEtat: ', deque(['a', 'b', 'c', 'd', 'e']))\n",
      "Récupération LIFO des éléments:\n",
      "e\n",
      "d\n",
      "c\n",
      "b\n",
      "a\n",
      "('Contenu de fileEtat: ', deque([]))\n",
      "('Contenu de fileEtat: ', deque(['a', 'b', 'c', 'd', 'e']))\n",
      "Récupération FIFO des éléments:\n",
      "a\n",
      "b\n",
      "c\n",
      "d\n",
      "e\n",
      "deque([])\n"
     ]
    }
   ],
   "source": [
    "from collections import deque\n",
    "# Déclaration\n",
    "fileEtat = deque()\n",
    "\n",
    "# Remplissage à partir d'une chaîne (par exemple)\n",
    "for i in 'abcde':\n",
    "    fileEtat.append(i)\n",
    "print(\"Contenu de fileEtat: \",fileEtat)\n",
    "\n",
    "# Utilisation comme une pile: LIFO (Last In First Out)\n",
    "print(\"Récupération LIFO des éléments:\")\n",
    "while len(fileEtat) > 0:\n",
    "    print(fileEtat.pop())\n",
    "print(\"Contenu de fileEtat: \",fileEtat)\n",
    "\n",
    "# Remplissage à partir d'une chaîne (par exemple)\n",
    "for i in 'abcde':\n",
    "    fileEtat.append(i)\n",
    "print(\"Contenu de fileEtat: \",fileEtat)\n",
    "\n",
    "# Utilisation comme une file: FIFO (First In First Out)\n",
    "print(\"Récupération FIFO des éléments:\")\n",
    "while len(fileEtat) > 0:\n",
    "    print(fileEtat.popleft())\n",
    "print(fileEtat)\n",
    "    \n",
    "    "
   ]
  },
  {
   "cell_type": "markdown",
   "metadata": {},
   "source": [
    "### Représentation du damier du Taquin\n",
    "Le Taquin est représenté sous la forme d'une liste de valeurs entières entre 0 et 9. La valeur 0 représente la case vide.\n",
    "\n",
    "Pour pouvoir gérer proprement un Taquin, on encapsule cette liste dans la classe suivante."
   ]
  },
  {
   "cell_type": "code",
   "execution_count": 6,
   "metadata": {
    "collapsed": true
   },
   "outputs": [],
   "source": [
    "class Taquin:\n",
    "    def __init__(self,grille):\n",
    "        \"\"\" grille: liste de 9 entiers de 0 à 9\n",
    "            Hypothese: la grille donnée est correcte (il faudrait faire une vérification...)\n",
    "        \"\"\"\n",
    "        self.grille = grille\n",
    "    \n",
    "    def estFinal(self):\n",
    "        \"\"\" rend True si c'est une position finale du Taquin\"\"\"\n",
    "        reference = [1,2,3,8,0,4,7,6,5]\n",
    "        return self.grille == reference\n",
    "    \n",
    "    def estCoupValide(self,coup):\n",
    "        \"\"\" coup: entier de 1 à 9\n",
    "            -> pour vérifier qu'un coup peut être jouer avant de le jouer\n",
    "        \"\"\"\n",
    "        if coup == 0:\n",
    "            # on ne joue pas la case vide !\n",
    "            return False\n",
    "        # le coup est valide si on peut déplacer la valeur vers la case 0\n",
    "        indexCoup = self.grille.index(coup)\n",
    "        indexZero = self.grille.index(0)\n",
    "        # On vérifie si les cases sont à côté\n",
    "        coordCoup = (int(indexCoup / 3.0), indexCoup % 3)  # (numLigne, numColonne)\n",
    "        coordZero = (int(indexZero / 3.0), indexZero % 3)  # (numLigne, numColonne)\n",
    "        if (coordCoup[0] == coordZero[0]):  \n",
    "            # déplacement sur même ligne\n",
    "            return (coordCoup[1] == coordZero[1]+1) or (coordCoup[1] == coordZero[1]-1)\n",
    "        elif (coordCoup[1] == coordZero[1]): \n",
    "            # déplacement sur une même colonne\n",
    "            return (coordCoup[0] == coordZero[0]+1) or (coordCoup[0] == coordZero[0]-1)\n",
    "        \n",
    "    def tousLesCoupsJouables(self):\n",
    "        \"\"\" rend la liste des jouables (coups valides donc) dans la position \n",
    "            de ce taquin\n",
    "        \"\"\"\n",
    "        return [i for i in range(1,9) if self.estCoupValide(i)]\n",
    "                    \n",
    "    def joueLeCoup(self,coup):\n",
    "        \"\"\" coup: entier de 1 à 9 qui correspond à la valeur faut déplacer donc\n",
    "            Hypothese: le coup est valide\n",
    "            -> pour jouer le coup on échange l'entier donné avec le chiffre 0 (case vide)\n",
    "            La fonction renvoie un nouveau Taquin (le Taquin courant n'est donc pas modifié)\n",
    "        \"\"\"\n",
    "        indexCoup = self.grille.index(coup)\n",
    "        coordCoup = (int(indexCoup / 3.0), indexCoup % 3)  # (numLigne, numColonne)\n",
    "        indexZero = self.grille.index(0)\n",
    "        coordZero = (int(indexZero / 3.0), indexZero % 3)  # (numLigne, numColonne)\n",
    "        resultat = []\n",
    "        for i in range(0,len(self.grille)):\n",
    "            if i == indexCoup:\n",
    "                resultat.append(0)\n",
    "            elif i == indexZero:\n",
    "                resultat.append(coup)\n",
    "            else:\n",
    "                resultat.append(self.grille[i])\n",
    "        grilleResultat = Taquin(resultat)\n",
    "        return grilleResultat\n",
    "        \n",
    "    def toString(self):\n",
    "        \"\"\" Conversion de la grille en une chaîne compacte\n",
    "            Cette chaîne sert à pouvoir mettre des taquins dans un set() ou un dict()\n",
    "        \"\"\"\n",
    "        return ''.join(str(e) for e in self.grille)\n",
    "        \n",
    "    def affiche(self):\n",
    "        \"\"\" Affichage simple du taquin \"\"\"\n",
    "        print(\"Grille du taquin:\")\n",
    "        print(\"\\t\"+str(self.grille[0:3]))\n",
    "        print(\"\\t\"+str(self.grille[3:6]))\n",
    "        print(\"\\t\"+str(self.grille[6:]))"
   ]
  },
  {
   "cell_type": "code",
   "execution_count": 7,
   "metadata": {
    "collapsed": false
   },
   "outputs": [
    {
     "name": "stdout",
     "output_type": "stream",
     "text": [
      "Grille du taquin:\n",
      "\t[2, 8, 3]\n",
      "\t[1, 6, 4]\n",
      "\t[7, 0, 5]\n",
      "('Le coup ', 8, \" n'est pas valide\")\n",
      "Position après avoir joué le coup :\n",
      "Grille du taquin:\n",
      "\t[2, 0, 3]\n",
      "\t[1, 6, 4]\n",
      "\t[7, 8, 5]\n",
      "Représentation compacte de cette grille : \n",
      "283164705\n"
     ]
    }
   ],
   "source": [
    "exemple = Taquin([2, 8, 3, 1, 6, 4, 7, 0, 5])\n",
    "exemple.affiche()\n",
    "\n",
    "cp= 8\n",
    "if exemple.estCoupValide(cp):\n",
    "    print(\"Le coup \",cp, \" est valide\")\n",
    "else:\n",
    "    print(\"Le coup \",cp, \" n'est pas valide\")\n",
    "\n",
    "nouvGrille = exemple.joueLeCoup(cp)\n",
    "print(\"Position après avoir joué le coup :\")\n",
    "nouvGrille.affiche()\n",
    "exemple.tousLesCoupsJouables()\n",
    "print(\"Représentation compacte de cette grille : \")\n",
    "print(exemple.toString())"
   ]
  },
  {
   "cell_type": "markdown",
   "metadata": {},
   "source": [
    "### Position et coups\n",
    "Lors de la recherche d'un chemin dans le graphe d'états (pour trouver une solution à une position de Taquin donnée), il est nécessaire de pouvoir associer à une position la liste des coups qui ont permis d'atteindre cette position depuis la position de Taquin initiale.\n",
    "\n",
    "On représente une telle position par la classe suivante."
   ]
  },
  {
   "cell_type": "code",
   "execution_count": 8,
   "metadata": {
    "collapsed": true
   },
   "outputs": [],
   "source": [
    "from collections import deque\n",
    "\n",
    "class PositionTaquin:\n",
    "    \"\"\" une position est une grille de Taquin ainsi qu'une liste de coups pour \n",
    "        l'atteindre depuis la position initiale\n",
    "    \"\"\"\n",
    "    def __init__(self,taq):\n",
    "        \"\"\" taq: le Taquin (contient la position)\n",
    "        \"\"\"\n",
    "        self.taquin = taq\n",
    "        self.moveList = []   # pour stocker les coups joués pour atteindre cette valeur\n",
    "        \n",
    "    def addListMove(self,oneListMove):\n",
    "        \"\"\" ajout d'un coup à la position\n",
    "            OneListMove: liste de coups\n",
    "        \"\"\"\n",
    "        for c in oneListMove:\n",
    "            self.moveList.append(c)            \n",
    "        \n",
    "    def getListMove(self):\n",
    "        \"\"\" rend la liste des coups pour atteindre ce Taquin            \n",
    "        \"\"\"\n",
    "        return self.moveList\n",
    "    \n",
    "    def getTaquin(self):\n",
    "        \"\"\" rend le Taquin\n",
    "        \"\"\"\n",
    "        return self.taquin\n",
    "    \n",
    "    def affiche(self):\n",
    "        \"\"\" Pour voir cette position et la liste des coups\n",
    "        \"\"\"\n",
    "        self.taquin.affiche()\n",
    "        print(\"Suite de coups pour l'atteindre: \")\n",
    "        for e in self.moveList:\n",
    "            print(e,\" \")\n",
    "    "
   ]
  },
  {
   "cell_type": "markdown",
   "metadata": {},
   "source": [
    "### Recherche aléatoire\n",
    "En utilisant les classes précédentes, écrire la fonction *rechercheAleatoire()* qui prend en argument un objet de la classe Taquin (position initiale de la recherche) et rend la liste des coups à jouer depuis cette position initiale pour atteindre la position finale du jeu. Si la recherche ne trouve aucune solution pour atteindre la position finale, la fonction rend None.\n",
    "La liste des coups est trouvée en appliquant une recherche aléatoire sur le graphe des états du jeu."
   ]
  },
  {
   "cell_type": "code",
   "execution_count": 9,
   "metadata": {
    "collapsed": true
   },
   "outputs": [],
   "source": [
    "from random import randint, shuffle\n",
    "def rechercheAleatoire(taquin):\n",
    "    E = []\n",
    "    P = deque()\n",
    "    \n",
    "    e = PositionTaquin(taquin)\n",
    "    \n",
    "    while(e.getTaquin().estFinal() == False):\n",
    "        coupPossible = e.getTaquin().tousLesCoupsJouables()\n",
    "        prochainTaquin = []\n",
    "        listeCoup = []\n",
    "        \n",
    "        for coup in coupPossible:\n",
    "            newTaquin = e.getTaquin().joueLeCoup(coup)\n",
    "            if(newTaquin.toString() not in E):\n",
    "                prochainTaquin.append(newTaquin)\n",
    "                listeCoup.append(coup)\n",
    "        if(len(prochainTaquin) == 0):\n",
    "            if(len(P) == 0):\n",
    "                print(\"On a pas trouvé de solution\")\n",
    "                return None\n",
    "\n",
    "        else:\n",
    "            P.append(e)\n",
    "            \n",
    "            indiceCoup = randint(0, len(listeCoup) - 1)\n",
    "            \n",
    "            newTaquin = PositionTaquin(prochainTaquin[indiceCoup])\n",
    "            newTaquin.addListMove(e.getListMove() + [listeCoup[indiceCoup]])\n",
    "            \n",
    "            P.append(newTaquin)\n",
    "            \n",
    "        E.append(e.getTaquin().toString())\n",
    "        shuffle(P)\n",
    "        e = P.pop()\n",
    "    return e"
   ]
  },
  {
   "cell_type": "code",
   "execution_count": 11,
   "metadata": {
    "collapsed": false
   },
   "outputs": [
    {
     "name": "stdout",
     "output_type": "stream",
     "text": [
      "Grille de Taquin initiale :\n",
      "Grille du taquin:\n",
      "\t[2, 8, 3]\n",
      "\t[1, 6, 4]\n",
      "\t[7, 0, 5]\n",
      "Coups à jouer pour résoudre ce Taquin :\n",
      "Grille du taquin:\n",
      "\t[1, 2, 3]\n",
      "\t[8, 0, 4]\n",
      "\t[7, 6, 5]\n",
      "Suite de coups pour l'atteindre: \n",
      "(6, ' ')\n",
      "(8, ' ')\n",
      "(2, ' ')\n",
      "(1, ' ')\n",
      "(8, ' ')\n"
     ]
    }
   ],
   "source": [
    "exemple = Taquin([2, 8, 3, 1, 6, 4, 7, 0, 5])\n",
    "print(\"Grille de Taquin initiale :\")\n",
    "exemple.affiche()\n",
    "print(\"Coups à jouer pour résoudre ce Taquin :\")\n",
    "rechercheAleatoire(exemple).affiche()"
   ]
  },
  {
   "cell_type": "markdown",
   "metadata": {
    "collapsed": true
   },
   "source": [
    "### Recherche en profondeur\n",
    "\n",
    "Ecrire la fonction *rechercheProfondeur()* qui prend en argument un objet de la classe Taquin (position initiale de la recherche) et rend la liste des coups à jouer depuis cette position initiale pour atteindre la position finale du jeu. La liste des coups est trouvée en appliquant une recherche en profondeur sur le graphe des états du jeu.\n",
    "Si la recherche ne trouve aucune solution pour atteindre la position finale, la fonction rend None."
   ]
  },
  {
   "cell_type": "code",
   "execution_count": 2,
   "metadata": {
    "collapsed": true
   },
   "outputs": [],
   "source": [
    "### N'A PAS ÉTÉ TESTÉ CAR TOURNE TRES / TROP LONGTEMPS (maximum recursion depth exceeded)\n",
    "def rechercheProfondeur(taquin):\n",
    "    e = PositionTaquin(taquin)\n",
    "    coupPossible = e.getTaquin().tousLesCoupsJouables()\n",
    "    return rechProfRec(e, coupPossible, [])\n",
    "\n",
    "def rechProfRec(taquin, coupPossible, E):\n",
    "    E.append(taquin.getTaquin().toString())\n",
    "    \n",
    "    if(taquin.getTaquin().estFinal() == True):\n",
    "        return taquin\n",
    "    \n",
    "    for coup in coupPossible:\n",
    "        newTaquin = taquin.getTaquin().joueLeCoup(coup)\n",
    "        if(newTaquin.toString() not in E):\n",
    "            e = PositionTaquin(newTaquin)\n",
    "            e.addListMove(taquin.getListMove() + [coup])\n",
    "            taquinDesc = rechProfRec(e, e.getTaquin().tousLesCoupsJouables(), E)\n",
    "            if(taquinDesc != None):\n",
    "                if(taquinDesc.getTaquin().estFinal() == True):\n",
    "                    return taquinDesc\n",
    "    return None"
   ]
  },
  {
   "cell_type": "code",
   "execution_count": 3,
   "metadata": {
    "collapsed": false
   },
   "outputs": [
    {
     "ename": "NameError",
     "evalue": "name 'exemple' is not defined",
     "output_type": "error",
     "traceback": [
      "\u001b[1;31m---------------------------------------------------------------------------\u001b[0m",
      "\u001b[1;31mNameError\u001b[0m                                 Traceback (most recent call last)",
      "\u001b[1;32m<ipython-input-3-3002eb4d8086>\u001b[0m in \u001b[0;36m<module>\u001b[1;34m()\u001b[0m\n\u001b[1;32m----> 1\u001b[1;33m \u001b[0mrechercheProfondeur\u001b[0m\u001b[1;33m(\u001b[0m\u001b[0mexemple\u001b[0m\u001b[1;33m)\u001b[0m\u001b[1;33m\u001b[0m\u001b[0m\n\u001b[0m",
      "\u001b[1;31mNameError\u001b[0m: name 'exemple' is not defined"
     ]
    }
   ],
   "source": [
    "rechercheProfondeur(exemple)"
   ]
  },
  {
   "cell_type": "markdown",
   "metadata": {},
   "source": [
    "### Recherche en largeur\n",
    "\n",
    "Ecrire la fonction *rechercheLargeur()* qui prend en argument un objet de la classe Taquin (position initiale de la recherche) et rend la liste des coups à jouer depuis cette position initiale pour atteindre la position finale du jeu. La liste des coups est trouvée en appliquant une recherche en largeur sur le graphe des états du jeu.\n",
    "Si la recherche ne trouve aucune solution pour atteindre la position finale, la fonction rend None.\n",
    "\n"
   ]
  },
  {
   "cell_type": "code",
   "execution_count": 12,
   "metadata": {
    "collapsed": true
   },
   "outputs": [],
   "source": [
    "def rechLargeur(e):\n",
    "    E = []\n",
    "    F = deque()\n",
    "    \n",
    "    e = PositionTaquin(e)\n",
    "    \n",
    "    F.append(e)\n",
    "    print(len(F))\n",
    "    i = 0\n",
    "    while(len(F) != 0):\n",
    "        i+=1\n",
    "        x = F.popleft()\n",
    "        \n",
    "        if(x.getTaquin().estFinal()):\n",
    "            return x\n",
    "        \n",
    "        for coup in x.getTaquin().tousLesCoupsJouables():\n",
    "            y = x.getTaquin().joueLeCoup(coup)\n",
    "            if(y.toString() not in E):\n",
    "                E.append(y.toString)\n",
    "                y = PositionTaquin(y)\n",
    "                y.addListMove(x.getListMove() + [coup])\n",
    "                F.append(y)\n",
    "    print(i)"
   ]
  },
  {
   "cell_type": "code",
   "execution_count": 13,
   "metadata": {
    "collapsed": false
   },
   "outputs": [
    {
     "name": "stdout",
     "output_type": "stream",
     "text": [
      "Grille de Taquin initiale :\n",
      "Grille du taquin:\n",
      "\t[2, 8, 3]\n",
      "\t[1, 6, 4]\n",
      "\t[7, 0, 5]\n",
      "Coups à jouer pour résoudre ce Taquin :\n",
      "1\n",
      "Grille du taquin:\n",
      "\t[1, 2, 3]\n",
      "\t[8, 0, 4]\n",
      "\t[7, 6, 5]\n",
      "Suite de coups pour l'atteindre: \n",
      "(6, ' ')\n",
      "(8, ' ')\n",
      "(2, ' ')\n",
      "(1, ' ')\n",
      "(8, ' ')\n"
     ]
    }
   ],
   "source": [
    "exemple = Taquin([2, 8, 3, 1, 6, 4, 7, 0, 5])\n",
    "print(\"Grille de Taquin initiale :\")\n",
    "exemple.affiche()\n",
    "print(\"Coups à jouer pour résoudre ce Taquin :\")\n",
    "rechLargeur(exemple).affiche()"
   ]
  },
  {
   "cell_type": "markdown",
   "metadata": {},
   "source": [
    "### Recherche par l'algorithme A$*$\n",
    "\n",
    "Afin de pouvoir appliquer l'algorithme A$*$, il est nécessaire d'utiliser une heuristique. \n",
    "\n",
    "Ecrire la fonction *evalH()* qui, pour une grille de Taquin donnée, rend le nombre de cases non nulles mal placées dans cette grille."
   ]
  },
  {
   "cell_type": "code",
   "execution_count": 10,
   "metadata": {
    "collapsed": true
   },
   "outputs": [],
   "source": [
    "def evalH(taquin):\n",
    "    reference = [1,2,3,8,0,4,7,6,5]\n",
    "    malPlace = 0\n",
    "    for i in range(len(taquin.grille)):\n",
    "        if(taquin.grille[i] != reference[i] and taquin.grille[i] != 0):\n",
    "            malPlace += 1\n",
    "    return malPlace"
   ]
  },
  {
   "cell_type": "markdown",
   "metadata": {},
   "source": [
    "En vous aidant de la classe *PositionTaquin*, écrire la classe *PositionTaquinEvaluee* qui contient aussi les évaluations *g(e)* et *h(e)* pour une grille de Taquin *e*."
   ]
  },
  {
   "cell_type": "code",
   "execution_count": 14,
   "metadata": {
    "collapsed": true
   },
   "outputs": [],
   "source": [
    "from collections import deque\n",
    "\n",
    "class PositionTaquinEvaluee:\n",
    "    \"\"\" une position est une grille de Taquin ainsi qu'une liste de coups pour \n",
    "        l'atteindre depuis la position initiale\n",
    "    \"\"\"\n",
    "    def __init__(self,taq, g):\n",
    "        \"\"\" taq: le Taquin (contient la position)\n",
    "        \"\"\"\n",
    "        self.taquin = taq\n",
    "        self.moveList = []   # pour stocker les coups joués pour atteindre cette valeur\n",
    "        self.h = evalH(self.taquin)\n",
    "        self.g = g\n",
    "\n",
    "    def addListMove(self,oneListMove):\n",
    "        \"\"\" ajout d'un coup à la position\n",
    "            OneListMove: liste de coups\n",
    "        \"\"\"\n",
    "        for c in oneListMove:\n",
    "            self.moveList.append(c)            \n",
    "        \n",
    "    def getListMove(self):\n",
    "        \"\"\" rend la liste des coups pour atteindre ce Taquin            \n",
    "        \"\"\"\n",
    "        return self.moveList\n",
    "    \n",
    "    def getTaquin(self):\n",
    "        \"\"\" rend le Taquin\n",
    "        \"\"\"\n",
    "        return self.taquin\n",
    "    \n",
    "    def affiche(self):\n",
    "        \"\"\" Pour voir cette position et la liste des coups\n",
    "        \"\"\"\n",
    "        self.taquin.affiche()\n",
    "        print(\"Suite de coups pour l'atteindre: \")\n",
    "        for e in self.moveList:\n",
    "            print(e,\" \")"
   ]
  },
  {
   "cell_type": "markdown",
   "metadata": {},
   "source": [
    "Ecrire la fonction *rechercheAEtoile()* qui prend en argument un objet de la classe Taquin (position initiale de la recherche) et rend la liste des coups à jouer depuis cette position initiale pour atteindre la position finale du jeu. La liste des coups est trouvée en appliquant l'algorithme A$*$ sur le graphe des états du jeu.\n",
    "Si la recherche ne trouve aucune solution pour atteindre la position finale, la fonction rend None.\n",
    "\n",
    "\n"
   ]
  },
  {
   "cell_type": "code",
   "execution_count": 12,
   "metadata": {
    "collapsed": false
   },
   "outputs": [],
   "source": [
    "def rechercheAEtoile(taquin):\n",
    "    etat = PositionTaquinEvaluee(taquin, 0)\n",
    "    F = []\n",
    "    \n",
    "    while(etat.getTaquin().estFinal() == False):\n",
    "        for coup in etat.getTaquin().tousLesCoupsJouables():\n",
    "            newEtat = etat.getTaquin().joueLeCoup(coup)\n",
    "            newEtat = PositionTaquinEvaluee(newEtat, etat.g + 1)\n",
    "            newEtat.addListMove(etat.getListMove() + [coup])\n",
    "            F.append((newEtat.g + newEtat.h, newEtat))\n",
    "        coupleMin = min(F)\n",
    "        F.remove(coupleMin)\n",
    "        etat = coupleMin[1]\n",
    "    return etat"
   ]
  },
  {
   "cell_type": "code",
   "execution_count": 13,
   "metadata": {
    "collapsed": false
   },
   "outputs": [
    {
     "name": "stdout",
     "output_type": "stream",
     "text": [
      "Grille de Taquin initiale :\n",
      "Grille du taquin:\n",
      "\t[2, 8, 3]\n",
      "\t[1, 6, 4]\n",
      "\t[7, 0, 5]\n",
      "Coups à jouer pour résoudre ce Taquin :\n",
      "Grille du taquin:\n",
      "\t[1, 2, 3]\n",
      "\t[8, 0, 4]\n",
      "\t[7, 6, 5]\n",
      "Suite de coups pour l'atteindre: \n",
      "(6, ' ')\n",
      "(8, ' ')\n",
      "(2, ' ')\n",
      "(1, ' ')\n",
      "(8, ' ')\n"
     ]
    }
   ],
   "source": [
    "exemple = Taquin([2, 8, 3, 1, 6, 4, 7, 0, 5])\n",
    "print(\"Grille de Taquin initiale :\")\n",
    "exemple.affiche()\n",
    "print(\"Coups à jouer pour résoudre ce Taquin :\")\n",
    "rechercheAEtoile(exemple).affiche()"
   ]
  },
  {
   "cell_type": "markdown",
   "metadata": {},
   "source": [
    "## Etape 2: Jeu de Taquin plus complexe\n",
    "\n",
    "En vous aidant de la description du jeu (https://fr.wikipedia.org/wiki/Taquin) écrire une fonction *rechercheAEtoile()* qui permette de trouver la solution d'une position de Taquin $4\\times 4$."
   ]
  },
  {
   "cell_type": "code",
   "execution_count": 14,
   "metadata": {
    "collapsed": true
   },
   "outputs": [],
   "source": [
    "class Taquin4:\n",
    "    def __init__(self,grille):\n",
    "        \"\"\" grille: liste de 9 entiers de 0 à 9\n",
    "            Hypothese: la grille donnée est correcte (il faudrait faire une vérification...)\n",
    "        \"\"\"\n",
    "        self.grille = grille\n",
    "    \n",
    "    def estFinal(self):\n",
    "        \"\"\" rend True si c'est une position finale du Taquin\"\"\"\n",
    "        reference = [1,2,3,4,5,6,7,8,9,10,11,12,13,14,15,0]\n",
    "        return self.grille == reference\n",
    "    \n",
    "    def estCoupValide(self,coup):\n",
    "        \"\"\" coup: entier de 1 à 9\n",
    "            -> pour vérifier qu'un coup peut être jouer avant de le jouer\n",
    "        \"\"\"\n",
    "        if coup == 0:\n",
    "            # on ne joue pas la case vide !\n",
    "            return False\n",
    "        # le coup est valide si on peut déplacer la valeur vers la case 0\n",
    "        indexCoup = self.grille.index(coup)\n",
    "        indexZero = self.grille.index(0)\n",
    "        # On vérifie si les cases sont à côté\n",
    "        coordCoup = (int(indexCoup / 4.0), indexCoup % 4)  # (numLigne, numColonne)\n",
    "        coordZero = (int(indexZero / 4.0), indexZero % 4)  # (numLigne, numColonne)\n",
    "        if (coordCoup[0] == coordZero[0]):  \n",
    "            # déplacement sur même ligne\n",
    "            return (coordCoup[1] == coordZero[1]+1) or (coordCoup[1] == coordZero[1]-1)\n",
    "        elif (coordCoup[1] == coordZero[1]): \n",
    "            # déplacement sur une même colonne\n",
    "            return (coordCoup[0] == coordZero[0]+1) or (coordCoup[0] == coordZero[0]-1)\n",
    "        \n",
    "    def tousLesCoupsJouables(self):\n",
    "        \"\"\" rend la liste des jouables (coups valides donc) dans la position \n",
    "            de ce taquin\n",
    "        \"\"\"\n",
    "        return [i for i in range(1,16) if self.estCoupValide(i)]\n",
    "                    \n",
    "    def joueLeCoup(self,coup):\n",
    "        \"\"\" coup: entier de 1 à 9 qui correspond à la valeur faut déplacer donc\n",
    "            Hypothese: le coup est valide\n",
    "            -> pour jouer le coup on échange l'entier donné avec le chiffre 0 (case vide)\n",
    "            La fonction renvoie un nouveau Taquin (le Taquin courant n'est donc pas modifié)\n",
    "        \"\"\"\n",
    "        indexCoup = self.grille.index(coup)\n",
    "        coordCoup = (int(indexCoup / 4.0), indexCoup % 4)  # (numLigne, numColonne)\n",
    "        indexZero = self.grille.index(0)\n",
    "        coordZero = (int(indexZero / 4.0), indexZero % 4)  # (numLigne, numColonne)\n",
    "        resultat = []\n",
    "        for i in range(0,len(self.grille)):\n",
    "            if i == indexCoup:\n",
    "                resultat.append(0)\n",
    "            elif i == indexZero:\n",
    "                resultat.append(coup)\n",
    "            else:\n",
    "                resultat.append(self.grille[i])\n",
    "        grilleResultat = Taquin4(resultat)\n",
    "        return grilleResultat\n",
    "        \n",
    "    def toString(self):\n",
    "        \"\"\" Conversion de la grille en une chaîne compacte\n",
    "            Cette chaîne sert à pouvoir mettre des taquins dans un set() ou un dict()\n",
    "        \"\"\"\n",
    "        return ''.join(str(e) for e in self.grille)\n",
    "        \n",
    "    def affiche(self):\n",
    "        \"\"\" Affichage simple du taquin \"\"\"\n",
    "        print(\"Grille du taquin:\")\n",
    "        print(\"\\t\"+str(self.grille[0:4]))\n",
    "        print(\"\\t\"+str(self.grille[4:8]))\n",
    "        print(\"\\t\"+str(self.grille[8:12]))\n",
    "        print(\"\\t\"+str(self.grille[12:]))\n",
    "              "
   ]
  },
  {
   "cell_type": "code",
   "execution_count": null,
   "metadata": {
    "collapsed": false
   },
   "outputs": [],
   "source": [
    "## ON A ESSAYÉ UNE AUTRE HEURISTIQUE EN SUPPOSANT QUE LE TABLEAU FINAL ÉTAIT DE LA FORME [1, 2, 3, ..., 15, 0] \n",
    "## MAIS CELA PRENDS QUAND MÊME BEAUCOUP DE TEMPS AVEC LES DEUX HEURISTIQUES\n",
    "## ON A SUREMENT PAS CODÉ CELA DE LA BONNE MANIÈRE\n",
    "\n",
    "'''def evalH(taquin):\n",
    "    reference = [1, 2, 3, 4, 5, 6, 7, 8, 9, 10, 11, 12, 13, 14, 15, 0]\n",
    "    malPlace = 0\n",
    "    for i in range(len(taquin.grille)):\n",
    "        if(taquin.grille[i] != reference[i] and taquin.grille[i] != 0):\n",
    "            malPlace += 1\n",
    "    return malPlace'''\n",
    "\n",
    "def evalH(taquin):\n",
    "    malPlace = 0\n",
    "    for i in range(len(taquin.grille)):\n",
    "        if(i != 0):\n",
    "            ligne = (taquin.grille.index(i))/4\n",
    "            colonne = (taquin.grille.index(i))% 4\n",
    "            valeur = taquin.grille[i]\n",
    "            ligneOpti = i / 4\n",
    "            colonneOpti = i % 4\n",
    "            malPlace += abs(colonne-colonneOpti) + abs(ligne - ligneOpti)\n",
    "            #print(colonne-colonneOpti)\n",
    "    return malPlace\n",
    "\n",
    "\n",
    "exemple = Taquin4([13, 2, 3, 12, 9, 11, 1, 10, 0, 6, 4, 14, 15, 8, 7, 5])\n",
    "print(\"Grille de Taquin initiale :\")\n",
    "exemple.affiche()\n",
    "print(\"Coups à jouer pour résoudre ce Taquin :\")\n",
    "rechercheAEtoile(exemple).affiche()"
   ]
  },
  {
   "cell_type": "markdown",
   "metadata": {},
   "source": [
    "\n"
   ]
  }
 ],
 "metadata": {
  "kernelspec": {
   "display_name": "Python 2",
   "language": "python",
   "name": "python2"
  },
  "language_info": {
   "codemirror_mode": {
    "name": "ipython",
    "version": 2
   },
   "file_extension": ".py",
   "mimetype": "text/x-python",
   "name": "python",
   "nbconvert_exporter": "python",
   "pygments_lexer": "ipython2",
   "version": "2.7.9"
  }
 },
 "nbformat": 4,
 "nbformat_minor": 0
}
