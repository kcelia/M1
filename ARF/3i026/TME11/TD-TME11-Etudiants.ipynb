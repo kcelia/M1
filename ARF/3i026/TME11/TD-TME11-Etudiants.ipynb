{
 "cells": [
  {
   "cell_type": "markdown",
   "metadata": {},
   "source": [
    "# TD-TME11: résolution de problèmes - jeu à 2 joueurs\n",
    "\n",
    "L'objectif de ce TP est d'implémenter des algorithmes de résolution de problèmes pour réaliser une IA capable de jouer à des jeux à 2 joueurs.\n",
    "\n",
    "Dans ce TP, on ne va pas se consacrer à un jeu en particulier mais implémenter des fonctions de bases pour la conception d'un joueur artificiel."
   ]
  },
  {
   "cell_type": "markdown",
   "metadata": {},
   "source": [
    "## Etape 0: Evaluation de l'UE !\n",
    "\n",
    "Avant de commencer, prenez quelques minutes pour remplir l'évaluation de l'UE !\n",
    "\n",
    "Vous avez dù recevoir un mail sur votre compte @etu.upmc.fr avec les liens vers les questionnaires pour les UE que vous avez suivies, pensez à y répondre !\n"
   ]
  },
  {
   "cell_type": "markdown",
   "metadata": {},
   "source": [
    "## Etape 1: Arbres des coups et évaluations\n",
    "\n",
    "Afin de simuler le comportement d'un jeu à 2 joueurs, on utilise la représentation suivante: les positions sont dénommées par un label (une chaîne de caractères). Une position peut être évaluée soit parce qu'elle est terminale pour le jeu, soit parce que l'on a appliqué une fonction d'évaluation. Dans ce cas, elle est associée à une valeur numérique entière comprise entre $-1024$ (position gagnante pour le joueur $j1$) et $+1024$ (position gagnante pour le joueur $j2$)."
   ]
  },
  {
   "cell_type": "markdown",
   "metadata": {},
   "source": [
    "En Python, un arbre de recherche est représenté par un dictionnaire:\n",
    "- la clé du dictionnaire est le label de la position\n",
    "- la valeur associée est une liste contenant les positions atteignables en un coup:\n",
    "    - soit sous forme de label, soit sous forme de valeur numérique (si la position atteignable a été évaluée)\n",
    "\n",
    "Par exemple, l'arbre donné en cours est représenté par le dictionnaire:"
   ]
  },
  {
   "cell_type": "code",
   "execution_count": 1,
   "metadata": {},
   "outputs": [
    {
     "data": {
      "text/plain": [
       "{'A': ['B', 'C', 'D'],\n",
       " 'B': ['E', 'F'],\n",
       " 'C': ['G', 'H'],\n",
       " 'D': ['I', 'J'],\n",
       " 'E': [7, 12],\n",
       " 'F': [14, 16],\n",
       " 'G': [6, 5],\n",
       " 'H': [3, 4],\n",
       " 'I': [10, 8],\n",
       " 'J': [7, 1]}"
      ]
     },
     "execution_count": 1,
     "metadata": {},
     "output_type": "execute_result"
    }
   ],
   "source": [
    "arbre_cours = dict()\n",
    "arbre_cours['A']= ['B', 'C', 'D']\n",
    "arbre_cours['B']= ['E', 'F']\n",
    "arbre_cours['C']= ['G', 'H']\n",
    "arbre_cours['D']= ['I', 'J']\n",
    "arbre_cours['E']= [7, 12]\n",
    "arbre_cours['F']= [14, 16]\n",
    "arbre_cours['G']= [6, 5]\n",
    "arbre_cours['H']= [3, 4]\n",
    "arbre_cours['I']= [10, 8]\n",
    "arbre_cours['J']= [7, 1]\n",
    "\n",
    "arbre_cours"
   ]
  },
  {
   "cell_type": "code",
   "execution_count": 2,
   "metadata": {},
   "outputs": [
    {
     "data": {
      "text/plain": [
       "{'A': ['B', 'C', 'D'],\n",
       " 'B': ['E', 'F'],\n",
       " 'C': ['G', 'H'],\n",
       " 'D': ['I', 'J'],\n",
       " 'E': [7, 12],\n",
       " 'F': [14, 16],\n",
       " 'G': [6, 5],\n",
       " 'H': [3, 4],\n",
       " 'I': [10, 8],\n",
       " 'J': [7, 1]}"
      ]
     },
     "execution_count": 2,
     "metadata": {},
     "output_type": "execute_result"
    }
   ],
   "source": [
    "arbre_cours"
   ]
  },
  {
   "cell_type": "markdown",
   "metadata": {},
   "source": [
    "On rappelle qu'il est facile de connaître le type d'une variable grâce à la fonction Python *type*:"
   ]
  },
  {
   "cell_type": "code",
   "execution_count": 3,
   "metadata": {},
   "outputs": [
    {
     "name": "stdout",
     "output_type": "stream",
     "text": [
      "le label est une chaîne\n"
     ]
    }
   ],
   "source": [
    "label= 'A'\n",
    "if type(label) == str:\n",
    "    print('le label est une chaîne')\n",
    "elif type(label) == int:\n",
    "    print('le label est un entier')\n",
    "else:\n",
    "    print ('type de label inconnu')"
   ]
  },
  {
   "cell_type": "markdown",
   "metadata": {},
   "source": [
    "### Classe pour représenter un arbre"
   ]
  },
  {
   "cell_type": "code",
   "execution_count": 4,
   "metadata": {
    "collapsed": true
   },
   "outputs": [],
   "source": [
    "# - - Fonctions utiles:\n",
    "def estFeuille(label):\n",
    "    \"\"\" label: chaîne ou entier\n",
    "        rend True si label est un entier\n",
    "    \"\"\"\n",
    "    return type(label) == int\n",
    "\n",
    "def autreCamp(camp):\n",
    "    \"\"\" camp: soit 'MIN', soit 'MAX'\n",
    "        rend l'autre camp\n",
    "    \"\"\"\n",
    "    if camp == 'MIN':\n",
    "        return 'MAX'\n",
    "    return 'MIN'\n",
    "\n",
    "# - - Classe pour représenter un arbre de recherche\n",
    "class ArbreCoups:\n",
    "    def __init__(self,dico,racine,joueur):\n",
    "        \"\"\" dico: dictionnaire donnant l'arbre de recherche simulé\n",
    "            racine: position de départ (racine de l'arbre)\n",
    "            joueur: joueur qui doit jouer dans la position racine: soit 'MIN' soit 'MAX'\n",
    "        \"\"\"\n",
    "        self.arbre = dico\n",
    "        self.racine = racine\n",
    "        self.joueur = joueur\n",
    "    def getDico (self) :\n",
    "        return self.arbre\n",
    "    def donnePositionsFilles(self,label):\n",
    "        \"\"\" label: chaîne ou entier\n",
    "            rend la liste des positions filles de la position de label donné\n",
    "            ou [] si c'est une feuille de l'arbre ou si le label est incorrect\n",
    "            Hypothèse: on considèrera quand même que le label sera toujours correct.\n",
    "        \"\"\"\n",
    "        if estFeuille(label):\n",
    "            return []\n",
    "        return self.arbre[label]\n",
    "    \n",
    "    def donneRacine(self):\n",
    "        \"\"\" rend le label de la racine de l'arbre\n",
    "        \"\"\"\n",
    "        return self.racine"
   ]
  },
  {
   "cell_type": "code",
   "execution_count": 5,
   "metadata": {},
   "outputs": [
    {
     "data": {
      "text/plain": [
       "{'A': ['B', 'C', 'D'],\n",
       " 'B': ['E', 'F'],\n",
       " 'C': ['G', 'H'],\n",
       " 'D': ['I', 'J'],\n",
       " 'E': [7, 12],\n",
       " 'F': [14, 16],\n",
       " 'G': [6, 5],\n",
       " 'H': [3, 4],\n",
       " 'I': [10, 8],\n",
       " 'J': [7, 1]}"
      ]
     },
     "execution_count": 5,
     "metadata": {},
     "output_type": "execute_result"
    }
   ],
   "source": [
    "unArbre = ArbreCoups(arbre_cours,'A', 'MAX')\n",
    "unArbre.arbre"
   ]
  },
  {
   "cell_type": "code",
   "execution_count": 6,
   "metadata": {},
   "outputs": [
    {
     "data": {
      "text/plain": [
       "['B', 'C', 'D']"
      ]
     },
     "execution_count": 6,
     "metadata": {},
     "output_type": "execute_result"
    }
   ],
   "source": [
    "unArbre.donnePositionsFilles('A')"
   ]
  },
  {
   "cell_type": "code",
   "execution_count": 7,
   "metadata": {},
   "outputs": [
    {
     "data": {
      "text/plain": [
       "[7, 12]"
      ]
     },
     "execution_count": 7,
     "metadata": {},
     "output_type": "execute_result"
    }
   ],
   "source": [
    "unArbre.donnePositionsFilles('E')"
   ]
  },
  {
   "cell_type": "markdown",
   "metadata": {},
   "source": [
    "**[Q]** Ecrire la fonction *afficheArbre* qui prend un *ArbreCoups* en argument est l'affiche joliement.\n",
    "\n",
    "Il pourra être intéressant d'utiliser la représentation par *deque* de la classe *collections* vu à la séance précédente."
   ]
  },
  {
   "cell_type": "code",
   "execution_count": 8,
   "metadata": {},
   "outputs": [],
   "source": [
    "from collections import deque\n",
    "HMAX = 100\n",
    "def afficheArbre ( un_Arbre ) :\n",
    "    # Déclaration\n",
    "    pile = deque()\n",
    "    racine = un_Arbre.donneRacine()\n",
    "    pile.append((racine,0))\n",
    "    cpt = 0\n",
    "    while cpt <= HMAX and len(pile) > 0 :\n",
    "        label,niv = pile.pop()\n",
    "        if niv == 0 :\n",
    "            print label \n",
    "        else :\n",
    "            print \"  |  \"*(niv-1),\" |---\",label\n",
    "        fils = un_Arbre.donnePositionsFilles(label)\n",
    "        for i in fils :\n",
    "            pile.append((i,niv+1))\n",
    "        "
   ]
  },
  {
   "cell_type": "code",
   "execution_count": 9,
   "metadata": {},
   "outputs": [
    {
     "name": "stdout",
     "output_type": "stream",
     "text": [
      "A\n",
      "  |--- D\n",
      "  |    |--- J\n",
      "  |    |    |--- 1\n",
      "  |    |    |--- 7\n",
      "  |    |--- I\n",
      "  |    |    |--- 8\n",
      "  |    |    |--- 10\n",
      "  |--- C\n",
      "  |    |--- H\n",
      "  |    |    |--- 4\n",
      "  |    |    |--- 3\n",
      "  |    |--- G\n",
      "  |    |    |--- 5\n",
      "  |    |    |--- 6\n",
      "  |--- B\n",
      "  |    |--- F\n",
      "  |    |    |--- 16\n",
      "  |    |    |--- 14\n",
      "  |    |--- E\n",
      "  |    |    |--- 12\n",
      "  |    |    |--- 7\n"
     ]
    }
   ],
   "source": [
    "afficheArbre(unArbre)"
   ]
  },
  {
   "cell_type": "code",
   "execution_count": 10,
   "metadata": {},
   "outputs": [
    {
     "data": {
      "text/plain": [
       "'A'"
      ]
     },
     "execution_count": 10,
     "metadata": {},
     "output_type": "execute_result"
    }
   ],
   "source": [
    "unArbre.donneRacine() "
   ]
  },
  {
   "cell_type": "code",
   "execution_count": 11,
   "metadata": {
    "scrolled": false
   },
   "outputs": [
    {
     "name": "stdout",
     "output_type": "stream",
     "text": [
      "A\n",
      "  |--- D\n",
      "  |    |--- J\n",
      "  |    |    |--- 1\n",
      "  |    |    |--- 7\n",
      "  |    |--- I\n",
      "  |    |    |--- 8\n",
      "  |    |    |--- 10\n",
      "  |--- C\n",
      "  |    |--- H\n",
      "  |    |    |--- 4\n",
      "  |    |    |--- 3\n",
      "  |    |--- G\n",
      "  |    |    |--- 5\n",
      "  |    |    |--- 6\n",
      "  |--- B\n",
      "  |    |--- F\n",
      "  |    |    |--- 16\n",
      "  |    |    |--- 14\n",
      "  |    |--- E\n",
      "  |    |    |--- 12\n",
      "  |    |    |--- 7\n"
     ]
    }
   ],
   "source": [
    "afficheArbre(unArbre)"
   ]
  },
  {
   "cell_type": "markdown",
   "metadata": {
    "collapsed": true
   },
   "source": [
    "## Etape 2: algorithme minimax\n",
    "\n",
    "En considérant que l'arbre des coups est celui représenté dans la partie précédente, on souhaite maintenant écrire la fonction *minimax* qui parcourt l'arbre et rend le meilleur coup à jouer à la racine de l'arbre, ainsi que son évaluation.\n",
    "\n",
    "L'écriture de cette fonction va être un peu particulière: on utilise un *ArbreCoups* en argument mais celui-ci ne sera jamais modifié, il ne sert qu'à connaître les coups à jouer.\n",
    "Pour la programmation d'un vrai jeu, on n'aurait pas à utiliser une telle structure données.\n"
   ]
  },
  {
   "cell_type": "markdown",
   "metadata": {},
   "source": [
    "**[Q]** Ecrire la fonction *minimax* qui prend en argument un *ArbreCoups*, une position de cet arbre et le camp qui doit jouer ('MIN' ou 'MAX') et rend le triplet constitué par l'évaluation de cette position trouvée par l'algorithme minimax, la liste des coups qui mènent à cette évaluation, ainsi que le nombre total d'évaluations réalisées (c'est-à-dire de feuilles vues).\n",
    "\n",
    "Remarque: dans cette implémentation, on donnera la position à atteindre et non pas le coups.\n"
   ]
  },
  {
   "cell_type": "code",
   "execution_count": 15,
   "metadata": {},
   "outputs": [],
   "source": [
    "def minimax(unArbre,pos,camp) :\n",
    "    nb_feuilles_vues = 0\n",
    "    liste_coups = []\n",
    "    if estFeuille (pos) :\n",
    "        return pos, [], nb_feuilles_vues + 1\n",
    "    fils = unArbre.donnePositionsFilles(pos)\n",
    "    newCamp = autreCamp(camp)\n",
    "    if camp == \"MAX\" :\n",
    "        best_val = -1024\n",
    "    else :\n",
    "        best_val = 1024\n",
    "    for i in fils :\n",
    "        a,b,c = minimax(unArbre,i,newCamp)\n",
    "        nb_feuilles_vues = nb_feuilles_vues + c \n",
    "        if (camp == 'MAX') :\n",
    "            if(a > best_val) :\n",
    "                best_val = a \n",
    "                liste_coups=[i]+b\n",
    "        else :\n",
    "            if(a < best_val) :\n",
    "                best_val = a \n",
    "                liste_coups=[i]+b\n",
    "\n",
    "    return best_val,liste_coups,nb_feuilles_vues"
   ]
  },
  {
   "cell_type": "code",
   "execution_count": 19,
   "metadata": {},
   "outputs": [
    {
     "name": "stdout",
     "output_type": "stream",
     "text": [
      "Evaluation trouvée:  7\n",
      "Chemin trouvé:  [7]\n",
      "Nombre de feuilles vues:  2\n"
     ]
    }
   ],
   "source": [
    "evaluation, liste_coups, nb_feuilles_vues = minimax(unArbre,'E','MIN')\n",
    "print\"Evaluation trouvée: \", evaluation \n",
    "print\"Chemin trouvé: \", liste_coups\n",
    "print\"Nombre de feuilles vues: \", nb_feuilles_vues"
   ]
  },
  {
   "cell_type": "markdown",
   "metadata": {},
   "source": [
    "## Etape 3: algorithme alpha-béta\n",
    "\n",
    "**[Q]** Ecrire la fonction *alphabeta* qui prend en argument un *ArbreCoups*, une position de cet arbre, le camp qui doit jouer ('MIN' ou 'MAX') et les valeurs alpha et béta; et rend le triplet constitué par l'évaluation de cette position trouvée par l'algorithme minimax, la liste des coups qui mènent à cette évaluation, ainsi que le nombre total d'évaluations réalisées (c'est-à-dire de feuilles vues).\n",
    "\n",
    "La fonction affichera aussi les coupes réalisées (voir l'exemple d'éxécution plus bas)."
   ]
  },
  {
   "cell_type": "code",
   "execution_count": 53,
   "metadata": {},
   "outputs": [],
   "source": [
    "def alphabeta(unArbre,pos,camp,mini,maxi) :\n",
    "    nb_feuilles_vues = 0\n",
    "    liste_coups = []\n",
    "    if estFeuille (pos) :\n",
    "        return pos, [], nb_feuilles_vues + 1\n",
    "    fils = unArbre.donnePositionsFilles(pos)\n",
    "    newCamp = autreCamp(camp)\n",
    "    if camp == \"MAX\" :\n",
    "        best_val = -1024\n",
    "    else :\n",
    "        best_val = 1024\n",
    "    alpha = mini\n",
    "    beta = maxi \n",
    "    for i in fils :\n",
    "        a,b,c = alphabeta(unArbre,i,newCamp,alpha,beta)\n",
    "        nb_feuilles_vues = nb_feuilles_vues + c \n",
    "        if (camp == 'MAX') :\n",
    "            if(a > beta) :\n",
    "                best_val = beta\n",
    "                print \"Coupe beta apres le fils \",i ,\" de \", pos\n",
    "                return best_val,liste_coups,nb_feuilles_vues\n",
    "            else :\n",
    "                alpha = max ([alpha,a]) \n",
    "                if (a > best_val) :\n",
    "                    best_val = a\n",
    "                    liste_coups=[i]+b\n",
    "        else :\n",
    "            if(a < alpha) :\n",
    "                best_val = alpha \n",
    "                print \"Coupe alpha apres le fils \", i , \" de \" , pos\n",
    "                return best_val,liste_coups,nb_feuilles_vues\n",
    "            else :\n",
    "                beta = min ([beta,a]) \n",
    "                if (a < best_val) :\n",
    "                    best_val = a\n",
    "                    liste_coups=[i]+b\n",
    "    return best_val,liste_coups,nb_feuilles_vues"
   ]
  },
  {
   "cell_type": "code",
   "execution_count": 57,
   "metadata": {},
   "outputs": [
    {
     "name": "stdout",
     "output_type": "stream",
     "text": [
      "Coupe alpha apres le fils  3  de  H\n",
      "Coupe beta apres le fils  I  de  D\n",
      "Evaluation trouvee:  5\n",
      "Chemin trouve:  ['C', 'G', 5]\n",
      "Nombre de feuilles vues:  9\n"
     ]
    }
   ],
   "source": [
    "evaluation, liste_coups, nb_feuilles_vues = alphabeta(unArbre,'A','MIN',-1024,1024)\n",
    "print \"Evaluation trouvee: \", evaluation\n",
    "print \"Chemin trouve: \", liste_coups\n",
    "print \"Nombre de feuilles vues: \", nb_feuilles_vues"
   ]
  },
  {
   "cell_type": "code",
   "execution_count": null,
   "metadata": {
    "collapsed": true
   },
   "outputs": [],
   "source": [
    "coupe beta aprés le fils  14  de  F\n",
    "coupe alpha après le fils  G  de  C\n",
    "coupe alpha après le fils  I  de  D\n",
    "Evaluation trouvée:  12\n",
    "Chemin trouvé:  ['B', 'E', 12]\n",
    "Nombre de feuilles vues:  7\n"
   ]
  },
  {
   "cell_type": "markdown",
   "metadata": {},
   "source": [
    "## Expérimentations"
   ]
  },
  {
   "cell_type": "markdown",
   "metadata": {},
   "source": [
    "### Importance de l'ordre d'examen des coups\n",
    "\n",
    "L'ordre dans lequel l'algorithme alpha-béta examine les feuilles de l'arbre est très important et influence grandement le nombre de coupes réalisées.\n",
    "\n",
    "Par exemple, soit l'arbre suivant:"
   ]
  },
  {
   "cell_type": "code",
   "execution_count": 58,
   "metadata": {},
   "outputs": [],
   "source": [
    "arbre_v2 = dict()\n",
    "arbre_v2['A']= ['B', 'C', 'D']\n",
    "arbre_v2['B']= ['E', 'F']\n",
    "arbre_v2['C']= ['G', 'H']\n",
    "arbre_v2['D']= ['I', 'J']\n",
    "arbre_v2['E']= [0, 1]\n",
    "arbre_v2['F']= [2, 3, 4]\n",
    "arbre_v2['G']= [5, 6, 7]\n",
    "arbre_v2['H']= [8, 9]\n",
    "arbre_v2['I']= [10, 11]\n",
    "arbre_v2['J']= [12, 13, 14, 15]\n",
    "\n",
    "arbre2 = ArbreCoups(arbre_v2,'A', 'MAX')"
   ]
  },
  {
   "cell_type": "markdown",
   "metadata": {},
   "source": [
    "Le résultat de l'algorithme minimax est le suivant, après l'examen de l'ensemble des 16 feuilles:"
   ]
  },
  {
   "cell_type": "code",
   "execution_count": 60,
   "metadata": {},
   "outputs": [
    {
     "name": "stdout",
     "output_type": "stream",
     "text": [
      "Evaluation trouvée:  11\n",
      "Chemin trouvé:  ['D', 'I', 11]\n",
      "Nombre de feuilles vues:  16\n"
     ]
    }
   ],
   "source": [
    "evaluation, liste_coups, nb_feuilles_vues = minimax(arbre2,'A','MAX')\n",
    "print\"Evaluation trouvée: \", evaluation\n",
    "print\"Chemin trouvé: \", liste_coups\n",
    "print\"Nombre de feuilles vues: \", nb_feuilles_vues"
   ]
  },
  {
   "cell_type": "markdown",
   "metadata": {},
   "source": [
    "Et l'algorithme alphabéta produit une série de 3 coupes amenant à l'examen de 10 feuilles seulement:"
   ]
  },
  {
   "cell_type": "code",
   "execution_count": 62,
   "metadata": {},
   "outputs": [
    {
     "name": "stdout",
     "output_type": "stream",
     "text": [
      "Coupe beta apres le fils  2  de  F\n",
      "Coupe beta apres le fils  8  de  H\n",
      "Coupe beta apres le fils  12  de  J\n",
      "Evaluation trouvée:  11\n",
      "Chemin trouvé:  ['D', 'I', 11]\n",
      "Nombre de feuilles vues:  10\n"
     ]
    }
   ],
   "source": [
    "evaluation, liste_coups, nb_feuilles_vues =  alphabeta(arbre2,'A', 'MAX',-1024,1024)\n",
    "print\"Evaluation trouvée: \", evaluation\n",
    "print\"Chemin trouvé: \", liste_coups\n",
    "print\"Nombre de feuilles vues: \", nb_feuilles_vues"
   ]
  },
  {
   "cell_type": "markdown",
   "metadata": {},
   "source": [
    "Il est pourtant possible de trouver un ordre d'examen des feuilles qui ne produit qu'un examen de 7 feuilles seulement.\n",
    "\n",
    "**[Q]** Donner l'expression du dictionnaire *arbre_v3* qui est obtenu en réarrangeant les noeuds de l'arbre précédent. \n",
    "Attention: l'arbre doit conserver la même structure, c'est seulement les sous-arbres qui doivent être réordonnés.\n",
    "Par exemple: il est possible de changer\n",
    "\n",
    "    ['B', 'C', 'D']\n",
    "    \n",
    "en\n",
    "\n",
    "    ['C', 'D', 'B']\n",
    "    \n",
    "ou tout autre modification de ce type.\n"
   ]
  },
  {
   "cell_type": "code",
   "execution_count": 30,
   "metadata": {
    "collapsed": true
   },
   "outputs": [],
   "source": []
  },
  {
   "cell_type": "code",
   "execution_count": 31,
   "metadata": {
    "collapsed": true
   },
   "outputs": [],
   "source": [
    "# On construit un arbre coup avec le dictionnaire arbre_v3:\n",
    "arbre3 = ArbreCoups(arbre_v3,'A', 'MAX')"
   ]
  },
  {
   "cell_type": "markdown",
   "metadata": {},
   "source": [
    "Au final, on doit donc obtenir;"
   ]
  },
  {
   "cell_type": "code",
   "execution_count": 18,
   "metadata": {},
   "outputs": [
    {
     "name": "stdout",
     "output_type": "stream",
     "text": [
      "Evaluation trouvée:  11\n",
      "Chemin trouvé:  ['D', 'I', 11]\n",
      "Nombre de feuilles vues:  16\n"
     ]
    }
   ],
   "source": [
    "# l'arbre est identique, le résultat du minimax est le même.\n",
    "evaluation, liste_coups, nb_feuilles_vues = minimax(arbre3,'A','MAX')\n",
    "print(\"Evaluation trouvée: \", evaluation)\n",
    "print(\"Chemin trouvé: \", liste_coups)\n",
    "print(\"Nombre de feuilles vues: \", nb_feuilles_vues)"
   ]
  },
  {
   "cell_type": "code",
   "execution_count": 19,
   "metadata": {},
   "outputs": [
    {
     "name": "stdout",
     "output_type": "stream",
     "text": [
      "coupe beta aprés le fils  12  de  J\n",
      "coupe alpha après le fils  H  de  C\n",
      "coupe alpha après le fils  E  de  B\n",
      "Evaluation trouvée:  11\n",
      "Chemin trouvé:  ['D', 'I', 11]\n",
      "Nombre de feuilles vues:  7\n"
     ]
    }
   ],
   "source": [
    "evaluation, liste_coups, nb_feuilles_vues =  alphabeta(arbre3,'A', 'MAX',-1024,1024)\n",
    "print(\"Evaluation trouvée: \", evaluation)\n",
    "print(\"Chemin trouvé: \", liste_coups)\n",
    "print(\"Nombre de feuilles vues: \", nb_feuilles_vues)"
   ]
  },
  {
   "cell_type": "markdown",
   "metadata": {},
   "source": [
    "### Test sur un arbre plus grand\n",
    "\n",
    "Utiliser l'arbre suivant pour tester vos fonctions:"
   ]
  },
  {
   "cell_type": "code",
   "execution_count": 20,
   "metadata": {},
   "outputs": [],
   "source": [
    "arbre_autre = dict()\n",
    "arbre_autre['A']= ['B', 'C', 'D', 'E']\n",
    "arbre_autre['B']= ['F', 'G', 'H']\n",
    "arbre_autre['C']= ['I', 'J']\n",
    "arbre_autre['D']= ['K', 'L', 'M']\n",
    "arbre_autre['E']= ['N', 'P']\n",
    "arbre_autre['F']= ['Q', 'R', 7]\n",
    "arbre_autre['G']= ['S', 7, 8, 12]\n",
    "arbre_autre['H']= ['T', 9, 4, 13]\n",
    "arbre_autre['I']= ['U', 'V', 6]\n",
    "arbre_autre['J']= ['O', 11, 5]\n",
    "arbre_autre['K']= ['W', 9, 0]\n",
    "arbre_autre['L']= [8, 2, 2, 14]\n",
    "arbre_autre['M']= ['X', 5]\n",
    "arbre_autre['N']= ['Y', 'Z']\n",
    "arbre_autre['O']= [2, 10, 4]\n",
    "arbre_autre['P']= [15, 12, 9, 13]\n",
    "arbre_autre['Q']= [3, 7, 17, 5]\n",
    "arbre_autre['R']= [3, 8, 7]\n",
    "arbre_autre['S']= [14, 4, 11, 7]\n",
    "arbre_autre['T']= [2, 6]\n",
    "arbre_autre['U']= [11, 10, 8]\n",
    "arbre_autre['V']= [7, 12, 5]\n",
    "arbre_autre['W']= [0, 1, 7, 2]\n",
    "arbre_autre['X']= [4, 12, 3]\n",
    "arbre_autre['Y']= [10, 11, 8]\n",
    "arbre_autre['Z']= [14, 4, 15, 3]\n",
    "\n",
    "autreArbre = ArbreCoups(arbre_autre,'A', 'MAX')"
   ]
  },
  {
   "cell_type": "markdown",
   "metadata": {},
   "source": [
    "**[Q]** Exécuter les algorithmes minimax et alphabéta sur cet arbre."
   ]
  },
  {
   "cell_type": "code",
   "execution_count": null,
   "metadata": {},
   "outputs": [],
   "source": []
  },
  {
   "cell_type": "code",
   "execution_count": null,
   "metadata": {},
   "outputs": [],
   "source": []
  },
  {
   "cell_type": "markdown",
   "metadata": {},
   "source": [
    "**[Q]** Trouver un réarrangement de l'ordre d'examen des feuilles de l'arbre qui permette de réduire le nombre de feuilles visitées."
   ]
  },
  {
   "cell_type": "code",
   "execution_count": null,
   "metadata": {},
   "outputs": [],
   "source": []
  },
  {
   "cell_type": "markdown",
   "metadata": {},
   "source": [
    "### Un autre arbre\n",
    "\n",
    "Soit l'arbre suivant, dont la racine est la position A:"
   ]
  },
  {
   "cell_type": "code",
   "execution_count": 24,
   "metadata": {},
   "outputs": [
    {
     "data": {
      "image/png": "[encoded data removed]",
      "text/plain": [
       "<IPython.core.display.Image object>"
      ]
     },
     "execution_count": 24,
     "metadata": {},
     "output_type": "execute_result"
    }
   ],
   "source": []
  },
  {
   "cell_type": "markdown",
   "metadata": {},
   "source": [
    "**[Q]** Donner les expressions Python qui permettent de représenter cet arbre."
   ]
  },
  {
   "cell_type": "code",
   "execution_count": 25,
   "metadata": {
    "collapsed": true
   },
   "outputs": [],
   "source": []
  },
  {
   "cell_type": "markdown",
   "metadata": {},
   "source": [
    "**[Q]** Appliquer les algorithmes minimax et alphabéta sur cet arbre."
   ]
  },
  {
   "cell_type": "code",
   "execution_count": null,
   "metadata": {},
   "outputs": [],
   "source": []
  },
  {
   "cell_type": "code",
   "execution_count": null,
   "metadata": {},
   "outputs": [],
   "source": []
  },
  {
   "cell_type": "markdown",
   "metadata": {},
   "source": [
    "**[Q]** Que se passe-t-il si on lance l'algorithme alphabéta sur cet arbre en prenant comme valeurs initiales $\\alpha=5$ et $\\beta=9$.\n",
    "Expliquer ce qui se produit."
   ]
  },
  {
   "cell_type": "code",
   "execution_count": null,
   "metadata": {},
   "outputs": [],
   "source": []
  },
  {
   "cell_type": "markdown",
   "metadata": {},
   "source": [
    "**[Q]** Sans exécuter votre fonction, que se passerait-t-il si on lançait l'algorithme alphabéta sur cet arbre en prenant comme valeurs initiales $\\alpha=8$ et $\\beta=9$?\n",
    "Vérifier avec votre fonction que vous avez bien envisagé ce qui se produit."
   ]
  },
  {
   "cell_type": "code",
   "execution_count": null,
   "metadata": {},
   "outputs": [],
   "source": []
  },
  {
   "cell_type": "code",
   "execution_count": null,
   "metadata": {
    "collapsed": true
   },
   "outputs": [],
   "source": []
  }
 ],
 "metadata": {
  "kernelspec": {
   "display_name": "Python 3",
   "language": "python",
   "name": "python3"
  },
  "language_info": {
   "codemirror_mode": {
    "name": "ipython",
    "version": 3
   },
   "file_extension": ".py",
   "mimetype": "text/x-python",
   "name": "python",
   "nbconvert_exporter": "python",
   "pygments_lexer": "ipython3",
   "version": "3.6.2"
  }
 },
 "nbformat": 4,
 "nbformat_minor": 1
}
