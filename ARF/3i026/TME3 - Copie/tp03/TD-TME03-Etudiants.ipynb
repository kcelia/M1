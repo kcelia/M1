{
 "cells": [
  {
   "cell_type": "markdown",
   "metadata": {},
   "source": [
    "# TD-TME03: algorithmes d'apprentissage non-supervisé"
   ]
  },
  {
   "cell_type": "markdown",
   "metadata": {},
   "source": [
    "L'objectif de ce TP3 est d'implémenter des algorithmes d'apprentissage non-supervisé (cf. cours 3), en particulier, l'algorithme de classification hiérarchique."
   ]
  },
  {
   "cell_type": "markdown",
   "metadata": {},
   "source": [
    "## Préparation"
   ]
  },
  {
   "cell_type": "markdown",
   "metadata": {},
   "source": [
    "Télécharger l'archive ici: http://webia.lip6.fr/~marsala/3i026/\n",
    "\n",
    "Décompresser cette archive, elle crée le répertoire \"TP03\" qui contient un fichier ipython à ouvrir (ce fichier-ci) et un sous-répertoire \"data\" contenant les bases d'apprentissage qui seront utilisées dans ce TP.\n",
    "\n",
    "Le but de ce TP est de compléter ce document ipython en rajoutant les fonctions demandées."
   ]
  },
  {
   "cell_type": "markdown",
   "metadata": {},
   "source": [
    "Avant de commencer, exécuter le bloc suivant afin de pouvoir initialiser des variables utiles:"
   ]
  },
  {
   "cell_type": "code",
   "execution_count": 59,
   "metadata": {
    "collapsed": true
   },
   "outputs": [],
   "source": [
    "import math \n",
    "import numpy as np\n",
    "import pandas as pd\n",
    "from datetime import datetime as dt\n",
    "import matplotlib.pyplot as plt\n",
    "%matplotlib inline  "
   ]
  },
  {
   "cell_type": "markdown",
   "metadata": {},
   "source": [
    "## Travail à réaliser"
   ]
  },
  {
   "cell_type": "markdown",
   "metadata": {},
   "source": [
    "Le travail à faire se décompose en 2 phases:\n",
    "- dans un premier temps, vous travaillerez sur la base d'apprentissage \"base-2D.csv\" qui contient des exemples décrits dans $R^2$. Cela vous permettra de visualiser plus simplement les résultats de vos fonctions\n",
    "- dans un second temps, vous utiliserez toutes les fonctions écrites dans la phase précédente avec la base d'apprentissage \"base-Paris.csv\" \n",
    "\n",
    "**Attention**: vos fonctions devront **dès le départ** pouvoir s'appliquer **quelle que soit la dimension** des exemples traités."
   ]
  },
  {
   "cell_type": "markdown",
   "metadata": {},
   "source": [
    "## Phase 1: implémentation des fonctions de base"
   ]
  },
  {
   "cell_type": "markdown",
   "metadata": {},
   "source": [
    "### Chargement du fichier \"base_2D.csv\""
   ]
  },
  {
   "cell_type": "markdown",
   "metadata": {},
   "source": [
    "La lecture d'un fichier CSV par pd.read() fournit un DataFrame que vous avez appris à manipuler dans le TP02."
   ]
  },
  {
   "cell_type": "code",
   "execution_count": 68,
   "metadata": {},
   "outputs": [],
   "source": [
    "data_2D = pd.read_csv(\"data/base-2D.csv\")"
   ]
  },
  {
   "cell_type": "markdown",
   "metadata": {},
   "source": [
    "Une fois chargée, on peut afficher le contenu de la base d'apprentissage:"
   ]
  },
  {
   "cell_type": "code",
   "execution_count": 69,
   "metadata": {},
   "outputs": [
    {
     "data": {
      "text/html": [
       "<div>\n",
       "<table border=\"1\" class=\"dataframe\">\n",
       "  <thead>\n",
       "    <tr style=\"text-align: right;\">\n",
       "      <th></th>\n",
       "      <th>X</th>\n",
       "      <th>Y</th>\n",
       "    </tr>\n",
       "  </thead>\n",
       "  <tbody>\n",
       "    <tr>\n",
       "      <th>0</th>\n",
       "      <td>0.0</td>\n",
       "      <td>4.0</td>\n",
       "    </tr>\n",
       "    <tr>\n",
       "      <th>1</th>\n",
       "      <td>1.0</td>\n",
       "      <td>3.5</td>\n",
       "    </tr>\n",
       "    <tr>\n",
       "      <th>2</th>\n",
       "      <td>1.0</td>\n",
       "      <td>1.0</td>\n",
       "    </tr>\n",
       "    <tr>\n",
       "      <th>3</th>\n",
       "      <td>2.0</td>\n",
       "      <td>1.0</td>\n",
       "    </tr>\n",
       "    <tr>\n",
       "      <th>4</th>\n",
       "      <td>2.0</td>\n",
       "      <td>2.0</td>\n",
       "    </tr>\n",
       "    <tr>\n",
       "      <th>5</th>\n",
       "      <td>4.0</td>\n",
       "      <td>4.0</td>\n",
       "    </tr>\n",
       "    <tr>\n",
       "      <th>6</th>\n",
       "      <td>4.0</td>\n",
       "      <td>5.0</td>\n",
       "    </tr>\n",
       "    <tr>\n",
       "      <th>7</th>\n",
       "      <td>4.0</td>\n",
       "      <td>6.0</td>\n",
       "    </tr>\n",
       "    <tr>\n",
       "      <th>8</th>\n",
       "      <td>4.5</td>\n",
       "      <td>1.0</td>\n",
       "    </tr>\n",
       "    <tr>\n",
       "      <th>9</th>\n",
       "      <td>4.5</td>\n",
       "      <td>6.0</td>\n",
       "    </tr>\n",
       "    <tr>\n",
       "      <th>10</th>\n",
       "      <td>5.0</td>\n",
       "      <td>1.0</td>\n",
       "    </tr>\n",
       "    <tr>\n",
       "      <th>11</th>\n",
       "      <td>5.0</td>\n",
       "      <td>5.0</td>\n",
       "    </tr>\n",
       "    <tr>\n",
       "      <th>12</th>\n",
       "      <td>6.0</td>\n",
       "      <td>2.0</td>\n",
       "    </tr>\n",
       "  </tbody>\n",
       "</table>\n",
       "</div>"
      ],
      "text/plain": [
       "      X    Y\n",
       "0   0.0  4.0\n",
       "1   1.0  3.5\n",
       "2   1.0  1.0\n",
       "3   2.0  1.0\n",
       "4   2.0  2.0\n",
       "5   4.0  4.0\n",
       "6   4.0  5.0\n",
       "7   4.0  6.0\n",
       "8   4.5  1.0\n",
       "9   4.5  6.0\n",
       "10  5.0  1.0\n",
       "11  5.0  5.0\n",
       "12  6.0  2.0"
      ]
     },
     "execution_count": 69,
     "metadata": {},
     "output_type": "execute_result"
    }
   ],
   "source": [
    "data_2D.head(-1)\n"
   ]
  },
  {
   "cell_type": "markdown",
   "metadata": {},
   "source": [
    "Exécuter le code suivant qui permet de réaliser une représentation graphique de cette base d'apprentissage.\n"
   ]
  },
  {
   "cell_type": "code",
   "execution_count": 70,
   "metadata": {},
   "outputs": [
    {
     "data": {
      "text/plain": [
       "<matplotlib.collections.PathCollection at 0x7f068efb3b90>"
      ]
     },
     "execution_count": 70,
     "metadata": {},
     "output_type": "execute_result"
    },
    {
     "data": {
      "image/png": "[encoded data removed]",
      "text/plain": [
       "<matplotlib.figure.Figure at 0x7f068f3716d0>"
      ]
     },
     "metadata": {},
     "output_type": "display_data"
    }
   ],
   "source": [
    "M_data2D= data_2D.as_matrix()      # conversion du DataFrame en matrice pour la commande suivante\n",
    "colonne_X= M_data2D[0: , 0]        # récupération des valeurs de la première colonne\n",
    "colonne_Y= M_data2D[0: , 1]        # récupération des valeurs de la deuxième colonne\n",
    "plt.scatter(colonne_X, colonne_Y)  # affichage des points"
   ]
  },
  {
   "cell_type": "markdown",
   "metadata": {},
   "source": [
    "## Fonctions préliminaires"
   ]
  },
  {
   "cell_type": "markdown",
   "metadata": {},
   "source": [
    "### Normalisation des données"
   ]
  },
  {
   "cell_type": "markdown",
   "metadata": {},
   "source": [
    "Ecrire la fonction normalisation() qui prend en argument un DataFrame et rend la matrice obtenue en normalisant chaque colonne de ce DataFrame en appliquant la normalisation vue en cours.\n",
    "\n",
    "*Rappel*: la librairie pandas permet de connaître le minimum et le maximum d'un DataFrame, par exemple:\n"
   ]
  },
  {
   "cell_type": "code",
   "execution_count": 192,
   "metadata": {},
   "outputs": [],
   "source": [
    "def normalisation(dff) :\n",
    "    df = dff.copy()\n",
    "    for i in df.columns :\n",
    "        mi = min(df[i])\n",
    "        ma = max(df[i])\n",
    "        df[i] =  (df[i]- mi) / (ma - mi)\n",
    "    \n",
    "    return df.as_matrix() \n"
   ]
  },
  {
   "cell_type": "markdown",
   "metadata": {},
   "source": [
    "Une fois la fonction de normalisation écrite, normaliser les données de la base-2D et afficher sa représentation graphique: vérifier que le tracé est le même que celui obtenu avant la normalisation."
   ]
  },
  {
   "cell_type": "code",
   "execution_count": 193,
   "metadata": {},
   "outputs": [],
   "source": [
    "MN_data2D = normalisation(data_2D)\n"
   ]
  },
  {
   "cell_type": "code",
   "execution_count": 194,
   "metadata": {},
   "outputs": [
    {
     "data": {
      "text/plain": [
       "<matplotlib.collections.PathCollection at 0x7f068eddc350>"
      ]
     },
     "execution_count": 194,
     "metadata": {},
     "output_type": "execute_result"
    },
    {
     "data": {
      "image/png": "[encoded data removed]",
      "text/plain": [
       "<matplotlib.figure.Figure at 0x7f068f00a910>"
      ]
     },
     "metadata": {},
     "output_type": "display_data"
    }
   ],
   "source": [
    "colonne_X= MN_data2D[0: , 0]        \n",
    "colonne_Y= MN_data2D[0: , 1]       \n",
    "plt.scatter(colonne_X, colonne_Y)"
   ]
  },
  {
   "cell_type": "markdown",
   "metadata": {},
   "source": [
    "### Distances entre exemples"
   ]
  },
  {
   "cell_type": "markdown",
   "metadata": {},
   "source": [
    "Ecrire la fonction dist_euclidienne_vect() qui prend en argument deux exemples et rend leur distance Euclidienne. "
   ]
  },
  {
   "cell_type": "code",
   "execution_count": 1,
   "metadata": {},
   "outputs": [],
   "source": [
    "\n",
    "def dist_euclidienne_vect(l1,l2) :\n",
    "    sum = 0\n",
    "    for i in range (len(l1)) :\n",
    "        sum = sum + pow(l1[i] - l2[i],2)\n",
    "    return math.sqrt(sum)"
   ]
  },
  {
   "cell_type": "code",
   "execution_count": 196,
   "metadata": {},
   "outputs": [
    {
     "data": {
      "text/plain": [
       "0.17437936359839026"
      ]
     },
     "execution_count": 196,
     "metadata": {},
     "output_type": "execute_result"
    }
   ],
   "source": [
    "dist_euclidienne_vect([0.,0.6],[0.14285714,0.5])"
   ]
  },
  {
   "cell_type": "markdown",
   "metadata": {},
   "source": [
    "Ecrire la fonction dist_manhattan_vect() qui prend en argument deux exemples et rend leur distance de Manhattan. "
   ]
  },
  {
   "cell_type": "code",
   "execution_count": 2,
   "metadata": {
    "collapsed": true
   },
   "outputs": [],
   "source": [
    "def dist_manhattan_vect(l1,l2) :\n",
    "    sum = 0\n",
    "    for i in range (len(l1)) :\n",
    "        sum = sum + abs(l1[i] - l2[i])\n",
    "    return sumdef dist_manhattan_vect(d1,d2) :\n",
    "    return (abs(d1.values-d2.values)).sum()"
   ]
  },
  {
   "cell_type": "code",
   "execution_count": 198,
   "metadata": {
    "scrolled": true
   },
   "outputs": [
    {
     "data": {
      "text/plain": [
       "0.24285713999999997"
      ]
     },
     "execution_count": 198,
     "metadata": {},
     "output_type": "execute_result"
    }
   ],
   "source": [
    "dist_manhattan_vect([0.,0.6],[0.14285714,0.5])"
   ]
  },
  {
   "cell_type": "markdown",
   "metadata": {},
   "source": [
    "Ecrire la fonction dist_vect() qui en argument une chaîne de caractères (soit \"euclidienne\", soit \"manhattan\") ainsi que deux vecteurs et qui rend leur distance soit euclidienne, soit de Manhattan selon le cas."
   ]
  },
  {
   "cell_type": "code",
   "execution_count": 199,
   "metadata": {
    "collapsed": true
   },
   "outputs": [],
   "source": [
    "def dist_vect(fonc,l1,l2):\n",
    "    if(fonc == \"euclidienne\") :\n",
    "        return dist_euclidienne_vect(l1,l2)\n",
    "    else :\n",
    "        return dist_manhattan_vect(l1,l2)"
   ]
  },
  {
   "cell_type": "code",
   "execution_count": 200,
   "metadata": {
    "scrolled": true
   },
   "outputs": [
    {
     "name": "stdout",
     "output_type": "stream",
     "text": [
      "0.174379363598\n",
      "0.24285714\n"
     ]
    }
   ],
   "source": [
    "print(dist_vect(\"euclidienne\",[ 0.,0.6],[ 0.14285714,0.5       ]))\n",
    "print(dist_vect(\"mannathan\",[ 0.,0.6],[ 0.14285714,0.5       ]))"
   ]
  },
  {
   "cell_type": "markdown",
   "metadata": {},
   "source": [
    "### Calcul de centroides"
   ]
  },
  {
   "cell_type": "markdown",
   "metadata": {},
   "source": [
    "Ecrire la fonction centroide() qui, étant donné une matrice représentant plusieurs exemples rend le centroide (calculé en faisant la moyenne de chaque composante des vecteurs de la matrice).\n",
    "On fera l'hypothèse que la matrice contient toujours au moins un exemple."
   ]
  },
  {
   "cell_type": "code",
   "execution_count": 201,
   "metadata": {},
   "outputs": [
    {
     "data": {
      "text/plain": [
       "array([[ 0. ,  4. ],\n",
       "       [ 1. ,  3.5],\n",
       "       [ 1. ,  1. ],\n",
       "       [ 2. ,  1. ],\n",
       "       [ 2. ,  2. ],\n",
       "       [ 4. ,  4. ],\n",
       "       [ 4. ,  5. ],\n",
       "       [ 4. ,  6. ],\n",
       "       [ 4.5,  1. ],\n",
       "       [ 4.5,  6. ],\n",
       "       [ 5. ,  1. ],\n",
       "       [ 5. ,  5. ],\n",
       "       [ 6. ,  2. ],\n",
       "       [ 7. ,  4. ]])"
      ]
     },
     "execution_count": 201,
     "metadata": {},
     "output_type": "execute_result"
    }
   ],
   "source": [
    "M_data2D"
   ]
  },
  {
   "cell_type": "code",
   "execution_count": 202,
   "metadata": {},
   "outputs": [],
   "source": [
    "def centroide(mat) : \n",
    "    l = list()\n",
    "    for i in range(len(mat[0])) : \n",
    "        v= sum(mat[0:,i]) / len(mat[0:,i])\n",
    "        l.append(v)\n",
    "    return l"
   ]
  },
  {
   "cell_type": "code",
   "execution_count": 206,
   "metadata": {},
   "outputs": [
    {
     "data": {
      "text/plain": [
       "[0.51020408163265307, 0.45000000000000001]"
      ]
     },
     "execution_count": 206,
     "metadata": {},
     "output_type": "execute_result"
    }
   ],
   "source": [
    " d = pd.DataFrame(M_data2D)\n",
    "MN_data2D  =normalisation(d)\n",
    "centroide(MN_data2D)"
   ]
  },
  {
   "cell_type": "code",
   "execution_count": 184,
   "metadata": {},
   "outputs": [
    {
     "data": {
      "text/plain": [
       "[0.51020408163265307, 0.45000000000000001]"
      ]
     },
     "execution_count": 184,
     "metadata": {},
     "output_type": "execute_result"
    }
   ],
   "source": [
    "centroide(M_data2D)"
   ]
  },
  {
   "cell_type": "markdown",
   "metadata": {},
   "source": [
    "### Distances entre groupes d'exemples\n"
   ]
  },
  {
   "cell_type": "markdown",
   "metadata": {},
   "source": [
    "Ecrire la fonction dist_groupes() qui prend en argument une chaîne de caractères (soit \"euclidienne\", soit \"manhattan\") ainsi que deux groupes de vecteurs et qui rend leur distance soit euclidienne, soit de Manhattan selon le cas.\n",
    "\n",
    "La distance est calculée en considérant le centroide de chacun des deux groupes."
   ]
  },
  {
   "cell_type": "code",
   "execution_count": 185,
   "metadata": {
    "collapsed": true
   },
   "outputs": [],
   "source": [
    "\n",
    "def dist_groupes(fonc, m1, m2 ) :\n",
    "    l1=centroide(m1)\n",
    "    l2=centroide(m2)\n",
    "    return dist_vect(fonc,l1,l2)"
   ]
  },
  {
   "cell_type": "code",
   "execution_count": 207,
   "metadata": {},
   "outputs": [
    {
     "data": {
      "text/plain": [
       "array([[ 0. ,  4. ],\n",
       "       [ 1. ,  3.5],\n",
       "       [ 1. ,  1. ],\n",
       "       [ 2. ,  1. ],\n",
       "       [ 2. ,  2. ],\n",
       "       [ 4. ,  4. ],\n",
       "       [ 4. ,  5. ],\n",
       "       [ 4. ,  6. ],\n",
       "       [ 4.5,  1. ],\n",
       "       [ 4.5,  6. ],\n",
       "       [ 5. ,  1. ],\n",
       "       [ 5. ,  5. ],\n",
       "       [ 6. ,  2. ],\n",
       "       [ 7. ,  4. ]])"
      ]
     },
     "execution_count": 207,
     "metadata": {},
     "output_type": "execute_result"
    }
   ],
   "source": [
    "M_data2D"
   ]
  },
  {
   "cell_type": "code",
   "execution_count": 210,
   "metadata": {},
   "outputs": [
    {
     "data": {
      "text/plain": [
       "0.5762405266233149"
      ]
     },
     "execution_count": 210,
     "metadata": {},
     "output_type": "execute_result"
    }
   ],
   "source": [
    "M_data2D = normalisation(pd.DataFrame(M_data2D) )\n",
    "dist_groupes(\"euclidienne\", M_data2D[0:5], M_data2D[6:13])"
   ]
  },
  {
   "cell_type": "code",
   "execution_count": 20,
   "metadata": {},
   "outputs": [
    {
     "data": {
      "text/plain": [
       "0.5762405266233149"
      ]
     },
     "execution_count": 20,
     "metadata": {},
     "output_type": "execute_result"
    }
   ],
   "source": [
    "dist_groupes(\"euclidienne\", M_data2D[0:5], M_data2D[6:13])"
   ]
  },
  {
   "cell_type": "markdown",
   "metadata": {},
   "source": [
    "## L'algorithme de classification hiérarchique"
   ]
  },
  {
   "cell_type": "markdown",
   "metadata": {},
   "source": [
    "Dans la suite de cet exercice, un clustering est représenté par une structure de données de type dictionnaire (dict() en python). Une clé de ce dictionnaire est un numéro de cluster (sous la forme d'une chaîne de caractères) et la valeur associée est une matrice contenant les exemples qui sont dans le cluster.\n",
    "\n",
    "On appelle \"clustering\" un tel dictionnaire.\n"
   ]
  },
  {
   "cell_type": "markdown",
   "metadata": {},
   "source": [
    "Ecrire la fonction initialise() qui, étant donné une matrice M d'exemples, rend un dictionnaire contenant autant d'entrée que d'exemples dans M. Dans ce dictionnaire, une clé est numéro d'exemple (un entier compris entre 0 et n-1, le nombre d'exemples) et la valeur associée est une matrice d'exemples contenant un exemple de M."
   ]
  },
  {
   "cell_type": "code",
   "execution_count": 260,
   "metadata": {},
   "outputs": [],
   "source": [
    "def initialise(mat) : \n",
    "    d = dict()\n",
    "    for i in range(len(mat[0:,])) :\n",
    "        d[i] = np.array([mat[i]])\n",
    "    return d"
   ]
  },
  {
   "cell_type": "code",
   "execution_count": 261,
   "metadata": {},
   "outputs": [
    {
     "data": {
      "text/plain": [
       "{0: array([[ 0. ,  0.6]]),\n",
       " 1: array([[ 0.14285714,  0.5       ]]),\n",
       " 2: array([[ 0.14285714,  0.        ]]),\n",
       " 3: array([[ 0.28571429,  0.        ]]),\n",
       " 4: array([[ 0.28571429,  0.2       ]]),\n",
       " 5: array([[ 0.57142857,  0.6       ]]),\n",
       " 6: array([[ 0.57142857,  0.8       ]]),\n",
       " 7: array([[ 0.57142857,  1.        ]]),\n",
       " 8: array([[ 0.64285714,  0.        ]]),\n",
       " 9: array([[ 0.64285714,  1.        ]]),\n",
       " 10: array([[ 0.71428571,  0.        ]]),\n",
       " 11: array([[ 0.71428571,  0.8       ]]),\n",
       " 12: array([[ 0.85714286,  0.2       ]]),\n",
       " 13: array([[ 1. ,  0.6]])}"
      ]
     },
     "execution_count": 261,
     "metadata": {},
     "output_type": "execute_result"
    }
   ],
   "source": [
    "depart = initialise(M_data2D)\n",
    "depart "
   ]
  },
  {
   "cell_type": "code",
   "execution_count": 262,
   "metadata": {},
   "outputs": [
    {
     "data": {
      "text/plain": [
       "{0: array([[ 0. ,  0.6]]),\n",
       " 1: array([[ 0.14285714,  0.5       ]]),\n",
       " 2: array([[ 0.14285714,  0.        ]]),\n",
       " 3: array([[ 0.28571429,  0.        ]]),\n",
       " 4: array([[ 0.28571429,  0.2       ]]),\n",
       " 5: array([[ 0.57142857,  0.6       ]]),\n",
       " 6: array([[ 0.57142857,  0.8       ]]),\n",
       " 7: array([[ 0.57142857,  1.        ]]),\n",
       " 8: array([[ 0.64285714,  0.        ]]),\n",
       " 9: array([[ 0.64285714,  1.        ]]),\n",
       " 10: array([[ 0.71428571,  0.        ]]),\n",
       " 11: array([[ 0.71428571,  0.8       ]]),\n",
       " 12: array([[ 0.85714286,  0.2       ]]),\n",
       " 13: array([[ 1. ,  0.6]])}"
      ]
     },
     "execution_count": 262,
     "metadata": {},
     "output_type": "execute_result"
    }
   ],
   "source": [
    "depart = initialise(M_data2D)\n",
    "depart "
   ]
  },
  {
   "cell_type": "markdown",
   "metadata": {},
   "source": [
    "### Variante 1: liaison par centroides"
   ]
  },
  {
   "cell_type": "markdown",
   "metadata": {},
   "source": [
    "On souhaite implémenter ici l'algorithme de classification hiérarchique basé sur l'utilisation de liaison par centroides (c'est-à-dire que la distance entre 2 groupes d'exemples est la distance entre leurs centroides).\n",
    "\n",
    "On commence par implémenter une fonction qui permet de regrouper les 2 groupes d'exemples les plus proches. C'est-à-dire que les 2 groupes qui minimisent la distance sont alors fusionnés pour ne former qu'un unique groupe.\n",
    "\n",
    "Ecrire la fonction fusionne() qui prend en argument un nom de distance (\"euclidienne\" ou \"manhattan\") et un clustering C0 et qui rend 4 valeurs:\n",
    "- le clustering C1 obtenu après fusion des 2 groupes les plus proches\n",
    "- les clés des 2 groupes de C0 qui ont été fusionnés (et donc retirés de C1)\n",
    "- la distance qui séparait ces 2 groupes"
   ]
  },
  {
   "cell_type": "code",
   "execution_count": 400,
   "metadata": {},
   "outputs": [],
   "source": [
    "def fusionne(fonc,clustering0) :\n",
    "    if(len(clustering0 )== 1):\n",
    "        return clustering0,0,0,0\n",
    "    mini =10\n",
    "    for i in clustering0.keys() :\n",
    "        clusti = clustering0[i]\n",
    "        for j in clustering0.keys() : \n",
    "            if(mini > dist_groupes(fonc,clusti ,clustering0[j]) and i != j) :\n",
    "                mini = dist_groupes(fonc,clusti ,clustering0[j])\n",
    "                indi = i\n",
    "                indj = j\n",
    "    #fusion \n",
    "    min_clus = np.concatenate((clustering0[indi],clustering0[indj]),axis=0)\n",
    "            \n",
    "    C1 = dict()\n",
    "   \n",
    "    for i in clustering0.keys() : \n",
    "        if( indj != i and indi!= i ) :\n",
    "            C1[i] = clustering0[i]\n",
    "            \n",
    "    C1[max(clustering0.keys())+1] = min_clus\n",
    "            \n",
    "    return C1,indi,indj,mini        \n",
    "            "
   ]
  },
  {
   "cell_type": "markdown",
   "metadata": {},
   "source": [
    "### Construction de dendrogramme"
   ]
  },
  {
   "cell_type": "code",
   "execution_count": 401,
   "metadata": {},
   "outputs": [],
   "source": [
    "dico,mini,minj,dis = fusionne(\"euclidienne\",depart )\n",
    "M_Fusion = [mini,minj,dis,2]\n",
    "while len(dico) > 1:\n",
    "    dico,mini,minj,dis = fusionne(\"euclidienne\",dico)\n",
    "    M_Fusion=  np.vstack((M_Fusion,[mini,minj,dis,2]))"
   ]
  },
  {
   "cell_type": "code",
   "execution_count": 402,
   "metadata": {},
   "outputs": [
    {
     "data": {
      "image/png": "[encoded data removed]",
      "text/plain": [
       "<matplotlib.figure.Figure at 0x7f068e701750>"
      ]
     },
     "metadata": {},
     "output_type": "display_data"
    }
   ],
   "source": [
    "from scipy.cluster.hierarchy import dendrogram,linkage\n",
    "plt.figure(figsize=(25, 10))\n",
    "plt.title('Dendrogramme')\n",
    "plt.xlabel('Exemple')\n",
    "plt.ylabel('Distance')\n",
    "dendrogram(\n",
    "    M_Fusion,\n",
    "    leaf_rotation=90.,  # rotates the x axis labels\n",
    "    leaf_font_size=8.,  # font size for the x axis labels\n",
    ")\n",
    "plt.show()"
   ]
  },
  {
   "cell_type": "markdown",
   "metadata": {},
   "source": [
    "Ecrire la fonction clustering_hierarchique() qui, pour une base d'apprentissage et une distance donnée, permet de réaliser un clustering hiérarchique et de tracer le dendrogramme obtenue.\n",
    "La fonction rend la matrice M_Fusion construite."
   ]
  },
  {
   "cell_type": "markdown",
   "metadata": {},
   "source": [
    "### Comparaison de distances"
   ]
  },
  {
   "cell_type": "markdown",
   "metadata": {},
   "source": [
    "Réaliser un clustering en utilisant la distance de Manhattan. Comparer les résultats obtenus avec cette distance avec ceux obtenus avec la distance Euclidienne."
   ]
  },
  {
   "cell_type": "markdown",
   "metadata": {},
   "source": [
    "### Variante 2: liaison complète (maximum des distances)"
   ]
  },
  {
   "cell_type": "markdown",
   "metadata": {},
   "source": [
    "On considère la distance entre deux groupes d'exemples vue en cours : la distance entre le groupe G1 et entre le groupe G2 est égale à la plus grande distance existante entre un exemple de G1 et un exemple de G2.\n",
    "\n",
    "Ecrire la fonction dist_max_groupes() qui, étant donné deux groupes, calcule leur distance ainsi définie. Cette fonction prend 3 arguments: un nom de distance à utiliser (\"euclidienne\" ou \"manhattan\") et deux groupes d'exemples.\n"
   ]
  },
  {
   "cell_type": "code",
   "execution_count": 387,
   "metadata": {
    "collapsed": true
   },
   "outputs": [],
   "source": [
    "def dist_max_groupes(fonc,g1,g2) :\n",
    "   \n",
    "    maxi = -1\n",
    "    for i in g1 :\n",
    "        for j in g2 : \n",
    "            if(maxi < dist_vect(fonc,i ,j)) :\n",
    "                maxi = dist_vect(fonc,i ,j)\n",
    "    return maxi"
   ]
  },
  {
   "cell_type": "code",
   "execution_count": 388,
   "metadata": {},
   "outputs": [
    {
     "data": {
      "text/plain": [
       "1.118033988749895"
      ]
     },
     "execution_count": 388,
     "metadata": {},
     "output_type": "execute_result"
    }
   ],
   "source": [
    "dist_max_groupes(\"euclidienne\", M_data2D[0:5], M_data2D[6:13])"
   ]
  },
  {
   "cell_type": "code",
   "execution_count": 131,
   "metadata": {},
   "outputs": [
    {
     "data": {
      "text/plain": [
       "1.118033988749895"
      ]
     },
     "execution_count": 131,
     "metadata": {},
     "output_type": "execute_result"
    }
   ],
   "source": [
    "dist_max_groupes(\"euclidienne\", M_data2D[0:5], M_data2D[6:13])"
   ]
  },
  {
   "cell_type": "markdown",
   "metadata": {},
   "source": [
    "La distance dist_max_groupes() est utilisée lors d'un clustering hiérarchique basé sur un lien complet (\"complete linkage\") entre les clusters (cf. cours).\n",
    "\n",
    "Implémenter une variante du clustering hiérarchique qui utilise cette distance."
   ]
  },
  {
   "cell_type": "markdown",
   "metadata": {},
   "source": [
    "## Phase 2 : application à des données réelles"
   ]
  },
  {
   "cell_type": "markdown",
   "metadata": {},
   "source": [
    "### Données: traitement des déchets de la ville de Paris"
   ]
  },
  {
   "cell_type": "markdown",
   "metadata": {},
   "source": [
    "Récupérer les données concernant le traitement des déchets de la ville de Paris:\n",
    "http://opendata.paris.fr/explore/dataset/tonnages_des_dechets_bacs_jaunes/table/\n",
    "\n",
    "Etudier cette base et les clusters qui peuvent être mis en évidence.\n",
    "\n",
    "\n",
    "**Attention**: il faudra certainement préparer cette base afin de pouvoir appliquer l'algorithme de clustering: en particulier, certaines colonnes (Granularité, Total...) ne sont pas à utilisables dans le calcul des distances, il faudra donc les éliminer. Il faut aussi prévoir de conserver le nom de l'arrondissement afin de pouvoir à la fin analyser le résultat du clustering.\n"
   ]
  },
  {
   "cell_type": "code",
   "execution_count": 404,
   "metadata": {
    "collapsed": true
   },
   "outputs": [],
   "source": [
    "data_Paris = pd.read_csv(\"data/base-Paris.csv\")"
   ]
  },
  {
   "cell_type": "code",
   "execution_count": 407,
   "metadata": {
    "scrolled": true
   },
   "outputs": [
    {
     "data": {
      "text/html": [
       "<div>\n",
       "<table border=\"1\" class=\"dataframe\">\n",
       "  <thead>\n",
       "    <tr style=\"text-align: right;\">\n",
       "      <th></th>\n",
       "      <th>Granularité</th>\n",
       "      <th>janv-11</th>\n",
       "      <th>févr-11</th>\n",
       "      <th>mars-11</th>\n",
       "      <th>avr-11</th>\n",
       "      <th>mai-11</th>\n",
       "      <th>juin-11</th>\n",
       "      <th>juil-11</th>\n",
       "      <th>août-11</th>\n",
       "      <th>sept-11</th>\n",
       "      <th>oct-11</th>\n",
       "      <th>nov-11</th>\n",
       "      <th>déc-11</th>\n",
       "      <th>Total arrondissement 2011</th>\n",
       "    </tr>\n",
       "  </thead>\n",
       "  <tbody>\n",
       "    <tr>\n",
       "      <th>0</th>\n",
       "      <td>75007</td>\n",
       "      <td>288.1</td>\n",
       "      <td>249.1</td>\n",
       "      <td>303.7</td>\n",
       "      <td>255.8</td>\n",
       "      <td>287.8</td>\n",
       "      <td>288.4</td>\n",
       "      <td>249.6</td>\n",
       "      <td>185.6</td>\n",
       "      <td>281.3</td>\n",
       "      <td>284.3</td>\n",
       "      <td>296.4</td>\n",
       "      <td>301.1</td>\n",
       "      <td>NaN</td>\n",
       "    </tr>\n",
       "    <tr>\n",
       "      <th>1</th>\n",
       "      <td>75013</td>\n",
       "      <td>596.5</td>\n",
       "      <td>540.2</td>\n",
       "      <td>618.5</td>\n",
       "      <td>558.6</td>\n",
       "      <td>595.9</td>\n",
       "      <td>581.7</td>\n",
       "      <td>539.2</td>\n",
       "      <td>490.5</td>\n",
       "      <td>597.8</td>\n",
       "      <td>575.7</td>\n",
       "      <td>580.5</td>\n",
       "      <td>601.4</td>\n",
       "      <td>NaN</td>\n",
       "    </tr>\n",
       "    <tr>\n",
       "      <th>2</th>\n",
       "      <td>75014</td>\n",
       "      <td>464</td>\n",
       "      <td>404.9</td>\n",
       "      <td>465.3</td>\n",
       "      <td>420.2</td>\n",
       "      <td>405.3</td>\n",
       "      <td>446</td>\n",
       "      <td>412.9</td>\n",
       "      <td>348.7</td>\n",
       "      <td>449.3</td>\n",
       "      <td>446.3</td>\n",
       "      <td>453.1</td>\n",
       "      <td>484.3</td>\n",
       "      <td>NaN</td>\n",
       "    </tr>\n",
       "    <tr>\n",
       "      <th>3</th>\n",
       "      <td>75015</td>\n",
       "      <td>903.1</td>\n",
       "      <td>801.4</td>\n",
       "      <td>937.5</td>\n",
       "      <td>835.5</td>\n",
       "      <td>876.8</td>\n",
       "      <td>888.6</td>\n",
       "      <td>628.8</td>\n",
       "      <td>674.8</td>\n",
       "      <td>913.3</td>\n",
       "      <td>878.7</td>\n",
       "      <td>895.7</td>\n",
       "      <td>935.8</td>\n",
       "      <td>NaN</td>\n",
       "    </tr>\n",
       "    <tr>\n",
       "      <th>4</th>\n",
       "      <td>75017</td>\n",
       "      <td>451.1</td>\n",
       "      <td>412.4</td>\n",
       "      <td>491.6</td>\n",
       "      <td>422.7</td>\n",
       "      <td>363.6</td>\n",
       "      <td>446.4</td>\n",
       "      <td>409.5</td>\n",
       "      <td>332.3</td>\n",
       "      <td>416.4</td>\n",
       "      <td>451.5</td>\n",
       "      <td>475.1</td>\n",
       "      <td>513.5</td>\n",
       "      <td>NaN</td>\n",
       "    </tr>\n",
       "    <tr>\n",
       "      <th>5</th>\n",
       "      <td>75018</td>\n",
       "      <td>427</td>\n",
       "      <td>394.3</td>\n",
       "      <td>455.2</td>\n",
       "      <td>419.9</td>\n",
       "      <td>458.3</td>\n",
       "      <td>456.6</td>\n",
       "      <td>418</td>\n",
       "      <td>361.8</td>\n",
       "      <td>464.6</td>\n",
       "      <td>453.4</td>\n",
       "      <td>478.5</td>\n",
       "      <td>470.9</td>\n",
       "      <td>NaN</td>\n",
       "    </tr>\n",
       "    <tr>\n",
       "      <th>6</th>\n",
       "      <td>75019</td>\n",
       "      <td>323.4</td>\n",
       "      <td>287.3</td>\n",
       "      <td>350.3</td>\n",
       "      <td>317.8</td>\n",
       "      <td>336.9</td>\n",
       "      <td>340.7</td>\n",
       "      <td>311.6</td>\n",
       "      <td>281</td>\n",
       "      <td>345.6</td>\n",
       "      <td>335.6</td>\n",
       "      <td>367</td>\n",
       "      <td>354.5</td>\n",
       "      <td>NaN</td>\n",
       "    </tr>\n",
       "    <tr>\n",
       "      <th>7</th>\n",
       "      <td>75002</td>\n",
       "      <td>153</td>\n",
       "      <td>125.8</td>\n",
       "      <td>136.6</td>\n",
       "      <td>126.6</td>\n",
       "      <td>133.2</td>\n",
       "      <td>127.6</td>\n",
       "      <td>126.7</td>\n",
       "      <td>114.3</td>\n",
       "      <td>144.3</td>\n",
       "      <td>145.1</td>\n",
       "      <td>129.5</td>\n",
       "      <td>129.8</td>\n",
       "      <td>NaN</td>\n",
       "    </tr>\n",
       "    <tr>\n",
       "      <th>8</th>\n",
       "      <td>75004</td>\n",
       "      <td>116.3</td>\n",
       "      <td>115.7</td>\n",
       "      <td>133.4</td>\n",
       "      <td>115</td>\n",
       "      <td>123.2</td>\n",
       "      <td>120.5</td>\n",
       "      <td>114.5</td>\n",
       "      <td>97.6</td>\n",
       "      <td>130.5</td>\n",
       "      <td>123</td>\n",
       "      <td>124.3</td>\n",
       "      <td>133.7</td>\n",
       "      <td>NaN</td>\n",
       "    </tr>\n",
       "    <tr>\n",
       "      <th>9</th>\n",
       "      <td>75008</td>\n",
       "      <td>252.6</td>\n",
       "      <td>246.7</td>\n",
       "      <td>252.9</td>\n",
       "      <td>232.5</td>\n",
       "      <td>199.4</td>\n",
       "      <td>236.4</td>\n",
       "      <td>175.4</td>\n",
       "      <td>189.4</td>\n",
       "      <td>266.6</td>\n",
       "      <td>230.3</td>\n",
       "      <td>257.7</td>\n",
       "      <td>224.4</td>\n",
       "      <td>NaN</td>\n",
       "    </tr>\n",
       "    <tr>\n",
       "      <th>10</th>\n",
       "      <td>75012</td>\n",
       "      <td>484.2</td>\n",
       "      <td>445.9</td>\n",
       "      <td>517</td>\n",
       "      <td>452</td>\n",
       "      <td>402</td>\n",
       "      <td>488</td>\n",
       "      <td>456</td>\n",
       "      <td>409</td>\n",
       "      <td>506</td>\n",
       "      <td>495</td>\n",
       "      <td>493</td>\n",
       "      <td>502</td>\n",
       "      <td>NaN</td>\n",
       "    </tr>\n",
       "    <tr>\n",
       "      <th>11</th>\n",
       "      <td>75016</td>\n",
       "      <td>584.1</td>\n",
       "      <td>571.2</td>\n",
       "      <td>684.7</td>\n",
       "      <td>590.3</td>\n",
       "      <td>563.4</td>\n",
       "      <td>666.3</td>\n",
       "      <td>570.4</td>\n",
       "      <td>433.2</td>\n",
       "      <td>679.7</td>\n",
       "      <td>656.1</td>\n",
       "      <td>662.6</td>\n",
       "      <td>699.9</td>\n",
       "      <td>NaN</td>\n",
       "    </tr>\n",
       "    <tr>\n",
       "      <th>12</th>\n",
       "      <td>75020</td>\n",
       "      <td>394.1</td>\n",
       "      <td>366.3</td>\n",
       "      <td>422.7</td>\n",
       "      <td>367.1</td>\n",
       "      <td>273.5</td>\n",
       "      <td>381.7</td>\n",
       "      <td>353.4</td>\n",
       "      <td>297</td>\n",
       "      <td>414</td>\n",
       "      <td>350</td>\n",
       "      <td>410.6</td>\n",
       "      <td>410</td>\n",
       "      <td>NaN</td>\n",
       "    </tr>\n",
       "    <tr>\n",
       "      <th>13</th>\n",
       "      <td>Tout Paris</td>\n",
       "      <td>7 134.20</td>\n",
       "      <td>6 462.60</td>\n",
       "      <td>7 517.40</td>\n",
       "      <td>6 656.60</td>\n",
       "      <td>6 563.40</td>\n",
       "      <td>7 063</td>\n",
       "      <td>6 220.20</td>\n",
       "      <td>5 464</td>\n",
       "      <td>7 296.30</td>\n",
       "      <td>7 084.60</td>\n",
       "      <td>7 291.70</td>\n",
       "      <td>7 492.80</td>\n",
       "      <td>NaN</td>\n",
       "    </tr>\n",
       "    <tr>\n",
       "      <th>14</th>\n",
       "      <td>75001</td>\n",
       "      <td>75.3</td>\n",
       "      <td>60.4</td>\n",
       "      <td>71.2</td>\n",
       "      <td>59.5</td>\n",
       "      <td>73.9</td>\n",
       "      <td>72</td>\n",
       "      <td>57.9</td>\n",
       "      <td>56.4</td>\n",
       "      <td>75.5</td>\n",
       "      <td>75.7</td>\n",
       "      <td>65.8</td>\n",
       "      <td>79.1</td>\n",
       "      <td>NaN</td>\n",
       "    </tr>\n",
       "    <tr>\n",
       "      <th>15</th>\n",
       "      <td>75005</td>\n",
       "      <td>247</td>\n",
       "      <td>211</td>\n",
       "      <td>251</td>\n",
       "      <td>218</td>\n",
       "      <td>185</td>\n",
       "      <td>224</td>\n",
       "      <td>213.3</td>\n",
       "      <td>162.9</td>\n",
       "      <td>203.4</td>\n",
       "      <td>232.1</td>\n",
       "      <td>227.6</td>\n",
       "      <td>251.6</td>\n",
       "      <td>NaN</td>\n",
       "    </tr>\n",
       "    <tr>\n",
       "      <th>16</th>\n",
       "      <td>75006</td>\n",
       "      <td>222</td>\n",
       "      <td>189</td>\n",
       "      <td>218</td>\n",
       "      <td>192</td>\n",
       "      <td>180</td>\n",
       "      <td>199</td>\n",
       "      <td>171.8</td>\n",
       "      <td>134.8</td>\n",
       "      <td>183.1</td>\n",
       "      <td>195.5</td>\n",
       "      <td>213.8</td>\n",
       "      <td>204.1</td>\n",
       "      <td>NaN</td>\n",
       "    </tr>\n",
       "    <tr>\n",
       "      <th>17</th>\n",
       "      <td>75010</td>\n",
       "      <td>273</td>\n",
       "      <td>248.6</td>\n",
       "      <td>292.2</td>\n",
       "      <td>255.2</td>\n",
       "      <td>284.3</td>\n",
       "      <td>267.3</td>\n",
       "      <td>246.6</td>\n",
       "      <td>210.3</td>\n",
       "      <td>280.6</td>\n",
       "      <td>275.6</td>\n",
       "      <td>284.6</td>\n",
       "      <td>283.2</td>\n",
       "      <td>NaN</td>\n",
       "    </tr>\n",
       "    <tr>\n",
       "      <th>18</th>\n",
       "      <td>75011</td>\n",
       "      <td>487.2</td>\n",
       "      <td>422.2</td>\n",
       "      <td>491</td>\n",
       "      <td>437</td>\n",
       "      <td>466</td>\n",
       "      <td>443</td>\n",
       "      <td>373.5</td>\n",
       "      <td>367.5</td>\n",
       "      <td>511.9</td>\n",
       "      <td>490.6</td>\n",
       "      <td>469.2</td>\n",
       "      <td>487.9</td>\n",
       "      <td>NaN</td>\n",
       "    </tr>\n",
       "    <tr>\n",
       "      <th>19</th>\n",
       "      <td>75003</td>\n",
       "      <td>183.9</td>\n",
       "      <td>173.1</td>\n",
       "      <td>204.2</td>\n",
       "      <td>183</td>\n",
       "      <td>203.2</td>\n",
       "      <td>181.9</td>\n",
       "      <td>191.2</td>\n",
       "      <td>153.6</td>\n",
       "      <td>208.6</td>\n",
       "      <td>186.5</td>\n",
       "      <td>192.9</td>\n",
       "      <td>189.9</td>\n",
       "      <td>NaN</td>\n",
       "    </tr>\n",
       "  </tbody>\n",
       "</table>\n",
       "</div>"
      ],
      "text/plain": [
       "   Granularité   janv-11   févr-11   mars-11    avr-11    mai-11 juin-11  \\\n",
       "0        75007     288.1     249.1     303.7     255.8     287.8   288.4   \n",
       "1        75013     596.5     540.2     618.5     558.6     595.9   581.7   \n",
       "2        75014       464     404.9     465.3     420.2     405.3     446   \n",
       "3        75015     903.1     801.4     937.5     835.5     876.8   888.6   \n",
       "4        75017     451.1     412.4     491.6     422.7     363.6   446.4   \n",
       "5        75018       427     394.3     455.2     419.9     458.3   456.6   \n",
       "6        75019     323.4     287.3     350.3     317.8     336.9   340.7   \n",
       "7        75002       153     125.8     136.6     126.6     133.2   127.6   \n",
       "8        75004     116.3     115.7     133.4       115     123.2   120.5   \n",
       "9        75008     252.6     246.7     252.9     232.5     199.4   236.4   \n",
       "10       75012     484.2     445.9       517       452       402     488   \n",
       "11       75016     584.1     571.2     684.7     590.3     563.4   666.3   \n",
       "12       75020     394.1     366.3     422.7     367.1     273.5   381.7   \n",
       "13  Tout Paris  7 134.20  6 462.60  7 517.40  6 656.60  6 563.40   7 063   \n",
       "14       75001      75.3      60.4      71.2      59.5      73.9      72   \n",
       "15       75005       247       211       251       218       185     224   \n",
       "16       75006       222       189       218       192       180     199   \n",
       "17       75010       273     248.6     292.2     255.2     284.3   267.3   \n",
       "18       75011     487.2     422.2       491       437       466     443   \n",
       "19       75003     183.9     173.1     204.2       183     203.2   181.9   \n",
       "\n",
       "     juil-11 août-11   sept-11    oct-11    nov-11    déc-11  \\\n",
       "0      249.6   185.6     281.3     284.3     296.4     301.1   \n",
       "1      539.2   490.5     597.8     575.7     580.5     601.4   \n",
       "2      412.9   348.7     449.3     446.3     453.1     484.3   \n",
       "3      628.8   674.8     913.3     878.7     895.7     935.8   \n",
       "4      409.5   332.3     416.4     451.5     475.1     513.5   \n",
       "5        418   361.8     464.6     453.4     478.5     470.9   \n",
       "6      311.6     281     345.6     335.6       367     354.5   \n",
       "7      126.7   114.3     144.3     145.1     129.5     129.8   \n",
       "8      114.5    97.6     130.5       123     124.3     133.7   \n",
       "9      175.4   189.4     266.6     230.3     257.7     224.4   \n",
       "10       456     409       506       495       493       502   \n",
       "11     570.4   433.2     679.7     656.1     662.6     699.9   \n",
       "12     353.4     297       414       350     410.6       410   \n",
       "13  6 220.20   5 464  7 296.30  7 084.60  7 291.70  7 492.80   \n",
       "14      57.9    56.4      75.5      75.7      65.8      79.1   \n",
       "15     213.3   162.9     203.4     232.1     227.6     251.6   \n",
       "16     171.8   134.8     183.1     195.5     213.8     204.1   \n",
       "17     246.6   210.3     280.6     275.6     284.6     283.2   \n",
       "18     373.5   367.5     511.9     490.6     469.2     487.9   \n",
       "19     191.2   153.6     208.6     186.5     192.9     189.9   \n",
       "\n",
       "    Total arrondissement 2011  \n",
       "0                         NaN  \n",
       "1                         NaN  \n",
       "2                         NaN  \n",
       "3                         NaN  \n",
       "4                         NaN  \n",
       "5                         NaN  \n",
       "6                         NaN  \n",
       "7                         NaN  \n",
       "8                         NaN  \n",
       "9                         NaN  \n",
       "10                        NaN  \n",
       "11                        NaN  \n",
       "12                        NaN  \n",
       "13                        NaN  \n",
       "14                        NaN  \n",
       "15                        NaN  \n",
       "16                        NaN  \n",
       "17                        NaN  \n",
       "18                        NaN  \n",
       "19                        NaN  "
      ]
     },
     "execution_count": 407,
     "metadata": {},
     "output_type": "execute_result"
    }
   ],
   "source": [
    "data_Paris.head(-1)"
   ]
  },
  {
   "cell_type": "markdown",
   "metadata": {
    "collapsed": true
   },
   "source": [
    "Préparer un rapport d'analyse réalisé sur cette base qui mette en évidence les clusters existants à différents niveaux de distance, et en utilisant différentes distances."
   ]
  },
  {
   "cell_type": "code",
   "execution_count": 426,
   "metadata": {},
   "outputs": [
    {
     "ename": "SyntaxError",
     "evalue": "invalid syntax (<ipython-input-426-f17cd1485473>, line 6)",
     "output_type": "error",
     "traceback": [
      "\u001b[1;36m  File \u001b[1;32m\"<ipython-input-426-f17cd1485473>\"\u001b[1;36m, line \u001b[1;32m6\u001b[0m\n\u001b[1;33m    plt.scatter(print(List_col)) # affichage des points\u001b[0m\n\u001b[1;37m                    ^\u001b[0m\n\u001b[1;31mSyntaxError\u001b[0m\u001b[1;31m:\u001b[0m invalid syntax\n"
     ]
    }
   ],
   "source": [
    "M_dataParis= data_Paris.as_matrix()      # conversion du DataFrame en matrice pour la commande suivante\n",
    "List_col= [[M_dataParis[0,0]]]\n",
    "\n",
    "for i in M_dataParis[0,1:] :\n",
    "    List_col = np.vstack((List_col,[i]))\n",
    "plt.scatterList_col) # affichage des points"
   ]
  },
  {
   "cell_type": "code",
   "execution_count": 412,
   "metadata": {},
   "outputs": [
    {
     "data": {
      "text/plain": [
       "array(['75007', '288.1', '249.1', '303.7', '255.8', '287.8', '288.4',\n",
       "       '249.6', '185.6', '281.3', '284.3', '296.4', '301.1', nan], dtype=object)"
      ]
     },
     "execution_count": 412,
     "metadata": {},
     "output_type": "execute_result"
    }
   ],
   "source": [
    "M_dataParis= data_Paris.as_matrix()  \n",
    "M_dataParis[0,]"
   ]
  }
 ],
 "metadata": {
  "kernelspec": {
   "display_name": "Python 3",
   "language": "python",
   "name": "python3"
  },
  "language_info": {
   "codemirror_mode": {
    "name": "ipython",
    "version": 3
   },
   "file_extension": ".py",
   "mimetype": "text/x-python",
   "name": "python",
   "nbconvert_exporter": "python",
   "pygments_lexer": "ipython3",
   "version": "3.6.2"
  }
 },
 "nbformat": 4,
 "nbformat_minor": 1
}
