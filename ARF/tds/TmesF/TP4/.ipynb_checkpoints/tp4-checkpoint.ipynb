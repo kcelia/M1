{
 "cells": [
  {
   "cell_type": "code",
   "execution_count": 139,
   "metadata": {
    "collapsed": true
   },
   "outputs": [],
   "source": [
    "from arftools import *\n",
    "import numpy as np\n",
    "import matplotlib.pyplot as plt\n",
    "from matplotlib import cm"
   ]
  },
  {
   "cell_type": "code",
   "execution_count": 140,
   "metadata": {
    "collapsed": true
   },
   "outputs": [],
   "source": [
    "def decorator_vec(fonc):\n",
    "    def vecfonc(datax,datay,w,*args,**kwargs):\n",
    "        if not hasattr(datay,\"__len__\"):\n",
    "            datay = np.array([datay])\n",
    "        datax,datay,w =  datax.reshape(len(datay),-1),datay.reshape(-1,1),w.reshape((1,-1))\n",
    "        return fonc(datax,datay,w,*args,**kwargs)\n",
    "    return vecfonc"
   ]
  },
  {
   "cell_type": "code",
   "execution_count": 141,
   "metadata": {
    "collapsed": false
   },
   "outputs": [],
   "source": [
    "@decorator_vec\n",
    "def mse(datax,datay,w):\n",
    "    \"\"\" retourne la moyenne de l'erreur aux moindres carres \"\"\"\n",
    "    return np.mean((np.dot(datax, w.T)-datay)**2)\n",
    "\n",
    "@decorator_vec\n",
    "def mse_g(datax,datay,w):\n",
    "    \"\"\" retourne le gradient moyen de l'erreur au moindres carres \"\"\"\n",
    "    #print('w', w[:3])\n",
    "    #print(\"datax\", datax[:3])\n",
    "    #l = 2*datax*(np.dot(datax, w.T)-datay)\n",
    "    #print(\"w\",w.T)\n",
    "    #return 2*np.array(np.array(datax)*(np.dot(datax, w.T)-np.array(datay)))     #si marche pas ajouter **2\n",
    "    return np.mean(2*(datax*(np.dot(datax, w.T)-datay)))"
   ]
  },
  {
   "cell_type": "code",
   "execution_count": 142,
   "metadata": {
    "collapsed": false
   },
   "outputs": [
    {
     "data": {
      "text/plain": [
       "array([3, 3])"
      ]
     },
     "execution_count": 142,
     "metadata": {},
     "output_type": "execute_result"
    }
   ],
   "source": [
    "np.array([4,4])-np.array([1,1])"
   ]
  },
  {
   "cell_type": "code",
   "execution_count": 143,
   "metadata": {
    "collapsed": true
   },
   "outputs": [],
   "source": [
    "@decorator_vec\n",
    "def hinge(datax,datay,w):\n",
    "    \"\"\" retourn la moyenne de l'erreur hinge \"\"\"\n",
    "    return np.mean(np.maximum(0, -datay * np.dot(datax, w.T)))\n",
    "\n",
    "@decorator_vec\n",
    "def hinge_g(datax,datay,w):\n",
    "    \"\"\" retourne le gradient moyen de l'erreur hinge \"\"\"\n",
    "    l =  np.maximum(0, -datay * np.dot(datax, w.T))\n",
    "    l = np.sign(l)\n",
    "    d=datax*datay\n",
    "    return np.dot(l.T,d)"
   ]
  },
  {
   "cell_type": "code",
   "execution_count": 144,
   "metadata": {
    "collapsed": true
   },
   "outputs": [],
   "source": [
    "class Lineaire(object):\n",
    "    def __init__(self,loss=hinge,loss_g=hinge_g,max_iter=1000,eps=0.01):\n",
    "        \"\"\" :loss: fonction de cout\n",
    "            :loss_g: gradient de la fonction de cout\n",
    "            :max_iter: nombre d'iterations\n",
    "            :eps: pas de gradient\n",
    "        \"\"\"\n",
    "        self.max_iter, self.eps = max_iter,eps\n",
    "        self.loss, self.loss_g = loss, loss_g\n",
    "\n",
    "    def fit(self,datax,datay,testx=None,testy=None):\n",
    "        \"\"\" :datax: donnees de train\n",
    "            :datay: label de train\n",
    "            :testx: donnees de test\n",
    "            :testy: label de test\n",
    "        \"\"\"\n",
    "        datay = datay.reshape(-1,1)\n",
    "        N = len(datay)\n",
    "        datax = datax.reshape(N,-1)\n",
    "        D = datax.shape[1]\n",
    "        self.w = np.random.random((1,D))\n",
    "        \n",
    "        for i in range(self.max_iter):\n",
    "            #l = self.loss_g(datax,datay,self.w)\n",
    "            #self.w = self.w + self.eps*self.loss_g(datax,datay,self.w)\n",
    "            #print(\"self.w 1\", self)\n",
    "            #print(\"self.eps*self.loss_g(datax,datay,self.w)\",self.eps*self.loss_g(datax,datay,self.w))\n",
    "            self.w = self.w + self.eps*self.loss_g(datax,datay,self.w)\n",
    "            #print(\"self.w 2\", self)\n",
    "\n",
    "    def predict(self,datax):\n",
    "        if len(datax.shape)==1:\n",
    "            datax = datax.reshape(1,-1)\n",
    "        \n",
    "        return np.sign(np.dot(datax, self.w.T))\n",
    "            \n",
    "\n",
    "    def score(self,datax,datay):\n",
    "        \n",
    "        pred = self.predict(datax)\n",
    "        l = datay-pred\n",
    "        l = np.array(l)\n",
    "        l = np.where(l==0)\n",
    "        return 1-(len(l)*1.0/len(datay))\n"
   ]
  },
  {
   "cell_type": "code",
   "execution_count": 145,
   "metadata": {
    "collapsed": false
   },
   "outputs": [
    {
     "data": {
      "text/plain": [
       "(array([1, 3, 4], dtype=int64),)"
      ]
     },
     "execution_count": 145,
     "metadata": {},
     "output_type": "execute_result"
    }
   ],
   "source": [
    "l = [1,0,1,0,0]\n",
    "l = np.array(l)\n",
    "np.where(l==0)"
   ]
  },
  {
   "cell_type": "code",
   "execution_count": 146,
   "metadata": {
    "collapsed": true
   },
   "outputs": [],
   "source": [
    "def load_usps(fn):\n",
    "    with open(fn,\"r\") as f:\n",
    "        f.readline()\n",
    "        data = [[float(x) for x in l.split()] for l in f if len(l.split())>2]\n",
    "    tmp=np.array(data)\n",
    "    return tmp[:,1:],tmp[:,0].astype(int)"
   ]
  },
  {
   "cell_type": "code",
   "execution_count": 147,
   "metadata": {
    "collapsed": false
   },
   "outputs": [],
   "source": [
    "def show_usps(data):\n",
    "    plt.imshow(data.reshape((16,16)),interpolation=\"nearest\",cmap=\"gray\")\n",
    "\n",
    "def plot_error(datax,datay,f,step=10):\n",
    "    grid,x1list,x2list=make_grid(xmin=-4,xmax=4,ymin=-4,ymax=4)\n",
    "    plt.contourf(x1list,x2list,np.array([f(datax,datay,w) for w in grid]).reshape(x1list.shape),25)\n",
    "    plt.colorbar()\n",
    "    plt.show()\n"
   ]
  },
  {
   "cell_type": "code",
   "execution_count": 148,
   "metadata": {
    "collapsed": false,
    "scrolled": false
   },
   "outputs": [
    {
     "data": {
      "image/png": "[encoded data removed]",
      "text/plain": [
       "<matplotlib.figure.Figure at 0x19f7967b9b0>"
      ]
     },
     "metadata": {},
     "output_type": "display_data"
    },
    {
     "data": {
      "image/png": "[encoded data removed]",
      "text/plain": [
       "<matplotlib.figure.Figure at 0x19f7983b630>"
      ]
     },
     "metadata": {},
     "output_type": "display_data"
    },
    {
     "name": "stdout",
     "output_type": "stream",
     "text": [
      "mse\n",
      "Erreur : train 0.998000, test 0.998000\n",
      "hinge\n",
      "Erreur : train 0.998000, test 0.998000\n"
     ]
    },
    {
     "data": {
      "image/png": "[encoded data removed]",
      "text/plain": [
       "<matplotlib.figure.Figure at 0x19f795480f0>"
      ]
     },
     "metadata": {},
     "output_type": "display_data"
    },
    {
     "data": {
      "image/png": "[encoded data removed]",
      "text/plain": [
       "<matplotlib.figure.Figure at 0x19f794aec18>"
      ]
     },
     "metadata": {},
     "output_type": "display_data"
    }
   ],
   "source": [
    "if __name__==\"__main__\":\n",
    "    \"\"\" Tracer des isocourbes de l'erreur \"\"\"\n",
    "    plt.ion()\n",
    "    trainx,trainy =  gen_arti(nbex=1000,data_type=0,epsilon=1)\n",
    "    testx,testy =  gen_arti(nbex=1000,data_type=0,epsilon=1)\n",
    "    plt.figure()\n",
    "    plot_error(trainx,trainy,mse)\n",
    "    plt.figure()\n",
    "    plot_error(trainx,trainy,hinge)\n",
    "    print(\"mse\")\n",
    "    perceptron = Lineaire(mse,mse_g,max_iter=1000,eps=0.1)\n",
    "    perceptron.fit(trainx,trainy)\n",
    "    print(\"Erreur : train %f, test %f\"% (perceptron.score(trainx,trainy),perceptron.score(testx,testy)))\n",
    "    plt.figure()\n",
    "    plt.title(\"mse\")\n",
    "    plot_frontiere(trainx,perceptron.predict,200)\n",
    "    plot_data(trainx,trainy)\n",
    "    \n",
    "    print(\"hinge\")\n",
    "    perceptron2 = Lineaire(hinge,hinge_g,max_iter=1000,eps=0.1)\n",
    "    perceptron2.fit(trainx,trainy)\n",
    "    print(\"Erreur : train %f, test %f\"% (perceptron2.score(trainx,trainy),perceptron2.score(testx,testy)))\n",
    "    plt.figure()\n",
    "    plt.title(\"hinge\")\n",
    "    plot_frontiere(trainx,perceptron2.predict,200)\n",
    "    plot_data(trainx,trainy)"
   ]
  },
  {
   "cell_type": "markdown",
   "metadata": {},
   "source": [
    "### Données USPS"
   ]
  },
  {
   "cell_type": "code",
   "execution_count": 149,
   "metadata": {
    "collapsed": true
   },
   "outputs": [],
   "source": [
    "dataxtraino , dataytraino = load_usps ( \"USPS/USPS_train.txt\" )\n",
    "dataxtesto , dataytesto = load_usps ( \"USPS/USPS_test.txt\" )"
   ]
  },
  {
   "cell_type": "code",
   "execution_count": 150,
   "metadata": {
    "collapsed": false
   },
   "outputs": [],
   "source": [
    "def choice_class(datax, datay, classe1, classe2):\n",
    "    dx = []\n",
    "    dy = []\n",
    "    for i in range(len(datay)):\n",
    "        if(datay[i]==classe1):\n",
    "            dx.append(datax[i])\n",
    "            dy.append(1)\n",
    "        elif(datay[i]==classe2):\n",
    "            dx.append(datax[i])\n",
    "            dy.append(-1)\n",
    "    return dx, dy"
   ]
  },
  {
   "cell_type": "code",
   "execution_count": 151,
   "metadata": {
    "collapsed": false
   },
   "outputs": [],
   "source": [
    "dataxtrain, dataytrain = choice_class(dataxtraino, dataytraino, 6, 9)\n",
    "dataxtest, dataytest = choice_class(dataxtesto, dataytesto, 6, 9)"
   ]
  },
  {
   "cell_type": "code",
   "execution_count": 152,
   "metadata": {
    "collapsed": false
   },
   "outputs": [
    {
     "data": {
      "text/plain": [
       "256"
      ]
     },
     "execution_count": 152,
     "metadata": {},
     "output_type": "execute_result"
    }
   ],
   "source": [
    "len(dataxtrain[0])"
   ]
  },
  {
   "cell_type": "code",
   "execution_count": 153,
   "metadata": {
    "collapsed": false
   },
   "outputs": [
    {
     "data": {
      "image/png": "[encoded data removed]",
      "text/plain": [
       "<matplotlib.figure.Figure at 0x19f00074588>"
      ]
     },
     "metadata": {},
     "output_type": "display_data"
    }
   ],
   "source": [
    "show_usps(dataxtraino[50])"
   ]
  },
  {
   "cell_type": "code",
   "execution_count": 154,
   "metadata": {
    "collapsed": false
   },
   "outputs": [
    {
     "name": "stdout",
     "output_type": "stream",
     "text": [
      "hinge\n",
      "Erreur : train 0.998471, test 0.994236\n",
      "w [[  2.03407779e-01   5.96992199e-01  -1.58842763e-02  -2.65804200e-01\n",
      "   -3.04926379e+00  -1.08969754e+01  -2.83663100e+01  -4.16695151e+01\n",
      "   -4.38779806e+01  -4.68421882e+01  -5.08483159e+01  -3.34769174e+01\n",
      "   -1.82234912e+01  -7.17866096e+00  -4.86932478e-01   8.09378090e-03\n",
      "    7.49619558e-01  -2.08153358e-01  -1.66340667e+00  -6.92143065e+00\n",
      "   -2.35070737e+01  -5.30749760e+01  -7.24853019e+01  -4.88767138e+01\n",
      "   -1.65411906e+01  -4.36847060e+01  -8.43798655e+01  -6.64818643e+01\n",
      "   -3.99479316e+01  -2.16225218e+01  -4.22804953e+00   2.15360599e-01\n",
      "    1.01996235e+00  -7.35817883e-01  -5.61001751e+00  -2.22380655e+01\n",
      "   -5.67593382e+01  -7.49650937e+01  -3.76886716e+01   2.78745559e+01\n",
      "    4.01893168e+01  -1.21728963e+01  -6.45490190e+01  -6.93233882e+01\n",
      "   -5.39321325e+01  -3.00291464e+01  -8.29206825e+00  -5.84049646e-01\n",
      "   -2.14296982e-01  -3.33567240e+00  -1.53166737e+01  -4.37054806e+01\n",
      "   -6.80269605e+01  -4.60822584e+01   2.81786839e+01   6.72229432e+01\n",
      "    3.40710504e+01  -2.66690722e+01  -6.14652649e+01  -6.99236209e+01\n",
      "   -6.02784960e+01  -2.63026210e+01  -1.05826402e+01  -1.94848068e+00\n",
      "   -1.90002940e-01  -7.34870991e+00  -2.43755777e+01  -4.60530258e+01\n",
      "   -5.70661763e+01  -7.99927429e+00   5.67889316e+01   5.03048126e+01\n",
      "   -6.85421773e+00  -4.52010139e+01  -8.18535460e+01  -9.71458495e+01\n",
      "   -6.39617860e+01  -2.36216862e+01  -1.07630636e+01  -2.67071589e+00\n",
      "   -2.05774795e+00  -1.02315976e+01  -2.19380644e+01  -3.54480219e+01\n",
      "   -3.92645993e+01   1.27628082e+01   4.08698299e+01   1.62592553e+00\n",
      "   -4.22564105e+01  -6.66377238e+01  -9.26895594e+01  -9.36471028e+01\n",
      "   -5.36730452e+01  -1.90020209e+01  -7.72159324e+00  -8.37871907e-01\n",
      "   -2.65952828e+00  -1.01275383e+01  -9.31289504e+00  -1.49165365e+01\n",
      "   -1.52139256e+01   1.47573579e+01   4.50404363e+00  -3.72809520e+01\n",
      "   -6.13212035e+01  -7.65981099e+01  -9.60236721e+01  -7.23831646e+01\n",
      "   -3.73242257e+01  -1.06021542e+01  -3.63523514e+00   5.18650982e-01\n",
      "   -2.03825604e+00  -5.30945440e+00   1.85725745e+00   5.65241789e+00\n",
      "    1.59548735e+01   1.54495026e+01  -1.74028225e+01  -4.76129354e+01\n",
      "   -5.01927757e+01  -7.46793598e+01  -8.34850484e+01  -4.27491127e+01\n",
      "   -1.03462275e+01   3.41918309e+00   3.93930313e+00   2.32592006e+00\n",
      "    3.26284140e-01   2.36197980e+00   1.43866091e+01   3.01851996e+01\n",
      "    3.67814492e+01   2.03884691e+01  -1.95715422e+01  -2.77449788e+01\n",
      "   -2.94735544e+01  -6.24879191e+01  -5.01289479e+01  -6.74350646e+00\n",
      "    1.64140613e+01   1.98248954e+01   1.22033070e+01   4.60222250e+00\n",
      "    4.08178404e+00   9.57835121e+00   3.24578481e+01   5.74783146e+01\n",
      "    5.87414579e+01   3.08101275e+01   6.54568450e+00   7.75382485e+00\n",
      "   -9.33611711e+00  -3.03173125e+01  -4.66474295e+00   3.17900178e+01\n",
      "    3.94436544e+01   3.01217024e+01   1.81599991e+01   5.85399917e+00\n",
      "    5.85090541e+00   1.39781065e+01   4.16429467e+01   7.01947135e+01\n",
      "    7.65691218e+01   4.77256973e+01   4.35640886e+01   4.92358390e+01\n",
      "    8.28591411e+00  -2.73589444e+00   3.22785644e+01   5.80254546e+01\n",
      "    5.56576428e+01   4.15802559e+01   1.94800505e+01   4.23596154e+00\n",
      "    6.94100050e+00   2.17142456e+01   4.46715989e+01   7.24676260e+01\n",
      "    7.62129587e+01   5.77866654e+01   5.76397322e+01   4.40456356e+01\n",
      "   -1.09910086e+01  -1.67856242e+01   2.44750193e+01   6.59326669e+01\n",
      "    7.89613799e+01   4.67360883e+01   1.45671492e+01   2.79903413e+00\n",
      "    5.83122971e+00   1.99850568e+01   4.77590661e+01   8.09494642e+01\n",
      "    9.38829235e+01   7.36188306e+01   5.80555384e+01   1.66687355e+01\n",
      "   -2.58294070e+01  -9.82939734e+00   3.52049258e+01   6.49282397e+01\n",
      "    6.85489226e+01   3.82642706e+01   3.01415642e+00   1.56471051e+00\n",
      "    2.48734524e+00   1.36308565e+01   3.62990815e+01   7.38411067e+01\n",
      "    1.03107979e+02   9.29688753e+01   6.56043206e+01   1.01675030e+01\n",
      "   -2.83550382e+00   3.82253635e+01   6.03492523e+01   5.56216064e+01\n",
      "    3.82160624e+01   1.78352595e+01  -1.03767845e+00   7.32369466e-01\n",
      "    1.27727694e+00   4.22287857e+00   1.75687290e+01   4.63326058e+01\n",
      "    9.11727394e+01   1.02725909e+02   8.11409471e+01   3.34276726e+01\n",
      "    3.66743713e+01   6.97514933e+01   4.78021980e+01   2.88175622e+01\n",
      "    1.64221245e+01   4.89976548e+00   1.99432938e-02   4.35467382e-02\n",
      "    5.75830192e-01   1.17514938e+00   4.30753529e+00   1.34861281e+01\n",
      "    3.88659316e+01   5.97529432e+01   6.29814624e+01   3.53213657e+01\n",
      "    2.32819638e+01   2.97071380e+01   1.28795086e+01   8.22019516e+00\n",
      "    7.13050399e+00   2.94326398e+00   2.56754026e-01   4.12448237e-02]]\n"
     ]
    }
   ],
   "source": [
    "print(\"hinge\")\n",
    "dataxtrain = np.array(dataxtrain)\n",
    "dataxtest = np.array(dataxtest)\n",
    "dataytrain = np.array(dataytrain)\n",
    "dataytest = np.array(dataytest)\n",
    "perceptron3 = Lineaire(hinge,hinge_g,max_iter=1000,eps=0.1)\n",
    "perceptron3.fit(dataxtrain,dataytrain)\n",
    "print(\"Erreur : train %f, test %f\"% (perceptron3.score(dataxtrain,dataytrain),perceptron3.score(dataxtest,dataytest)))\n",
    "#print(\"w\", perceptron3.w)"
   ]
  },
  {
   "cell_type": "code",
   "execution_count": 155,
   "metadata": {
    "collapsed": true
   },
   "outputs": [],
   "source": [
    "def seul_contre_tous(datax, datay, classe):\n",
    "    dx = []\n",
    "    dy = []\n",
    "    for i in range(len(datay)):\n",
    "        if(datay[i]==classe):\n",
    "            dx.append(datax[i])\n",
    "            dy.append(1)\n",
    "        else:\n",
    "            dx.append(datax[i])\n",
    "            dy.append(-1)\n",
    "    return np.array(dx), np.array(dy)"
   ]
  },
  {
   "cell_type": "code",
   "execution_count": 156,
   "metadata": {
    "collapsed": false
   },
   "outputs": [],
   "source": [
    "dxtr, dytr = seul_contre_tous(dataxtraino, dataytraino, 6)\n",
    "dxt, dyt = seul_contre_tous(dataxtesto, dataytesto, 6)"
   ]
  },
  {
   "cell_type": "code",
   "execution_count": 157,
   "metadata": {
    "collapsed": false
   },
   "outputs": [
    {
     "name": "stdout",
     "output_type": "stream",
     "text": [
      "hinge\n",
      "Erreur : train 0.999726, test 0.999003\n",
      "w [[ -25.14196488  -65.27630965  -73.61463729 -138.24999202 -298.70138985\n",
      "  -184.98292167  -98.96431973 -236.3626767   -37.2865002    74.00257112\n",
      "   -58.34210569  -59.93748618  -80.57127243  -81.14839753  -13.31724215\n",
      "   -59.20767895  -28.11972907 -166.44468637 -203.82298358 -253.84075833\n",
      "  -242.97578418 -219.53209939  -95.61842447 -179.86251306 -376.05223582\n",
      "  -214.02202297 -252.72786521 -121.56174961  -36.93423209 -157.24137709\n",
      "    48.90709467  -20.10799554  103.7280077   -73.15182923 -278.39476491\n",
      "  -432.80957484  -38.10352772   86.41384167 -169.29168669  -38.72209088\n",
      "   -27.82176146  -69.07372336  -46.8925331   -32.18388609 -207.25685671\n",
      "  -140.24370642  -45.85465193  -73.25300697   56.44230378 -111.63955589\n",
      "  -316.7188338  -350.71560371  -20.97826664  -47.03090798 -125.92549249\n",
      "  -165.03782873  -82.2152256  -116.91793463  -12.58322727 -222.87624894\n",
      "  -398.45134704 -279.24646445 -200.29188706  -59.23022729   -1.65654152\n",
      "  -125.34391173 -226.00345296 -166.67912161 -160.79374893  -57.25931014\n",
      "    58.06873781 -298.20575241 -201.43984407 -319.16954178 -469.70658125\n",
      "  -485.23951019 -312.58184929 -120.04332334  -75.41800323  -52.41493225\n",
      "   -28.78507329  -34.73641446  -73.24344187  -14.82167299   -4.45352917\n",
      "   -47.7247203   -68.10627145  -53.04924836 -110.25684809 -303.85943267\n",
      "  -282.15533381 -220.12070567  -76.83753636   31.67066764  122.63737414\n",
      "    36.76426096   39.97456512  148.35515422   79.66093587   -2.71173549\n",
      "    70.03771463  -50.80528924  -80.72983899  -15.05364825 -282.98966784\n",
      "    -8.10151326   60.675047    152.13924434    0.94807467   64.2307161\n",
      "   -21.89041154   41.19687815   71.00709517  266.29824623   -6.19043405\n",
      "     4.14690756  165.65837682  -40.58911172  -82.66732345 -129.17596591\n",
      "  -139.32349944  -98.0244177    33.94282885   67.67444829  -62.89755499\n",
      "    25.79069917   61.04569241  -74.49750053  -17.47122793   38.90754366\n",
      "    13.00574057   73.90587758  -17.86984914  122.14886558  -19.79425707\n",
      "    13.61086982  150.32931098  -84.94243309  121.66100462  -30.47894776\n",
      "   -31.54978966  -92.77269595  -46.45121257   25.92926804 -168.5288868\n",
      "   -66.79885746   48.22618825  -40.0268646   160.62000051  -59.03321999\n",
      "   153.86957628   12.08441629  -96.61555188  -12.72292343  -13.69778875\n",
      "  -107.23959505   10.62207442  -77.44072099   55.78642355  -67.38831488\n",
      "  -102.09260332  -55.12265299  132.58903258   82.38795767   25.59982033\n",
      "    10.90424025  130.6275451   102.39109001  148.80745484  -62.6918156\n",
      "   176.788853     13.00658852   -5.39240995   21.19973254  165.78819833\n",
      "    -9.47138511  -63.50531279 -133.15783549  -49.56486169    0.79693013\n",
      "    88.45258541  223.20847613  107.76912677   16.06017816   31.67503895\n",
      "  -110.25740843   11.25124317   61.39506259  115.41906417  232.56379572\n",
      "   -67.29379682   90.59389803   26.96442785  -13.07608665 -100.92141784\n",
      "  -102.27479379  178.94590936  161.89974882   90.26102019  -22.8004937\n",
      "    71.20213553   46.2202311   147.96493887 -214.47349533   51.81959886\n",
      "   168.65514159 -177.99687106   15.6703914  -102.16122711   93.74739159\n",
      "    87.77690664  -22.0497329   114.06490779  108.07179375   81.89235425\n",
      "   194.51434428  273.39390394  100.63535666  140.72087833  -37.22626589\n",
      "    96.3521553    45.51206321 -173.36884533  -37.43246258  -56.63777472\n",
      "   -41.701071     38.11508921  103.742396     43.51169636 -102.67294253\n",
      "   181.86263817   92.47899295   89.45657876   94.89094409  152.24744031\n",
      "   139.05298276  157.3790954  -101.52710813 -113.3378199   -35.81075535\n",
      "    -5.95728824   -4.79543179  -24.03939099  -18.7762434    31.43965268\n",
      "    67.47627136   22.40848769  141.59404889  -55.91929502  154.33301817\n",
      "   140.61468546  -28.4162968  -113.74942944  -42.23323808  -84.32989432\n",
      "   -16.93864994]]\n"
     ]
    }
   ],
   "source": [
    "print(\"hinge\")\n",
    "perceptron4 = Lineaire(hinge,hinge_g,max_iter=1000,eps=0.1)\n",
    "perceptron4.fit(dxtr,dytr)\n",
    "print(\"Erreur : train %f, test %f\"% (perceptron4.score(dxtr,dytr),perceptron4.score(dxt,dyt)))\n",
    "#print(\"w\", perceptron4.w)"
   ]
  },
  {
   "cell_type": "code",
   "execution_count": 164,
   "metadata": {
    "collapsed": true
   },
   "outputs": [],
   "source": [
    "def graph(dxtr, dytr, dxt, dyt):\n",
    "    rest = []\n",
    "    restr = []\n",
    "    for i in range(1, 1000, 200):\n",
    "        perceptron = Lineaire(hinge,hinge_g,max_iter=i,eps=0.1)\n",
    "        perceptron.fit(dxtr,dytr)\n",
    "        restr.append(perceptron.score(dxtr,dytr))\n",
    "        rest.append(perceptron.score(dxt,dyt))\n",
    "    plt.plot(range(1, 1000, 200), restr, \"b\")\n",
    "    plt.plot(range(1, 1000, 200), rest, \"r\")\n",
    "    plt.show()"
   ]
  },
  {
   "cell_type": "code",
   "execution_count": 165,
   "metadata": {
    "collapsed": false
   },
   "outputs": [
    {
     "data": {
      "image/png": "[encoded data removed]",
      "text/plain": [
       "<matplotlib.figure.Figure at 0x19f79789940>"
      ]
     },
     "metadata": {},
     "output_type": "display_data"
    }
   ],
   "source": [
    "graph(dxtr, dytr, dxt, dyt)"
   ]
  }
 ],
 "metadata": {
  "kernelspec": {
   "display_name": "Python 3",
   "language": "python",
   "name": "python3"
  },
  "language_info": {
   "codemirror_mode": {
    "name": "ipython",
    "version": 3
   },
   "file_extension": ".py",
   "mimetype": "text/x-python",
   "name": "python",
   "nbconvert_exporter": "python",
   "pygments_lexer": "ipython3",
   "version": "3.6.0"
  }
 },
 "nbformat": 4,
 "nbformat_minor": 2
}
