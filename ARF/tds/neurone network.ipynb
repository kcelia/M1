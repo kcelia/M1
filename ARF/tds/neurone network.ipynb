{
 "cells": [
  {
   "cell_type": "code",
   "execution_count": 2,
   "metadata": {
    "collapsed": true
   },
   "outputs": [],
   "source": [
    "import numpy as np"
   ]
  },
  {
   "cell_type": "code",
   "execution_count": null,
   "metadata": {
    "collapsed": true
   },
   "outputs": [],
   "source": []
  },
  {
   "cell_type": "code",
   "execution_count": 3,
   "metadata": {
    "collapsed": true
   },
   "outputs": [],
   "source": [
    "def sigmoide(x):\n",
    "    return (1.0 /( 1 + np.exp(-x)))\n",
    "def sigmoidePrime(x):\n",
    "    return sigmoid(x) * (1 - sigmoide(x))"
   ]
  },
  {
   "cell_type": "code",
   "execution_count": 4,
   "metadata": {
    "collapsed": true
   },
   "outputs": [],
   "source": [
    "class Neural_Network:\n",
    "    \n",
    "    def __init__(self,input,output,hiddenL,fonction,fonctionPrime):\n",
    "        self.input = input\n",
    "        self.output= output\n",
    "        self.hiddenL= hiddenL\n",
    "        self.w1 = np.random.randn(input,hiddenL)\n",
    "        self.w2 = np.random.randn(hiddenL,output)\n",
    "        self.fonction=fonction\n",
    "        self.fonctionPrime=fonctionPrime\n",
    "        \n",
    "    def forward(self,datax):\n",
    "        self.z2 = np.dot(datax,self.w1)\n",
    "        self.a2 = self.fonction(self.z2)\n",
    "        \n",
    "        self.z3 = np.dot(self.a2,self.w2)\n",
    "        yhat = self.fonction(self.z3)\n",
    "        \n",
    "           \n",
    "        return yhat\n",
    "        \n",
    "        \n",
    "        def constFunctionPrime(self,x,y):\n",
    "            self.yHat = self.forward(x)\n",
    "            delta3 = np.multiply(-(y-self.yhat), self.fonctionPrime(self.z3))\n",
    "            djdw2 = np.dot(self.a2.T,delta3)\n",
    "        \n",
    "            delta2 = np.dot(delta3, self.w2.T) * self.fonctionPrime(self.z2)\n",
    "            djdw1 = np.dot(x.T,delta2)\n",
    "            \n",
    "            return djw1,djdw2\n",
    "            "
   ]
  },
  {
   "cell_type": "code",
   "execution_count": 5,
   "metadata": {
    "collapsed": true
   },
   "outputs": [],
   "source": [
    "nn1 = Neural_Network(2,1,3,sigmoide,sigmoidePrime)"
   ]
  },
  {
   "cell_type": "code",
   "execution_count": 6,
   "metadata": {},
   "outputs": [
    {
     "data": {
      "text/plain": [
       "array([[ 0.71093535,  0.87964579],\n",
       "       [ 1.12933789,  0.6263458 ],\n",
       "       [ 1.22596127, -0.49533667]])"
      ]
     },
     "execution_count": 6,
     "metadata": {},
     "output_type": "execute_result"
    }
   ],
   "source": [
    "x = np.random.randn(3,2)\n",
    "x"
   ]
  },
  {
   "cell_type": "code",
   "execution_count": 7,
   "metadata": {},
   "outputs": [
    {
     "data": {
      "text/plain": [
       "array([[ 0.86553981],\n",
       "       [ 0.87135993],\n",
       "       [ 0.83909374]])"
      ]
     },
     "execution_count": 7,
     "metadata": {},
     "output_type": "execute_result"
    }
   ],
   "source": [
    "nn1.forward(x) # tooo bad "
   ]
  },
  {
   "cell_type": "code",
   "execution_count": 8,
   "metadata": {},
   "outputs": [
    {
     "data": {
      "text/plain": [
       "array([-1.66731396,  0.7784744 ,  1.23586208,  0.43129841, -0.29176848,\n",
       "        1.32325285])"
      ]
     },
     "execution_count": 8,
     "metadata": {},
     "output_type": "execute_result"
    }
   ],
   "source": [
    "nn1.w1.ravel()"
   ]
  },
  {
   "cell_type": "code",
   "execution_count": 9,
   "metadata": {},
   "outputs": [
    {
     "data": {
      "text/plain": [
       "array([[-1.66731396,  0.7784744 ,  1.23586208],\n",
       "       [ 0.43129841, -0.29176848,  1.32325285]])"
      ]
     },
     "execution_count": 9,
     "metadata": {},
     "output_type": "execute_result"
    }
   ],
   "source": [
    "nn1.w1"
   ]
  },
  {
   "cell_type": "code",
   "execution_count": 11,
   "metadata": {},
   "outputs": [
    {
     "data": {
      "text/plain": [
       "array([ 0.31860689,  0.75136901,  1.5055213 ])"
      ]
     },
     "execution_count": 11,
     "metadata": {},
     "output_type": "execute_result"
    }
   ],
   "source": [
    "nn1.w2.ravel()"
   ]
  },
  {
   "cell_type": "code",
   "execution_count": 13,
   "metadata": {},
   "outputs": [
    {
     "data": {
      "text/plain": [
       "array([-1.66731396,  0.7784744 ,  1.23586208,  0.43129841, -0.29176848,\n",
       "        1.32325285,  0.31860689,  0.75136901,  1.5055213 ])"
      ]
     },
     "execution_count": 13,
     "metadata": {},
     "output_type": "execute_result"
    }
   ],
   "source": [
    "np.concatenate((nn1.w1.ravel(),nn1.w2.ravel()))"
   ]
  },
  {
   "cell_type": "code",
   "execution_count": null,
   "metadata": {
    "collapsed": true
   },
   "outputs": [],
   "source": []
  }
 ],
 "metadata": {
  "kernelspec": {
   "display_name": "Python 3",
   "language": "python",
   "name": "python3"
  }
 },
 "nbformat": 4,
 "nbformat_minor": 2
}
