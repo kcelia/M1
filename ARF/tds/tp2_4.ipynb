{
 "cells": [
  {
   "cell_type": "markdown",
   "metadata": {},
   "source": [
    "# TP2 - Estimation de densité\n",
    "----"
   ]
  },
  {
   "cell_type": "markdown",
   "metadata": {},
   "source": [
    "## Chargement et visualisation des données "
   ]
  },
  {
   "cell_type": "code",
   "execution_count": 3,
   "metadata": {},
   "outputs": [
    {
     "data": {
      "image/png": "[encoded data removed]",
      "text/plain": [
       "<matplotlib.figure.Figure at 0x1d8b83a6d68>"
      ]
     },
     "metadata": {},
     "output_type": "display_data"
    }
   ],
   "source": [
    "import numpy as np\n",
    "import matplotlib.pyplot as plt\n",
    "import matplotlib.image as mpimg\n",
    "import pickle\n",
    "\n",
    "plt.title(\"fv\")\n",
    "plt.show()"
   ]
  },
  {
   "cell_type": "code",
   "execution_count": 2,
   "metadata": {},
   "outputs": [
    {
     "ename": "ValueError",
     "evalue": "unsupported pickle protocol: 3",
     "output_type": "error",
     "traceback": [
      "\u001b[0;31m---------------------------------------------------------------------------\u001b[0m",
      "\u001b[0;31mValueError\u001b[0m                                Traceback (most recent call last)",
      "\u001b[0;32m<ipython-input-2-e3d2d39f1ff7>\u001b[0m in \u001b[0;36m<module>\u001b[0;34m()\u001b[0m\n\u001b[1;32m     10\u001b[0m     \u001b[0;31m## extent pour controler l'echelle du plan\u001b[0m\u001b[0;34m\u001b[0m\u001b[0;34m\u001b[0m\u001b[0m\n\u001b[1;32m     11\u001b[0m \u001b[0;34m\u001b[0m\u001b[0m\n\u001b[0;32m---> 12\u001b[0;31m \u001b[0mpoidata\u001b[0m \u001b[0;34m=\u001b[0m \u001b[0mpickle\u001b[0m\u001b[0;34m.\u001b[0m\u001b[0mload\u001b[0m\u001b[0;34m(\u001b[0m\u001b[0mopen\u001b[0m\u001b[0;34m(\u001b[0m\u001b[0;34m\"data/poi-paris.pkl\"\u001b[0m\u001b[0;34m,\u001b[0m\u001b[0;34m\"rb\"\u001b[0m\u001b[0;34m)\u001b[0m\u001b[0;34m)\u001b[0m\u001b[0;34m\u001b[0m\u001b[0m\n\u001b[0m\u001b[1;32m     13\u001b[0m \u001b[0;31m## liste des types de point of interest (poi)\u001b[0m\u001b[0;34m\u001b[0m\u001b[0;34m\u001b[0m\u001b[0m\n\u001b[1;32m     14\u001b[0m \u001b[0;32mprint\u001b[0m\u001b[0;34m(\u001b[0m\u001b[0;34m\"Liste des types de POI\"\u001b[0m \u001b[0;34m,\u001b[0m \u001b[0;34m\", \"\u001b[0m\u001b[0;34m.\u001b[0m\u001b[0mjoin\u001b[0m\u001b[0;34m(\u001b[0m\u001b[0mpoidata\u001b[0m\u001b[0;34m.\u001b[0m\u001b[0mkeys\u001b[0m\u001b[0;34m(\u001b[0m\u001b[0;34m)\u001b[0m\u001b[0;34m)\u001b[0m\u001b[0;34m)\u001b[0m\u001b[0;34m\u001b[0m\u001b[0m\n",
      "\u001b[0;32m/usr/lib/python2.7/pickle.pyc\u001b[0m in \u001b[0;36mload\u001b[0;34m(file)\u001b[0m\n\u001b[1;32m   1376\u001b[0m \u001b[0;34m\u001b[0m\u001b[0m\n\u001b[1;32m   1377\u001b[0m \u001b[0;32mdef\u001b[0m \u001b[0mload\u001b[0m\u001b[0;34m(\u001b[0m\u001b[0mfile\u001b[0m\u001b[0;34m)\u001b[0m\u001b[0;34m:\u001b[0m\u001b[0;34m\u001b[0m\u001b[0m\n\u001b[0;32m-> 1378\u001b[0;31m     \u001b[0;32mreturn\u001b[0m \u001b[0mUnpickler\u001b[0m\u001b[0;34m(\u001b[0m\u001b[0mfile\u001b[0m\u001b[0;34m)\u001b[0m\u001b[0;34m.\u001b[0m\u001b[0mload\u001b[0m\u001b[0;34m(\u001b[0m\u001b[0;34m)\u001b[0m\u001b[0;34m\u001b[0m\u001b[0m\n\u001b[0m\u001b[1;32m   1379\u001b[0m \u001b[0;34m\u001b[0m\u001b[0m\n\u001b[1;32m   1380\u001b[0m \u001b[0;32mdef\u001b[0m \u001b[0mloads\u001b[0m\u001b[0;34m(\u001b[0m\u001b[0mstr\u001b[0m\u001b[0;34m)\u001b[0m\u001b[0;34m:\u001b[0m\u001b[0;34m\u001b[0m\u001b[0m\n",
      "\u001b[0;32m/usr/lib/python2.7/pickle.pyc\u001b[0m in \u001b[0;36mload\u001b[0;34m(self)\u001b[0m\n\u001b[1;32m    856\u001b[0m             \u001b[0;32mwhile\u001b[0m \u001b[0;36m1\u001b[0m\u001b[0;34m:\u001b[0m\u001b[0;34m\u001b[0m\u001b[0m\n\u001b[1;32m    857\u001b[0m                 \u001b[0mkey\u001b[0m \u001b[0;34m=\u001b[0m \u001b[0mread\u001b[0m\u001b[0;34m(\u001b[0m\u001b[0;36m1\u001b[0m\u001b[0;34m)\u001b[0m\u001b[0;34m\u001b[0m\u001b[0m\n\u001b[0;32m--> 858\u001b[0;31m                 \u001b[0mdispatch\u001b[0m\u001b[0;34m[\u001b[0m\u001b[0mkey\u001b[0m\u001b[0;34m]\u001b[0m\u001b[0;34m(\u001b[0m\u001b[0mself\u001b[0m\u001b[0;34m)\u001b[0m\u001b[0;34m\u001b[0m\u001b[0m\n\u001b[0m\u001b[1;32m    859\u001b[0m         \u001b[0;32mexcept\u001b[0m \u001b[0m_Stop\u001b[0m\u001b[0;34m,\u001b[0m \u001b[0mstopinst\u001b[0m\u001b[0;34m:\u001b[0m\u001b[0;34m\u001b[0m\u001b[0m\n\u001b[1;32m    860\u001b[0m             \u001b[0;32mreturn\u001b[0m \u001b[0mstopinst\u001b[0m\u001b[0;34m.\u001b[0m\u001b[0mvalue\u001b[0m\u001b[0;34m\u001b[0m\u001b[0m\n",
      "\u001b[0;32m/usr/lib/python2.7/pickle.pyc\u001b[0m in \u001b[0;36mload_proto\u001b[0;34m(self)\u001b[0m\n\u001b[1;32m    884\u001b[0m         \u001b[0mproto\u001b[0m \u001b[0;34m=\u001b[0m \u001b[0mord\u001b[0m\u001b[0;34m(\u001b[0m\u001b[0mself\u001b[0m\u001b[0;34m.\u001b[0m\u001b[0mread\u001b[0m\u001b[0;34m(\u001b[0m\u001b[0;36m1\u001b[0m\u001b[0;34m)\u001b[0m\u001b[0;34m)\u001b[0m\u001b[0;34m\u001b[0m\u001b[0m\n\u001b[1;32m    885\u001b[0m         \u001b[0;32mif\u001b[0m \u001b[0;32mnot\u001b[0m \u001b[0;36m0\u001b[0m \u001b[0;34m<=\u001b[0m \u001b[0mproto\u001b[0m \u001b[0;34m<=\u001b[0m \u001b[0;36m2\u001b[0m\u001b[0;34m:\u001b[0m\u001b[0;34m\u001b[0m\u001b[0m\n\u001b[0;32m--> 886\u001b[0;31m             \u001b[0;32mraise\u001b[0m \u001b[0mValueError\u001b[0m\u001b[0;34m,\u001b[0m \u001b[0;34m\"unsupported pickle protocol: %d\"\u001b[0m \u001b[0;34m%\u001b[0m \u001b[0mproto\u001b[0m\u001b[0;34m\u001b[0m\u001b[0m\n\u001b[0m\u001b[1;32m    887\u001b[0m     \u001b[0mdispatch\u001b[0m\u001b[0;34m[\u001b[0m\u001b[0mPROTO\u001b[0m\u001b[0;34m]\u001b[0m \u001b[0;34m=\u001b[0m \u001b[0mload_proto\u001b[0m\u001b[0;34m\u001b[0m\u001b[0m\n\u001b[1;32m    888\u001b[0m \u001b[0;34m\u001b[0m\u001b[0m\n",
      "\u001b[0;31mValueError\u001b[0m: unsupported pickle protocol: 3"
     ]
    }
   ],
   "source": [
    "plt.ion()\n",
    "parismap = mpimg.imread('data/paris-48.806-2.23--48.916-2.48.jpg')\n",
    "\n",
    "## coordonnees GPS de la carte\n",
    "xmin,xmax = 2.23,2.48   ## coord_x min et max\n",
    "ymin,ymax = 48.806,48.916 ## coord_y min et max\n",
    "\n",
    "def show_map():\n",
    "    plt.imshow(parismap,extent=[xmin,xmax,ymin,ymax],aspect=1.5)\n",
    "    ## extent pour controler l'echelle du plan\n",
    "    \n",
    "poidata = pickle.load(open(\"data/poi-paris.pkl\",\"rb\"))\n",
    "## liste des types de point of interest (poi)\n",
    "print(\"Liste des types de POI\" , \", \".join(poidata.keys()))\n",
    "\n",
    "## Choix d'un poi\n",
    "typepoi = \"night_club\"\n",
    "\n",
    "## Creation de la matrice des coordonnees des POI\n",
    "geo_mat = np.zeros((len(poidata[typepoi]),2))\n",
    "for i,(k,v) in enumerate(poidata[typepoi].items()):\n",
    "    geo_mat[i,:]=v[0][::-1]\n",
    "\n",
    "## Affichage brut des poi\n",
    "show_map()\n",
    "## alpha permet de regler la transparence, s la taille\n",
    "plt.scatter(geo_mat[:,0],geo_mat[:,1],alpha=0.8,s=3)"
   ]
  },
  {
   "cell_type": "code",
   "execution_count": null,
   "metadata": {
    "collapsed": true
   },
   "outputs": [],
   "source": [
    "# discretisation pour l'affichage des modeles d'estimation de densite\n",
    "steps = 100\n",
    "xx,yy = np.meshgrid(np.linspace(xmin,xmax,steps),np.linspace(ymin,ymax,steps))\n",
    "grid = np.c_[xx.ravel(),yy.ravel()]\n",
    "\n",
    "# A remplacer par res = monModele.predict(grid).reshape(steps,steps)\n",
    "res = np.random.random((steps,steps))\n",
    "plt.figure(figsize = (12,7))\n",
    "show_map()\n",
    "plt.imshow(res,extent=[xmin,xmax,ymin,ymax],interpolation='none',\\\n",
    "               alpha=0.3,origin = \"lower\")\n",
    "plt.colorbar()\n",
    "#plt.scatter(geo_mat[:,0],geo_mat[:,1],alpha=0.3)"
   ]
  },
  {
   "cell_type": "markdown",
   "metadata": {},
   "source": [
    "## Expérimentations"
   ]
  },
  {
   "cell_type": "markdown",
   "metadata": {},
   "source": [
    "### Affichage"
   ]
  },
  {
   "cell_type": "code",
   "execution_count": null,
   "metadata": {
    "collapsed": true
   },
   "outputs": [],
   "source": [
    "def affichage(xmin, xmax, ymin, ymax, steps, modele):\n",
    "    # discretisation pour l'affichage des modeles d'estimation de densite\n",
    "    xx,yy = np.meshgrid(np.linspace(xmin,xmax,steps),np.linspace(ymin,ymax,steps))\n",
    "    grid = np.c_[xx.ravel(),yy.ravel()]\n",
    "\n",
    "    res = modele.predict(grid).reshape(steps,steps)\n",
    "    plt.figure(figsize = (12,7))\n",
    "    show_map()\n",
    "    plt.imshow(res,extent=[xmin,xmax,ymin,ymax],interpolation='none',\\\n",
    "                   alpha=0.3,origin = \"lower\")\n",
    "    plt.colorbar()\n",
    "    #plt.scatter(geo_mat[:,0],geo_mat[:,1],alpha=0.3)\n",
    "    return res"
   ]
  },
  {
   "cell_type": "markdown",
   "metadata": {},
   "source": [
    "### Méthode des histogrammes\n",
    "----"
   ]
  },
  {
   "cell_type": "code",
   "execution_count": null,
   "metadata": {
    "collapsed": true
   },
   "outputs": [],
   "source": [
    "class HistogramMethod:\n",
    "    \"\"\"Classe modélisant la méthode des histogrammes\"\"\"\n",
    "        \n",
    "    def __init__(self, geo_mat):\n",
    "        self.geo_mat = geo_mat\n",
    "        \n",
    "    # Inutile de faire un apprentissage\n",
    "        \n",
    "    def predict(self, grid):\n",
    "        res = np.zeros(len(grid))\n",
    "        for point in geo_mat:\n",
    "            for i, xy in enumerate(grid):\n",
    "                if point[0] < xy[0] and point[1] < xy[1]:\n",
    "                    res[i] += 1\n",
    "                    break\n",
    "        res /= len(geo_mat)\n",
    "        return res\n"
   ]
  },
  {
   "cell_type": "code",
   "execution_count": 26,
   "metadata": {
    "collapsed": true
   },
   "outputs": [],
   "source": [
    "class HistogramMethod2:\n",
    "    \"\"\"Classe modélisant la méthode des histogrammes\"\"\"\n",
    "        \n",
    "    def __init__(self, xmin, xmax, ymin, ymax, steps=50):\n",
    "        self.xmin, self.xmax, self.ymin, self.ymax =  xmin, xmax, ymin, ymax\n",
    "        \n",
    "    def fit(self, geo_mat):\n",
    "        self.dx = self.xmax - self.xmin\n",
    "        self.dy = self.ymax - self.ymin\n",
    "        self.base = np.zeros((steps, steps))\n",
    "        for point in self.geo_mat:\n",
    "            indx = int((point[0] - self.xmin) / self.dx * steps)\n",
    "            indy = int((point[1] - self.ymin) / self.dy * steps)\n",
    "            self.base[indx][indy] += 1\n",
    "        \n",
    "    def predict(self, grid):\n",
    "        res = np.zeros(len(grid))\n",
    "        for i in range(len(grid)):\n",
    "            indx = int((grid[i][0] - self.xmin) / self.dx * steps)\n",
    "            indy = int((grid[i][1] - self.ymin) / self.dy * steps)\n",
    "            res[i] = self.base[indx][indy]\n",
    "        return res\n"
   ]
  },
  {
   "cell_type": "code",
   "execution_count": null,
   "metadata": {
    "collapsed": true
   },
   "outputs": [],
   "source": [
    "steps = 50\n",
    "res = affichage(xmin, xmax, ymin, ymax, steps, HistogramMethod(geo_mat))"
   ]
  },
  {
   "cell_type": "markdown",
   "metadata": {},
   "source": [
    "### Estimation non paramétrique par noyaux\n",
    "----"
   ]
  },
  {
   "cell_type": "code",
   "execution_count": null,
   "metadata": {
    "collapsed": true
   },
   "outputs": [],
   "source": [
    "class KernelMethod:\n",
    "    \"\"\"Classe modélisant une méthode à noyaux \"\"\"\n",
    "    \n",
    "    def __init__(self, geo_mat, hn):\n",
    "        self.geo_mat = geo_mat\n",
    "        self.hn = hn\n",
    "        \n",
    "    def predict(self, grid):\n",
    "        \"\"\"A definir\"\"\"\n",
    "        return\n",
    "    "
   ]
  },
  {
   "cell_type": "markdown",
   "metadata": {},
   "source": [
    "#### Fenêtre de Parzen"
   ]
  },
  {
   "cell_type": "code",
   "execution_count": null,
   "metadata": {
    "collapsed": true
   },
   "outputs": [],
   "source": [
    "def isOnParzenWindow(x):\n",
    "    \"\"\" np.array -> int\n",
    "        retourne 1 si x appartient à la fenêtre sinon 0\n",
    "    \"\"\"\n",
    "    # Si x et y sont inférieurs à 0.5, on obtiendra un tableau contenant 2 valeurs True\n",
    "    return 1 if sum(np.abs(x) <= 0.5) == 2 else 0\n",
    "\n",
    "\n",
    "class ParzenMethod(KernelMethod):\n",
    "    \"\"\"Classe modélisant la méthode utilisant la fenêtre de Parzen\"\"\"\n",
    "\n",
    "    def predict(self, grid):\n",
    "        res = np.zeros(len(grid))\n",
    "        # Hypothèse : Nos données sont de dimensions 2\n",
    "        Vn = self.hn ** 2\n",
    "        for i, xy in enumerate(grid):\n",
    "            # On décide de ne pas normaliser car le nombre de points dans chaque \n",
    "            # hypercube n'est pas équilibré\n",
    "            # A revoir...\n",
    "            res[i] = sum(isOnParzenWindow((point - xy)/self.hn) for point in geo_mat)\n",
    "        return res\n",
    "    "
   ]
  },
  {
   "cell_type": "code",
   "execution_count": null,
   "metadata": {
    "collapsed": true
   },
   "outputs": [],
   "source": [
    "steps = 50\n",
    "res = affichage(xmin, xmax, ymin, ymax, steps, ParzenMethod(geo_mat, hn=0.01))\n",
    "res2 = affichage(xmin, xmax, ymin, ymax, steps, ParzenMethod(geo_mat, hn=0.05))"
   ]
  },
  {
   "cell_type": "markdown",
   "metadata": {},
   "source": [
    "#### Noyau gaussien"
   ]
  },
  {
   "cell_type": "code",
   "execution_count": null,
   "metadata": {
    "collapsed": true
   },
   "outputs": [],
   "source": [
    "def GaussianPhi(x):\n",
    "    # Si x et y sont inférieurs à 0.5, on obtiendra un tableau contenant 2 valeurs True\n",
    "    return np.prod( 1/(np.sqrt(2*np.pi))*np.exp(-0.5*(x**2)) )\n",
    "    \n",
    "\n",
    "class GaussianMethod(KernelMethod):\n",
    "    \"\"\"Classe modélisant la méthode utilisant un noyau gaussien\"\"\"\n",
    "\n",
    "    def predict(self, grid):\n",
    "        res = np.zeros(len(grid))\n",
    "        # Hypothèse : Nos données sont de dimensions 2\n",
    "        Vn = self.hn ** 2\n",
    "        for i, xy in enumerate(grid):\n",
    "            res[i] = sum(GaussianPhi((point - xy)/self.hn) for point in geo_mat)\n",
    "        return res"
   ]
  },
  {
   "cell_type": "code",
   "execution_count": null,
   "metadata": {
    "collapsed": true
   },
   "outputs": [],
   "source": [
    "steps = 50\n",
    "res = affichage(xmin, xmax, ymin, ymax, steps, GaussianMethod(geo_mat, hn=0.01))\n",
    "res2 = affichage(xmin, xmax, ymin, ymax, steps, GaussianMethod(geo_mat, hn=0.05))"
   ]
  },
  {
   "cell_type": "markdown",
   "metadata": {},
   "source": [
    "#### Noyau Laplace"
   ]
  },
  {
   "cell_type": "code",
   "execution_count": null,
   "metadata": {
    "collapsed": true
   },
   "outputs": [],
   "source": [
    "def LaplacePhi(x):\n",
    "    # Si x et y sont inférieurs à 0.5, on obtiendra un tableau contenant 2 valeurs True\n",
    "    return np.prod( 0.5*np.exp(-np.abs(x)) )\n",
    "    \n",
    "\n",
    "class LaplaceMethod(KernelMethod):\n",
    "    \"\"\"Classe modélisant la méthode utilisant un noyau laplacien\"\"\"\n",
    "\n",
    "    def predict(self, grid):\n",
    "        res = np.zeros(len(grid))\n",
    "        # Hypothèse : Nos données sont de dimensions 2\n",
    "        Vn = self.hn ** 2\n",
    "        for i, xy in enumerate(grid):\n",
    "            res[i] = sum(LaplacePhi((point - xy)/self.hn) for point in geo_mat)\n",
    "        return res"
   ]
  },
  {
   "cell_type": "code",
   "execution_count": null,
   "metadata": {
    "collapsed": true,
    "scrolled": false
   },
   "outputs": [],
   "source": [
    "steps = 100\n",
    "res = affichage(xmin, xmax, ymin, ymax, steps, LaplaceMethod(geo_mat, hn=0.005))\n",
    "res2 = affichage(xmin, xmax, ymin, ymax, steps, LaplaceMethod(geo_mat, hn=0.02))"
   ]
  },
  {
   "cell_type": "markdown",
   "metadata": {
    "collapsed": true
   },
   "source": [
    "#### [Q] - Que se passe-t-il pour une faible/forte disrétisation pour la méthode des histogrammes ?"
   ]
  },
  {
   "cell_type": "markdown",
   "metadata": {
    "collapsed": true
   },
   "source": [
    "[R] - Une faible discrétisation provoque une faible précision et ne permet donc pas de bien visualiser les différentes variations. Au contraire, une forte discrétisation induit une forte sensibilité avec notamment la présence de valeurs extrêmes et par conséquent, de fortes discontinuités."
   ]
  },
  {
   "cell_type": "markdown",
   "metadata": {
    "collapsed": true
   },
   "source": [
    "#### [Q] - Quel est le rôle des paramètres des méthodes à noyaux ?"
   ]
  },
  {
   "cell_type": "markdown",
   "metadata": {
    "collapsed": true
   },
   "source": [
    "[R] - Le but des méthodes à noyaux est de prendre en compte les points voisins du point étudié afin de résoudre le problème de la discrétisation. Le rôle des paramètres est de déterminer l'espace de voisinage (l'espace qui détermine les voisins à prendre en compte)."
   ]
  },
  {
   "cell_type": "markdown",
   "metadata": {
    "collapsed": true
   },
   "source": [
    "#### [Q] - Comment choisir de manière automatique les meilleurs paramètres ?"
   ]
  },
  {
   "cell_type": "markdown",
   "metadata": {
    "collapsed": true
   },
   "source": [
    "[R] - (Hypothèse) Plus le nombre de données augmente, plus un lissage avec un hn grand pourrait être nécessaire. Lorsque le nombre de données tend vers l'infini, hn n'a quasiment plus d'impact sur l'estimation.\n",
    "\n",
    "A revoir"
   ]
  },
  {
   "cell_type": "markdown",
   "metadata": {},
   "source": [
    "#### [Q] - La question reliée : comment estimer la qualité de votre modèle ? "
   ]
  },
  {
   "cell_type": "markdown",
   "metadata": {},
   "source": [
    "[R] - A revoir et répondre"
   ]
  },
  {
   "cell_type": "markdown",
   "metadata": {},
   "source": [
    "### Test avec différents POI\n",
    "----"
   ]
  },
  {
   "cell_type": "code",
   "execution_count": 12,
   "metadata": {},
   "outputs": [
    {
     "ename": "NameError",
     "evalue": "name 'poidata' is not defined",
     "output_type": "error",
     "traceback": [
      "\u001b[0;31m---------------------------------------------------------------------------\u001b[0m",
      "\u001b[0;31mNameError\u001b[0m                                 Traceback (most recent call last)",
      "\u001b[0;32m<ipython-input-12-ea07d42f7e3c>\u001b[0m in \u001b[0;36m<module>\u001b[0;34m()\u001b[0m\n\u001b[1;32m      2\u001b[0m \u001b[0mtypepoi\u001b[0m \u001b[0;34m=\u001b[0m \u001b[0;34m\"night_club\"\u001b[0m\u001b[0;34m\u001b[0m\u001b[0m\n\u001b[1;32m      3\u001b[0m \u001b[0;31m## Creation de la matrice des coordonnees des POI\u001b[0m\u001b[0;34m\u001b[0m\u001b[0;34m\u001b[0m\u001b[0m\n\u001b[0;32m----> 4\u001b[0;31m \u001b[0mgeo_mat\u001b[0m \u001b[0;34m=\u001b[0m \u001b[0mnp\u001b[0m\u001b[0;34m.\u001b[0m\u001b[0mzeros\u001b[0m\u001b[0;34m(\u001b[0m\u001b[0;34m(\u001b[0m\u001b[0mlen\u001b[0m\u001b[0;34m(\u001b[0m\u001b[0mpoidata\u001b[0m\u001b[0;34m[\u001b[0m\u001b[0mtypepoi\u001b[0m\u001b[0;34m]\u001b[0m\u001b[0;34m)\u001b[0m\u001b[0;34m,\u001b[0m\u001b[0;36m2\u001b[0m\u001b[0;34m)\u001b[0m\u001b[0;34m)\u001b[0m\u001b[0;34m\u001b[0m\u001b[0m\n\u001b[0m\u001b[1;32m      5\u001b[0m \u001b[0;32mfor\u001b[0m \u001b[0mi\u001b[0m\u001b[0;34m,\u001b[0m\u001b[0;34m(\u001b[0m\u001b[0mk\u001b[0m\u001b[0;34m,\u001b[0m\u001b[0mv\u001b[0m\u001b[0;34m)\u001b[0m \u001b[0;32min\u001b[0m \u001b[0menumerate\u001b[0m\u001b[0;34m(\u001b[0m\u001b[0mpoidata\u001b[0m\u001b[0;34m[\u001b[0m\u001b[0mtypepoi\u001b[0m\u001b[0;34m]\u001b[0m\u001b[0;34m.\u001b[0m\u001b[0mitems\u001b[0m\u001b[0;34m(\u001b[0m\u001b[0;34m)\u001b[0m\u001b[0;34m)\u001b[0m\u001b[0;34m:\u001b[0m\u001b[0;34m\u001b[0m\u001b[0m\n\u001b[1;32m      6\u001b[0m     \u001b[0mgeo_mat\u001b[0m\u001b[0;34m[\u001b[0m\u001b[0mi\u001b[0m\u001b[0;34m,\u001b[0m\u001b[0;34m:\u001b[0m\u001b[0;34m]\u001b[0m\u001b[0;34m=\u001b[0m\u001b[0mv\u001b[0m\u001b[0;34m[\u001b[0m\u001b[0;36m0\u001b[0m\u001b[0;34m]\u001b[0m\u001b[0;34m[\u001b[0m\u001b[0;34m:\u001b[0m\u001b[0;34m:\u001b[0m\u001b[0;34m-\u001b[0m\u001b[0;36m1\u001b[0m\u001b[0;34m]\u001b[0m\u001b[0;34m\u001b[0m\u001b[0m\n",
      "\u001b[0;31mNameError\u001b[0m: name 'poidata' is not defined"
     ]
    }
   ],
   "source": [
    "## Choix d'un poi\n",
    "typepoi = \"night_club\"\n",
    "## Creation de la matrice des coordonnees des POI\n",
    "geo_mat = np.zeros((len(poidata[typepoi]),2))\n",
    "for i,(k,v) in enumerate(poidata[typepoi].items()):\n",
    "    geo_mat[i,:]=v[0][::-1]"
   ]
  },
  {
   "cell_type": "code",
   "execution_count": null,
   "metadata": {
    "collapsed": true
   },
   "outputs": [],
   "source": []
  },
  {
   "cell_type": "code",
   "execution_count": null,
   "metadata": {
    "collapsed": true
   },
   "outputs": [],
   "source": []
  },
  {
   "cell_type": "code",
   "execution_count": null,
   "metadata": {
    "collapsed": true
   },
   "outputs": [],
   "source": []
  },
  {
   "cell_type": "markdown",
   "metadata": {},
   "source": [
    "### Classification supervisée\n",
    "----"
   ]
  },
  {
   "cell_type": "code",
   "execution_count": null,
   "metadata": {
    "collapsed": true
   },
   "outputs": [],
   "source": [
    "class Classifier:\n",
    "\n",
    "    def fit(self, X, Y):\n",
    "        \"\"\" X : base d'exemples d'apprentissage\n",
    "            Y : labels\n",
    "        \"\"\"\n",
    "        \"\"\"A definir\"\"\"\n",
    "        return\n",
    "    \n",
    "    def predict(self, x):\n",
    "        \"\"\" x : un exemple \"\"\"\n",
    "        \"\"\"A definir\"\"\"\n",
    "        return\n",
    "    \n",
    "    def accuracy(self, X, Y):\n",
    "        \"\"\" X : exemples, Y : labels \"\"\"\n",
    "        \n",
    "        pred = np.zeros(len(X))\n",
    "        for i in range(len(X)):\n",
    "            pred[i] = self.predict(x)\n",
    "        return len(np.where(pred == Y)[0])/len(X)\n",
    "        "
   ]
  },
  {
   "cell_type": "markdown",
   "metadata": {},
   "source": [
    "#### Nadaraya-Watson"
   ]
  },
  {
   "cell_type": "code",
   "execution_count": 62,
   "metadata": {
    "collapsed": true
   },
   "outputs": [],
   "source": []
  },
  {
   "cell_type": "code",
   "execution_count": null,
   "metadata": {
    "collapsed": true
   },
   "outputs": [],
   "source": []
  },
  {
   "cell_type": "markdown",
   "metadata": {},
   "source": [
    "#### K-means"
   ]
  },
  {
   "cell_type": "code",
   "execution_count": null,
   "metadata": {
    "collapsed": true
   },
   "outputs": [],
   "source": [
    "class Kmean(Classifier):\n",
    "    \n",
    "    \"\"\" A faire \"\"\""
   ]
  },
  {
   "cell_type": "code",
   "execution_count": null,
   "metadata": {
    "collapsed": true
   },
   "outputs": [],
   "source": []
  },
  {
   "cell_type": "code",
   "execution_count": null,
   "metadata": {
    "collapsed": true
   },
   "outputs": [],
   "source": []
  }
 ],
 "metadata": {
  "kernelspec": {
   "display_name": "Python 3",
   "language": "python",
   "name": "python3"
  },
  "language_info": {
   "codemirror_mode": {
    "name": "ipython",
    "version": 3
   },
   "file_extension": ".py",
   "mimetype": "text/x-python",
   "name": "python",
   "nbconvert_exporter": "python",
   "pygments_lexer": "ipython3",
   "version": "3.6.2"
  }
 },
 "nbformat": 4,
 "nbformat_minor": 2
}
