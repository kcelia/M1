{
 "cells": [
  {
   "cell_type": "code",
   "execution_count": 4,
   "metadata": {},
   "outputs": [],
   "source": [
    "import numpy as np\n",
    "import matplotlib.pyplot as plt\n",
    "\n",
    "from random import shuffle, choice"
   ]
  },
  {
   "cell_type": "code",
   "execution_count": 55,
   "metadata": {},
   "outputs": [],
   "source": [
    "class Lineaire(object):\n",
    "    def __init__(self, loss, loss_g, max_iter=0, eps=0.01, patience=3):\n",
    "        \"\"\" :loss: fonction de cout\n",
    "            :loss_g: gradient de la fonction de cout\n",
    "            :max_iter: nombre d'iterations\n",
    "            :eps: pas de gradient\n",
    "        \"\"\"\n",
    "        self.max_iter, self.eps = max_iter, eps\n",
    "        self.loss, self.loss_g = loss, loss_g\n",
    "        self.patience = patience\n",
    "\n",
    "    def fit(self, datax, datay, testx=None, testy=None, batch_size=None):\n",
    "        \"\"\" :datax: donnees de train\n",
    "            :datay: label de train\n",
    "            :testx: donnees de test\n",
    "            :testy: label de test\n",
    "        \"\"\"\n",
    "        if batch_size is None:\n",
    "            batch_size = len(datax)\n",
    "        datay = datay.reshape(-1,1)\n",
    "        N = len(datay)\n",
    "        datax = datax.reshape(N,-1)\n",
    "        D = datax.shape[1]\n",
    "        self.w = np.random.normal(0, .1, size=(1,D))\n",
    "        train_h, test_h = [], []\n",
    "        \n",
    "        if self.max_iter > 0:\n",
    "            for _ in range(self.max_iter):\n",
    "\n",
    "                loss = self.loss(datax, datay, self.w)\n",
    "                loss_g = self.loss_g(datax, datay, self.w)\n",
    "                self.w = self.w - self.eps * loss_g\n",
    "\n",
    "                train_h.append(loss)\n",
    "                test_h.append(self.loss(testx, testy, self.w))\n",
    "        else:\n",
    "            keep_learning = 0\n",
    "            # Faire une première itération\n",
    "            loss = self.loss(datax, datay, self.w)\n",
    "            loss_g = self.loss_g(datax, datay, self.w)\n",
    "            self.w = self.w - self.eps * loss_g\n",
    "\n",
    "            train_h.append(loss)\n",
    "            test_h.append(self.loss(testx, testy, self.w))\n",
    "            \n",
    "            # On y va\n",
    "            while keep_learning < self.patience:\n",
    "                loss = self.loss(datax, datay, self.w)\n",
    "                loss_g = self.loss_g(datax, datay, self.w)\n",
    "                self.w = self.w - self.eps * loss_g\n",
    "\n",
    "                train_h.append(loss)\n",
    "                test_h.append(self.loss(testx, testy, self.w))\n",
    "                \n",
    "                if test_h[-1] >= min(test_h[:-1]):\n",
    "                    keep_learning += 1\n",
    "                else:\n",
    "                    keep_learning = 0\n",
    "                \n",
    "        return train_h, test_h\n",
    "\n",
    "    def predict(self,datax):\n",
    "        if len(datax.shape)==1:\n",
    "            datax = datax.reshape(1, -1)\n",
    "        return self.w.dot(datax.T) > 0\n",
    "\n",
    "    def score(self,datax,datay):\n",
    "        return (self.predict(datax) == datay).mean()"
   ]
  },
  {
   "cell_type": "code",
   "execution_count": 6,
   "metadata": {},
   "outputs": [],
   "source": [
    "def norm_p(X, p):\n",
    "    if p == 1:\n",
    "        return sum([abs(x) for x in X.T])\n",
    "    elif p == np.inf:\n",
    "        return max([abs(x) for x in X.T])\n",
    "    else:\n",
    "        return sum([x ** p for x in X.T]) ** (1/p)\n",
    "norm1 = lambda X: norm_p(X, 1)\n",
    "norm2 = lambda X: norm_p(X, 2)"
   ]
  },
  {
   "cell_type": "code",
   "execution_count": 7,
   "metadata": {},
   "outputs": [],
   "source": [
    "def decorator_vec(fonc):\n",
    "    def vecfonc(datax, datay, w, *args, **kwargs):\n",
    "        if not hasattr(datay,\"__len__\"):\n",
    "            datay = np.array([datay])\n",
    "        datax, datay, w = datax.reshape(len(datay),-1), datay.reshape(-1,1), w.reshape((1,-1))\n",
    "        return fonc(datax, datay, w, *args, **kwargs)\n",
    "    return vecfonc"
   ]
  },
  {
   "cell_type": "code",
   "execution_count": 8,
   "metadata": {},
   "outputs": [],
   "source": [
    "@decorator_vec\n",
    "def mse(datax, datay, w):\n",
    "    \"\"\" retourne la moyenne de l'erreur aux moindres carres \"\"\"\n",
    "    y_hat = w.dot(datax.T)\n",
    "    return ((y_hat - datay)**2).sum()\n",
    "\n",
    "@decorator_vec\n",
    "def mse_g(datax, datay, w):\n",
    "    \"\"\" retourne le gradient moyen de l'erreur au moindres carres \"\"\"\n",
    "    diff =w.dot(datax.T) - datay\n",
    "    return np.mean(2 * diff)\n",
    "\n",
    "def get_tikhonov(alpha):\n",
    "    # Returns tikhonov function and gradient parametrize by alpha\n",
    "    def tikhonov(datax, datay, w, alpha):\n",
    "        return mse(datax, datay, w) + alpha * norm2(w)\n",
    "    \n",
    "    return lambda X, Y, W : tikhonov(X, Y, W, alpha)\n",
    "\n",
    "def get_lasso(alpha):\n",
    "    # Returns lasso function and gradient parametrize by alpha\n",
    "    def lasso(datax, datay, w, alpha):\n",
    "        return mse(datax, datay, w) + alpha * norm1(w)\n",
    "    \n",
    "    return lambda X, Y, W : lasso(X, Y, W, alpha)"
   ]
  },
  {
   "cell_type": "code",
   "execution_count": 9,
   "metadata": {},
   "outputs": [],
   "source": [
    "def load_usps(fn):\n",
    "    with open(fn,\"r\") as f:\n",
    "        f.readline()\n",
    "        data = [[float(x) for x in l.split()] for l in f if len(l.split())>2]\n",
    "    tmp = np.array(data)\n",
    "    n = tmp.shape[0]\n",
    "    tmp[:, 1:] = (tmp[:, 1:] - tmp[:, 1:].min(axis=1).reshape(n, 1)) / tmp[:, 1:].max(axis=1).reshape(n, 1)\n",
    "    return tmp[:, 1:], tmp[:, 0].astype(int)\n",
    "\n",
    "def show_usps(data):\n",
    "    plt.imshow(data.reshape((16,16)),interpolation=\"nearest\",cmap=\"gray\")\n",
    "\n",
    "def filter_classes(X, Y, y1, y2, balance=True):\n",
    "    #y1 et y2 peuvent etre des listes\n",
    "    y1 = list(np.array([y1]).flatten())\n",
    "    y2 = list(np.array([y2]).flatten())\n",
    "    yg = y1 + y2\n",
    "    X, Y = list(zip(*filter(lambda c: c[1] in yg, zip(X, Y))))\n",
    "    Y = list(map(lambda y: int(y in y1), Y)) #binarise the classes\n",
    "    if balance:\n",
    "        data = list(zip(X, Y))\n",
    "        positives = list(filter(lambda c: c[1], data))\n",
    "        negatives = list(filter(lambda c: not c[1], data))\n",
    "        shuffle(positives)\n",
    "        shuffle(negatives)\n",
    "        positives = positives[:min(len(positives), len(negatives))]\n",
    "        negatives = negatives[:len(positives)]\n",
    "        data = positives + negatives\n",
    "        shuffle(data)\n",
    "        X, Y = list(zip(*data))\n",
    "    return np.array(X), np.array(Y)"
   ]
  },
  {
   "cell_type": "code",
   "execution_count": 10,
   "metadata": {},
   "outputs": [],
   "source": [
    "x_train, y_train = load_usps(\"USPS/USPS_train.txt\")\n",
    "x_test,  y_test  = load_usps(\"USPS/USPS_test.txt\")"
   ]
  },
  {
   "cell_type": "code",
   "execution_count": 37,
   "metadata": {},
   "outputs": [],
   "source": [
    "classes = [0, 1]"
   ]
  },
  {
   "cell_type": "code",
   "execution_count": 56,
   "metadata": {},
   "outputs": [
    {
     "name": "stdout",
     "output_type": "stream",
     "text": [
      "Accuracy :  0.29545454545454547\n"
     ]
    },
    {
     "data": {
      "image/png": "[encoded data removed]",
      "text/plain": [
       "<Figure size 432x288 with 3 Axes>"
      ]
     },
     "metadata": {},
     "output_type": "display_data"
    }
   ],
   "source": [
    "clf = Lineaire(mse, mse_g, eps=.0001, max_iter=0)\n",
    "tr_x, tr_y = filter_classes(x_train, y_train, classes[0], classes[1])\n",
    "te_x, te_y = filter_classes(x_test,  y_test,  classes[0], classes[1])\n",
    "train_h, test_h = clf.fit(tr_x, (tr_y * 2 - 1), te_x, (te_y * 2 - 1))\n",
    "\n",
    "plt.figure()\n",
    "plt.subplot(121)\n",
    "plt.plot(range(len(train_h)), train_h, label=\"train\")\n",
    "plt.plot(range(len(test_h)), test_h, label=\"test\")\n",
    "plt.legend()\n",
    "\n",
    "plt.subplot(122)\n",
    "plt.imshow(clf.w.reshape(16, 16), cmap=\"gray\")\n",
    "plt.colorbar()\n",
    "\n",
    "print(\"Accuracy : \", (clf.predict(te_x) == te_y).mean())"
   ]
  },
  {
   "cell_type": "code",
   "execution_count": 57,
   "metadata": {},
   "outputs": [
    {
     "name": "stdout",
     "output_type": "stream",
     "text": [
      "Accuracy :  0.3958333333333333\n"
     ]
    },
    {
     "data": {
      "image/png": "[encoded data removed]",
      "text/plain": [
       "<Figure size 432x288 with 3 Axes>"
      ]
     },
     "metadata": {},
     "output_type": "display_data"
    }
   ],
   "source": [
    "tikho = get_tikhonov(1)\n",
    "clf = Lineaire(tikho, mse_g, eps=.0001, max_iter=0)\n",
    "tr_x, tr_y = filter_classes(x_train, y_train, classes[0], classes[1])\n",
    "te_x, te_y = filter_classes(x_test,  y_test,  classes[0], classes[1])\n",
    "train_h, test_h = clf.fit(tr_x, (tr_y * 2 - 1), te_x, (te_y * 2 - 1))\n",
    "\n",
    "plt.figure()\n",
    "plt.subplot(121)\n",
    "plt.plot(range(len(train_h)), train_h, label=\"train\")\n",
    "plt.plot(range(len(test_h)), test_h, label=\"test\")\n",
    "plt.legend()\n",
    "\n",
    "plt.subplot(122)\n",
    "plt.imshow(clf.w.reshape(16, 16), cmap=\"gray\")\n",
    "plt.colorbar()\n",
    "\n",
    "print(\"Accuracy : \", (clf.predict(te_x) == te_y).mean())"
   ]
  },
  {
   "cell_type": "code",
   "execution_count": 58,
   "metadata": {},
   "outputs": [
    {
     "name": "stdout",
     "output_type": "stream",
     "text": [
      "Accuracy :  0.19696969696969696\n"
     ]
    },
    {
     "data": {
      "image/png": "[encoded data removed]",
      "text/plain": [
       "<Figure size 432x288 with 3 Axes>"
      ]
     },
     "metadata": {},
     "output_type": "display_data"
    }
   ],
   "source": [
    "lasso = get_lasso(1)\n",
    "clf = Lineaire(lasso, mse_g, eps=.0001, max_iter=0)\n",
    "tr_x, tr_y = filter_classes(x_train, y_train, classes[0], classes[1])\n",
    "te_x, te_y = filter_classes(x_test,  y_test,  classes[0], classes[1])\n",
    "train_h, test_h = clf.fit(tr_x, (tr_y * 2 - 1), te_x, (te_y * 2 - 1))\n",
    "\n",
    "plt.figure()\n",
    "plt.subplot(121)\n",
    "plt.plot(range(len(train_h)), train_h, label=\"train\")\n",
    "plt.plot(range(len(test_h)), test_h, label=\"test\")\n",
    "plt.legend()\n",
    "\n",
    "plt.subplot(122)\n",
    "plt.imshow(clf.w.reshape(16, 16), cmap=\"gray\")\n",
    "plt.colorbar()\n",
    "\n",
    "print(\"Accuracy : \", (clf.predict(te_x) == te_y).mean())"
   ]
  },
  {
   "cell_type": "code",
   "execution_count": 59,
   "metadata": {},
   "outputs": [
    {
     "name": "stdout",
     "output_type": "stream",
     "text": [
      "Accuracy :  0.20833333333333334\n"
     ]
    },
    {
     "data": {
      "image/png": "[encoded data removed]",
      "text/plain": [
       "<Figure size 432x288 with 3 Axes>"
      ]
     },
     "metadata": {},
     "output_type": "display_data"
    }
   ],
   "source": [
    "lasso = get_lasso(0.5)\n",
    "clf = Lineaire(lasso, mse_g, eps=.0001, max_iter=0)\n",
    "tr_x, tr_y = filter_classes(x_train, y_train, classes[0], classes[1])\n",
    "te_x, te_y = filter_classes(x_test,  y_test,  classes[0], classes[1])\n",
    "train_h, test_h = clf.fit(tr_x, (tr_y * 2 - 1), te_x, (te_y * 2 - 1))\n",
    "\n",
    "plt.figure()\n",
    "plt.subplot(121)\n",
    "plt.plot(range(len(train_h)), train_h, label=\"train\")\n",
    "plt.plot(range(len(test_h)), test_h, label=\"test\")\n",
    "plt.legend()\n",
    "\n",
    "plt.subplot(122)\n",
    "plt.imshow(clf.w.reshape(16, 16), cmap=\"gray\")\n",
    "plt.colorbar()\n",
    "\n",
    "print(\"Accuracy : \", (clf.predict(te_x) == te_y).mean())"
   ]
  },
  {
   "cell_type": "code",
   "execution_count": 60,
   "metadata": {},
   "outputs": [
    {
     "name": "stdout",
     "output_type": "stream",
     "text": [
      "Accuracy :  0.1875\n"
     ]
    },
    {
     "data": {
      "image/png": "[encoded data removed]",
      "text/plain": [
       "<Figure size 432x288 with 3 Axes>"
      ]
     },
     "metadata": {},
     "output_type": "display_data"
    }
   ],
   "source": [
    "lasso = get_lasso(5)\n",
    "clf = Lineaire(lasso, mse_g, eps=.0001, max_iter=0)\n",
    "tr_x, tr_y = filter_classes(x_train, y_train, classes[0], classes[1])\n",
    "te_x, te_y = filter_classes(x_test,  y_test,  classes[0], classes[1])\n",
    "train_h, test_h = clf.fit(tr_x, (tr_y * 2 - 1), te_x, (te_y * 2 - 1))\n",
    "\n",
    "plt.figure()\n",
    "plt.subplot(121)\n",
    "plt.plot(range(len(train_h)), train_h, label=\"train\")\n",
    "plt.plot(range(len(test_h)), test_h, label=\"test\")\n",
    "plt.legend()\n",
    "\n",
    "plt.subplot(122)\n",
    "plt.imshow(clf.w.reshape(16, 16), cmap=\"gray\")\n",
    "plt.colorbar()\n",
    "\n",
    "print(\"Accuracy : \", (clf.predict(te_x) == te_y).mean())"
   ]
  },
  {
   "cell_type": "code",
   "execution_count": null,
   "metadata": {},
   "outputs": [],
   "source": []
  }
 ],
 "metadata": {
  "kernelspec": {
   "display_name": "Python 3",
   "language": "python",
   "name": "python3"
  },
  "language_info": {
   "codemirror_mode": {
    "name": "ipython",
    "version": 3
   },
   "file_extension": ".py",
   "mimetype": "text/x-python",
   "name": "python",
   "nbconvert_exporter": "python",
   "pygments_lexer": "ipython3",
   "version": "3.6.4"
  }
 },
 "nbformat": 4,
 "nbformat_minor": 2
}
