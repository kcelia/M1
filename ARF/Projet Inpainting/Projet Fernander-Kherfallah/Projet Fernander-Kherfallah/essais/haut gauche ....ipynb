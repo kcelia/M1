{
 "cells": [
  {
   "cell_type": "code",
   "execution_count": 2,
   "metadata": {},
   "outputs": [],
   "source": [
    "import numpy as np\n",
    "from random import shuffle"
   ]
  },
  {
   "cell_type": "code",
   "execution_count": 54,
   "metadata": {},
   "outputs": [
    {
     "name": "stdout",
     "output_type": "stream",
     "text": [
      "[[0, 0], [0, 1], [0, 2], [1, 0], [1, 1], [1, 2], [2, 0], [2, 1], [2, 2]]\n",
      "hautDroite  2 2 [3, 2] [2, 3] [3, 3]\n",
      "hautDroite  2 1 [3, 1] [2, 2] [3, 2]\n",
      "hautDroite  2 0 [3, 0] [2, 1] [3, 1]\n"
     ]
    },
    {
     "data": {
      "text/plain": [
       "[[2, 2], [2, 1], [2, 0]]"
      ]
     },
     "execution_count": 54,
     "metadata": {},
     "output_type": "execute_result"
    }
   ],
   "source": [
    "ll=[]\n",
    "for i in range(3):\n",
    "    for j in range(3):\n",
    "        ll.append([i,j])\n",
    "print(ll)\n",
    "#shuffle(l)\n",
    "ngbs=[]\n",
    "l= copy.deepcopy(ll)\n",
    "occ=0\n",
    "while(ll):\n",
    "    if l== []:\n",
    "        break\n",
    "    i,j = l.pop()\n",
    "    \n",
    "    # hautGauche\n",
    "    if( [i-1,j] not in l) and ( [i,j+1] not in l )and ( [i-1,j+1] not in l) :\n",
    "        print(\"hautGauche \",i,j, [i-1,j], [i,j+1],[i-1,j+1])\n",
    "        ngbs.append([i,j])\n",
    "    #hautDroite\n",
    "    else:\n",
    "        if ( [i+1,j] not in l) and ( [i,j+1] not in l )and ( [i+1,j+1] not in l) :\n",
    "            print(\"hautDroite \",i,j,[i+1,j], [i,j+1],[i+1,j+1] )\n",
    "            ngbs.append([i,j])\n",
    "        \n",
    "        else :\n",
    "            if( [i-1,j] not in l) and ( [i,j-1] not in l )and ( [i-1,j-1] not in l) :\n",
    "                print(\"basGauche \",i,j,[i-1,j], [i,j-1],[i-1,j-1])\n",
    "                ngbs.append([i,j])\n",
    "            else:\n",
    "                if( [i+1,j] not in l) and ( [i,j-1] not in l )and ( [i-1,j-1] not in l) :\n",
    "                    print(\"basDroite \",i,j,[i+1,j], [i,j-1],[i-1,j-1])\n",
    "                    ngbs.append([i,j])\n",
    "                else:\n",
    "                    l.append([i,j])\n",
    "    occ +=1\n",
    "    if occ == 3:\n",
    "        break\n",
    "        \n",
    "    \n",
    "ngbs\n"
   ]
  },
  {
   "cell_type": "code",
   "execution_count": 44,
   "metadata": {},
   "outputs": [],
   "source": [
    "import copy"
   ]
  },
  {
   "cell_type": "code",
   "execution_count": 67,
   "metadata": {},
   "outputs": [
    {
     "name": "stdout",
     "output_type": "stream",
     "text": [
      "[[0, 0], [0, 1], [0, 2], [1, 0], [1, 1], [1, 2], [2, 0], [2, 1], [2, 2]]\n",
      "hautGauche  2 2 [1, 2] [2, 3] [1, 3] False\n",
      "hautDroite  2 2 [3, 2] [2, 3] [3, 3] True\n",
      "basGauche  2 2 [1, 2] [2, 1] [1, 1] False\n",
      "basDroite  2 2 [3, 2] [2, 1] [3, 1] False\n",
      "***\n",
      "hautGauche  2 1 [1, 1] [2, 2] [1, 2] False\n",
      "hautDroite  2 1 [3, 1] [2, 2] [3, 2] True\n",
      "basGauche  2 1 [1, 1] [2, 0] [1, 0] False\n",
      "basDroite  2 1 [3, 1] [2, 0] [3, 0] False\n",
      "***\n",
      "hautGauche  2 0 [1, 0] [2, 1] [1, 1] False\n",
      "hautDroite  2 0 [3, 0] [2, 1] [3, 1] True\n",
      "basGauche  2 0 [1, 0] [2, -1] [1, -1] False\n",
      "basDroite  2 0 [3, 0] [2, -1] [3, -1] True\n",
      "***\n",
      "hautGauche  1 2 [0, 2] [1, 3] [0, 3] False\n",
      "hautDroite  1 2 [2, 2] [1, 3] [2, 3] True\n",
      "basGauche  1 2 [0, 2] [1, 1] [0, 1] False\n",
      "basDroite  1 2 [2, 2] [1, 1] [2, 1] False\n",
      "***\n",
      "hautGauche  1 1 [0, 1] [1, 2] [0, 2] False\n",
      "hautDroite  1 1 [2, 1] [1, 2] [2, 2] True\n",
      "basGauche  1 1 [0, 1] [1, 0] [0, 0] False\n",
      "basDroite  1 1 [2, 1] [1, 0] [2, 0] False\n",
      "***\n",
      "hautGauche  1 0 [0, 0] [1, 1] [0, 1] False\n",
      "hautDroite  1 0 [2, 0] [1, 1] [2, 1] True\n",
      "basGauche  1 0 [0, 0] [1, -1] [0, -1] False\n",
      "basDroite  1 0 [2, 0] [1, -1] [2, -1] True\n",
      "***\n",
      "hautGauche  0 2 [-1, 2] [0, 3] [-1, 3] True\n",
      "hautDroite  0 2 [1, 2] [0, 3] [1, 3] True\n",
      "basGauche  0 2 [-1, 2] [0, 1] [-1, 1] False\n",
      "basDroite  0 2 [1, 2] [0, 1] [1, 1] False\n",
      "***\n",
      "hautGauche  0 1 [-1, 1] [0, 2] [-1, 2] True\n",
      "hautDroite  0 1 [1, 1] [0, 2] [1, 2] True\n",
      "basGauche  0 1 [-1, 1] [0, 0] [-1, 0] False\n",
      "basDroite  0 1 [1, 1] [0, 0] [1, 0] False\n",
      "***\n",
      "hautGauche  0 0 [-1, 0] [0, 1] [-1, 1] True\n",
      "hautDroite  0 0 [1, 0] [0, 1] [1, 1] True\n",
      "basGauche  0 0 [-1, 0] [0, -1] [-1, -1] True\n",
      "basDroite  0 0 [1, 0] [0, -1] [1, -1] True\n",
      "***\n"
     ]
    }
   ],
   "source": [
    "ll=[]\n",
    "for i in range(3):\n",
    "    for j in range(3):\n",
    "        ll.append([i,j])\n",
    "print(ll)\n",
    "\n",
    "ngbs=[]\n",
    "l= copy.deepcopy(ll)\n",
    "occ=0\n",
    "while(l):\n",
    "\n",
    "    i,j = l.pop()\n",
    "      \n",
    "    # hautGauche\n",
    "    print(\"hautGauche \",i,j, [  -1,j], [i,j+1],[i-1,j+1],( [i-1,j] not in l) and ( [i,j+1] not in l )and ( [i-1,j+1] not in l))\n",
    "\n",
    "    print(\"hautDroite \",i,j,[i+1,j], [i,j+1],[i+1,j+1], ( [i+1,j] not in l) and ( [i,j+1] not in l )and ( [i+1,j+1] not in l) )\n",
    "\n",
    "    print(\"basGauche \",i,j,[i-1,j], [i,j-1],[i-1,j-1],( [i-1,j] not in l) and ( [i,j-1] not in l )and ( [i-1,j-1] not in l))\n",
    "\n",
    "    print(\"basDroite \",i,j,[i+1,j], [i,j-1],[i+1,j-1],([i+1,j] not in l) and ( [i,j-1] not in l )and ( [i+1,j-1] not in l) )\n",
    "    \n",
    "    print(\"***\")"
   ]
  },
  {
   "cell_type": "code",
   "execution_count": null,
   "metadata": {},
   "outputs": [],
   "source": []
  },
  {
   "cell_type": "code",
   "execution_count": null,
   "metadata": {},
   "outputs": [],
   "source": []
  },
  {
   "cell_type": "code",
   "execution_count": null,
   "metadata": {},
   "outputs": [],
   "source": []
  },
  {
   "cell_type": "code",
   "execution_count": null,
   "metadata": {},
   "outputs": [],
   "source": []
  },
  {
   "cell_type": "code",
   "execution_count": null,
   "metadata": {},
   "outputs": [],
   "source": []
  },
  {
   "cell_type": "code",
   "execution_count": null,
   "metadata": {},
   "outputs": [],
   "source": []
  },
  {
   "cell_type": "code",
   "execution_count": null,
   "metadata": {},
   "outputs": [],
   "source": []
  }
 ],
 "metadata": {
  "kernelspec": {
   "display_name": "Python 3",
   "language": "python",
   "name": "python3"
  },
  "language_info": {
   "codemirror_mode": {
    "name": "ipython",
    "version": 3
   },
   "file_extension": ".py",
   "mimetype": "text/x-python",
   "name": "python",
   "nbconvert_exporter": "python",
   "pygments_lexer": "ipython3",
   "version": "3.6.5"
  }
 },
 "nbformat": 4,
 "nbformat_minor": 2
}
